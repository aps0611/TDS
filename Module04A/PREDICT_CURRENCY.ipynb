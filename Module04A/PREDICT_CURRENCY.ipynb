{
 "cells": [
  {
   "cell_type": "markdown",
   "metadata": {
    "id": "0XJLbh-WTAmt"
   },
   "source": [
    "#Predict value of currency \"GBP\" from currency\"BRL\" where the \"BRL\" value is the average value of the currency \"BRL\"#\n"
   ]
  },
  {
   "cell_type": "code",
   "execution_count": 2,
   "metadata": {
    "id": "OnLTSu0GHiAq"
   },
   "outputs": [],
   "source": [
    "import pandas as pd\n",
    "import numpy as np\n",
    "from matplotlib import pyplot as plt\n",
    "from sklearn.metrics import mean_absolute_error\n",
    "from pandas.plotting import autocorrelation_plot\n",
    "from statsmodels.tsa.arima_model import ARIMA"
   ]
  },
  {
   "cell_type": "code",
   "execution_count": 3,
   "metadata": {
    "colab": {
     "base_uri": "https://localhost:8080/",
     "height": 241
    },
    "id": "q7dA_DmuOuRA",
    "outputId": "14742c6e-4b18-4a09-efaf-319ec8e4c48b"
   },
   "outputs": [
    {
     "data": {
      "text/html": [
       "<div>\n",
       "<style scoped>\n",
       "    .dataframe tbody tr th:only-of-type {\n",
       "        vertical-align: middle;\n",
       "    }\n",
       "\n",
       "    .dataframe tbody tr th {\n",
       "        vertical-align: top;\n",
       "    }\n",
       "\n",
       "    .dataframe thead th {\n",
       "        text-align: right;\n",
       "    }\n",
       "</style>\n",
       "<table border=\"1\" class=\"dataframe\">\n",
       "  <thead>\n",
       "    <tr style=\"text-align: right;\">\n",
       "      <th></th>\n",
       "      <th>Date</th>\n",
       "      <th>EUR</th>\n",
       "      <th>AUD</th>\n",
       "      <th>BGN</th>\n",
       "      <th>BRL</th>\n",
       "      <th>CAD</th>\n",
       "      <th>CHF</th>\n",
       "      <th>CNY</th>\n",
       "      <th>CZK</th>\n",
       "      <th>DKK</th>\n",
       "      <th>GBP</th>\n",
       "      <th>HKD</th>\n",
       "      <th>HRK</th>\n",
       "      <th>ILS</th>\n",
       "      <th>INR</th>\n",
       "    </tr>\n",
       "  </thead>\n",
       "  <tbody>\n",
       "    <tr>\n",
       "      <th>0</th>\n",
       "      <td>2022-05-18</td>\n",
       "      <td>1.052299</td>\n",
       "      <td>0.702494</td>\n",
       "      <td>0.538039</td>\n",
       "      <td>0.202466</td>\n",
       "      <td>0.780153</td>\n",
       "      <td>1.003512</td>\n",
       "      <td>0.148269</td>\n",
       "      <td>0.042695</td>\n",
       "      <td>0.141403</td>\n",
       "      <td>1.242854</td>\n",
       "      <td>0.127411</td>\n",
       "      <td>0.139655</td>\n",
       "      <td>0.298436</td>\n",
       "      <td>0.012889</td>\n",
       "    </tr>\n",
       "    <tr>\n",
       "      <th>1</th>\n",
       "      <td>2022-05-17</td>\n",
       "      <td>1.054074</td>\n",
       "      <td>0.703037</td>\n",
       "      <td>0.538967</td>\n",
       "      <td>0.200321</td>\n",
       "      <td>0.779849</td>\n",
       "      <td>1.008065</td>\n",
       "      <td>0.148677</td>\n",
       "      <td>0.042655</td>\n",
       "      <td>0.141653</td>\n",
       "      <td>1.248907</td>\n",
       "      <td>0.127393</td>\n",
       "      <td>0.140089</td>\n",
       "      <td>0.297876</td>\n",
       "      <td>0.012910</td>\n",
       "    </tr>\n",
       "    <tr>\n",
       "      <th>2</th>\n",
       "      <td>2022-05-16</td>\n",
       "      <td>1.042209</td>\n",
       "      <td>0.692185</td>\n",
       "      <td>0.532879</td>\n",
       "      <td>0.197316</td>\n",
       "      <td>0.773575</td>\n",
       "      <td>0.994530</td>\n",
       "      <td>0.147232</td>\n",
       "      <td>0.042177</td>\n",
       "      <td>0.140046</td>\n",
       "      <td>1.225490</td>\n",
       "      <td>0.127390</td>\n",
       "      <td>0.138544</td>\n",
       "      <td>0.293789</td>\n",
       "      <td>0.012854</td>\n",
       "    </tr>\n",
       "  </tbody>\n",
       "</table>\n",
       "</div>"
      ],
      "text/plain": [
       "         Date       EUR       AUD       BGN       BRL       CAD       CHF  \\\n",
       "0  2022-05-18  1.052299  0.702494  0.538039  0.202466  0.780153  1.003512   \n",
       "1  2022-05-17  1.054074  0.703037  0.538967  0.200321  0.779849  1.008065   \n",
       "2  2022-05-16  1.042209  0.692185  0.532879  0.197316  0.773575  0.994530   \n",
       "\n",
       "        CNY       CZK       DKK       GBP       HKD       HRK       ILS  \\\n",
       "0  0.148269  0.042695  0.141403  1.242854  0.127411  0.139655  0.298436   \n",
       "1  0.148677  0.042655  0.141653  1.248907  0.127393  0.140089  0.297876   \n",
       "2  0.147232  0.042177  0.140046  1.225490  0.127390  0.138544  0.293789   \n",
       "\n",
       "        INR  \n",
       "0  0.012889  \n",
       "1  0.012910  \n",
       "2  0.012854  "
      ]
     },
     "execution_count": 3,
     "metadata": {},
     "output_type": "execute_result"
    }
   ],
   "source": [
    "data = pd.read_csv('currency.csv')\n",
    "data.head(3)"
   ]
  },
  {
   "cell_type": "markdown",
   "metadata": {
    "id": "HNYSMqJC_kE-"
   },
   "source": [
    "# New Section"
   ]
  },
  {
   "cell_type": "code",
   "execution_count": null,
   "metadata": {
    "id": "v3alsBQxhKrP"
   },
   "outputs": [],
   "source": [
    "#'''country = \"India\"\n",
    "#data = data[data['location']==country]'''\n",
    "#data = data.dropna(inplace=True)"
   ]
  },
  {
   "cell_type": "code",
   "execution_count": 4,
   "metadata": {
    "colab": {
     "base_uri": "https://localhost:8080/",
     "height": 198
    },
    "id": "rhE-YoocPXwW",
    "outputId": "0261cc49-acb3-4d93-e01b-ef176bab91cc"
   },
   "outputs": [
    {
     "data": {
      "text/plain": [
       "(Timestamp('2021-05-18 00:00:00'), Timestamp('2022-05-18 00:00:00'))"
      ]
     },
     "execution_count": 4,
     "metadata": {},
     "output_type": "execute_result"
    }
   ],
   "source": [
    "data['Date'] = pd.to_datetime(data['Date'])\n",
    "data.sort_values('Date',ascending=True,inplace=True)\n",
    "data['Date'].min(), data['Date'].max()"
   ]
  },
  {
   "cell_type": "code",
   "execution_count": 5,
   "metadata": {
    "colab": {
     "base_uri": "https://localhost:8080/",
     "height": 464
    },
    "id": "Gc47TO_nPXt2",
    "outputId": "8935cfa9-7a07-4f96-beb8-4f73809e8d9a"
   },
   "outputs": [
    {
     "data": {
      "text/plain": [
       "[<matplotlib.lines.Line2D at 0x25641d5a670>]"
      ]
     },
     "execution_count": 5,
     "metadata": {},
     "output_type": "execute_result"
    },
    {
     "data": {
      "image/png": "[encoded data removed]",
      "text/plain": [
       "<Figure size 432x288 with 1 Axes>"
      ]
     },
     "metadata": {
      "needs_background": "light"
     },
     "output_type": "display_data"
    }
   ],
   "source": [
    "plt.xlabel('Date')\n",
    "plt.ylabel('EUR')\n",
    "plt.plot(data['EUR'])"
   ]
  },
  {
   "cell_type": "code",
   "execution_count": 6,
   "metadata": {
    "id": "PEs4Y3EqZ-Dr"
   },
   "outputs": [
    {
     "data": {
      "text/plain": [
       "[<matplotlib.lines.Line2D at 0x256424dc250>]"
      ]
     },
     "execution_count": 6,
     "metadata": {},
     "output_type": "execute_result"
    },
    {
     "data": {
      "image/png": "[encoded data removed]",
      "text/plain": [
       "<Figure size 432x288 with 1 Axes>"
      ]
     },
     "metadata": {
      "needs_background": "light"
     },
     "output_type": "display_data"
    }
   ],
   "source": [
    "plt.xlabel('Date')\n",
    "plt.ylabel('ILS')\n",
    "plt.plot(data['Date'],data['ILS'])"
   ]
  },
  {
   "cell_type": "code",
   "execution_count": 7,
   "metadata": {
    "id": "m-P9wtgoTXLU"
   },
   "outputs": [
    {
     "data": {
      "image/png": "[encoded data removed]",
      "text/plain": [
       "<Figure size 432x288 with 1 Axes>"
      ]
     },
     "metadata": {
      "needs_background": "light"
     },
     "output_type": "display_data"
    }
   ],
   "source": [
    "rolling_mean5 = data['EUR'].rolling(window = 5).mean()\n",
    "rolling_mean10 = data['EUR'].rolling(window = 10).mean()\n",
    "rolling_mean15 = data['EUR'].rolling(window = 15).mean()\n",
    "rolling_mean20 = data['EUR'].rolling(window = 20).mean()\n",
    "\n",
    "plt.plot(data['Date'],data['EUR'], color = 'blue', label = 'Original')\n",
    "\n",
    "plt.plot(data['Date'],rolling_mean5, color = 'red', label = 'Rolling 5 day mean')\n",
    "plt.plot(data['Date'],rolling_mean10, color = 'black', label = 'Rolling 10 day mean')\n",
    "plt.plot(data['Date'],rolling_mean15, color = 'orange', label = 'Rolling 15 day mean')\n",
    "plt.plot(data['Date'],rolling_mean20, color = 'green', label = 'Rolling 20 day mean')\n",
    "\n",
    "plt.legend(loc = 'best')\n",
    "plt.title('Moving Average')\n",
    "\n",
    "plt.show()"
   ]
  },
  {
   "cell_type": "code",
   "execution_count": 8,
   "metadata": {
    "id": "Q_bMd8cwawd3"
   },
   "outputs": [
    {
     "data": {
      "image/png": "[encoded data removed]",
      "text/plain": [
       "<Figure size 432x288 with 1 Axes>"
      ]
     },
     "metadata": {
      "needs_background": "light"
     },
     "output_type": "display_data"
    }
   ],
   "source": [
    "rolling_mean5 = data['ILS'].rolling(window = 5).mean()\n",
    "rolling_mean10 = data['ILS'].rolling(window = 10).mean()\n",
    "rolling_mean15 = data['ILS'].rolling(window = 15).mean()\n",
    "rolling_mean20 = data['ILS'].rolling(window = 20).mean()\n",
    "\n",
    "plt.plot(data['Date'],data['ILS'], color = 'blue', label = 'Original')\n",
    "\n",
    "plt.plot(data['Date'],rolling_mean5, color = 'red', label = 'Rolling 5 day mean')\n",
    "plt.plot(data['Date'],rolling_mean10, color = 'black', label = 'Rolling 10 day mean')\n",
    "plt.plot(data['Date'],rolling_mean15, color = 'orange', label = 'Rolling 15 day mean')\n",
    "plt.plot(data['Date'],rolling_mean20, color = 'green', label = 'Rolling 20 day mean')\n",
    "\n",
    "plt.legend(loc = 'best')\n",
    "plt.title('Moving Average')\n",
    "\n",
    "plt.show()"
   ]
  },
  {
   "cell_type": "code",
   "execution_count": 9,
   "metadata": {
    "id": "dcJArnSwTXJK"
   },
   "outputs": [
    {
     "data": {
      "text/html": [
       "<div>\n",
       "<style scoped>\n",
       "    .dataframe tbody tr th:only-of-type {\n",
       "        vertical-align: middle;\n",
       "    }\n",
       "\n",
       "    .dataframe tbody tr th {\n",
       "        vertical-align: top;\n",
       "    }\n",
       "\n",
       "    .dataframe thead th {\n",
       "        text-align: right;\n",
       "    }\n",
       "</style>\n",
       "<table border=\"1\" class=\"dataframe\">\n",
       "  <thead>\n",
       "    <tr style=\"text-align: right;\">\n",
       "      <th></th>\n",
       "      <th>Date</th>\n",
       "      <th>EUR</th>\n",
       "      <th>AUD</th>\n",
       "      <th>BGN</th>\n",
       "      <th>BRL</th>\n",
       "      <th>CAD</th>\n",
       "      <th>CHF</th>\n",
       "      <th>CNY</th>\n",
       "      <th>CZK</th>\n",
       "      <th>DKK</th>\n",
       "      <th>GBP</th>\n",
       "      <th>HKD</th>\n",
       "      <th>HRK</th>\n",
       "      <th>ILS</th>\n",
       "      <th>INR</th>\n",
       "      <th>moving_avg_5day</th>\n",
       "      <th>moving_avg_10day</th>\n",
       "      <th>moving_avg_15day</th>\n",
       "      <th>moving_avg_20day</th>\n",
       "    </tr>\n",
       "  </thead>\n",
       "  <tbody>\n",
       "    <tr>\n",
       "      <th>365</th>\n",
       "      <td>2021-05-18</td>\n",
       "      <td>1.222195</td>\n",
       "      <td>0.780884</td>\n",
       "      <td>0.624922</td>\n",
       "      <td>0.190716</td>\n",
       "      <td>0.831808</td>\n",
       "      <td>1.114827</td>\n",
       "      <td>0.155693</td>\n",
       "      <td>0.048067</td>\n",
       "      <td>0.164355</td>\n",
       "      <td>1.421262</td>\n",
       "      <td>0.128771</td>\n",
       "      <td>0.162517</td>\n",
       "      <td>0.305493</td>\n",
       "      <td>0.013697</td>\n",
       "      <td>NaN</td>\n",
       "      <td>NaN</td>\n",
       "      <td>NaN</td>\n",
       "      <td>NaN</td>\n",
       "    </tr>\n",
       "    <tr>\n",
       "      <th>364</th>\n",
       "      <td>2021-05-19</td>\n",
       "      <td>1.221150</td>\n",
       "      <td>0.774653</td>\n",
       "      <td>0.624415</td>\n",
       "      <td>0.189276</td>\n",
       "      <td>0.828089</td>\n",
       "      <td>1.109385</td>\n",
       "      <td>0.155381</td>\n",
       "      <td>0.047994</td>\n",
       "      <td>0.164228</td>\n",
       "      <td>1.416230</td>\n",
       "      <td>0.128793</td>\n",
       "      <td>0.162610</td>\n",
       "      <td>0.306542</td>\n",
       "      <td>0.013671</td>\n",
       "      <td>NaN</td>\n",
       "      <td>NaN</td>\n",
       "      <td>NaN</td>\n",
       "      <td>NaN</td>\n",
       "    </tr>\n",
       "    <tr>\n",
       "      <th>363</th>\n",
       "      <td>2021-05-20</td>\n",
       "      <td>1.220256</td>\n",
       "      <td>0.775494</td>\n",
       "      <td>0.623947</td>\n",
       "      <td>0.188997</td>\n",
       "      <td>0.825764</td>\n",
       "      <td>1.110248</td>\n",
       "      <td>0.155328</td>\n",
       "      <td>0.047819</td>\n",
       "      <td>0.164099</td>\n",
       "      <td>1.412429</td>\n",
       "      <td>0.128824</td>\n",
       "      <td>0.162501</td>\n",
       "      <td>0.306232</td>\n",
       "      <td>0.013686</td>\n",
       "      <td>NaN</td>\n",
       "      <td>NaN</td>\n",
       "      <td>NaN</td>\n",
       "      <td>NaN</td>\n",
       "    </tr>\n",
       "    <tr>\n",
       "      <th>362</th>\n",
       "      <td>2021-05-21</td>\n",
       "      <td>1.218769</td>\n",
       "      <td>0.776398</td>\n",
       "      <td>0.623169</td>\n",
       "      <td>0.188587</td>\n",
       "      <td>0.830220</td>\n",
       "      <td>1.112966</td>\n",
       "      <td>0.155473</td>\n",
       "      <td>0.047886</td>\n",
       "      <td>0.163902</td>\n",
       "      <td>1.419446</td>\n",
       "      <td>0.128785</td>\n",
       "      <td>0.162285</td>\n",
       "      <td>0.307324</td>\n",
       "      <td>0.013725</td>\n",
       "      <td>NaN</td>\n",
       "      <td>NaN</td>\n",
       "      <td>NaN</td>\n",
       "      <td>NaN</td>\n",
       "    </tr>\n",
       "    <tr>\n",
       "      <th>361</th>\n",
       "      <td>2021-05-22</td>\n",
       "      <td>1.218769</td>\n",
       "      <td>0.776398</td>\n",
       "      <td>0.623169</td>\n",
       "      <td>0.188587</td>\n",
       "      <td>0.830220</td>\n",
       "      <td>1.112966</td>\n",
       "      <td>0.155473</td>\n",
       "      <td>0.047886</td>\n",
       "      <td>0.163902</td>\n",
       "      <td>1.419446</td>\n",
       "      <td>0.128785</td>\n",
       "      <td>0.162285</td>\n",
       "      <td>0.307324</td>\n",
       "      <td>0.013725</td>\n",
       "      <td>0.306583</td>\n",
       "      <td>NaN</td>\n",
       "      <td>NaN</td>\n",
       "      <td>NaN</td>\n",
       "    </tr>\n",
       "  </tbody>\n",
       "</table>\n",
       "</div>"
      ],
      "text/plain": [
       "          Date       EUR       AUD       BGN       BRL       CAD       CHF  \\\n",
       "365 2021-05-18  1.222195  0.780884  0.624922  0.190716  0.831808  1.114827   \n",
       "364 2021-05-19  1.221150  0.774653  0.624415  0.189276  0.828089  1.109385   \n",
       "363 2021-05-20  1.220256  0.775494  0.623947  0.188997  0.825764  1.110248   \n",
       "362 2021-05-21  1.218769  0.776398  0.623169  0.188587  0.830220  1.112966   \n",
       "361 2021-05-22  1.218769  0.776398  0.623169  0.188587  0.830220  1.112966   \n",
       "\n",
       "          CNY       CZK       DKK       GBP       HKD       HRK       ILS  \\\n",
       "365  0.155693  0.048067  0.164355  1.421262  0.128771  0.162517  0.305493   \n",
       "364  0.155381  0.047994  0.164228  1.416230  0.128793  0.162610  0.306542   \n",
       "363  0.155328  0.047819  0.164099  1.412429  0.128824  0.162501  0.306232   \n",
       "362  0.155473  0.047886  0.163902  1.419446  0.128785  0.162285  0.307324   \n",
       "361  0.155473  0.047886  0.163902  1.419446  0.128785  0.162285  0.307324   \n",
       "\n",
       "          INR  moving_avg_5day  moving_avg_10day  moving_avg_15day  \\\n",
       "365  0.013697              NaN               NaN               NaN   \n",
       "364  0.013671              NaN               NaN               NaN   \n",
       "363  0.013686              NaN               NaN               NaN   \n",
       "362  0.013725              NaN               NaN               NaN   \n",
       "361  0.013725         0.306583               NaN               NaN   \n",
       "\n",
       "     moving_avg_20day  \n",
       "365               NaN  \n",
       "364               NaN  \n",
       "363               NaN  \n",
       "362               NaN  \n",
       "361               NaN  "
      ]
     },
     "execution_count": 9,
     "metadata": {},
     "output_type": "execute_result"
    }
   ],
   "source": [
    "data['moving_avg_5day'] = rolling_mean5\n",
    "data['moving_avg_10day'] = rolling_mean10\n",
    "data['moving_avg_15day'] = rolling_mean15\n",
    "data['moving_avg_20day'] = rolling_mean20\n",
    "data.head()"
   ]
  },
  {
   "cell_type": "code",
   "execution_count": 10,
   "metadata": {
    "id": "gnVuVS8bWg4F"
   },
   "outputs": [
    {
     "data": {
      "text/html": [
       "<div>\n",
       "<style scoped>\n",
       "    .dataframe tbody tr th:only-of-type {\n",
       "        vertical-align: middle;\n",
       "    }\n",
       "\n",
       "    .dataframe tbody tr th {\n",
       "        vertical-align: top;\n",
       "    }\n",
       "\n",
       "    .dataframe thead th {\n",
       "        text-align: right;\n",
       "    }\n",
       "</style>\n",
       "<table border=\"1\" class=\"dataframe\">\n",
       "  <thead>\n",
       "    <tr style=\"text-align: right;\">\n",
       "      <th></th>\n",
       "      <th>Date</th>\n",
       "      <th>EUR</th>\n",
       "      <th>AUD</th>\n",
       "      <th>BGN</th>\n",
       "      <th>BRL</th>\n",
       "      <th>CAD</th>\n",
       "      <th>CHF</th>\n",
       "      <th>CNY</th>\n",
       "      <th>CZK</th>\n",
       "      <th>DKK</th>\n",
       "      <th>GBP</th>\n",
       "      <th>HKD</th>\n",
       "      <th>HRK</th>\n",
       "      <th>ILS</th>\n",
       "      <th>INR</th>\n",
       "      <th>moving_avg_5day</th>\n",
       "      <th>moving_avg_10day</th>\n",
       "      <th>moving_avg_15day</th>\n",
       "      <th>moving_avg_20day</th>\n",
       "    </tr>\n",
       "  </thead>\n",
       "  <tbody>\n",
       "    <tr>\n",
       "      <th>4</th>\n",
       "      <td>2022-05-14</td>\n",
       "      <td>1.038529</td>\n",
       "      <td>0.689275</td>\n",
       "      <td>0.530983</td>\n",
       "      <td>0.195191</td>\n",
       "      <td>0.768994</td>\n",
       "      <td>1.000000</td>\n",
       "      <td>0.147278</td>\n",
       "      <td>0.041977</td>\n",
       "      <td>0.139561</td>\n",
       "      <td>1.220107</td>\n",
       "      <td>0.127389</td>\n",
       "      <td>0.138099</td>\n",
       "      <td>0.291826</td>\n",
       "      <td>0.012912</td>\n",
       "      <td>0.290663</td>\n",
       "      <td>0.292061</td>\n",
       "      <td>0.294309</td>\n",
       "      <td>0.296175</td>\n",
       "    </tr>\n",
       "    <tr>\n",
       "      <th>3</th>\n",
       "      <td>2022-05-15</td>\n",
       "      <td>1.038529</td>\n",
       "      <td>0.689275</td>\n",
       "      <td>0.530983</td>\n",
       "      <td>0.195191</td>\n",
       "      <td>0.768994</td>\n",
       "      <td>1.000000</td>\n",
       "      <td>0.147278</td>\n",
       "      <td>0.041977</td>\n",
       "      <td>0.139561</td>\n",
       "      <td>1.220107</td>\n",
       "      <td>0.127389</td>\n",
       "      <td>0.138099</td>\n",
       "      <td>0.291826</td>\n",
       "      <td>0.012912</td>\n",
       "      <td>0.291335</td>\n",
       "      <td>0.291820</td>\n",
       "      <td>0.293684</td>\n",
       "      <td>0.295547</td>\n",
       "    </tr>\n",
       "    <tr>\n",
       "      <th>2</th>\n",
       "      <td>2022-05-16</td>\n",
       "      <td>1.042209</td>\n",
       "      <td>0.692185</td>\n",
       "      <td>0.532879</td>\n",
       "      <td>0.197316</td>\n",
       "      <td>0.773575</td>\n",
       "      <td>0.994530</td>\n",
       "      <td>0.147232</td>\n",
       "      <td>0.042177</td>\n",
       "      <td>0.140046</td>\n",
       "      <td>1.225490</td>\n",
       "      <td>0.127390</td>\n",
       "      <td>0.138544</td>\n",
       "      <td>0.293789</td>\n",
       "      <td>0.012854</td>\n",
       "      <td>0.291705</td>\n",
       "      <td>0.291809</td>\n",
       "      <td>0.293189</td>\n",
       "      <td>0.295052</td>\n",
       "    </tr>\n",
       "    <tr>\n",
       "      <th>1</th>\n",
       "      <td>2022-05-17</td>\n",
       "      <td>1.054074</td>\n",
       "      <td>0.703037</td>\n",
       "      <td>0.538967</td>\n",
       "      <td>0.200321</td>\n",
       "      <td>0.779849</td>\n",
       "      <td>1.008065</td>\n",
       "      <td>0.148677</td>\n",
       "      <td>0.042655</td>\n",
       "      <td>0.141653</td>\n",
       "      <td>1.248907</td>\n",
       "      <td>0.127393</td>\n",
       "      <td>0.140089</td>\n",
       "      <td>0.297876</td>\n",
       "      <td>0.012910</td>\n",
       "      <td>0.293429</td>\n",
       "      <td>0.292208</td>\n",
       "      <td>0.293160</td>\n",
       "      <td>0.294904</td>\n",
       "    </tr>\n",
       "    <tr>\n",
       "      <th>0</th>\n",
       "      <td>2022-05-18</td>\n",
       "      <td>1.052299</td>\n",
       "      <td>0.702494</td>\n",
       "      <td>0.538039</td>\n",
       "      <td>0.202466</td>\n",
       "      <td>0.780153</td>\n",
       "      <td>1.003512</td>\n",
       "      <td>0.148269</td>\n",
       "      <td>0.042695</td>\n",
       "      <td>0.141403</td>\n",
       "      <td>1.242854</td>\n",
       "      <td>0.127411</td>\n",
       "      <td>0.139655</td>\n",
       "      <td>0.298436</td>\n",
       "      <td>0.012889</td>\n",
       "      <td>0.294751</td>\n",
       "      <td>0.292662</td>\n",
       "      <td>0.293286</td>\n",
       "      <td>0.294888</td>\n",
       "    </tr>\n",
       "  </tbody>\n",
       "</table>\n",
       "</div>"
      ],
      "text/plain": [
       "        Date       EUR       AUD       BGN       BRL       CAD       CHF  \\\n",
       "4 2022-05-14  1.038529  0.689275  0.530983  0.195191  0.768994  1.000000   \n",
       "3 2022-05-15  1.038529  0.689275  0.530983  0.195191  0.768994  1.000000   \n",
       "2 2022-05-16  1.042209  0.692185  0.532879  0.197316  0.773575  0.994530   \n",
       "1 2022-05-17  1.054074  0.703037  0.538967  0.200321  0.779849  1.008065   \n",
       "0 2022-05-18  1.052299  0.702494  0.538039  0.202466  0.780153  1.003512   \n",
       "\n",
       "        CNY       CZK       DKK       GBP       HKD       HRK       ILS  \\\n",
       "4  0.147278  0.041977  0.139561  1.220107  0.127389  0.138099  0.291826   \n",
       "3  0.147278  0.041977  0.139561  1.220107  0.127389  0.138099  0.291826   \n",
       "2  0.147232  0.042177  0.140046  1.225490  0.127390  0.138544  0.293789   \n",
       "1  0.148677  0.042655  0.141653  1.248907  0.127393  0.140089  0.297876   \n",
       "0  0.148269  0.042695  0.141403  1.242854  0.127411  0.139655  0.298436   \n",
       "\n",
       "        INR  moving_avg_5day  moving_avg_10day  moving_avg_15day  \\\n",
       "4  0.012912         0.290663          0.292061          0.294309   \n",
       "3  0.012912         0.291335          0.291820          0.293684   \n",
       "2  0.012854         0.291705          0.291809          0.293189   \n",
       "1  0.012910         0.293429          0.292208          0.293160   \n",
       "0  0.012889         0.294751          0.292662          0.293286   \n",
       "\n",
       "   moving_avg_20day  \n",
       "4          0.296175  \n",
       "3          0.295547  \n",
       "2          0.295052  \n",
       "1          0.294904  \n",
       "0          0.294888  "
      ]
     },
     "execution_count": 10,
     "metadata": {},
     "output_type": "execute_result"
    }
   ],
   "source": [
    "data.dropna(inplace=True)\n",
    "data.tail()"
   ]
  },
  {
   "cell_type": "code",
   "execution_count": 12,
   "metadata": {
    "id": "a8uEGDuLXVef"
   },
   "outputs": [
    {
     "data": {
      "image/png": "[encoded data removed]",
      "text/plain": [
       "<Figure size 432x288 with 1 Axes>"
      ]
     },
     "metadata": {
      "needs_background": "light"
     },
     "output_type": "display_data"
    }
   ],
   "source": [
    "autocorrelation_plot(data['EUR'])\n",
    "plt.show()"
   ]
  },
  {
   "cell_type": "code",
   "execution_count": 13,
   "metadata": {
    "id": "jDmHPl03gvbM"
   },
   "outputs": [
    {
     "data": {
      "image/png": "[encoded data removed]",
      "text/plain": [
       "<Figure size 432x288 with 1 Axes>"
      ]
     },
     "metadata": {
      "needs_background": "light"
     },
     "output_type": "display_data"
    }
   ],
   "source": [
    "autocorrelation_plot(data['ILS'])\n",
    "plt.show()"
   ]
  },
  {
   "cell_type": "code",
   "execution_count": 14,
   "metadata": {
    "id": "t7owWq3hbJTd"
   },
   "outputs": [
    {
     "name": "stderr",
     "output_type": "stream",
     "text": [
      "C:\\Users\\HP-PC\\anaconda3\\lib\\site-packages\\statsmodels\\graphics\\tsaplots.py:348: FutureWarning: The default method 'yw' can produce PACF values outside of the [-1,1] interval. After 0.13, the default will change tounadjusted Yule-Walker ('ywm'). You can use this method now by setting method='ywm'.\n",
      "  warnings.warn(\n"
     ]
    },
    {
     "data": {
      "image/png": "[encoded data removed]",
      "text/plain": [
       "<Figure size 864x576 with 2 Axes>"
      ]
     },
     "metadata": {
      "needs_background": "light"
     },
     "output_type": "display_data"
    }
   ],
   "source": [
    "from statsmodels.graphics.tsaplots import plot_acf,plot_pacf\n",
    "import statsmodels.api as sm\n",
    "\n",
    "fig = plt.figure(figsize=(12,8))\n",
    "\n",
    "ax1 = fig.add_subplot(211)\n",
    "fig = sm.graphics.tsa.plot_acf(data['EUR'].dropna(),lags=50,ax=ax1)\n",
    "\n",
    "ax2 = fig.add_subplot(212)\n",
    "fig = sm.graphics.tsa.plot_pacf(data['EUR'].dropna(),lags=50,ax=ax2)\n"
   ]
  },
  {
   "cell_type": "code",
   "execution_count": 15,
   "metadata": {
    "id": "pu4ohEG_hDzu"
   },
   "outputs": [
    {
     "name": "stderr",
     "output_type": "stream",
     "text": [
      "C:\\Users\\HP-PC\\anaconda3\\lib\\site-packages\\statsmodels\\graphics\\tsaplots.py:348: FutureWarning: The default method 'yw' can produce PACF values outside of the [-1,1] interval. After 0.13, the default will change tounadjusted Yule-Walker ('ywm'). You can use this method now by setting method='ywm'.\n",
      "  warnings.warn(\n"
     ]
    },
    {
     "data": {
      "image/png": "[encoded data removed]",
      "text/plain": [
       "<Figure size 864x576 with 2 Axes>"
      ]
     },
     "metadata": {
      "needs_background": "light"
     },
     "output_type": "display_data"
    }
   ],
   "source": [
    "from statsmodels.graphics.tsaplots import plot_acf,plot_pacf\n",
    "import statsmodels.api as sm\n",
    "\n",
    "fig = plt.figure(figsize=(12,8))\n",
    "\n",
    "ax1 = fig.add_subplot(211)\n",
    "fig = sm.graphics.tsa.plot_acf(data['ILS'].dropna(),lags=50,ax=ax1)\n",
    "\n",
    "ax2 = fig.add_subplot(212)\n",
    "fig = sm.graphics.tsa.plot_pacf(data['ILS'].dropna(),lags=50,ax=ax2)"
   ]
  },
  {
   "cell_type": "code",
   "execution_count": 16,
   "metadata": {
    "colab": {
     "base_uri": "https://localhost:8080/",
     "height": 198
    },
    "id": "sDxwrgDOz75s",
    "outputId": "0ab668a2-bd85-480c-cd56-f8f62194f450"
   },
   "outputs": [
    {
     "data": {
      "text/plain": [
       "346    1.211681\n",
       "345    1.216249\n",
       "344    1.218175\n",
       "343    1.219512\n",
       "342    1.217434\n",
       "         ...   \n",
       "4      1.038529\n",
       "3      1.038529\n",
       "2      1.042209\n",
       "1      1.054074\n",
       "0      1.052299\n",
       "Name: EUR, Length: 347, dtype: float64"
      ]
     },
     "execution_count": 16,
     "metadata": {},
     "output_type": "execute_result"
    }
   ],
   "source": [
    "data.EUR"
   ]
  },
  {
   "cell_type": "code",
   "execution_count": 17,
   "metadata": {
    "id": "2502BWLThIxg"
   },
   "outputs": [
    {
     "data": {
      "text/plain": [
       "346    0.307069\n",
       "345    0.307730\n",
       "344    0.308356\n",
       "343    0.308309\n",
       "342    0.308471\n",
       "         ...   \n",
       "4      0.291826\n",
       "3      0.291826\n",
       "2      0.293789\n",
       "1      0.297876\n",
       "0      0.298436\n",
       "Name: ILS, Length: 347, dtype: float64"
      ]
     },
     "execution_count": 17,
     "metadata": {},
     "output_type": "execute_result"
    }
   ],
   "source": [
    "data.ILS"
   ]
  },
  {
   "cell_type": "code",
   "execution_count": 20,
   "metadata": {
    "id": "6fMNvFZiXVbs"
   },
   "outputs": [
    {
     "name": "stderr",
     "output_type": "stream",
     "text": [
      "C:\\Users\\HP-PC\\anaconda3\\lib\\site-packages\\statsmodels\\tsa\\base\\tsa_model.py:471: ValueWarning: An unsupported index was provided and will be ignored when e.g. forecasting.\n",
      "  self._init_dates(dates, freq)\n",
      "C:\\Users\\HP-PC\\anaconda3\\lib\\site-packages\\statsmodels\\tsa\\base\\tsa_model.py:471: ValueWarning: An unsupported index was provided and will be ignored when e.g. forecasting.\n",
      "  self._init_dates(dates, freq)\n",
      "C:\\Users\\HP-PC\\anaconda3\\lib\\site-packages\\statsmodels\\tsa\\base\\tsa_model.py:471: ValueWarning: An unsupported index was provided and will be ignored when e.g. forecasting.\n",
      "  self._init_dates(dates, freq)\n"
     ]
    },
    {
     "name": "stdout",
     "output_type": "stream",
     "text": [
      "                               SARIMAX Results                                \n",
      "==============================================================================\n",
      "Dep. Variable:                    EUR   No. Observations:                  347\n",
      "Model:                 ARIMA(1, 1, 0)   Log Likelihood                1427.783\n",
      "Date:                Fri, 30 Sep 2022   AIC                          -2851.566\n",
      "Time:                        15:11:36   BIC                          -2843.873\n",
      "Sample:                             0   HQIC                         -2848.502\n",
      "                                - 347                                         \n",
      "Covariance Type:                  opg                                         \n",
      "==============================================================================\n",
      "                 coef    std err          z      P>|z|      [0.025      0.975]\n",
      "------------------------------------------------------------------------------\n",
      "ar.L1          0.0069      0.051      0.136      0.892      -0.092       0.106\n",
      "sigma2      1.523e-05   6.23e-07     24.455      0.000     1.4e-05    1.65e-05\n",
      "===================================================================================\n",
      "Ljung-Box (L1) (Q):                   0.07   Jarque-Bera (JB):               349.61\n",
      "Prob(Q):                              0.79   Prob(JB):                         0.00\n",
      "Heteroskedasticity (H):               3.05   Skew:                            -0.40\n",
      "Prob(H) (two-sided):                  0.00   Kurtosis:                         7.86\n",
      "===================================================================================\n",
      "\n",
      "Warnings:\n",
      "[1] Covariance matrix calculated using the outer product of gradients (complex-step).\n"
     ]
    }
   ],
   "source": [
    "import statsmodels.api\n",
    "\n",
    "# 1,1,0 ARIMA Model\n",
    "model = statsmodels.tsa.arima.model.ARIMA(data.EUR, order=(1,1,0))\n",
    "model_fit = model.fit()\n",
    "print(model_fit.summary())"
   ]
  },
  {
   "cell_type": "code",
   "execution_count": 21,
   "metadata": {
    "id": "Hoaz7wjghMNM"
   },
   "outputs": [
    {
     "name": "stdout",
     "output_type": "stream",
     "text": [
      "                               SARIMAX Results                                \n",
      "==============================================================================\n",
      "Dep. Variable:                    ILS   No. Observations:                  347\n",
      "Model:                 ARIMA(1, 1, 0)   Log Likelihood                1820.281\n",
      "Date:                Fri, 30 Sep 2022   AIC                          -3636.562\n",
      "Time:                        15:12:17   BIC                          -3628.870\n",
      "Sample:                             0   HQIC                         -3633.499\n",
      "                                - 347                                         \n",
      "Covariance Type:                  opg                                         \n",
      "==============================================================================\n",
      "                 coef    std err          z      P>|z|      [0.025      0.975]\n",
      "------------------------------------------------------------------------------\n",
      "ar.L1          0.0045      0.038      0.119      0.906      -0.071       0.080\n",
      "sigma2      1.577e-06   8.28e-08     19.049      0.000    1.42e-06    1.74e-06\n",
      "===================================================================================\n",
      "Ljung-Box (L1) (Q):                   0.00   Jarque-Bera (JB):                71.11\n",
      "Prob(Q):                              0.99   Prob(JB):                         0.00\n",
      "Heteroskedasticity (H):               5.95   Skew:                            -0.14\n",
      "Prob(H) (two-sided):                  0.00   Kurtosis:                         5.20\n",
      "===================================================================================\n",
      "\n",
      "Warnings:\n",
      "[1] Covariance matrix calculated using the outer product of gradients (complex-step).\n"
     ]
    },
    {
     "name": "stderr",
     "output_type": "stream",
     "text": [
      "C:\\Users\\HP-PC\\anaconda3\\lib\\site-packages\\statsmodels\\tsa\\base\\tsa_model.py:471: ValueWarning: An unsupported index was provided and will be ignored when e.g. forecasting.\n",
      "  self._init_dates(dates, freq)\n",
      "C:\\Users\\HP-PC\\anaconda3\\lib\\site-packages\\statsmodels\\tsa\\base\\tsa_model.py:471: ValueWarning: An unsupported index was provided and will be ignored when e.g. forecasting.\n",
      "  self._init_dates(dates, freq)\n",
      "C:\\Users\\HP-PC\\anaconda3\\lib\\site-packages\\statsmodels\\tsa\\base\\tsa_model.py:471: ValueWarning: An unsupported index was provided and will be ignored when e.g. forecasting.\n",
      "  self._init_dates(dates, freq)\n"
     ]
    }
   ],
   "source": [
    "# 1,1,0 ARIMA Model\n",
    "model = statsmodels.tsa.arima.model.ARIMA(data.ILS, order=(1,1,0))\n",
    "model_fit = model.fit()\n",
    "print(model_fit.summary())"
   ]
  },
  {
   "cell_type": "code",
   "execution_count": 22,
   "metadata": {
    "id": "T_kUB7QTeflV"
   },
   "outputs": [
    {
     "name": "stderr",
     "output_type": "stream",
     "text": [
      "C:\\Users\\HP-PC\\anaconda3\\lib\\site-packages\\statsmodels\\tsa\\base\\tsa_model.py:471: ValueWarning: An unsupported index was provided and will be ignored when e.g. forecasting.\n",
      "  self._init_dates(dates, freq)\n",
      "C:\\Users\\HP-PC\\anaconda3\\lib\\site-packages\\statsmodels\\tsa\\base\\tsa_model.py:471: ValueWarning: An unsupported index was provided and will be ignored when e.g. forecasting.\n",
      "  self._init_dates(dates, freq)\n",
      "C:\\Users\\HP-PC\\anaconda3\\lib\\site-packages\\statsmodels\\tsa\\base\\tsa_model.py:471: ValueWarning: An unsupported index was provided and will be ignored when e.g. forecasting.\n",
      "  self._init_dates(dates, freq)\n"
     ]
    },
    {
     "name": "stdout",
     "output_type": "stream",
     "text": [
      "                               SARIMAX Results                                \n",
      "==============================================================================\n",
      "Dep. Variable:                    EUR   No. Observations:                  347\n",
      "Model:                 ARIMA(5, 1, 0)   Log Likelihood                1430.321\n",
      "Date:                Fri, 30 Sep 2022   AIC                          -2848.642\n",
      "Time:                        15:12:32   BIC                          -2825.563\n",
      "Sample:                             0   HQIC                         -2839.452\n",
      "                                - 347                                         \n",
      "Covariance Type:                  opg                                         \n",
      "==============================================================================\n",
      "                 coef    std err          z      P>|z|      [0.025      0.975]\n",
      "------------------------------------------------------------------------------\n",
      "ar.L1          0.0005      0.053      0.009      0.992      -0.104       0.105\n",
      "ar.L2          0.0303      0.074      0.411      0.681      -0.115       0.175\n",
      "ar.L3          0.0907      0.065      1.404      0.160      -0.036       0.217\n",
      "ar.L4          0.0327      0.071      0.457      0.648      -0.107       0.173\n",
      "ar.L5         -0.0821      0.047     -1.740      0.082      -0.175       0.010\n",
      "sigma2        1.5e-05    7.1e-07     21.112      0.000    1.36e-05    1.64e-05\n",
      "===================================================================================\n",
      "Ljung-Box (L1) (Q):                   0.05   Jarque-Bera (JB):               281.93\n",
      "Prob(Q):                              0.82   Prob(JB):                         0.00\n",
      "Heteroskedasticity (H):               3.00   Skew:                            -0.48\n",
      "Prob(H) (two-sided):                  0.00   Kurtosis:                         7.32\n",
      "===================================================================================\n",
      "\n",
      "Warnings:\n",
      "[1] Covariance matrix calculated using the outer product of gradients (complex-step).\n"
     ]
    }
   ],
   "source": [
    "# 1,1,0 ARIMA Model\n",
    "model = statsmodels.tsa.arima.model.ARIMA(data.EUR, order=(5,1,0))\n",
    "model_fit = model.fit()\n",
    "print(model_fit.summary())"
   ]
  },
  {
   "cell_type": "code",
   "execution_count": 23,
   "metadata": {
    "id": "BVcidfBahQ6h"
   },
   "outputs": [
    {
     "name": "stderr",
     "output_type": "stream",
     "text": [
      "C:\\Users\\HP-PC\\anaconda3\\lib\\site-packages\\statsmodels\\tsa\\base\\tsa_model.py:471: ValueWarning: An unsupported index was provided and will be ignored when e.g. forecasting.\n",
      "  self._init_dates(dates, freq)\n",
      "C:\\Users\\HP-PC\\anaconda3\\lib\\site-packages\\statsmodels\\tsa\\base\\tsa_model.py:471: ValueWarning: An unsupported index was provided and will be ignored when e.g. forecasting.\n",
      "  self._init_dates(dates, freq)\n",
      "C:\\Users\\HP-PC\\anaconda3\\lib\\site-packages\\statsmodels\\tsa\\base\\tsa_model.py:471: ValueWarning: An unsupported index was provided and will be ignored when e.g. forecasting.\n",
      "  self._init_dates(dates, freq)\n"
     ]
    },
    {
     "name": "stdout",
     "output_type": "stream",
     "text": [
      "                               SARIMAX Results                                \n",
      "==============================================================================\n",
      "Dep. Variable:                    ILS   No. Observations:                  347\n",
      "Model:                 ARIMA(5, 1, 0)   Log Likelihood                1820.662\n",
      "Date:                Fri, 30 Sep 2022   AIC                          -3629.324\n",
      "Time:                        15:12:41   BIC                          -3606.245\n",
      "Sample:                             0   HQIC                         -3620.134\n",
      "                                - 347                                         \n",
      "Covariance Type:                  opg                                         \n",
      "==============================================================================\n",
      "                 coef    std err          z      P>|z|      [0.025      0.975]\n",
      "------------------------------------------------------------------------------\n",
      "ar.L1          0.0025      0.039      0.063      0.949      -0.074       0.079\n",
      "ar.L2          0.0051      0.054      0.094      0.925      -0.101       0.111\n",
      "ar.L3          0.0348      0.052      0.671      0.502      -0.067       0.136\n",
      "ar.L4          0.0292      0.060      0.486      0.627      -0.089       0.147\n",
      "ar.L5          0.0194      0.051      0.381      0.703      -0.080       0.119\n",
      "sigma2      1.561e-06   8.33e-08     18.742      0.000     1.4e-06    1.72e-06\n",
      "===================================================================================\n",
      "Ljung-Box (L1) (Q):                   0.00   Jarque-Bera (JB):                67.35\n",
      "Prob(Q):                              1.00   Prob(JB):                         0.00\n",
      "Heteroskedasticity (H):               5.87   Skew:                            -0.09\n",
      "Prob(H) (two-sided):                  0.00   Kurtosis:                         5.15\n",
      "===================================================================================\n",
      "\n",
      "Warnings:\n",
      "[1] Covariance matrix calculated using the outer product of gradients (complex-step).\n"
     ]
    }
   ],
   "source": [
    "# 1,1,0 ARIMA Model\n",
    "model = statsmodels.tsa.arima.model.ARIMA(data.ILS, order=(5,1,0))\n",
    "model_fit = model.fit()\n",
    "print(model_fit.summary())"
   ]
  },
  {
   "cell_type": "code",
   "execution_count": 24,
   "metadata": {
    "id": "e9-T-1AtXVZA"
   },
   "outputs": [
    {
     "name": "stderr",
     "output_type": "stream",
     "text": [
      "C:\\Users\\HP-PC\\anaconda3\\lib\\site-packages\\statsmodels\\base\\model.py:604: ConvergenceWarning: Maximum Likelihood optimization failed to converge. Check mle_retvals\n",
      "  warnings.warn(\"Maximum Likelihood optimization failed to \"\n",
      "C:\\Users\\HP-PC\\anaconda3\\lib\\site-packages\\statsmodels\\base\\model.py:604: ConvergenceWarning: Maximum Likelihood optimization failed to converge. Check mle_retvals\n",
      "  warnings.warn(\"Maximum Likelihood optimization failed to \"\n",
      "C:\\Users\\HP-PC\\anaconda3\\lib\\site-packages\\statsmodels\\base\\model.py:604: ConvergenceWarning: Maximum Likelihood optimization failed to converge. Check mle_retvals\n",
      "  warnings.warn(\"Maximum Likelihood optimization failed to \"\n",
      "C:\\Users\\HP-PC\\anaconda3\\lib\\site-packages\\statsmodels\\base\\model.py:604: ConvergenceWarning: Maximum Likelihood optimization failed to converge. Check mle_retvals\n",
      "  warnings.warn(\"Maximum Likelihood optimization failed to \"\n",
      "C:\\Users\\HP-PC\\anaconda3\\lib\\site-packages\\statsmodels\\base\\model.py:604: ConvergenceWarning: Maximum Likelihood optimization failed to converge. Check mle_retvals\n",
      "  warnings.warn(\"Maximum Likelihood optimization failed to \"\n",
      "C:\\Users\\HP-PC\\anaconda3\\lib\\site-packages\\statsmodels\\base\\model.py:604: ConvergenceWarning: Maximum Likelihood optimization failed to converge. Check mle_retvals\n",
      "  warnings.warn(\"Maximum Likelihood optimization failed to \"\n",
      "C:\\Users\\HP-PC\\anaconda3\\lib\\site-packages\\statsmodels\\base\\model.py:604: ConvergenceWarning: Maximum Likelihood optimization failed to converge. Check mle_retvals\n",
      "  warnings.warn(\"Maximum Likelihood optimization failed to \"\n",
      "C:\\Users\\HP-PC\\anaconda3\\lib\\site-packages\\statsmodels\\base\\model.py:604: ConvergenceWarning: Maximum Likelihood optimization failed to converge. Check mle_retvals\n",
      "  warnings.warn(\"Maximum Likelihood optimization failed to \"\n",
      "C:\\Users\\HP-PC\\anaconda3\\lib\\site-packages\\statsmodels\\base\\model.py:604: ConvergenceWarning: Maximum Likelihood optimization failed to converge. Check mle_retvals\n",
      "  warnings.warn(\"Maximum Likelihood optimization failed to \"\n",
      "C:\\Users\\HP-PC\\anaconda3\\lib\\site-packages\\statsmodels\\base\\model.py:604: ConvergenceWarning: Maximum Likelihood optimization failed to converge. Check mle_retvals\n",
      "  warnings.warn(\"Maximum Likelihood optimization failed to \"\n",
      "C:\\Users\\HP-PC\\anaconda3\\lib\\site-packages\\statsmodels\\base\\model.py:604: ConvergenceWarning: Maximum Likelihood optimization failed to converge. Check mle_retvals\n",
      "  warnings.warn(\"Maximum Likelihood optimization failed to \"\n",
      "C:\\Users\\HP-PC\\anaconda3\\lib\\site-packages\\statsmodels\\base\\model.py:604: ConvergenceWarning: Maximum Likelihood optimization failed to converge. Check mle_retvals\n",
      "  warnings.warn(\"Maximum Likelihood optimization failed to \"\n",
      "C:\\Users\\HP-PC\\anaconda3\\lib\\site-packages\\statsmodels\\base\\model.py:604: ConvergenceWarning: Maximum Likelihood optimization failed to converge. Check mle_retvals\n",
      "  warnings.warn(\"Maximum Likelihood optimization failed to \"\n",
      "C:\\Users\\HP-PC\\anaconda3\\lib\\site-packages\\statsmodels\\base\\model.py:604: ConvergenceWarning: Maximum Likelihood optimization failed to converge. Check mle_retvals\n",
      "  warnings.warn(\"Maximum Likelihood optimization failed to \"\n"
     ]
    },
    {
     "name": "stdout",
     "output_type": "stream",
     "text": [
      "Test MAE: 0.003\n"
     ]
    },
    {
     "data": {
      "image/png": "[encoded data removed]",
      "text/plain": [
       "<Figure size 432x288 with 1 Axes>"
      ]
     },
     "metadata": {
      "needs_background": "light"
     },
     "output_type": "display_data"
    }
   ],
   "source": [
    "X = data['EUR'].values\n",
    "size = int(len(X) * 0.90)\n",
    "train, test = X[0:size], X[size:len(X)]\n",
    "traindf, testdf = data[0:size], data[size:len(X)]\n",
    "history = [x for x in train]\n",
    "predictions = list()\n",
    "# walk-forward validation\n",
    "for t in range(len(test)):\n",
    "\tmodel = statsmodels.tsa.arima.model.ARIMA(history, order=(1,1,0))\n",
    "\tmodel_fit = model.fit()\n",
    "\toutput = model_fit.forecast()\n",
    "\tyhat = output[0]\n",
    "\tpredictions.append(yhat)\n",
    "\tobs = test[t]\n",
    "\thistory.append(obs)\n",
    "\t# print('predicted=%f, expected=%f' % (yhat, obs))\n",
    "# evaluate forecasts\n",
    "mae = mean_absolute_error(test, predictions)\n",
    "print('Test MAE: %.3f' % mae)\n",
    "# plot forecasts against actual outcomes\n",
    "plt.plot(test)\n",
    "plt.plot(predictions, color='red')\n",
    "plt.show()"
   ]
  },
  {
   "cell_type": "code",
   "execution_count": 25,
   "metadata": {
    "colab": {
     "base_uri": "https://localhost:8080/",
     "height": 232
    },
    "id": "DOGyv7EUXGHj",
    "outputId": "3a69bbe1-8a73-4f12-ec68-e9dfac2c9eb0"
   },
   "outputs": [
    {
     "data": {
      "text/plain": [
       "0.005061131628520245"
      ]
     },
     "execution_count": 25,
     "metadata": {},
     "output_type": "execute_result"
    }
   ],
   "source": [
    "from sklearn.metrics import mean_squared_error\n",
    "from math import sqrt\n",
    "#model_fit.forecast()\n",
    "sqrt(mean_squared_error(predictions,test))"
   ]
  },
  {
   "cell_type": "code",
   "execution_count": 26,
   "metadata": {
    "colab": {
     "base_uri": "https://localhost:8080/",
     "height": 198
    },
    "id": "hNg5N4v0YVZB",
    "outputId": "36a846ab-6656-4f77-c551-58d9168a6fb2"
   },
   "outputs": [
    {
     "name": "stdout",
     "output_type": "stream",
     "text": [
      "[1.05420685 1.05420834 1.05420836 1.05420836 1.05420836 1.05420836\n",
      " 1.05420836 1.05420836 1.05420836 1.05420836 1.05420836 1.05420836\n",
      " 1.05420836 1.05420836 1.05420836 1.05420836 1.05420836 1.05420836\n",
      " 1.05420836 1.05420836 1.05420836 1.05420836 1.05420836 1.05420836\n",
      " 1.05420836 1.05420836 1.05420836 1.05420836 1.05420836 1.05420836]\n"
     ]
    }
   ],
   "source": [
    "index_future_dates = pd.date_range(start='2022-05-19', end='2022-06-19')\n",
    "pred = model_fit.forecast(steps=30)\n",
    "print(pred)"
   ]
  },
  {
   "cell_type": "code",
   "execution_count": 28,
   "metadata": {
    "colab": {
     "base_uri": "https://localhost:8080/",
     "height": 232
    },
    "id": "bariebKUhcc5",
    "outputId": "eea205ac-d4bb-4d20-b155-5de3d5ea0a33"
   },
   "outputs": [
    {
     "name": "stderr",
     "output_type": "stream",
     "text": [
      "C:\\Users\\HP-PC\\anaconda3\\lib\\site-packages\\statsmodels\\base\\model.py:604: ConvergenceWarning: Maximum Likelihood optimization failed to converge. Check mle_retvals\n",
      "  warnings.warn(\"Maximum Likelihood optimization failed to \"\n",
      "C:\\Users\\HP-PC\\anaconda3\\lib\\site-packages\\statsmodels\\base\\model.py:604: ConvergenceWarning: Maximum Likelihood optimization failed to converge. Check mle_retvals\n",
      "  warnings.warn(\"Maximum Likelihood optimization failed to \"\n",
      "C:\\Users\\HP-PC\\anaconda3\\lib\\site-packages\\statsmodels\\base\\model.py:604: ConvergenceWarning: Maximum Likelihood optimization failed to converge. Check mle_retvals\n",
      "  warnings.warn(\"Maximum Likelihood optimization failed to \"\n",
      "C:\\Users\\HP-PC\\anaconda3\\lib\\site-packages\\statsmodels\\base\\model.py:604: ConvergenceWarning: Maximum Likelihood optimization failed to converge. Check mle_retvals\n",
      "  warnings.warn(\"Maximum Likelihood optimization failed to \"\n",
      "C:\\Users\\HP-PC\\anaconda3\\lib\\site-packages\\statsmodels\\base\\model.py:604: ConvergenceWarning: Maximum Likelihood optimization failed to converge. Check mle_retvals\n",
      "  warnings.warn(\"Maximum Likelihood optimization failed to \"\n",
      "C:\\Users\\HP-PC\\anaconda3\\lib\\site-packages\\statsmodels\\base\\model.py:604: ConvergenceWarning: Maximum Likelihood optimization failed to converge. Check mle_retvals\n",
      "  warnings.warn(\"Maximum Likelihood optimization failed to \"\n",
      "C:\\Users\\HP-PC\\anaconda3\\lib\\site-packages\\statsmodels\\base\\model.py:604: ConvergenceWarning: Maximum Likelihood optimization failed to converge. Check mle_retvals\n",
      "  warnings.warn(\"Maximum Likelihood optimization failed to \"\n",
      "C:\\Users\\HP-PC\\anaconda3\\lib\\site-packages\\statsmodels\\base\\model.py:604: ConvergenceWarning: Maximum Likelihood optimization failed to converge. Check mle_retvals\n",
      "  warnings.warn(\"Maximum Likelihood optimization failed to \"\n",
      "C:\\Users\\HP-PC\\anaconda3\\lib\\site-packages\\statsmodels\\base\\model.py:604: ConvergenceWarning: Maximum Likelihood optimization failed to converge. Check mle_retvals\n",
      "  warnings.warn(\"Maximum Likelihood optimization failed to \"\n",
      "C:\\Users\\HP-PC\\anaconda3\\lib\\site-packages\\statsmodels\\base\\model.py:604: ConvergenceWarning: Maximum Likelihood optimization failed to converge. Check mle_retvals\n",
      "  warnings.warn(\"Maximum Likelihood optimization failed to \"\n"
     ]
    },
    {
     "name": "stdout",
     "output_type": "stream",
     "text": [
      "Test MAE: 0.001\n"
     ]
    },
    {
     "data": {
      "image/png": "[encoded data removed]",
      "text/plain": [
       "<Figure size 432x288 with 1 Axes>"
      ]
     },
     "metadata": {
      "needs_background": "light"
     },
     "output_type": "display_data"
    }
   ],
   "source": [
    "X = data['ILS'].values\n",
    "size = int(len(X) * 0.90)\n",
    "train, test = X[0:size], X[size:len(X)]\n",
    "traindf, testdf = data[0:size], data[size:len(X)]\n",
    "history = [x for x in train]\n",
    "predictions = list()\n",
    "# walk-forward validation\n",
    "for t in range(len(test)):\n",
    "\tmodel = statsmodels.tsa.arima.model.ARIMA(history, order=(1,1,0))\n",
    "\tmodel_fit = model.fit()\n",
    "\toutput = model_fit.forecast()\n",
    "\tyhat = output[0]\n",
    "\tpredictions.append(yhat)\n",
    "\tobs = test[t]\n",
    "\thistory.append(obs)\n",
    "\t# print('predicted=%f, expected=%f' % (yhat, obs))\n",
    "# evaluate forecasts\n",
    "mae = mean_absolute_error(test, predictions)\n",
    "print('Test MAE: %.3f' % mae)\n",
    "# plot forecasts against actual outcomes\n",
    "plt.plot(test)\n",
    "plt.plot(predictions, color='red')\n",
    "plt.show()"
   ]
  },
  {
   "cell_type": "code",
   "execution_count": 29,
   "metadata": {
    "colab": {
     "base_uri": "https://localhost:8080/",
     "height": 198
    },
    "id": "6Z2hmK5FWpDa",
    "outputId": "0685b20e-9e22-4e18-f842-1eb4f6b8e3b8"
   },
   "outputs": [
    {
     "name": "stdout",
     "output_type": "stream",
     "text": [
      "[0.29787761 0.29787762 0.29787762 0.29787762 0.29787762 0.29787762\n",
      " 0.29787762 0.29787762 0.29787762 0.29787762 0.29787762 0.29787762\n",
      " 0.29787762 0.29787762 0.29787762 0.29787762 0.29787762 0.29787762\n",
      " 0.29787762 0.29787762 0.29787762 0.29787762 0.29787762 0.29787762\n",
      " 0.29787762 0.29787762 0.29787762 0.29787762 0.29787762 0.29787762]\n"
     ]
    }
   ],
   "source": [
    "model_fit.forecast()\n",
    "pred = model_fit.forecast(steps=30)\n",
    "print(pred)"
   ]
  },
  {
   "cell_type": "code",
   "execution_count": 30,
   "metadata": {
    "colab": {
     "base_uri": "https://localhost:8080/",
     "height": 215
    },
    "id": "cPwLwTSTPXp2",
    "outputId": "3f5c5af6-8e4a-42b8-d9f0-72f141c4a477"
   },
   "outputs": [],
   "source": [
    "mae5day = mean_absolute_error(testdf['BRL'], testdf['moving_avg_5day'])\n",
    "mae10day = mean_absolute_error(testdf['BRL'], testdf['moving_avg_10day'])\n",
    "mae15day = mean_absolute_error(testdf['BRL'], testdf['moving_avg_15day'])\n",
    "mae20day = mean_absolute_error(testdf['BRL'], testdf['moving_avg_20day'])"
   ]
  },
  {
   "cell_type": "code",
   "execution_count": 31,
   "metadata": {
    "colab": {
     "base_uri": "https://localhost:8080/",
     "height": 283
    },
    "id": "8H_DPJELOuOl",
    "outputId": "b506dcee-7d71-426d-fd8a-ecd3c96ab419"
   },
   "outputs": [
    {
     "name": "stdout",
     "output_type": "stream",
     "text": [
      "Mean absolute error from 5day moving average prediction: 0.09748035383085714\n",
      "Mean absolute error from 10day moving average prediction: 0.09876989631714284\n",
      "Mean absolute error from 15day moving average prediction: 0.1001563977455238\n",
      "Mean absolute error from 20day moving average prediction: 0.10144181558242857\n"
     ]
    }
   ],
   "source": [
    "print(f'Mean absolute error from 5day moving average prediction: {mae5day}')\n",
    "print(f'Mean absolute error from 10day moving average prediction: {mae10day}')\n",
    "print(f'Mean absolute error from 15day moving average prediction: {mae15day}')\n",
    "print(f'Mean absolute error from 20day moving average prediction: {mae20day}')"
   ]
  },
  {
   "cell_type": "code",
   "execution_count": 32,
   "metadata": {
    "colab": {
     "base_uri": "https://localhost:8080/",
     "height": 215
    },
    "id": "hAQoCDOchlWc",
    "outputId": "1a2c3c12-1dee-4754-aa62-7da36eaa124d"
   },
   "outputs": [],
   "source": [
    "mae5day = mean_absolute_error(testdf['GBP'], testdf['moving_avg_5day'])\n",
    "mae10day = mean_absolute_error(testdf['GBP'], testdf['moving_avg_10day'])\n",
    "mae15day = mean_absolute_error(testdf['GBP'], testdf['moving_avg_15day'])\n",
    "mae20day = mean_absolute_error(testdf['GBP'], testdf['moving_avg_20day'])"
   ]
  },
  {
   "cell_type": "code",
   "execution_count": 33,
   "metadata": {
    "colab": {
     "base_uri": "https://localhost:8080/",
     "height": 283
    },
    "id": "O274R_8WhujL",
    "outputId": "316f14f8-88e6-404c-8142-d293789f988b"
   },
   "outputs": [
    {
     "name": "stdout",
     "output_type": "stream",
     "text": [
      "Mean absolute error from 5day moving average prediction: 0.9605224626177143\n",
      "Mean absolute error from 10day moving average prediction: 0.9592329201314286\n",
      "Mean absolute error from 15day moving average prediction: 0.9578464187030477\n",
      "Mean absolute error from 20day moving average prediction: 0.9565610008661429\n"
     ]
    }
   ],
   "source": [
    "print(f'Mean absolute error from 5day moving average prediction: {mae5day}')\n",
    "print(f'Mean absolute error from 10day moving average prediction: {mae10day}')\n",
    "print(f'Mean absolute error from 15day moving average prediction: {mae15day}')\n",
    "print(f'Mean absolute error from 20day moving average prediction: {mae20day}')"
   ]
  },
  {
   "cell_type": "code",
   "execution_count": null,
   "metadata": {
    "id": "INS2pGeaPIy4"
   },
   "outputs": [],
   "source": []
  }
 ],
 "metadata": {
  "colab": {
   "collapsed_sections": [],
   "provenance": []
  },
  "kernelspec": {
   "display_name": "Python 3 (ipykernel)",
   "language": "python",
   "name": "python3"
  },
  "language_info": {
   "codemirror_mode": {
    "name": "ipython",
    "version": 3
   },
   "file_extension": ".py",
   "mimetype": "text/x-python",
   "name": "python",
   "nbconvert_exporter": "python",
   "pygments_lexer": "ipython3",
   "version": "3.9.7"
  }
 },
 "nbformat": 4,
 "nbformat_minor": 1
}
