{
 "cells": [
  {
   "cell_type": "code",
   "execution_count": 4,
   "id": "e53a20ba",
   "metadata": {},
   "outputs": [],
   "source": [
    "#!pip install pandas-profiling\n",
    "import pandas as pd\n",
    "import numpy as np\n",
    "from pandas_profiling import ProfileReport"
   ]
  },
  {
   "cell_type": "code",
   "execution_count": 6,
   "id": "c1d8d470",
   "metadata": {},
   "outputs": [
    {
     "data": {
      "text/html": [
       "<div>\n",
       "<style scoped>\n",
       "    .dataframe tbody tr th:only-of-type {\n",
       "        vertical-align: middle;\n",
       "    }\n",
       "\n",
       "    .dataframe tbody tr th {\n",
       "        vertical-align: top;\n",
       "    }\n",
       "\n",
       "    .dataframe thead th {\n",
       "        text-align: right;\n",
       "    }\n",
       "</style>\n",
       "<table border=\"1\" class=\"dataframe\">\n",
       "  <thead>\n",
       "    <tr style=\"text-align: right;\">\n",
       "      <th></th>\n",
       "      <th>iso_code</th>\n",
       "      <th>location</th>\n",
       "      <th>date</th>\n",
       "      <th>total_cases</th>\n",
       "      <th>new_cases</th>\n",
       "      <th>total_cases_per_million</th>\n",
       "      <th>new_cases_per_million</th>\n",
       "      <th>stringency_index</th>\n",
       "      <th>population</th>\n",
       "      <th>population_density</th>\n",
       "      <th>median_age</th>\n",
       "      <th>aged_65_older</th>\n",
       "      <th>aged_70_older</th>\n",
       "      <th>gdp_per_capita</th>\n",
       "      <th>cardiovasc_death_rate</th>\n",
       "      <th>diabetes_prevalence</th>\n",
       "      <th>hospital_beds_per_thousand</th>\n",
       "      <th>life_expectancy</th>\n",
       "      <th>human_development_index</th>\n",
       "    </tr>\n",
       "  </thead>\n",
       "  <tbody>\n",
       "    <tr>\n",
       "      <th>0</th>\n",
       "      <td>PAK</td>\n",
       "      <td>Pakistan</td>\n",
       "      <td>25-02-2020</td>\n",
       "      <td>2.0</td>\n",
       "      <td>2</td>\n",
       "      <td>0.009</td>\n",
       "      <td>0.009</td>\n",
       "      <td>19.44</td>\n",
       "      <td>221000000</td>\n",
       "      <td>255.573</td>\n",
       "      <td>23.5</td>\n",
       "      <td>4.495</td>\n",
       "      <td>2.78</td>\n",
       "      <td>5034.708</td>\n",
       "      <td>423.031</td>\n",
       "      <td>8.35</td>\n",
       "      <td>0.6</td>\n",
       "      <td>67.27</td>\n",
       "      <td>0.557</td>\n",
       "    </tr>\n",
       "    <tr>\n",
       "      <th>1</th>\n",
       "      <td>PAK</td>\n",
       "      <td>Pakistan</td>\n",
       "      <td>26-02-2020</td>\n",
       "      <td>2.0</td>\n",
       "      <td>0</td>\n",
       "      <td>0.009</td>\n",
       "      <td>0.000</td>\n",
       "      <td>19.44</td>\n",
       "      <td>221000000</td>\n",
       "      <td>255.573</td>\n",
       "      <td>23.5</td>\n",
       "      <td>4.495</td>\n",
       "      <td>2.78</td>\n",
       "      <td>5034.708</td>\n",
       "      <td>423.031</td>\n",
       "      <td>8.35</td>\n",
       "      <td>0.6</td>\n",
       "      <td>67.27</td>\n",
       "      <td>0.557</td>\n",
       "    </tr>\n",
       "    <tr>\n",
       "      <th>2</th>\n",
       "      <td>PAK</td>\n",
       "      <td>Pakistan</td>\n",
       "      <td>27-02-2020</td>\n",
       "      <td>2.0</td>\n",
       "      <td>0</td>\n",
       "      <td>0.009</td>\n",
       "      <td>0.000</td>\n",
       "      <td>28.70</td>\n",
       "      <td>221000000</td>\n",
       "      <td>255.573</td>\n",
       "      <td>23.5</td>\n",
       "      <td>4.495</td>\n",
       "      <td>2.78</td>\n",
       "      <td>5034.708</td>\n",
       "      <td>423.031</td>\n",
       "      <td>8.35</td>\n",
       "      <td>0.6</td>\n",
       "      <td>67.27</td>\n",
       "      <td>0.557</td>\n",
       "    </tr>\n",
       "    <tr>\n",
       "      <th>3</th>\n",
       "      <td>PAK</td>\n",
       "      <td>Pakistan</td>\n",
       "      <td>28-02-2020</td>\n",
       "      <td>4.0</td>\n",
       "      <td>2</td>\n",
       "      <td>0.018</td>\n",
       "      <td>0.009</td>\n",
       "      <td>28.70</td>\n",
       "      <td>221000000</td>\n",
       "      <td>255.573</td>\n",
       "      <td>23.5</td>\n",
       "      <td>4.495</td>\n",
       "      <td>2.78</td>\n",
       "      <td>5034.708</td>\n",
       "      <td>423.031</td>\n",
       "      <td>8.35</td>\n",
       "      <td>0.6</td>\n",
       "      <td>67.27</td>\n",
       "      <td>0.557</td>\n",
       "    </tr>\n",
       "    <tr>\n",
       "      <th>4</th>\n",
       "      <td>PAK</td>\n",
       "      <td>Pakistan</td>\n",
       "      <td>29-02-2020</td>\n",
       "      <td>4.0</td>\n",
       "      <td>0</td>\n",
       "      <td>0.018</td>\n",
       "      <td>0.000</td>\n",
       "      <td>28.70</td>\n",
       "      <td>221000000</td>\n",
       "      <td>255.573</td>\n",
       "      <td>23.5</td>\n",
       "      <td>4.495</td>\n",
       "      <td>2.78</td>\n",
       "      <td>5034.708</td>\n",
       "      <td>423.031</td>\n",
       "      <td>8.35</td>\n",
       "      <td>0.6</td>\n",
       "      <td>67.27</td>\n",
       "      <td>0.557</td>\n",
       "    </tr>\n",
       "  </tbody>\n",
       "</table>\n",
       "</div>"
      ],
      "text/plain": [
       "  iso_code  location        date  total_cases  new_cases  \\\n",
       "0      PAK  Pakistan  25-02-2020          2.0          2   \n",
       "1      PAK  Pakistan  26-02-2020          2.0          0   \n",
       "2      PAK  Pakistan  27-02-2020          2.0          0   \n",
       "3      PAK  Pakistan  28-02-2020          4.0          2   \n",
       "4      PAK  Pakistan  29-02-2020          4.0          0   \n",
       "\n",
       "   total_cases_per_million  new_cases_per_million  stringency_index  \\\n",
       "0                    0.009                  0.009             19.44   \n",
       "1                    0.009                  0.000             19.44   \n",
       "2                    0.009                  0.000             28.70   \n",
       "3                    0.018                  0.009             28.70   \n",
       "4                    0.018                  0.000             28.70   \n",
       "\n",
       "   population  population_density  median_age  aged_65_older  aged_70_older  \\\n",
       "0   221000000             255.573        23.5          4.495           2.78   \n",
       "1   221000000             255.573        23.5          4.495           2.78   \n",
       "2   221000000             255.573        23.5          4.495           2.78   \n",
       "3   221000000             255.573        23.5          4.495           2.78   \n",
       "4   221000000             255.573        23.5          4.495           2.78   \n",
       "\n",
       "   gdp_per_capita  cardiovasc_death_rate  diabetes_prevalence  \\\n",
       "0        5034.708                423.031                 8.35   \n",
       "1        5034.708                423.031                 8.35   \n",
       "2        5034.708                423.031                 8.35   \n",
       "3        5034.708                423.031                 8.35   \n",
       "4        5034.708                423.031                 8.35   \n",
       "\n",
       "   hospital_beds_per_thousand  life_expectancy  human_development_index  \n",
       "0                         0.6            67.27                    0.557  \n",
       "1                         0.6            67.27                    0.557  \n",
       "2                         0.6            67.27                    0.557  \n",
       "3                         0.6            67.27                    0.557  \n",
       "4                         0.6            67.27                    0.557  "
      ]
     },
     "execution_count": 6,
     "metadata": {},
     "output_type": "execute_result"
    }
   ],
   "source": [
    "df = pd.read_excel('COVID_data_googlesheets.xlsx')\n",
    "df.head(5)"
   ]
  },
  {
   "cell_type": "code",
   "execution_count": 5,
   "id": "fe1b690f",
   "metadata": {},
   "outputs": [
    {
     "data": {
      "application/vnd.jupyter.widget-view+json": {
       "model_id": "",
       "version_major": 2,
       "version_minor": 0
      },
      "text/plain": [
       "Summarize dataset:   0%|          | 0/5 [00:00<?, ?it/s]"
      ]
     },
     "metadata": {},
     "output_type": "display_data"
    },
    {
     "data": {
      "application/vnd.jupyter.widget-view+json": {
       "model_id": "",
       "version_major": 2,
       "version_minor": 0
      },
      "text/plain": [
       "Generate report structure:   0%|          | 0/1 [00:00<?, ?it/s]"
      ]
     },
     "metadata": {},
     "output_type": "display_data"
    },
    {
     "data": {
      "application/vnd.jupyter.widget-view+json": {
       "model_id": "",
       "version_major": 2,
       "version_minor": 0
      },
      "text/plain": [
       "Render HTML:   0%|          | 0/1 [00:00<?, ?it/s]"
      ]
     },
     "metadata": {},
     "output_type": "display_data"
    },
    {
     "data": {
      "application/vnd.jupyter.widget-view+json": {
       "model_id": "",
       "version_major": 2,
       "version_minor": 0
      },
      "text/plain": [
       "Export report to file:   0%|          | 0/1 [00:00<?, ?it/s]"
      ]
     },
     "metadata": {},
     "output_type": "display_data"
    }
   ],
   "source": [
    "profile = ProfileReport(df)\n",
    "profile.to_file('report.html')"
   ]
  },
  {
   "cell_type": "code",
   "execution_count": null,
   "id": "a5024b0a",
   "metadata": {},
   "outputs": [],
   "source": []
  }
 ],
 "metadata": {
  "kernelspec": {
   "display_name": "Python 3 (ipykernel)",
   "language": "python",
   "name": "python3"
  },
  "language_info": {
   "codemirror_mode": {
    "name": "ipython",
    "version": 3
   },
   "file_extension": ".py",
   "mimetype": "text/x-python",
   "name": "python",
   "nbconvert_exporter": "python",
   "pygments_lexer": "ipython3",
   "version": "3.9.7"
  }
 },
 "nbformat": 4,
 "nbformat_minor": 5
}
