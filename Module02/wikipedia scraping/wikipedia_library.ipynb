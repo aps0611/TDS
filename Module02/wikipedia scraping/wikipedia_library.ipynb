{
  "nbformat": 4,
  "nbformat_minor": 0,
  "metadata": {
    "kernelspec": {
      "display_name": "Python 3",
      "language": "python",
      "name": "python3"
    },
    "language_info": {
      "codemirror_mode": {
        "name": "ipython",
        "version": 3
      },
      "file_extension": ".py",
      "mimetype": "text/x-python",
      "name": "python",
      "nbconvert_exporter": "python",
      "pygments_lexer": "ipython3",
      "version": "3.7.4"
    },
    "colab": {
      "provenance": [],
      "collapsed_sections": []
    }
  },
  "cells": [
    {
      "cell_type": "markdown",
      "metadata": {
        "id": "zkimsLZ5DNtC"
      },
      "source": [
        "This is a self-explanaory short tutorial on using the wikipedia library to extract information from Wikipedia."
      ]
    },
    {
      "cell_type": "code",
      "metadata": {
        "id": "PDAe_Pt1DNtf",
        "colab": {
          "base_uri": "https://localhost:8080/"
        },
        "outputId": "6edda257-2ff3-460f-a2ce-b48fa1718f63"
      },
      "source": [
        "!pip install wikipedia\n",
        "import wikipedia as wk"
      ],
      "execution_count": null,
      "outputs": [
        {
          "output_type": "stream",
          "name": "stdout",
          "text": [
            "Collecting wikipedia\n",
            "  Downloading wikipedia-1.4.0.tar.gz (27 kB)\n",
            "Requirement already satisfied: beautifulsoup4 in /usr/local/lib/python3.7/dist-packages (from wikipedia) (4.6.3)\n",
            "Requirement already satisfied: requests<3.0.0,>=2.0.0 in /usr/local/lib/python3.7/dist-packages (from wikipedia) (2.23.0)\n",
            "Requirement already satisfied: idna<3,>=2.5 in /usr/local/lib/python3.7/dist-packages (from requests<3.0.0,>=2.0.0->wikipedia) (2.10)\n",
            "Requirement already satisfied: certifi>=2017.4.17 in /usr/local/lib/python3.7/dist-packages (from requests<3.0.0,>=2.0.0->wikipedia) (2021.5.30)\n",
            "Requirement already satisfied: urllib3!=1.25.0,!=1.25.1,<1.26,>=1.21.1 in /usr/local/lib/python3.7/dist-packages (from requests<3.0.0,>=2.0.0->wikipedia) (1.24.3)\n",
            "Requirement already satisfied: chardet<4,>=3.0.2 in /usr/local/lib/python3.7/dist-packages (from requests<3.0.0,>=2.0.0->wikipedia) (3.0.4)\n",
            "Building wheels for collected packages: wikipedia\n",
            "  Building wheel for wikipedia (setup.py) ... \u001b[?25l\u001b[?25hdone\n",
            "  Created wheel for wikipedia: filename=wikipedia-1.4.0-py3-none-any.whl size=11696 sha256=cfe239c156f5919a5b367671f180ddfd6284bb43efffda114ce3772150255d9d\n",
            "  Stored in directory: /root/.cache/pip/wheels/15/93/6d/5b2c68b8a64c7a7a04947b4ed6d89fb557dcc6bc27d1d7f3ba\n",
            "Successfully built wikipedia\n",
            "Installing collected packages: wikipedia\n",
            "Successfully installed wikipedia-1.4.0\n"
          ]
        }
      ]
    },
    {
      "cell_type": "code",
      "metadata": {
        "id": "HlISPPt7DNuK",
        "colab": {
          "base_uri": "https://localhost:8080/"
        },
        "outputId": "fdae873e-9f1d-4cde-b47c-b48425fade79"
      },
      "source": [
        "print(wk.search(\"IIT Madras\")) "
      ],
      "execution_count": null,
      "outputs": [
        {
          "output_type": "stream",
          "name": "stdout",
          "text": [
            "['IIT Madras', 'Indian Institutes of Technology', 'Joint Entrance Examination – Advanced', 'Inter IIT Sports Meet', 'IIT Palakkad', 'IIT Kharagpur', 'IIT Tirupati', 'Department of Management Studies IIT Madras', 'Ashok Leyland', 'SWAYAM']\n"
          ]
        }
      ]
    },
    {
      "cell_type": "code",
      "metadata": {
        "id": "NqEOlq1wDNux",
        "colab": {
          "base_uri": "https://localhost:8080/"
        },
        "outputId": "65ca2f8e-131a-4891-c104-463705778138"
      },
      "source": [
        "print(wk.search(\"IIT Madras\", results=2))"
      ],
      "execution_count": null,
      "outputs": [
        {
          "output_type": "stream",
          "name": "stdout",
          "text": [
            "['IIT Madras', 'Indian Institutes of Technology']\n"
          ]
        }
      ]
    },
    {
      "cell_type": "code",
      "metadata": {
        "id": "vDy-UnxvDNvc",
        "colab": {
          "base_uri": "https://localhost:8080/"
        },
        "outputId": "29c79beb-bfbc-4425-f834-0765b39eee93"
      },
      "source": [
        "print(wk.summary(\"IIT Madras\"))"
      ],
      "execution_count": null,
      "outputs": [
        {
          "output_type": "stream",
          "name": "stdout",
          "text": [
            "Indian Institute of Technology Madras (IIT Madras) is a public technical and research university located in Chennai (formerly named as Madras), Tamil Nadu, India. As one of the Indian Institutes of Technology (IITs), it is recognised as an Institute of National Importance. Founded in 1959 with technical and financial assistance from the former government of West Germany, it was the third IIT established by the Government of India. IIT Madras is ranked the top engineering institute in India by the Ministry of Education's National Institutional Ranking Framework since its inception in 2016.IIT Madras is a residential institute that occupies a 2.5-square-kilometre (0.97 sq mi) campus that was formerly part of the adjoining Guindy National Park. The institute has nearly 600 faculty, 10,000 students and 1,250 administrative and supporting staff. Growing ever since it obtained its charter from the Indian Parliament in 1961, much of the campus is a protected forest, carved out of the Guindy National Park, home to large numbers of chital (spotted deer), black buck, bonnet macaque, and other rare wildlife. A natural lake, deepened in 1988 and 2003, drains most of its rainwater.\n"
          ]
        }
      ]
    },
    {
      "cell_type": "code",
      "metadata": {
        "id": "lOMyYdyNDNvk",
        "colab": {
          "base_uri": "https://localhost:8080/"
        },
        "outputId": "c85c6242-1936-4eb6-abf1-50860ab6bc2b"
      },
      "source": [
        "print(wk.summary(\"IIT Madras\", sentences=2))"
      ],
      "execution_count": null,
      "outputs": [
        {
          "output_type": "stream",
          "name": "stdout",
          "text": [
            "Indian Institute of Technology Madras (IIT Madras) is a public technical and research university located in Chennai (formerly named as Madras), Tamil Nadu, India. As one of the Indian Institutes of Technology (IITs), it is recognised as an Institute of National Importance.\n"
          ]
        }
      ]
    },
    {
      "cell_type": "code",
      "metadata": {
        "id": "BKH458-BDNwR"
      },
      "source": [
        "full_page = wk.page(\"IIT Madras\")"
      ],
      "execution_count": null,
      "outputs": []
    },
    {
      "cell_type": "code",
      "metadata": {
        "id": "_iYEwmhEDNxL",
        "colab": {
          "base_uri": "https://localhost:8080/"
        },
        "outputId": "b7b4246a-7cd9-431c-b221-f4829e8c06af"
      },
      "source": [
        "print(full_page.content)"
      ],
      "execution_count": null,
      "outputs": [
        {
          "output_type": "stream",
          "name": "stdout",
          "text": [
            "Indian Institute of Technology Madras (IIT Madras) is a public technical and research university located in Chennai (formerly named as Madras), Tamil Nadu, India. As one of the Indian Institutes of Technology (IITs), it is recognised as an Institute of National Importance. Founded in 1959 with technical and financial assistance from the former government of West Germany, it was the third IIT established by the Government of India. IIT Madras is ranked the top engineering institute in India by the Ministry of Education's National Institutional Ranking Framework since its inception in 2016.IIT Madras is a residential institute that occupies a 2.5-square-kilometre (0.97 sq mi) campus that was formerly part of the adjoining Guindy National Park. The institute has nearly 600 faculty, 10,000 students and 1,250 administrative and supporting staff. Growing ever since it obtained its charter from the Indian Parliament in 1961, much of the campus is a protected forest, carved out of the Guindy National Park, home to large numbers of chital (spotted deer), black buck, bonnet macaque, and other rare wildlife. A natural lake, deepened in 1988 and 2003, drains most of its rainwater.\n",
            "\n",
            "\n",
            "== History ==\n",
            "\n",
            "In 1956, the West German Government offered technical assistance for establishing an institute of higher education in engineering in India. The first Indo-German agreement was signed in Bonn, West Germany in 1959 for the establishment of the Indian Institute of Technology at Madras. IIT Madras was started with technical, academic and financial assistance from the Government of West Germany and was at the time the largest educational project sponsored by the West German Government outside their country. The  Government of the Federal  Republic of  Germany has agreed to provide the following assistance in the establishment of a higher technological institute at Madras.\n",
            "\n",
            "Workshop and  ’laboratory equipment  and  Library:  total value not exceeding  1.8 Crores\n",
            "20 German Professors to serve at the  Institute for a  period of about 4–5 years.\n",
            "4  German  Foremen for the workshops of the  Institute for a  period of not less than two years.\n",
            "Facilities for the training of 20 Indian teachers in German institutions This has led to several collaborative research efforts with universities and institutions in Germany over the years. Although official support from the German government has ended, several research efforts involving the DAAD programme and Humboldt Fellowships still exist.\n",
            "The institute was inaugurated in 1959, by the then Union Minister for Scientific Research and Cultural Affairs. The first batch had an overall strength of 120 students from across India. In 1961, the IITs were declared to be Institutes of National Importance. The first convocation ceremony was held on 11 July 1964, with Dr. S. Radhakrishnan, then the President of India, delivering the convocation address and awarding the degrees to the inaugural batch of students. The institute got its first women students in the BTech batch of 1966. IIT Madras celebrated its Golden Jubilee in 2009, and its Diamond Jubilee in 2019.\n",
            "\n",
            "\n",
            "== Campus ==\n",
            "The main entrance of IIT Madras is on Sardar Patel Road, flanked by the residential districts of Adyar and Velachery. The campus is close to the Raj Bhavan, the official seat of the Governor of Tamil Nadu. Other entrances are located in Velachery (near Anna Garden MTC bus stop, Velachery Main Road), Gandhi Road (known as Krishna Hostel gate or Toll Gate, Currently closed) and Taramani gate (close to Ascendas Tech Park).\n",
            "The campus is located 10 km (6.2 mi) from the Chennai Airport, 12 km (7.5 mi) from the Chennai Central Railway station, and is well connected by city buses. Kasturba Nagar is the nearest station on the Chennai MRTS line.\n",
            "Two parallel roads, Bonn Avenue and Delhi Avenue, cut through the faculty residential area, before they meet at the Gajendra Circle, near the Administrative Block. Buses regularly ply between the Main Gate, Gajendra Circle, the Academic Zone, and the Hostel Zone.\n",
            "\n",
            "\n",
            "=== Location in context ===\n",
            "\n",
            "\n",
            "=== Student Hostels ===\n",
            "Most students at IIT Madras reside in the hostels, where extracurricular activities complement the academic routine. The campus has 18 hostels, of which four, Sharavati, Sarayu, Sabarmati and the recently (2017) constructed Tunga are exclusively for women. In earlier times each hostel had attached dining facilities but all of them have been closed down. Dining facilities are provided in three centralised halls namely Nilgiri, Vindhya and Himalaya. The hostels may accommodate undergraduate and graduate students, though they tend to keep the two apart. Students are assigned to hostels at the time of admission, where they usually spend their entire stay at the institute.\n",
            "The hostels are named after the principal rivers of India and the campus buses used to be named after mountains, resulting in an epigram about IIT Madras that it is the only place where the mountains move and the rivers remain still. With the discontinuance of naming of buses and the mess halls being named Vindhya and Himalaya, this epigram is no longer meaningful.\n",
            "\n",
            "The halls of IITM are:\n",
            "\n",
            "Sindhu, Pampa, Mahanadhi and Tamiraparani are seven-storeyed whereas all the other (older, classic) hostels are three or four storeyed. These four hostels can accommodate more than 1,200 students. The older hostels were all three-storeyed till the early 2000s when extra rooms in the form of an extra floor and rooms above the common room were added. An additional new floor in the three-storeyed hostels which generally house the undergraduate students and a new block in place of the mess halls of these hostels have been constructed to accommodate for the increased intake of the students. These new blocks could be used as entrances for these hostels.\n",
            "\n",
            "\n",
            "=== Facilities ===\n",
            "IIT Madras provides residential accommodation for its students, faculty, administrative and supporting staff, and their families. The residential houses employ private caterers. The self-contained campus includes two schools (Vanavani and Kendriya Vidyalaya), three temples (Jalakanteshwara, Durga Peliamman and Ganapathi temple), three bank branches (SBI, ICICI, Canara Bank), a hospital, shopping centres, food shops, a gym, sleeping room and timepass hall, cricket, football, hockey and badminton stadiums. Internet is available in the academic zone and the faculty and staff residential zone. Earlier Internet was limited in hostel-zone from 2:00 pm till midnight and from 5:00 am to 8:00 am, but increasing demand during academic semester lead to full day Internet service.IIT Madras has the fastest super computing facility among educational institutions in India. The IBM Virgo Super Cluster installed with 97 teraflops was also ranked 364 among the top 500 in world in the Top500 November 2012 list. Apart from this, the institution also has a super computer with 20 teraflops.\n",
            "\n",
            "\n",
            "== Organisation and administration ==\n",
            "\n",
            "\n",
            "=== Governance ===\n",
            "The Indian Institute of Technology, Madras, is an autonomous statutory organisation functioning within the Institutes of Technology Act. The sixteen IITs are administered centrally by the IIT Council, an apex body established by the Government of India. The Minister of Human Resource and Development, Government of India, is the Chairman of the council. Each institute has a Board of Governors responsible for its administration and control.\n",
            "The Senate comprises all professors of the Institute and decides its academic policy. It controls and approves the curriculum, courses, examinations, and results. It appoints committees to examine specific academic matters. The Director of the institute serves as the Chairman of the Senate. The Director from 2001 to 2011 was M. S. Ananth, who stepped down at the end of July 2011. As of September 2011, Bhaskar Ramamurthi has taken over as Director.Three Senate Sub-Committees – The Board of Academic Research, The Board of Academic Courses and The Board of Students – help in academic administration and in the operations of the institute. The Finance Committee advises on matters of financial policy, while the Building and Works Committee advises on buildings and infrastructure. The Board of Industrial Consultancy and Sponsored Research addresses industrial consultancy and the Library Advisory Committee oversees library matters.\n",
            "\n",
            "\n",
            "=== Departments ===\n",
            "Aerospace Engineering\n",
            "Applied Mechanics\n",
            "Biotechnology\n",
            "Chemical Engineering\n",
            "Chemistry\n",
            "Civil Engineering\n",
            "Computer Science and Engineering\n",
            "Electrical Engineering\n",
            "Engineering Design\n",
            "Engineering Physics\n",
            "Humanities and Social Sciences\n",
            "Mechanical Engineering\n",
            "Management Studies\n",
            "Metallurgical and Materials Engineering\n",
            "Mathematics\n",
            "Ocean Engineering\n",
            "Physics\n",
            "\n",
            "\n",
            "== Academics ==\n",
            "IIT Madras offers undergraduate, postgraduate and research degrees across 16 disciplines in Engineering, Sciences, Humanities and Management. About 360 faculty belonging to science and engineering departments and centres of the Institute are engaged in teaching, research and industrial consultancy.\n",
            "The institute has 16 academic departments and advanced research centres across disciplines of engineering and pure sciences, with nearly 100 laboratories. The academic calendar is organised around the semester. Each semester provides a minimum of seventy days of instruction in English. Students are evaluated on a continuous basis throughout the semester. Evaluation is done by the faculty, a consequence of the autonomous status granted to the institute. Research work is evaluated on the basis of the review thesis by peer examiners both from within the country and abroad. Ordinances that govern the academic programme of study are prepared by the Senate, the highest academic body within the institute.\n",
            "\n",
            "\n",
            "=== Admission tests ===\n",
            "For the undergraduate curriculum, admission to the BTech and Dual Degree (BSc + MSc or BTech + MTech) programme is done through the Joint Entrance Examination – Advanced (JEE-Advanced). IIT Madras conducted JEE Advanced in 2017. Admission to the five-year integrated Master of Arts (MA) programme is through the Humanities and Social Sciences Entrance Examination (HSEE), an IIT Madras specific exam. Admissions to the online degree programme for B.Sc. in Programming and Data Science are done through a Qualifier Process which includes four weeks of instruction in Computational Thinking, Mathematics, Statistics and English.For the postgraduate curriculum, admission to the MTech and MS programmes are through the Graduate Aptitude Test in Engineering (GATE). The Joint Admission Test to MSc (JAM) is the entrance exam for the two-year MSc programme, and other post BSc programmes. MBA candidates are accepted through the Common Admission Test (CAT).\n",
            "\n",
            "\n",
            "=== Rankings ===\n",
            "Internationally, IIT Madras was ranked 271 in the QS World University Rankings of 2020. The same rankings ranked it 50 in Asia in 2020 and 17 among BRICS nations in 2019. It was ranked 601–800 in the world by the Times Higher Education World University Rankings of 2020, 125 in ASIA and 63 among Emerging Economies University Rankings in 2020.IIT Madras also ranked first among engineering colleges by the National Institutional Ranking Framework (NIRF) in 2020 and first overall. It ranked first in Atal Rankings of Institutions on Innovation Achievements (ARIIA), Govt. of India in the year 2019.\n",
            "\n",
            "\n",
            "=== Grading System and Student Evaluation ===\n",
            "The Indian Institutes of Technology are under control of the Government of India and therefore have strict rules for grade.\n",
            "Depending on the course the evaluation is based on participation in class, attendance, quiz, exam and/or paper. Continuous evaluation is done by course instructors.\n",
            "The Evaluation System of IIT Madras which is also used in other IITs is the Cumulative Grade Point Average with a scale from 0 to 10 which is converted to letters:\n",
            "\n",
            "CGPA then gets calculated as the cumulative credit-weighted average of the grade points:\n",
            "CGPA = (Σ Ci • GPi) / (Σ Ci)\n",
            "where:\n",
            "N is the number of courses\n",
            "Ci is credits for the ith course\n",
            "GPi is grade points for the ith course\n",
            "CGPA is the cumulative grade point average\n",
            "The CGPA is not the same as the one commonly used in the United States.\n",
            "In India some credits might be awarded during Bachelor studies for Co-curricular and Extra-curricular Activities, while during the Master Programme this is not allowed.\n",
            "Through agreements with numerous international organisations, IIT grades are accepted from many international organisations like NTU, NUS and DAAD.\n",
            "Additionally, the attendance of the students is evaluated with VG for very good (always present), G for good (not present every lecture) and P for poor (student was present less than 85% of lectures).\n",
            "\n",
            "\n",
            "=== Academic research programmes ===\n",
            "The institute has departments and advanced research centres across the disciplines of engineering and the pure sciences, and nearly 100 laboratories.Research programmes concern work undertaken by faculty members or specific research groups within departments that award an MS or PhD degree. Research is carried out by scholars admitted into these departmental programmes, under the guidance of their faculty.  Each department makes known its areas of interest to the academic community through handbooks, brochures and bulletins. Topics of interest may be theoretical or experimental. IIT Madras has initiated 16 inter-disciplinary research projects against identified focus areas.\n",
            "\n",
            "\n",
            "=== Partnership with other universities ===\n",
            "The institute maintains academic friendship with educational institutes around the world through faculty exchange programmes. The institute has signed Memoranda of Understanding (MOUs) with foreign universities, resulting in cooperative projects and assignments.\n",
            "\n",
            "\n",
            "=== Industrial Consultancy and Sponsored Research ===\n",
            "Through industrial consultancy, faculty and staff undertake assignments for industry that may include project design, testing and evaluation, or training in new areas of industrial development. Industries and organisations like the Indian Ordnance Factories, reach out to the IIT faculty to undertake assignments channeled through the Centre For Industrial Consultancy and Sponsored Research (ICSR).\n",
            "National organisations sponsor programmes of research by funding projects undertaken by the faculty. Such research is time bound and allows project participants to register for a degree.  Project proposals are usually prepared by the IIT faculty and forwarded to interested organisations, based on the nature of their research and their interest to fund such projects.\n",
            "Sponsored projects are often vehicles for new resources within departments, and often permit their project staff to register for academic degrees in the institute. All sponsored research activities at the institute are coordinated by ICSR.\n",
            "Park\n",
            "The IIT Madras Research Park, the first of its kind to be established in India, functions to propel successful innovation in established companies and provide a nurturing ecosystem to startups through incubation efforts and technical infrastructure. Following its success, 50 research parks were planned as part of Start Up India initiative of the Central Government of India. Corporate clients of IIT Madras Research park include Bharat Heavy Electricals Limited, Saint-Gobain and Forbes Marshall. Ather Energy, Hyperverge and Gyandata are some of the startups incubated at the Research Park. The Research Park is primarily reason why a very large number of startups are incubated at IIT Madras.\n",
            "\n",
            "\n",
            "=== National Programme on Technology Enhanced Learning (NPTEL) ===\n",
            "To improve the quality of higher education in India, IIT Madras came up with an initiative called NPTEL (National Programme on Technology Enhanced Learning) in the year 2003. As per this initiative, all the IITs, along with the IISc Bangalore would come up with a series of video lecture based courses across all the streams of engineering. This initiative has gained wide popularity in India and the lectures are being used by several engineering students from across India. It is the Largest online repository in the world of courses in engineering, basic sciences and selected humanities and social sciences subjects.\n",
            "\n",
            "\n",
            "=== BSc Degree Programme in Programming and Data Science. ===\n",
            "The institute launched the country's first online BSc Program in Programming in Data Science. The 116 credit program consists of three levels—Foundation (32 credits), Diploma (48 credits), and Degree (36 credits). The faculty of the program include Madhavan Mukund (Department of Computer Science & Engineering, Chennai Mathematical Institute), Rajesh Kumar (Professor, Department of Humanities and Social Sciences, IIT Madras), Andrew Thangaraj (Professor, Electrical Engineering Department, IIT Madras), Sudarshan Iyengar (Associate Professor, Department of Computer Science and Engineering, IIT Ropar), and several more faculty, instructors and mentors.\n",
            "\n",
            "The first batch of 8,154 students who joined the program in 2020 have brought unprecedented diversity to the IIT history. Prathap Haridoss, professor in charge of the online degree programme, said nearly 30% of the learners are working professionals from IT, banking, manufacturing, finance, law, healthcare, marketing and other sectors.The institute has been working with experts from NPTEL to manage the program. Instruction is via recorded videos followed by activity questions. There are at least three sessions per week for each course subject that allow students to interact, discuss and study. Weekly graded assignments, monthly quizzes and an end term final exam are used to award grades as per the IIT Grading System. The in-person quizzes and exams are conducted at the TCS iON centres across the country.\n",
            "In additional to a challenging academic curriculum, the students are encouraged to participate in various professional development, skill development and social activities organized by the institute, students and their clubs. In April 2021, the BSc program department organized the  'Cricket Hackathon 2021' for students, professionals, and Data Science enthusiasts. The academic competition was designed for beginners to learn and compete, as well as for professionals to showcase their capabilities in programming, data science, and analytics.\n",
            "\n",
            "\n",
            "== Student activities ==\n",
            "\n",
            "\n",
            "=== Festivals ===\n",
            "\n",
            "\n",
            "==== Shaastra ====\n",
            "\n",
            "Shaastra is the annual technical festival of IIT Madras. It is typically held in the second week of January and is the first ISO 9001:2015 certified student organised festival in the world. It is known for its organisation and activities. Forums include the symposia, workshops, video conferences, lectures, demonstrations, and technical exhibitions. Competitive activities cover design events, programming, simulations, quizzes, applied engineering, robotics, junk-yard wars and contraptions.\n",
            "\n",
            "\n",
            "==== Saarang ====\n",
            "\n",
            "Saarang is the annual social and cultural festival of IIT Madras. It is a five-day-long event held in early January every year and attracts a crowd of 70,000 students and young people from across the country, making it the largest student-run fest in India. Saarang events include speaking, dancing, thespian, quizzing and word games, professional shows (nicknamed proshows) and workshops on music, fashion, art, and dance.\n",
            "\n",
            "\n",
            "==== Department festivals ====\n",
            "Several departments organise department festivals. Samanvay, Biofest, ExeBit, Wavez, Mechanica, CEA Fest, ChemPlus, Amalgam and Forays are some of the festivals organised by the Department of Management Studies, Computer Science and Engineering, Ocean Engineering, Mechanical Engineering, Civil Engineering, Chemical Engineering, Metallurgical and Materials Engineering and Maths departments respectively. Department of Humanities and Social Sciences hosts Annual Academic Conference.\n",
            "\n",
            "\n",
            "=== The Entrepreneurship Cell ===\n",
            "The Entrepreneurship Cell, IITM, abbreviated as E-Cell IITM, is a student-run body responsible for promoting and inculcating a spirit of entrepreneurial thinking among both the faculty and the student fraternity of IIT Madras. E-Cell was earlier known as \"C-TIDES\", and was rechristened in 2015 along with a series of organizational changes in an effort to promote greater engagement among students.\n",
            "E-Summit is the flagship event of E-Cell and is a three-day-long event typically held in the first week of April. It includes a myriad of events and competitions, such as the Startup Boot Camp, PitchFest, the Intern Fair, a social campaign and workshops, talks and panel discussions from some of the most eminent entrepreneurs of India. Past speakers have included the likes of Ritesh Agarwal and Nandini Vaidyanathan.The second instance of E-Summit in 2017 attracted about 1,000 attendees from nearly 30 colleges and involved over 100 startups.\n",
            "\n",
            "\n",
            "=== Centre For Innovation (CFI) ===\n",
            "Centre For Innovation is a \"Student Lab\" set up in 2008.\n",
            "The annual flagship event of CFI, the \"OPEN HOUSE\" displays the innovative projects of all CFI clubs, many of which have bagged international and national honours, along with the works of the Competitive Teams.\n",
            "\n",
            "\n",
            "=== Extra Mural Lectures (EML) ===\n",
            "Launched in 1980, by a group of students with support from the then Director of IIT Madras, Late Prof. P.V. Indiresan, the main aim of the Extra Mural Lectures series is to expose the IIT Madras community to the ideas and experiences of eminent personalities from diverse backgrounds. Over the years, the likes of late former President of India A.P.J. Abdul Kalam, Nobel Laureate The 14th Dalai Lama, Nobel Peace Laureate Kailash Satyarthi, Chess Grandmaster Vishwanathan Anand, Filmmaker S.S. Rajamouli, Honorable Governor Shri. E.S.L. Narasimhan, Honorable Minister of Railways Shri. Suresh Prabhu, current Vice President of India Shri. M.Venkaiah Naidu, Music Composer Ilayaraja, co-founder of Infosys Shri. Kris Gopalakrishnan and Ambassador of Japan to India H.E. Mr. Kenji Hiramatsu have been hosted at IIT Madras for Extra Mural Lectures, to motivate the students and broaden their perspectives.\n",
            "\n",
            "\n",
            "=== Extracurricular activities ===\n",
            "\n",
            "The Sustainability Network (S-Net) is an alumni-student-faculty initiative launched in May 2009 to sensitise and highlight the need to preserve the unique niche of one of the best educational campus in India. S-Net was envisioned to work towards development and deployment of solutions for making a self-sustaining campus (focusing on energy/electricity, water, and waste management), which could eventually be replicated across the country through tie-ups with other educational institutions. \n",
            "The Fifth Estate is the official media body of IIT Madras and gives an insight into the happenings inside the campus and important news related to the institute.\n",
            "The Open Air Theatre hosts the weekly movie, a Saturday night tradition, besides other activities. It seats over 7,000.\n",
            "The National Service Scheme (NSS) in IIT Madras has been noted for taking up socially relevant initiatives, taken up as individual projects to create an impact on the society as well as the students. The wing of NSS at IITM has over 400 students every year, contributing to the cause of the scheme. Since its inception, NSS at IITM has achieved many milestones in its history as a unique, student-run organisation. Linked with several NGOs and social organisations both within and outside Chennai. By working out projects from Braille magazines to technology interventions, from teaching children in urban slums to educational video content, NSS (IITM) seeks to challenge the mediocre thinking, and reach out into the darkness, to pull a hand into the light.\n",
            "Hobby clubs include the speaking club, the astro club, dramatics, music and robotics.\n",
            "Student bodies such as Vivekananda Study Circle (VSC), Islamic Study Circle, IIT Christian Fellowship, Genesis and Reflections focus on spiritual discussions.\n",
            "The campus has evolved a slang, attracting a published Master's thesis at a German University. A mix of English, Hindi, Telugu (Gult), Malayalam (Mallu) and Tamil (Tam), aspects of the campus slang have been adopted by some other Chennai colleges.\n",
            "Unlike its sister institutions, IIT Madras has no single Indian language used among its students: Tamil, Telugu, Malayalam, Marathi, Kannada, English and Hindi are all very commonly used. Consequently, all student participatory activities like debating, dramatics, short-film making, and others are held in English.  This is even reflected in the slang that uses more of English and other Indian regional languages than Hindi, unlike in IIT-M's northern counterparts.\n",
            "\n",
            "\n",
            "=== IIT Madras Heritage Centre ===\n",
            " The Heritage Centre was formally inaugurated by Dr Arcot Ramachandran, former Director IIT Madras on 3 March 2006. The centre is located on the ground floor of the administration building. The actual idea of a Heritage Centre was mooted in the year 2000 and has become a reality due to the efforts of the Professor-in-charge Dr. Ajit Kumar Kolar and his team. The centre will function as a repository of material of heritage value and historical significance of various facets of the institute.\n",
            "The exhibits include photographs, documents, publications, paintings, portraits, products developed and other articles. Information regarding important events, laboratory development, visits of important dignitaries, Indo-German cooperative activities, and academic achievements of faculty and students also are included. Aspects of IITM campus features and development, campus life and student activities are also included, thus broadening the scope of the centre in the future to non-academic activities also.\n",
            "\n",
            "\n",
            "== Controversies ==\n",
            "Several members of the Hindu Munnani were arrested in November 2014 for organising a \"spitting protest\" outside the IIT-Madras after the institute played host to the ‘Kiss of Love’ campaign. The members of the group gathered and started spitting at the pictures of students kissing and hugging at the kiss of love campaign the past week. Additionally, they also hurled abuse at the students.\n",
            "\n",
            "\n",
            "== Notable alumni ==\n",
            "\n",
            "Arumugam Manthiram, director, Texas Materials Institute, Professor of Mechanical Engineering, University of Texas at Austin\n",
            "K. Mani Chandy, former chair of Engineering and Applied Science at Caltech\n",
            "B. Jayant Baliga, inventor of the insulated gate bipolar transistor (IGBT);\n",
            "Anand Rajaraman, founder of Junglee; Currently Heading Kosmix.com with Venky Harinarayan\n",
            "Anant Agarwal, professor of Electrical Engineering and Computer Science at MIT\n",
            "Arun Sundararajan, professor at Stern School of Business, New York University\n",
            "B. N. Suresh, director of IISST\n",
            "B. Muthuraman, managing Director of Tata Steel\n",
            "Bhaskar Ramamurthi, director, IIT Madras\n",
            "Gururaj Deshpande, founder of Sycamore Networks\n",
            "G. K. Ananthasuresh\n",
            "Jai Menon, IBM Fellow, CTO and VP, Technical Strategy – IBM Systems and Technology Group\n",
            "Kris Gopalakrishnan, co-chairman and co-founder of Infosys\n",
            "Krishna Bharat, creator of Google News, principal scientist, Google\n",
            "L. Mahadevan, FRS, de Valpine Professor of Applied Mathematics, Physics and Biology, Harvard University, MacArthur Fellow 2009\n",
            "Marti G. Subrahmanyam, professor of finance, Stern School of Business at New York University\n",
            "Mas Subramanian, Milton Harris Chair Professor of Materials Chemistry at Oregon State University\n",
            "Prabhakar Raghavan, vice president of Engineering, Google and Consulting Professor at Stanford University\n",
            "R. Prasanna, guitarist / Carnatic Music\n",
            "Prem Watsa, billionaire; founder, chairman, and chief executive of Fairfax Financial Holdings, which owns BlackBerry\n",
            "Vic Gundotra, senior vice president Google, creator of Google plus and MIT technology Review top innovators in world\n",
            "Ramanathan V. Guha, inventor of RSS feed technology, computer scientist at Google; won the Distinguished Alumnus award from IIT Madras in 2013\n",
            "Ramesh Govindan, Northrop Grumman Chair in Engineering and Professor of Computer Science and Electrical Engineering at the University of Southern California; won the Distinguished Alumnus award from IIT Madras in 2014\n",
            "Raghu Ramakrishnan, technical fellow and CTO, Information Services Microsoft\n",
            "Raju Narayana Swamy, IAS Officer\n",
            "Ramayya Krishnan, dean of the Heinz College at Carnegie Mellon University\n",
            "S. Sowmya, carnatic Vocalist\n",
            "Shashi Nambisan, director of the Centre for Transportation Research and Education at Iowa State University\n",
            "Sridhar Tayur, Ford Distinguished Research Chair and Professor of Operations Management at Carnegie Mellon University; founder, SmartOps and OrganJet\n",
            "Subra Suresh, former president of Carnegie Mellon University, former director of the National Science Foundation, former dean of the MIT School of Engineering\n",
            "Venkat Rangan, co-founder and CTO at Clearwell Systems\n",
            "Venkatesan Guruswami, associate professor, Department of Computer Science, Carnegie Mellon University\n",
            "Venky Harinarayan, Kosmix co-founder\n",
            "Vinay Nair, visiting professor at The Wharton School and founding principal of Ada Investments\n",
            "Hari Balakrishnan, Fujitsu Chair Professor in the EECS Department at MIT\n",
            "Narayanan Chandrakumar, chemical physicist, Shanti Swarup Bhatnagar laureate\n",
            "Jayaraman Chandrasekhar, computational chemist, Shanti Swarup Bhatnagar laureate\n",
            "Murali Sastry, nanotechnologist, Shanti Swarup Bhatnagar laureate\n",
            "Viswanathan Kumaran, chemical engineer, Shanti Swarup Bhatnagar laureate\n",
            "Atul Chokshi, materials engineer, Shanti Swarup Bhatnagar laureate\n",
            "Pinaki Majumdar, condensed matter physicist, Shanti Swarup Bhatnagar laureate\n",
            "Neelesh B. Mehta, communications engineer, Shanti Swarup Bhatnagar laureate\n",
            "Timothy A. Gonsalves, computer scientist and first Director of IIT Mandi\n",
            "Anima Anandkumar, Bren Professor of Computing at California Institute of Technology. She is a director of Machine Learning research at NVIDIA.\n",
            "\n",
            "\n",
            "== See also ==\n",
            "Education in India\n",
            "Institutes of National Importance\n",
            "List of institutions of higher education in India\n",
            "List of universities in India\n",
            "Vemuri Anjaneya Sarma\n",
            "\n",
            "\n",
            "== References ==\n",
            "\n",
            "\n",
            "== External links ==\n",
            "Official website\n"
          ]
        }
      ]
    },
    {
      "cell_type": "code",
      "metadata": {
        "id": "0GVsMkO8DNxz",
        "colab": {
          "base_uri": "https://localhost:8080/"
        },
        "outputId": "ccc47c45-fbdf-4815-8418-9ddce3809f4c"
      },
      "source": [
        "print(full_page.url)"
      ],
      "execution_count": null,
      "outputs": [
        {
          "output_type": "stream",
          "name": "stdout",
          "text": [
            "https://en.wikipedia.org/wiki/IIT_Madras\n"
          ]
        }
      ]
    },
    {
      "cell_type": "code",
      "metadata": {
        "id": "8AId7YVBDNzD",
        "colab": {
          "base_uri": "https://localhost:8080/"
        },
        "outputId": "a17ac70c-ba25-44a2-ffb7-05e87b472599"
      },
      "source": [
        "print(full_page.references)"
      ],
      "execution_count": null,
      "outputs": [
        {
          "output_type": "stream",
          "name": "stdout",
          "text": [
            "['http://www.businessweek.com/smallbiz/news/date/9811/e981130.htm', 'http://www.hindu.com/2009/02/28/stories/2009022854140500.htm', 'http://www.hindu.com/2011/03/30/stories/2011033065030700.htm', 'http://ibnlive.in.com/news/iitmadras-bids-farewell-to-ananth/170281-60-120.html', 'http://timesofindia.indiatimes.com/tech/tech-news/IIT-Madras-is-Indias-Stanford/articleshow/46629160.cms', 'http://www.shanghairanking.com/ARWU2020.html', 'http://www.thehindu.com/news/cities/chennai/a-helping-hand-to-entrepreneurship/article17856871.ece', 'http://www.thehindu.com/sci-tech/technology/iitm-computer-system-gets-fastest-tag/article3972727.ece', 'http://www.thehindubusinessline.com/news/education/esummit-at-iit-madras-starts-on-april-7/article9620678.ece', 'http://archiv.tu-chemnitz.de/pub/2006/0020/data/MAthesis_EvelynRichter.pdf', 'http://www.oeb.harvard.edu/faculty/mahadevan/mahadevan-oeb.html', 'http://www.csail.mit.edu/user/723', 'http://nms.lcs.mit.edu/~hari/', 'http://ccw.iitm.ac.in/?q=IITMHostels/hinfo', 'http://www.ecell.iitm.ac.in/e-summit/', 'http://nptel.iitm.ac.in/', 'http://nptel.iitm.ac.in/pdf/NPTEL%20Document.pdf', 'http://www.nss.iitm.ac.in/', 'http://placement.iitm.ac.in/academics.html', 'http://respark.iitm.ac.in/', 'http://t5e.iitm.ac.in/', 'http://t5e.iitm.ac.in/2009/12/the-snet-energy-survey-8th-nov/', 'http://www.iitm.ac.in/', 'http://www.iitm.ac.in', 'http://www.iitm.ac.in/The%20Institute/', 'http://www.iitm.ac.in/about', 'http://www.iitm.ac.in/aboutcampus', 'http://www.iitm.ac.in/admissiontests', 'http://www.iitm.ac.in/centraladministration', 'http://www.iitsystem.ac.in/IITcouncil/council.jsp', 'http://nptel.ac.in/course.php', 'http://www.frontline.in/static/html/fl2003/stories/20030214007506500.htm', 'http://ofb.gov.in/download/pr/pr_dgof_interview.pdf', 'http://ssbprize.gov.in/Content/Detail.aspx?AID=531', 'http://www.hri.res.in/~pinaki/', 'http://www.macfound.org/site/c.lkLXJ8MQKrH/b.5458019/k.8448/L_Mahadevan.htm', 'http://www.shaastra.org/2013/main', 'http://geohack.toolforge.org/geohack.php?pagename=IIT_Madras&params=12.99151_N_80.23362_E_', 'http://www.worldcat.org/issn/0971-751X', 'http://www.worldcat.org/issn/0971-8257', 'https://drive.google.com/file/d/0B0cmCKgXUt7ceHZ3SUEwa2s5bTg/view', 'https://timesofindia.indiatimes.com/city/chennai/Its-spit-of-anger-vs-kiss-of-love-at-IIT/articleshow/45183914.cms', 'https://timesofindia.indiatimes.com/city/chennai/iit-madras-diamond-jubilee-celebrations-assume-global-proportions-events-to-be-held-in-83-cities/articleshow/70143608.cms', 'https://academic.microsoft.com/v2/detail/24676775', 'https://www.ndtv.com/education/iit-madras-to-hold-open-house-to-showcase-student-innovations-2125282', 'https://www.tcsion.com/', 'https://www.thehindu.com/education/in-1966-she-was-iit-madras-first-woman-civil-engineering-student/article28759995.ece', 'https://www.thehindu.com/news/cities/chennai/chen-society/golden-jubilee-of-iitms-first-batch-of-graduands/article6218293.ece', 'https://www.thehindu.com/news/cities/chennai/iitm-turns-60-a-chat-with-first-batch-students/article28744533.ece', 'https://www.thehindu.com/news/national/tamil-nadu/over-8100-join-iit-madras-online-bsc-degree-course/article33295371.ece', 'https://www.thenewsminute.com/tamils/287?amp', 'https://www.timeshighereducation.com/world-university-rankings/2020/world-ranking', 'https://www.timeshighereducation.com/world-university-rankings/2020/regional-ranking', 'https://www.timeshighereducation.com/world-university-rankings/2020/emerging-economies-university-rankings', 'https://www.topuniversities.com/university-rankings/asian-university-rankings/2020', 'https://www.topuniversities.com/university-rankings/brics-rankings/2019', 'https://www.topuniversities.com/university-rankings/world-university-rankings/2020', 'https://www.youtube.com/watch?v=5485lx6wsao', 'https://aleph.nkp.cz/F/?func=find-c&local_base=aut&ccl_term=ica=ko2008435605&CON_LNG=ENG', 'https://www.projekt-mida.de/reflexicon/indo-german-entanglements-in-science-and-technology-the-indian-institute-of-technology-madras/', 'https://catalogue.bnf.fr/ark:/12148/cb12442559g', 'https://data.bnf.fr/ark:/12148/cb12442559g', 'https://www.idref.fr/033570418', 'https://id.loc.gov/authorities/names/n50063099', 'https://oir.iitm.ac.in/mou/', 'https://onlinedegree.iitm.ac.in/', 'https://onlinedegree.iitm.ac.in/admissions.html#AD2', 'https://onlinedegree.iitm.ac.in/course_pages/BSCCS1002.html', 'https://onlinedegree.iitm.ac.in/course_pages/BSCHS1001.html', 'https://onlinedegree.iitm.ac.in/course_pages/BSCMA1001.html#9003', 'https://onlinedegree.iitm.ac.in/course_pages/BSCMA1004.html', 'https://research.iitm.ac.in/department_list#:~:text=RESEARCH%20AREAS,-Cellular,%20Molecular%20and&text=Bioinformatics%20and%20Computational%20Biology;%20Biomedical,Molecular%20Genetics%20of%20Plant%20Development.', 'https://respark.iitm.ac.in/iit-madras-launches-worlds-first-ever-online-b-sc-degree-in-programming-and-data-science/', 'https://www.iitm.ac.in/happenings/press-releases-and-coverages/iit-madras-launches-cricket-hackathon-2021', 'https://www.iitm.ac.in/nirfreports/nirf2016/NIRF-Overall-FullReport.pdf', 'https://www.iitm.ac.in/sites/default/files/Others/annual-budget-2021-22.pdf', 'https://www.iitm.ac.in/the-institute/administration/academic-administration', 'https://nptel.ac.in/', 'https://www.collegesearch.in/exam/jee-advanced/article/top-10-iits-in-india-2018-29-174', 'https://www.ariia.gov.in/Ranking2019.html', 'https://eparlib.nic.in/bitstream/123456789/1530/1/lsd_02_06_02-12-1958.pdf', 'https://web.archive.org/web/20060427232338/http://www.iitm.ac.in/The%20Institute/', 'https://web.archive.org/web/20090303061238/http://www.hindu.com/2009/02/28/stories/2009022854140500.htm', 'https://web.archive.org/web/20091115092457/http://www.businessweek.com/smallbiz/news/date/9811/e981130.htm', 'https://web.archive.org/web/20100215010549/http://archiv.tu-chemnitz.de/pub/2006/0020/data/MAthesis_EvelynRichter.pdf', 'https://web.archive.org/web/20110402144523/http://www.hindu.com/2011/03/30/stories/2011033065030700.htm', 'https://web.archive.org/web/20120113170811/http://www.nptel.iitm.ac.in/', 'https://web.archive.org/web/20120227163617/http://www.oeb.harvard.edu/faculty/mahadevan/mahadevan-oeb.html', 'https://web.archive.org/web/20120623211803/http://www.nss.iitm.ac.in/', 'https://web.archive.org/web/20120904044551/http://nptel.iitm.ac.in/pdf/NPTEL%20Document.pdf', 'https://web.archive.org/web/20121017023705/http://ibnlive.in.com/news/iitmadras-bids-farewell-to-ananth/170281-60-120.html', 'https://web.archive.org/web/20130409125154/http://placement.iitm.ac.in/academics.html', 'https://web.archive.org/web/20130707013747/http://t5e.iitm.ac.in/', 'https://web.archive.org/web/20130907050154/http://www.shaastra.org/2013/main', 'https://web.archive.org/web/20140810091111/http://www.iitsystem.ac.in/IITcouncil/council.jsp', 'https://web.archive.org/web/20141103172852/http://t5e.iitm.ac.in/2009/12/the-snet-energy-survey-8th-nov/', 'https://isni.org/isni/000000012314788X', 'https://isni.org/isni/0000000123151926', 'https://www.nirfindia.org/2018/EngineeringRanking.html', 'https://www.nirfindia.org/2019/EngineeringRanking.html', 'https://www.nirfindia.org/2020/EngineeringRanking.html', 'https://www.nirfindia.org/2020/OverallRanking.html', 'https://www.nobelprize.org/prizes/chemistry/2019/goodenough/lecture/', 'https://viaf.org/viaf/168123199', 'https://www.wikidata.org/wiki/Q858662#identifiers', 'https://www.worldcat.org/identities/lccn-n50063099']\n"
          ]
        }
      ]
    },
    {
      "cell_type": "code",
      "metadata": {
        "id": "YdBGfX8ADNzR",
        "colab": {
          "base_uri": "https://localhost:8080/"
        },
        "outputId": "34933077-8d9e-4156-d684-35cce16dab01"
      },
      "source": [
        "print(full_page.title)"
      ],
      "execution_count": null,
      "outputs": [
        {
          "output_type": "stream",
          "name": "stdout",
          "text": [
            "IIT Madras\n"
          ]
        }
      ]
    },
    {
      "cell_type": "code",
      "metadata": {
        "id": "8QJUAPXXDNzh",
        "colab": {
          "base_uri": "https://localhost:8080/"
        },
        "outputId": "71f2e069-e684-4716-c92e-eea8d88732b8"
      },
      "source": [
        "print(full_page.images)"
      ],
      "execution_count": null,
      "outputs": [
        {
          "output_type": "stream",
          "name": "stdout",
          "text": [
            "['https://upload.wikimedia.org/wikipedia/commons/f/f2/Blackbuck_white.jpg', 'https://upload.wikimedia.org/wikipedia/commons/1/1b/Brahmaputra_Hostel.jpg', 'https://upload.wikimedia.org/wikipedia/commons/c/c4/Deer_of_IIT_Madras_masatran_0058_0010.jpeg', 'https://upload.wikimedia.org/wikipedia/commons/e/e4/Godavari_Hostel_Entrance.jpg', 'https://upload.wikimedia.org/wikipedia/commons/0/08/Heritage_Center1.jpg', 'https://upload.wikimedia.org/wikipedia/commons/8/85/Pfeil_links.svg', 'https://upload.wikimedia.org/wikipedia/commons/7/76/Pfeil_oben.svg', 'https://upload.wikimedia.org/wikipedia/commons/c/c5/Pfeil_rechts.svg', 'https://upload.wikimedia.org/wikipedia/commons/c/c3/Pfeil_unten.svg', 'https://upload.wikimedia.org/wikipedia/commons/7/71/Sabarmathi_hostel2.jpg', 'https://upload.wikimedia.org/wikipedia/en/4/4a/Commons-logo.svg', 'https://upload.wikimedia.org/wikipedia/en/f/f2/Edit-clear.svg', 'https://upload.wikimedia.org/wikipedia/en/4/41/Flag_of_India.svg', 'https://upload.wikimedia.org/wikipedia/en/6/69/IIT_Madras_Logo.svg', 'https://upload.wikimedia.org/wikipedia/en/8/8a/OOjs_UI_icon_edit-ltr-progressive.svg', 'https://upload.wikimedia.org/wikipedia/en/9/99/Question_book-new.svg', 'https://upload.wikimedia.org/wikipedia/en/9/96/Symbol_category_class.svg']\n"
          ]
        }
      ]
    },
    {
      "cell_type": "code",
      "metadata": {
        "id": "2Ei1I3prDN0o",
        "outputId": "04147283-384e-40fb-842d-1051f6b2f1cb"
      },
      "source": [
        "print(full_page.images[0])"
      ],
      "execution_count": null,
      "outputs": [
        {
          "output_type": "stream",
          "text": [
            "https://upload.wikimedia.org/wikipedia/commons/f/f2/Blackbuck_white.jpg\n"
          ],
          "name": "stdout"
        }
      ]
    },
    {
      "cell_type": "code",
      "metadata": {
        "id": "ovcFMuFDDN06",
        "colab": {
          "base_uri": "https://localhost:8080/",
          "height": 300
        },
        "outputId": "e6d16799-fdd9-4cc3-e47f-4e948cf6ec2e"
      },
      "source": [
        "#extract html code of wikipedia page based on any search text\n",
        "html = wk.page(\"IIT Madras\").html().encode(\"UTF-8\") \n",
        "\n",
        "import pandas as pd\n",
        "df = pd.read_html(html)[6]  \n",
        "\n",
        "df"
      ],
      "execution_count": null,
      "outputs": [
        {
          "output_type": "execute_result",
          "data": {
            "text/html": [
              "<div>\n",
              "<style scoped>\n",
              "    .dataframe tbody tr th:only-of-type {\n",
              "        vertical-align: middle;\n",
              "    }\n",
              "\n",
              "    .dataframe tbody tr th {\n",
              "        vertical-align: top;\n",
              "    }\n",
              "\n",
              "    .dataframe thead th {\n",
              "        text-align: right;\n",
              "    }\n",
              "</style>\n",
              "<table border=\"1\" class=\"dataframe\">\n",
              "  <thead>\n",
              "    <tr style=\"text-align: right;\">\n",
              "      <th></th>\n",
              "      <th>Letter Grade</th>\n",
              "      <th>Grade Points</th>\n",
              "      <th>in Words</th>\n",
              "    </tr>\n",
              "  </thead>\n",
              "  <tbody>\n",
              "    <tr>\n",
              "      <th>0</th>\n",
              "      <td>S</td>\n",
              "      <td>10</td>\n",
              "      <td>Excellent (top students/high performer)</td>\n",
              "    </tr>\n",
              "    <tr>\n",
              "      <th>1</th>\n",
              "      <td>A</td>\n",
              "      <td>9</td>\n",
              "      <td>Very Good</td>\n",
              "    </tr>\n",
              "    <tr>\n",
              "      <th>2</th>\n",
              "      <td>B</td>\n",
              "      <td>8</td>\n",
              "      <td>Good</td>\n",
              "    </tr>\n",
              "    <tr>\n",
              "      <th>3</th>\n",
              "      <td>C</td>\n",
              "      <td>7</td>\n",
              "      <td>Satisfactory Work</td>\n",
              "    </tr>\n",
              "    <tr>\n",
              "      <th>4</th>\n",
              "      <td>D</td>\n",
              "      <td>6</td>\n",
              "      <td>Below Average</td>\n",
              "    </tr>\n",
              "    <tr>\n",
              "      <th>5</th>\n",
              "      <td>E</td>\n",
              "      <td>5</td>\n",
              "      <td>Poor (but passed)</td>\n",
              "    </tr>\n",
              "    <tr>\n",
              "      <th>6</th>\n",
              "      <td>U</td>\n",
              "      <td>0</td>\n",
              "      <td>Failed</td>\n",
              "    </tr>\n",
              "    <tr>\n",
              "      <th>7</th>\n",
              "      <td>W</td>\n",
              "      <td>0</td>\n",
              "      <td>Shortage of attendance (usually below 85%)</td>\n",
              "    </tr>\n",
              "  </tbody>\n",
              "</table>\n",
              "</div>"
            ],
            "text/plain": [
              "  Letter Grade  Grade Points                                    in Words\n",
              "0            S            10     Excellent (top students/high performer)\n",
              "1            A             9                                   Very Good\n",
              "2            B             8                                        Good\n",
              "3            C             7                           Satisfactory Work\n",
              "4            D             6                               Below Average\n",
              "5            E             5                           Poor (but passed)\n",
              "6            U             0                                      Failed\n",
              "7            W             0  Shortage of attendance (usually below 85%)"
            ]
          },
          "metadata": {},
          "execution_count": 13
        }
      ]
    },
    {
      "cell_type": "code",
      "metadata": {
        "id": "EgCp6RvqDN1C"
      },
      "source": [],
      "execution_count": null,
      "outputs": []
    }
  ]
}