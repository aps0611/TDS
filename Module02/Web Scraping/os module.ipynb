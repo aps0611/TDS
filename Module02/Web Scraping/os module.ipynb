{
 "cells": [
  {
   "cell_type": "code",
   "execution_count": 1,
   "id": "14efe919",
   "metadata": {},
   "outputs": [
    {
     "data": {
      "text/plain": [
       "['CLD_CONTINUED',\n",
       " 'CLD_DUMPED',\n",
       " 'CLD_EXITED',\n",
       " 'CLD_KILLED',\n",
       " 'CLD_STOPPED',\n",
       " 'CLD_TRAPPED',\n",
       " 'DirEntry',\n",
       " 'EX_CANTCREAT',\n",
       " 'EX_CONFIG',\n",
       " 'EX_DATAERR',\n",
       " 'EX_IOERR',\n",
       " 'EX_NOHOST',\n",
       " 'EX_NOINPUT',\n",
       " 'EX_NOPERM',\n",
       " 'EX_NOUSER',\n",
       " 'EX_OK',\n",
       " 'EX_OSERR',\n",
       " 'EX_OSFILE',\n",
       " 'EX_PROTOCOL',\n",
       " 'EX_SOFTWARE',\n",
       " 'EX_TEMPFAIL',\n",
       " 'EX_UNAVAILABLE',\n",
       " 'EX_USAGE',\n",
       " 'F_LOCK',\n",
       " 'F_OK',\n",
       " 'F_TEST',\n",
       " 'F_TLOCK',\n",
       " 'F_ULOCK',\n",
       " 'GRND_NONBLOCK',\n",
       " 'GRND_RANDOM',\n",
       " 'GenericAlias',\n",
       " 'Mapping',\n",
       " 'MutableMapping',\n",
       " 'NGROUPS_MAX',\n",
       " 'O_ACCMODE',\n",
       " 'O_APPEND',\n",
       " 'O_ASYNC',\n",
       " 'O_CLOEXEC',\n",
       " 'O_CREAT',\n",
       " 'O_DIRECT',\n",
       " 'O_DIRECTORY',\n",
       " 'O_DSYNC',\n",
       " 'O_EXCL',\n",
       " 'O_LARGEFILE',\n",
       " 'O_NDELAY',\n",
       " 'O_NOATIME',\n",
       " 'O_NOCTTY',\n",
       " 'O_NOFOLLOW',\n",
       " 'O_NONBLOCK',\n",
       " 'O_PATH',\n",
       " 'O_RDONLY',\n",
       " 'O_RDWR',\n",
       " 'O_RSYNC',\n",
       " 'O_SYNC',\n",
       " 'O_TMPFILE',\n",
       " 'O_TRUNC',\n",
       " 'O_WRONLY',\n",
       " 'POSIX_FADV_DONTNEED',\n",
       " 'POSIX_FADV_NOREUSE',\n",
       " 'POSIX_FADV_NORMAL',\n",
       " 'POSIX_FADV_RANDOM',\n",
       " 'POSIX_FADV_SEQUENTIAL',\n",
       " 'POSIX_FADV_WILLNEED',\n",
       " 'POSIX_SPAWN_CLOSE',\n",
       " 'POSIX_SPAWN_DUP2',\n",
       " 'POSIX_SPAWN_OPEN',\n",
       " 'PRIO_PGRP',\n",
       " 'PRIO_PROCESS',\n",
       " 'PRIO_USER',\n",
       " 'P_ALL',\n",
       " 'P_NOWAIT',\n",
       " 'P_NOWAITO',\n",
       " 'P_PGID',\n",
       " 'P_PID',\n",
       " 'P_WAIT',\n",
       " 'PathLike',\n",
       " 'RTLD_DEEPBIND',\n",
       " 'RTLD_GLOBAL',\n",
       " 'RTLD_LAZY',\n",
       " 'RTLD_LOCAL',\n",
       " 'RTLD_NODELETE',\n",
       " 'RTLD_NOLOAD',\n",
       " 'RTLD_NOW',\n",
       " 'R_OK',\n",
       " 'SCHED_BATCH',\n",
       " 'SCHED_FIFO',\n",
       " 'SCHED_IDLE',\n",
       " 'SCHED_OTHER',\n",
       " 'SCHED_RESET_ON_FORK',\n",
       " 'SCHED_RR',\n",
       " 'SEEK_CUR',\n",
       " 'SEEK_DATA',\n",
       " 'SEEK_END',\n",
       " 'SEEK_HOLE',\n",
       " 'SEEK_SET',\n",
       " 'ST_APPEND',\n",
       " 'ST_MANDLOCK',\n",
       " 'ST_NOATIME',\n",
       " 'ST_NODEV',\n",
       " 'ST_NODIRATIME',\n",
       " 'ST_NOEXEC',\n",
       " 'ST_NOSUID',\n",
       " 'ST_RDONLY',\n",
       " 'ST_RELATIME',\n",
       " 'ST_SYNCHRONOUS',\n",
       " 'ST_WRITE',\n",
       " 'TMP_MAX',\n",
       " 'WCONTINUED',\n",
       " 'WCOREDUMP',\n",
       " 'WEXITED',\n",
       " 'WEXITSTATUS',\n",
       " 'WIFCONTINUED',\n",
       " 'WIFEXITED',\n",
       " 'WIFSIGNALED',\n",
       " 'WIFSTOPPED',\n",
       " 'WNOHANG',\n",
       " 'WNOWAIT',\n",
       " 'WSTOPPED',\n",
       " 'WSTOPSIG',\n",
       " 'WTERMSIG',\n",
       " 'WUNTRACED',\n",
       " 'W_OK',\n",
       " 'XATTR_CREATE',\n",
       " 'XATTR_REPLACE',\n",
       " 'XATTR_SIZE_MAX',\n",
       " 'X_OK',\n",
       " '_Environ',\n",
       " '__all__',\n",
       " '__builtins__',\n",
       " '__cached__',\n",
       " '__doc__',\n",
       " '__file__',\n",
       " '__loader__',\n",
       " '__name__',\n",
       " '__package__',\n",
       " '__spec__',\n",
       " '_check_methods',\n",
       " '_execvpe',\n",
       " '_exists',\n",
       " '_exit',\n",
       " '_fspath',\n",
       " '_fwalk',\n",
       " '_get_exports_list',\n",
       " '_spawnvef',\n",
       " '_walk',\n",
       " '_wrap_close',\n",
       " 'abc',\n",
       " 'abort',\n",
       " 'access',\n",
       " 'altsep',\n",
       " 'chdir',\n",
       " 'chmod',\n",
       " 'chown',\n",
       " 'chroot',\n",
       " 'close',\n",
       " 'closerange',\n",
       " 'confstr',\n",
       " 'confstr_names',\n",
       " 'cpu_count',\n",
       " 'ctermid',\n",
       " 'curdir',\n",
       " 'defpath',\n",
       " 'device_encoding',\n",
       " 'devnull',\n",
       " 'dup',\n",
       " 'dup2',\n",
       " 'environ',\n",
       " 'environb',\n",
       " 'error',\n",
       " 'execl',\n",
       " 'execle',\n",
       " 'execlp',\n",
       " 'execlpe',\n",
       " 'execv',\n",
       " 'execve',\n",
       " 'execvp',\n",
       " 'execvpe',\n",
       " 'extsep',\n",
       " 'fchdir',\n",
       " 'fchmod',\n",
       " 'fchown',\n",
       " 'fdatasync',\n",
       " 'fdopen',\n",
       " 'fork',\n",
       " 'forkpty',\n",
       " 'fpathconf',\n",
       " 'fsdecode',\n",
       " 'fsencode',\n",
       " 'fspath',\n",
       " 'fstat',\n",
       " 'fstatvfs',\n",
       " 'fsync',\n",
       " 'ftruncate',\n",
       " 'fwalk',\n",
       " 'get_blocking',\n",
       " 'get_exec_path',\n",
       " 'get_inheritable',\n",
       " 'get_terminal_size',\n",
       " 'getcwd',\n",
       " 'getcwdb',\n",
       " 'getegid',\n",
       " 'getenv',\n",
       " 'getenvb',\n",
       " 'geteuid',\n",
       " 'getgid',\n",
       " 'getgrouplist',\n",
       " 'getgroups',\n",
       " 'getloadavg',\n",
       " 'getlogin',\n",
       " 'getpgid',\n",
       " 'getpgrp',\n",
       " 'getpid',\n",
       " 'getppid',\n",
       " 'getpriority',\n",
       " 'getrandom',\n",
       " 'getresgid',\n",
       " 'getresuid',\n",
       " 'getsid',\n",
       " 'getuid',\n",
       " 'getxattr',\n",
       " 'initgroups',\n",
       " 'isatty',\n",
       " 'kill',\n",
       " 'killpg',\n",
       " 'lchown',\n",
       " 'linesep',\n",
       " 'link',\n",
       " 'listdir',\n",
       " 'listxattr',\n",
       " 'lockf',\n",
       " 'lseek',\n",
       " 'lstat',\n",
       " 'major',\n",
       " 'makedev',\n",
       " 'makedirs',\n",
       " 'minor',\n",
       " 'mkdir',\n",
       " 'mkfifo',\n",
       " 'mknod',\n",
       " 'name',\n",
       " 'nice',\n",
       " 'open',\n",
       " 'openpty',\n",
       " 'pardir',\n",
       " 'path',\n",
       " 'pathconf',\n",
       " 'pathconf_names',\n",
       " 'pathsep',\n",
       " 'pipe',\n",
       " 'pipe2',\n",
       " 'popen',\n",
       " 'posix_fadvise',\n",
       " 'posix_fallocate',\n",
       " 'posix_spawn',\n",
       " 'posix_spawnp',\n",
       " 'pread',\n",
       " 'preadv',\n",
       " 'putenv',\n",
       " 'pwrite',\n",
       " 'pwritev',\n",
       " 'read',\n",
       " 'readlink',\n",
       " 'readv',\n",
       " 'register_at_fork',\n",
       " 'remove',\n",
       " 'removedirs',\n",
       " 'removexattr',\n",
       " 'rename',\n",
       " 'renames',\n",
       " 'replace',\n",
       " 'rmdir',\n",
       " 'scandir',\n",
       " 'sched_get_priority_max',\n",
       " 'sched_get_priority_min',\n",
       " 'sched_getaffinity',\n",
       " 'sched_getparam',\n",
       " 'sched_getscheduler',\n",
       " 'sched_param',\n",
       " 'sched_rr_get_interval',\n",
       " 'sched_setaffinity',\n",
       " 'sched_setparam',\n",
       " 'sched_setscheduler',\n",
       " 'sched_yield',\n",
       " 'sendfile',\n",
       " 'sep',\n",
       " 'set_blocking',\n",
       " 'set_inheritable',\n",
       " 'setegid',\n",
       " 'seteuid',\n",
       " 'setgid',\n",
       " 'setgroups',\n",
       " 'setpgid',\n",
       " 'setpgrp',\n",
       " 'setpriority',\n",
       " 'setregid',\n",
       " 'setresgid',\n",
       " 'setresuid',\n",
       " 'setreuid',\n",
       " 'setsid',\n",
       " 'setuid',\n",
       " 'setxattr',\n",
       " 'spawnl',\n",
       " 'spawnle',\n",
       " 'spawnlp',\n",
       " 'spawnlpe',\n",
       " 'spawnv',\n",
       " 'spawnve',\n",
       " 'spawnvp',\n",
       " 'spawnvpe',\n",
       " 'st',\n",
       " 'stat',\n",
       " 'stat_result',\n",
       " 'statvfs',\n",
       " 'statvfs_result',\n",
       " 'strerror',\n",
       " 'supports_bytes_environ',\n",
       " 'supports_dir_fd',\n",
       " 'supports_effective_ids',\n",
       " 'supports_fd',\n",
       " 'supports_follow_symlinks',\n",
       " 'symlink',\n",
       " 'sync',\n",
       " 'sys',\n",
       " 'sysconf',\n",
       " 'sysconf_names',\n",
       " 'system',\n",
       " 'tcgetpgrp',\n",
       " 'tcsetpgrp',\n",
       " 'terminal_size',\n",
       " 'times',\n",
       " 'times_result',\n",
       " 'truncate',\n",
       " 'ttyname',\n",
       " 'umask',\n",
       " 'uname',\n",
       " 'uname_result',\n",
       " 'unlink',\n",
       " 'unsetenv',\n",
       " 'urandom',\n",
       " 'utime',\n",
       " 'wait',\n",
       " 'wait3',\n",
       " 'wait4',\n",
       " 'waitid',\n",
       " 'waitid_result',\n",
       " 'waitpid',\n",
       " 'waitstatus_to_exitcode',\n",
       " 'walk',\n",
       " 'write',\n",
       " 'writev']"
      ]
     },
     "execution_count": 1,
     "metadata": {},
     "output_type": "execute_result"
    }
   ],
   "source": [
    "import os             # Import the os module\n",
    "dir(os)"
   ]
  },
  {
   "cell_type": "code",
   "execution_count": 2,
   "id": "7c7abe52",
   "metadata": {},
   "outputs": [
    {
     "data": {
      "text/plain": [
       "'/home/meta-sapien/Desktop/TDS/Web Scraping'"
      ]
     },
     "execution_count": 2,
     "metadata": {},
     "output_type": "execute_result"
    }
   ],
   "source": [
    "os.getcwd()       # to get current working directory"
   ]
  },
  {
   "cell_type": "code",
   "execution_count": 3,
   "id": "b3723aa5",
   "metadata": {},
   "outputs": [],
   "source": [
    "os.chdir('/home/meta-sapien/Desktop/TDS')    # to change the current working directory"
   ]
  },
  {
   "cell_type": "code",
   "execution_count": 4,
   "id": "83fe7d13",
   "metadata": {},
   "outputs": [
    {
     "data": {
      "text/plain": [
       "'/home/meta-sapien/Desktop/TDS'"
      ]
     },
     "execution_count": 4,
     "metadata": {},
     "output_type": "execute_result"
    }
   ],
   "source": [
    "os.getcwd()"
   ]
  },
  {
   "cell_type": "code",
   "execution_count": 5,
   "id": "90c8b832",
   "metadata": {},
   "outputs": [
    {
     "data": {
      "text/plain": [
       "['movie.txt',\n",
       " 'Hen_2022.csv',\n",
       " '.ipynb_checkpoints',\n",
       " 'renameText.txt',\n",
       " 'gadm41_BLR_shp',\n",
       " 'gadm41_BLR_shp.zip',\n",
       " 'foundation certificate.pdf',\n",
       " 'Web Scraping',\n",
       " 'OSdemo']"
      ]
     },
     "execution_count": 5,
     "metadata": {},
     "output_type": "execute_result"
    }
   ],
   "source": [
    "os.listdir()"
   ]
  },
  {
   "cell_type": "code",
   "execution_count": 6,
   "id": "e2aa6b23",
   "metadata": {},
   "outputs": [
    {
     "ename": "FileExistsError",
     "evalue": "[Errno 17] File exists: 'OSdemo'",
     "output_type": "error",
     "traceback": [
      "\u001b[0;31m---------------------------------------------------------------------------\u001b[0m",
      "\u001b[0;31mFileExistsError\u001b[0m                           Traceback (most recent call last)",
      "Input \u001b[0;32mIn [6]\u001b[0m, in \u001b[0;36m<cell line: 3>\u001b[0;34m()\u001b[0m\n\u001b[1;32m      1\u001b[0m \u001b[38;5;66;03m# to create a folder in current directory\u001b[39;00m\n\u001b[0;32m----> 3\u001b[0m \u001b[43mos\u001b[49m\u001b[38;5;241;43m.\u001b[39;49m\u001b[43mmkdir\u001b[49m\u001b[43m(\u001b[49m\u001b[38;5;124;43m'\u001b[39;49m\u001b[38;5;124;43mOSdemo\u001b[39;49m\u001b[38;5;124;43m'\u001b[39;49m\u001b[43m)\u001b[49m\n\u001b[1;32m      4\u001b[0m os\u001b[38;5;241m.\u001b[39mlistdir()\n",
      "\u001b[0;31mFileExistsError\u001b[0m: [Errno 17] File exists: 'OSdemo'"
     ]
    }
   ],
   "source": [
    "# to create a folder in current directory\n",
    "\n",
    "os.mkdir('OSdemo')\n",
    "os.listdir()"
   ]
  },
  {
   "cell_type": "code",
   "execution_count": null,
   "id": "c31b7aba",
   "metadata": {},
   "outputs": [],
   "source": [
    "# for creating subdirectory within the directory:\n",
    "\n",
    "os.makedirs('OSdemo/demo2/demo3')       #(use this)"
   ]
  },
  {
   "cell_type": "code",
   "execution_count": null,
   "id": "c4770714",
   "metadata": {},
   "outputs": [],
   "source": [
    "os.listdir()"
   ]
  },
  {
   "cell_type": "code",
   "execution_count": null,
   "id": "47856af8",
   "metadata": {},
   "outputs": [],
   "source": [
    "# to remove the directory/ folder:\n",
    "\n",
    "os.rmdir('OSdemo')    # will not remove intermediate directory   (use this)\n",
    "os.removedir('OSdemo')        # will remove the intermediate directory as well"
   ]
  },
  {
   "cell_type": "code",
   "execution_count": 7,
   "id": "9d187c3c",
   "metadata": {},
   "outputs": [
    {
     "ename": "FileNotFoundError",
     "evalue": "[Errno 2] No such file or directory: 'test.txt' -> 'renameText.txt'",
     "output_type": "error",
     "traceback": [
      "\u001b[0;31m---------------------------------------------------------------------------\u001b[0m",
      "\u001b[0;31mFileNotFoundError\u001b[0m                         Traceback (most recent call last)",
      "Input \u001b[0;32mIn [7]\u001b[0m, in \u001b[0;36m<cell line: 3>\u001b[0;34m()\u001b[0m\n\u001b[1;32m      1\u001b[0m \u001b[38;5;66;03m# rename the file:\u001b[39;00m\n\u001b[0;32m----> 3\u001b[0m \u001b[43mos\u001b[49m\u001b[38;5;241;43m.\u001b[39;49m\u001b[43mrename\u001b[49m\u001b[43m(\u001b[49m\u001b[38;5;124;43m'\u001b[39;49m\u001b[38;5;124;43mtest.txt\u001b[39;49m\u001b[38;5;124;43m'\u001b[39;49m\u001b[43m,\u001b[49m\u001b[38;5;124;43m'\u001b[39;49m\u001b[38;5;124;43mrenameText.txt\u001b[39;49m\u001b[38;5;124;43m'\u001b[39;49m\u001b[43m)\u001b[49m\n",
      "\u001b[0;31mFileNotFoundError\u001b[0m: [Errno 2] No such file or directory: 'test.txt' -> 'renameText.txt'"
     ]
    }
   ],
   "source": [
    "# rename the file:\n",
    "\n",
    "os.rename('test.txt','renameText.txt')"
   ]
  },
  {
   "cell_type": "code",
   "execution_count": 8,
   "id": "889efc1e",
   "metadata": {},
   "outputs": [
    {
     "data": {
      "text/plain": [
       "['movie.txt',\n",
       " 'Hen_2022.csv',\n",
       " '.ipynb_checkpoints',\n",
       " 'renameText.txt',\n",
       " 'gadm41_BLR_shp',\n",
       " 'gadm41_BLR_shp.zip',\n",
       " 'foundation certificate.pdf',\n",
       " 'Web Scraping',\n",
       " 'OSdemo']"
      ]
     },
     "execution_count": 8,
     "metadata": {},
     "output_type": "execute_result"
    }
   ],
   "source": [
    "os.listdir()"
   ]
  },
  {
   "cell_type": "code",
   "execution_count": 9,
   "id": "18116832",
   "metadata": {},
   "outputs": [
    {
     "data": {
      "text/plain": [
       "os.stat_result(st_mode=33204, st_ino=7348435, st_dev=2057, st_nlink=1, st_uid=1000, st_gid=1000, st_size=146, st_atime=1663067698, st_mtime=1663067698, st_ctime=1663067698)"
      ]
     },
     "execution_count": 9,
     "metadata": {},
     "output_type": "execute_result"
    }
   ],
   "source": [
    "os.stat('movie.txt')   # checking the properties of the file"
   ]
  },
  {
   "cell_type": "code",
   "execution_count": 10,
   "id": "f7be9da7",
   "metadata": {},
   "outputs": [
    {
     "data": {
      "text/plain": [
       "146"
      ]
     },
     "execution_count": 10,
     "metadata": {},
     "output_type": "execute_result"
    }
   ],
   "source": [
    "os.stat('movie.txt').st_size   # size of file in bytes"
   ]
  },
  {
   "cell_type": "code",
   "execution_count": 11,
   "id": "09239f18",
   "metadata": {},
   "outputs": [
    {
     "data": {
      "text/plain": [
       "1663067698.8976202"
      ]
     },
     "execution_count": 11,
     "metadata": {},
     "output_type": "execute_result"
    }
   ],
   "source": [
    "os.stat('movie.txt').st_mtime # last modification time"
   ]
  },
  {
   "cell_type": "code",
   "execution_count": 12,
   "id": "5d18fccd",
   "metadata": {},
   "outputs": [
    {
     "data": {
      "text/plain": [
       "datetime.datetime(2022, 9, 13, 16, 44, 58, 897620)"
      ]
     },
     "execution_count": 12,
     "metadata": {},
     "output_type": "execute_result"
    }
   ],
   "source": [
    "# Datetime: \n",
    "from datetime import datetime\n",
    "\n",
    "mod_time = os.stat('movie.txt').st_mtime\n",
    "datetime.fromtimestamp(mod_time)  #prints human readable format of timestamp"
   ]
  },
  {
   "cell_type": "code",
   "execution_count": 15,
   "id": "b5aaa8b5",
   "metadata": {},
   "outputs": [
    {
     "name": "stdout",
     "output_type": "stream",
     "text": [
      "Current Path: /home/meta-sapien/Desktop/TDS\n",
      "Directories ['.ipynb_checkpoints', 'gadm41_BLR_shp', 'Web Scraping', 'OSdemo']\n",
      "Files: ['movie.txt', 'Hen_2022.csv', 'renameText.txt', 'gadm41_BLR_shp.zip', 'foundation certificate.pdf']\n",
      "Current Path: /home/meta-sapien/Desktop/TDS/.ipynb_checkpoints\n",
      "Directories []\n",
      "Files: []\n",
      "Current Path: /home/meta-sapien/Desktop/TDS/gadm41_BLR_shp\n",
      "Directories []\n",
      "Files: ['gadm41_BLR_1.shp', 'gadm41_BLR_1.dbf', 'gadm41_BLR_0.dbf', 'gadm41_BLR_2.shx', 'gadm41_BLR_0.prj', 'gadm41_BLR_2.dbf', 'gadm41_BLR_2.cpg', 'gadm41_BLR_2.prj', 'gadm41_BLR_0.shp', 'gadm41_BLR_1.cpg', 'gadm41_BLR_0.cpg', 'gadm41_BLR_1.shx', 'gadm41_BLR_1.prj', 'gadm41_BLR_0.shx', 'gadm41_BLR_2.shp']\n",
      "Current Path: /home/meta-sapien/Desktop/TDS/Web Scraping\n",
      "Directories ['.ipynb_checkpoints']\n",
      "Files: ['Web Scraping BBC Weather data.ipynb', 'urlib.ipynb', 'Json Basics.ipynb', 'os module.ipynb']\n",
      "Current Path: /home/meta-sapien/Desktop/TDS/Web Scraping/.ipynb_checkpoints\n",
      "Directories []\n",
      "Files: ['os module-checkpoint.ipynb', 'urlib-checkpoint.ipynb', 'Json Basics-checkpoint.ipynb']\n",
      "Current Path: /home/meta-sapien/Desktop/TDS/OSdemo\n",
      "Directories ['demo2']\n",
      "Files: []\n",
      "Current Path: /home/meta-sapien/Desktop/TDS/OSdemo/demo2\n",
      "Directories ['demo3']\n",
      "Files: []\n",
      "Current Path: /home/meta-sapien/Desktop/TDS/OSdemo/demo2/demo3\n",
      "Directories []\n",
      "Files: []\n"
     ]
    }
   ],
   "source": [
    "# to see entire directory tree and files within the desktop:\n",
    "# yields 3 value tuple\n",
    "for dirpath, dirnames, filenames in os.walk('/home/meta-sapien/Desktop/TDS'):\n",
    "    print(\"Current Path:\", dirpath)\n",
    "    print(\"Directories\", dirnames)\n",
    "    print(\"Files:\",filenames)\n"
   ]
  },
  {
   "cell_type": "code",
   "execution_count": 16,
   "id": "1fa6a6ed",
   "metadata": {},
   "outputs": [
    {
     "data": {
      "text/plain": [
       "'/home/meta-sapien'"
      ]
     },
     "execution_count": 16,
     "metadata": {},
     "output_type": "execute_result"
    }
   ],
   "source": [
    "os.environ.get('HOME')"
   ]
  },
  {
   "cell_type": "code",
   "execution_count": 18,
   "id": "1d224d56",
   "metadata": {},
   "outputs": [
    {
     "name": "stdout",
     "output_type": "stream",
     "text": [
      "/home/meta-sapientest.txt\n"
     ]
    }
   ],
   "source": [
    "#Creating filepath\n",
    "\n",
    "filepath = os.environ.get('HOME') + 'test.txt'\n",
    "print(filepath)\n",
    "\n",
    "# we missed the slash"
   ]
  },
  {
   "cell_type": "code",
   "execution_count": 20,
   "id": "4658a34e",
   "metadata": {},
   "outputs": [
    {
     "data": {
      "text/plain": [
       "'/home/meta-sapien/test.txt'"
      ]
     },
     "execution_count": 20,
     "metadata": {},
     "output_type": "execute_result"
    }
   ],
   "source": [
    "filepath = os.path.join(os.environ.get('HOME') , 'test.txt')\n",
    "filepath"
   ]
  },
  {
   "cell_type": "code",
   "execution_count": 21,
   "id": "d660a102",
   "metadata": {},
   "outputs": [
    {
     "data": {
      "text/plain": [
       "'test.txt'"
      ]
     },
     "execution_count": 21,
     "metadata": {},
     "output_type": "execute_result"
    }
   ],
   "source": [
    "os.path.basename('/tmp/test.txt')"
   ]
  },
  {
   "cell_type": "code",
   "execution_count": 22,
   "id": "259cdd1d",
   "metadata": {},
   "outputs": [
    {
     "data": {
      "text/plain": [
       "'/tmp'"
      ]
     },
     "execution_count": 22,
     "metadata": {},
     "output_type": "execute_result"
    }
   ],
   "source": [
    "os.path.dirname('/tmp/test.txt')"
   ]
  },
  {
   "cell_type": "code",
   "execution_count": 23,
   "id": "7bb1b0c0",
   "metadata": {},
   "outputs": [
    {
     "data": {
      "text/plain": [
       "('/tmp', 'test.txt')"
      ]
     },
     "execution_count": 23,
     "metadata": {},
     "output_type": "execute_result"
    }
   ],
   "source": [
    "os.path.split('/tmp/test.txt')"
   ]
  },
  {
   "cell_type": "code",
   "execution_count": 24,
   "id": "393463e4",
   "metadata": {},
   "outputs": [
    {
     "data": {
      "text/plain": [
       "False"
      ]
     },
     "execution_count": 24,
     "metadata": {},
     "output_type": "execute_result"
    }
   ],
   "source": [
    "os.path.exists('/tmp/test.txt')"
   ]
  },
  {
   "cell_type": "code",
   "execution_count": null,
   "id": "4f6d30d2",
   "metadata": {},
   "outputs": [],
   "source": []
  }
 ],
 "metadata": {
  "kernelspec": {
   "display_name": "Python 3 (ipykernel)",
   "language": "python",
   "name": "python3"
  },
  "language_info": {
   "codemirror_mode": {
    "name": "ipython",
    "version": 3
   },
   "file_extension": ".py",
   "mimetype": "text/x-python",
   "name": "python",
   "nbconvert_exporter": "python",
   "pygments_lexer": "ipython3",
   "version": "3.9.12"
  }
 },
 "nbformat": 4,
 "nbformat_minor": 5
}
