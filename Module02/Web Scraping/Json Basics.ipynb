{
 "cells": [
  {
   "cell_type": "markdown",
   "metadata": {
    "cell_id": "bfbc66fb6b8845e3962cd26576266758",
    "deepnote_cell_type": "text-cell-p",
    "formattedRanges": [
     {
      "fromCodePoint": 0,
      "marks": {
       "bold": true
      },
      "toCodePoint": 4,
      "type": "marks"
     },
     {
      "fromCodePoint": 5,
      "marks": {
       "bold": true
      },
      "toCodePoint": 14,
      "type": "marks"
     }
    ],
    "is_collapsed": false,
    "tags": []
   },
   "source": [
    "JSON in Python: JavaScript Object Notation: Lightweight data interchange form"
   ]
  },
  {
   "cell_type": "markdown",
   "metadata": {
    "cell_id": "7e6584570a3241b6acce8261557c2d3a",
    "deepnote_cell_type": "text-cell-p",
    "formattedRanges": [],
    "is_collapsed": false,
    "tags": []
   },
   "source": [
    "Example of data formatted as JSON:"
   ]
  },
  {
   "cell_type": "markdown",
   "metadata": {
    "cell_id": "89ba201b-71b7-46cc-8670-3f5e2dadf6ad",
    "deepnote_cell_type": "text-cell-p",
    "formattedRanges": [
     {
      "fromCodePoint": 0,
      "marks": {
       "code": true
      },
      "toCodePoint": 81,
      "type": "marks"
     }
    ],
    "is_collapsed": false,
    "tags": []
   },
   "source": [
    "{\"name\":\"Akshay\", \"isHuman\":true, \"Species\":\"Homosapiens\",\"Gender\":\"M\",\"IQ\":null}"
   ]
  },
  {
   "cell_type": "markdown",
   "metadata": {
    "cell_id": "0d2f6e49-c13c-4f47-8fe2-2ad6b76b90bd",
    "deepnote_cell_type": "text-cell-p",
    "formattedRanges": [],
    "is_collapsed": false,
    "tags": []
   },
   "source": [
    "Many websites offer JSON as a way for programs to interact with the website. This is known as Application Programming Interface: API. Accessing an API is the same as accessing any other web page via a URL. The difference is that the data returned by API is formatted for machines and API isn't easy for people to read. "
   ]
  },
  {
   "cell_type": "markdown",
   "metadata": {
    "cell_id": "c7f52202-c118-468e-ab30-f4864f307a09",
    "deepnote_cell_type": "text-cell-p",
    "formattedRanges": [],
    "is_collapsed": false,
    "tags": []
   },
   "source": [
    "look for documentation to see the API that sites provide."
   ]
  },
  {
   "cell_type": "markdown",
   "metadata": {
    "cell_id": "79dd7317ea194c03b6c5eaeb6548764a",
    "deepnote_cell_type": "text-cell-h3",
    "formattedRanges": [],
    "is_collapsed": false,
    "tags": []
   },
   "source": [
    "### Import the Json Module"
   ]
  },
  {
   "cell_type": "code",
   "execution_count": 1,
   "metadata": {
    "cell_id": "c9aacf53d2ba4b229a624f173e54c603",
    "deepnote_cell_type": "code",
    "deepnote_to_be_reexecuted": false,
    "execution_millis": 589,
    "execution_start": 1663067223723,
    "source_hash": "3b597e56",
    "tags": []
   },
   "outputs": [
    {
     "data": {
      "text/plain": [
       "['JSONDecodeError',\n",
       " 'JSONDecoder',\n",
       " 'JSONEncoder',\n",
       " '__all__',\n",
       " '__author__',\n",
       " '__builtins__',\n",
       " '__cached__',\n",
       " '__doc__',\n",
       " '__file__',\n",
       " '__loader__',\n",
       " '__name__',\n",
       " '__package__',\n",
       " '__path__',\n",
       " '__spec__',\n",
       " '__version__',\n",
       " '_default_decoder',\n",
       " '_default_encoder',\n",
       " 'codecs',\n",
       " 'decoder',\n",
       " 'detect_encoding',\n",
       " 'dump',\n",
       " 'dumps',\n",
       " 'encoder',\n",
       " 'load',\n",
       " 'loads',\n",
       " 'scanner']"
      ]
     },
     "execution_count": 1,
     "metadata": {},
     "output_type": "execute_result"
    }
   ],
   "source": [
    "import json\n",
    "dir(json)                      # look at the methods in the module"
   ]
  },
  {
   "cell_type": "markdown",
   "metadata": {
    "cell_id": "4edf08e0f54d4d1bad34ccd9a5674932",
    "deepnote_cell_type": "text-cell-h3",
    "formattedRanges": [],
    "is_collapsed": false,
    "tags": []
   },
   "source": [
    "### Reading json with `loads()` function"
   ]
  },
  {
   "cell_type": "markdown",
   "metadata": {},
   "source": [
    "`data = json.loads()`"
   ]
  },
  {
   "cell_type": "code",
   "execution_count": 2,
   "metadata": {
    "cell_id": "726431af3b62485b86c9f9a8fd88436d",
    "deepnote_cell_type": "code",
    "deepnote_to_be_reexecuted": false,
    "execution_millis": 588,
    "execution_start": 1663067223724,
    "source_hash": "bb9ab998",
    "tags": []
   },
   "outputs": [
    {
     "data": {
      "text/plain": [
       "{'name': 'Akshay',\n",
       " 'isHuman': True,\n",
       " 'Species': 'Homosapiens',\n",
       " 'Gender': 'M',\n",
       " 'IQ': None}"
      ]
     },
     "execution_count": 2,
     "metadata": {},
     "output_type": "execute_result"
    }
   ],
   "source": [
    "stringOfJsonData = '{\"name\":\"Akshay\", \"isHuman\":true, \"Species\":\"Homosapiens\",\"Gender\":\"M\",\"IQ\":null}'\n",
    "jsonDataAsPythonValue = json.loads(stringOfJsonData)\n",
    "jsonDataAsPythonValue\n",
    "\n",
    "# check that the null value got converted into None"
   ]
  },
  {
   "cell_type": "markdown",
   "metadata": {
    "cell_id": "052b1a44764c4d39bb4790c64dfe5ccf",
    "deepnote_cell_type": "text-cell-p",
    "formattedRanges": [],
    "is_collapsed": false,
    "tags": []
   },
   "source": [
    "# NOTE: JSON strings always use double quotes"
   ]
  },
  {
   "cell_type": "markdown",
   "metadata": {
    "cell_id": "cbbb0ae77cfe42f9aa2b513d7efad14b",
    "deepnote_cell_type": "text-cell-h3",
    "formattedRanges": [],
    "is_collapsed": false,
    "tags": []
   },
   "source": [
    "### Writing json with `json.dumps()` function"
   ]
  },
  {
   "cell_type": "code",
   "execution_count": 4,
   "metadata": {
    "cell_id": "66788b1528364598860e0059e0e59ce6",
    "deepnote_cell_type": "code",
    "deepnote_to_be_reexecuted": false,
    "execution_millis": 589,
    "execution_start": 1663067223725,
    "source_hash": "3bff363d",
    "tags": []
   },
   "outputs": [
    {
     "data": {
      "text/plain": [
       "'{\"name\": \"Akshay\", \"isHuman\": true, \"Species\": \"Homosapiens\", \"Gender\": \"M\", \"IQ\": null}'"
      ]
     },
     "execution_count": 4,
     "metadata": {},
     "output_type": "execute_result"
    }
   ],
   "source": [
    "pythondict = {'name': 'Akshay',\n",
    " 'isHuman': True,\n",
    " 'Species': 'Homosapiens',\n",
    " 'Gender': 'M',\n",
    " 'IQ': None}\n",
    "\n",
    "import json\n",
    "stringOfJSON = json.dumps(pythondict)\n",
    "stringOfJSON"
   ]
  },
  {
   "cell_type": "markdown",
   "metadata": {
    "cell_id": "9ff4552465f04e74ba16d68e7fc912da",
    "deepnote_cell_type": "text-cell-h3",
    "formattedRanges": [],
    "is_collapsed": false,
    "tags": []
   },
   "source": [
    "### Writing"
   ]
  },
  {
   "cell_type": "code",
   "execution_count": 3,
   "metadata": {
    "cell_id": "566ff7aacbf342bdbb7479f22e1c927d",
    "deepnote_cell_type": "code",
    "deepnote_to_be_reexecuted": false,
    "execution_millis": 3,
    "execution_start": 1663067223728,
    "source_hash": "5d8dd470",
    "tags": []
   },
   "outputs": [],
   "source": [
    "import json\n",
    "movie = {}\n",
    "movie['title'] = 'Minority Report'\n",
    "movie['director'] = \"Steven Speilberg\"\n",
    "movie['composer'] = \"John Williams\"\n",
    "movie['actors'] = \"Tom Cruise, Collin Ferrel\"\n",
    "movie['isAwsome'] = True\n",
    "\n",
    "file2 = open(\"movie.txt\",'w',encoding = \"utf-8\")\n",
    "json.dump(movie, file2, ensure_ascii=False)\n",
    "file2.close()"
   ]
  },
  {
   "cell_type": "markdown",
   "metadata": {
    "cell_id": "14309d3cfb5b4bbdb23bfc1217d51313",
    "deepnote_cell_type": "text-cell-h3",
    "formattedRanges": [],
    "is_collapsed": false,
    "tags": []
   },
   "source": [
    "### Reading json data from file:"
   ]
  },
  {
   "cell_type": "markdown",
   "metadata": {},
   "source": [
    "`load` method loads the file and `loads` loads string"
   ]
  },
  {
   "cell_type": "code",
   "execution_count": 8,
   "metadata": {
    "cell_id": "ccc5d5daa2494f4987cb32689b9f5b5a",
    "deepnote_cell_type": "code",
    "deepnote_to_be_reexecuted": false,
    "execution_millis": 596,
    "execution_start": 1663067223733,
    "source_hash": "500f76e4",
    "tags": []
   },
   "outputs": [],
   "source": [
    "import json\n",
    "json_file = open('C:\\\\Users\\\\HP-PC\\\\Desktop\\\\TDS\\\\Module02\\\\Web Scraping\\\\movie.txt','r',encoding = 'utf-8')\n",
    "intro = json.load(json_file) # here we are using load and not loads as loads needs string as format input\n",
    "json_file.close()"
   ]
  },
  {
   "cell_type": "code",
   "execution_count": 9,
   "metadata": {
    "created_in_deepnote_cell": true,
    "deepnote_cell_type": "markdown",
    "tags": []
   },
   "outputs": [
    {
     "name": "stdout",
     "output_type": "stream",
     "text": [
      "{'title': 'Minority Report', 'director': 'Steven Speilberg', 'composer': 'John Williams', 'actors': 'Tom Cruise, Collin Ferrel', 'isAwsome': True}\n"
     ]
    }
   ],
   "source": [
    "print(intro)"
   ]
  },
  {
   "cell_type": "code",
   "execution_count": 16,
   "metadata": {},
   "outputs": [
    {
     "name": "stdout",
     "output_type": "stream",
     "text": [
      "Alabama AL\n",
      "Alaska AK\n",
      "American Samoa AS\n",
      "Arizona AZ\n",
      "Arkansas AR\n",
      "California CA\n",
      "Colorado CO\n",
      "Connecticut CT\n",
      "Delaware DE\n",
      "District Of Columbia DC\n",
      "Federated States Of Micronesia FM\n",
      "Florida FL\n",
      "Georgia GA\n",
      "Guam GU\n",
      "Hawaii HI\n",
      "Idaho ID\n",
      "Illinois IL\n",
      "Indiana IN\n",
      "Iowa IA\n",
      "Kansas KS\n",
      "Kentucky KY\n",
      "Louisiana LA\n",
      "Maine ME\n",
      "Marshall Islands MH\n",
      "Maryland MD\n",
      "Massachusetts MA\n",
      "Michigan MI\n",
      "Minnesota MN\n",
      "Mississippi MS\n",
      "Missouri MO\n",
      "Montana MT\n",
      "Nebraska NE\n",
      "Nevada NV\n",
      "New Hampshire NH\n",
      "New Jersey NJ\n",
      "New Mexico NM\n",
      "New York NY\n",
      "North Carolina NC\n",
      "North Dakota ND\n",
      "Northern Mariana Islands MP\n",
      "Ohio OH\n",
      "Oklahoma OK\n",
      "Oregon OR\n",
      "Palau PW\n",
      "Pennsylvania PA\n",
      "Puerto Rico PR\n",
      "Rhode Island RI\n",
      "South Carolina SC\n",
      "South Dakota SD\n",
      "Tennessee TN\n",
      "Texas TX\n",
      "Utah UT\n",
      "Vermont VT\n",
      "Virgin Islands VI\n",
      "Virginia VA\n",
      "Washington WA\n",
      "West Virginia WV\n",
      "Wisconsin WI\n",
      "Wyoming WY\n"
     ]
    }
   ],
   "source": [
    "# Another example:\n",
    "with open('C:\\\\Users\\\\HP-PC\\\\Desktop\\\\TDS\\\\Module02\\\\Web Scraping\\\\states_titlecase.json') as f:\n",
    "    data = json.load(f)\n",
    "\n",
    "for state in data:\n",
    "    print(state['name'],state['abbreviation'])"
   ]
  },
  {
   "cell_type": "markdown",
   "metadata": {},
   "source": [
    "### Formating the JSON Data:"
   ]
  },
  {
   "cell_type": "markdown",
   "metadata": {},
   "source": [
    "pass argument : `indent = _` and `sort_keys` help sorting keys"
   ]
  },
  {
   "cell_type": "code",
   "execution_count": 13,
   "metadata": {},
   "outputs": [
    {
     "name": "stdout",
     "output_type": "stream",
     "text": [
      "{\n",
      "  \"Gender\": \"M\",\n",
      "  \"IQ\": null,\n",
      "  \"Species\": \"Homosapiens\",\n",
      "  \"isHuman\": true,\n",
      "  \"name\": \"Akshay\"\n",
      "}\n"
     ]
    }
   ],
   "source": [
    "pythondict = {'name': 'Akshay',\n",
    " 'isHuman': True,\n",
    " 'Species': 'Homosapiens',\n",
    " 'Gender': 'M',\n",
    " 'IQ': None}\n",
    "\n",
    "stringOfJSON = json.dumps(pythondict, indent = 2, sort_keys = True)\n",
    "print(stringOfJSON)\n",
    "# Easy to read"
   ]
  },
  {
   "cell_type": "markdown",
   "metadata": {},
   "source": [
    "### Real World Example:"
   ]
  },
  {
   "cell_type": "markdown",
   "metadata": {},
   "source": []
  },
  {
   "cell_type": "code",
   "execution_count": 22,
   "metadata": {},
   "outputs": [],
   "source": [
    "# Please check if its legal to scrape data from sites"
   ]
  },
  {
   "cell_type": "code",
   "execution_count": null,
   "metadata": {},
   "outputs": [],
   "source": []
  }
 ],
 "metadata": {
  "deepnote": {},
  "deepnote_execution_queue": [],
  "deepnote_notebook_id": "63e0fc0c258e4f329124375f5c92a813",
  "kernelspec": {
   "display_name": "Python 3 (ipykernel)",
   "language": "python",
   "name": "python3"
  },
  "language_info": {
   "codemirror_mode": {
    "name": "ipython",
    "version": 3
   },
   "file_extension": ".py",
   "mimetype": "text/x-python",
   "name": "python",
   "nbconvert_exporter": "python",
   "pygments_lexer": "ipython3",
   "version": "3.9.7"
  }
 },
 "nbformat": 4,
 "nbformat_minor": 1
}
