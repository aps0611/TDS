{
 "cells": [
  {
   "cell_type": "markdown",
   "metadata": {
    "cell_id": "ca397a1685934c32a5eb3286fa7af833",
    "deepnote_cell_type": "text-cell-p",
    "formattedRanges": [],
    "is_collapsed": false,
    "tags": []
   },
   "source": [
    "# python3 comes equipped with package that simplifies the tasks of building, loading and parsing the url."
   ]
  },
  {
   "cell_type": "markdown",
   "metadata": {
    "cell_id": "37d37efef3ab42b88e7affa33b03d84a",
    "deepnote_cell_type": "text-cell-h1",
    "formattedRanges": [],
    "is_collapsed": false,
    "tags": []
   },
   "source": [
    "# urllib"
   ]
  },
  {
   "cell_type": "code",
   "execution_count": 2,
   "metadata": {
    "cell_id": "f8918d981c56431b96744ade895c4522",
    "deepnote_cell_type": "code",
    "deepnote_to_be_reexecuted": false,
    "execution_millis": 250691893,
    "execution_start": 1663067796973,
    "source_hash": "f4ee9d09",
    "tags": []
   },
   "outputs": [],
   "source": [
    "import urllib\n",
    "from urllib import request"
   ]
  },
  {
   "cell_type": "code",
   "execution_count": 3,
   "metadata": {
    "cell_id": "04ef84792aca4582be2c0ee8ca25055b",
    "deepnote_cell_type": "code",
    "deepnote_to_be_reexecuted": false,
    "execution_millis": 250691260,
    "execution_start": 1663067796974,
    "source_hash": "3cbea66d",
    "tags": []
   },
   "outputs": [
    {
     "data": {
      "text/plain": [
       "['__builtins__',\n",
       " '__cached__',\n",
       " '__doc__',\n",
       " '__file__',\n",
       " '__loader__',\n",
       " '__name__',\n",
       " '__package__',\n",
       " '__path__',\n",
       " '__spec__',\n",
       " 'error',\n",
       " 'parse',\n",
       " 'request',\n",
       " 'response']"
      ]
     },
     "execution_count": 3,
     "metadata": {},
     "output_type": "execute_result"
    }
   ],
   "source": [
    "dir(urllib)"
   ]
  },
  {
   "cell_type": "code",
   "execution_count": 4,
   "metadata": {
    "cell_id": "cd41837a82ae4a12add752da90e487b1",
    "deepnote_cell_type": "code",
    "deepnote_to_be_reexecuted": false,
    "execution_millis": 27,
    "execution_start": 1663067796975,
    "source_hash": "f06bd848",
    "tags": []
   },
   "outputs": [
    {
     "data": {
      "text/plain": [
       "['AbstractBasicAuthHandler',\n",
       " 'AbstractDigestAuthHandler',\n",
       " 'AbstractHTTPHandler',\n",
       " 'BaseHandler',\n",
       " 'CacheFTPHandler',\n",
       " 'ContentTooShortError',\n",
       " 'DataHandler',\n",
       " 'FTPHandler',\n",
       " 'FancyURLopener',\n",
       " 'FileHandler',\n",
       " 'HTTPBasicAuthHandler',\n",
       " 'HTTPCookieProcessor',\n",
       " 'HTTPDefaultErrorHandler',\n",
       " 'HTTPDigestAuthHandler',\n",
       " 'HTTPError',\n",
       " 'HTTPErrorProcessor',\n",
       " 'HTTPHandler',\n",
       " 'HTTPPasswordMgr',\n",
       " 'HTTPPasswordMgrWithDefaultRealm',\n",
       " 'HTTPPasswordMgrWithPriorAuth',\n",
       " 'HTTPRedirectHandler',\n",
       " 'HTTPSHandler',\n",
       " 'MAXFTPCACHE',\n",
       " 'OpenerDirector',\n",
       " 'ProxyBasicAuthHandler',\n",
       " 'ProxyDigestAuthHandler',\n",
       " 'ProxyHandler',\n",
       " 'Request',\n",
       " 'URLError',\n",
       " 'URLopener',\n",
       " 'UnknownHandler',\n",
       " '__all__',\n",
       " '__builtins__',\n",
       " '__cached__',\n",
       " '__doc__',\n",
       " '__file__',\n",
       " '__loader__',\n",
       " '__name__',\n",
       " '__package__',\n",
       " '__spec__',\n",
       " '__version__',\n",
       " '_cut_port_re',\n",
       " '_ftperrors',\n",
       " '_have_ssl',\n",
       " '_localhost',\n",
       " '_noheaders',\n",
       " '_opener',\n",
       " '_parse_proxy',\n",
       " '_proxy_bypass_macosx_sysconf',\n",
       " '_randombytes',\n",
       " '_safe_gethostbyname',\n",
       " '_splitattr',\n",
       " '_splithost',\n",
       " '_splitpasswd',\n",
       " '_splitport',\n",
       " '_splitquery',\n",
       " '_splittag',\n",
       " '_splittype',\n",
       " '_splituser',\n",
       " '_splitvalue',\n",
       " '_thishost',\n",
       " '_to_bytes',\n",
       " '_url_tempfiles',\n",
       " 'addclosehook',\n",
       " 'addinfourl',\n",
       " 'base64',\n",
       " 'bisect',\n",
       " 'build_opener',\n",
       " 'contextlib',\n",
       " 'email',\n",
       " 'ftpcache',\n",
       " 'ftperrors',\n",
       " 'ftpwrapper',\n",
       " 'getproxies',\n",
       " 'getproxies_environment',\n",
       " 'hashlib',\n",
       " 'http',\n",
       " 'install_opener',\n",
       " 'io',\n",
       " 'localhost',\n",
       " 'noheaders',\n",
       " 'os',\n",
       " 'parse_http_list',\n",
       " 'parse_keqv_list',\n",
       " 'pathname2url',\n",
       " 'posixpath',\n",
       " 'proxy_bypass',\n",
       " 'proxy_bypass_environment',\n",
       " 'quote',\n",
       " 're',\n",
       " 'request_host',\n",
       " 'socket',\n",
       " 'ssl',\n",
       " 'string',\n",
       " 'sys',\n",
       " 'tempfile',\n",
       " 'thishost',\n",
       " 'time',\n",
       " 'unquote',\n",
       " 'unquote_to_bytes',\n",
       " 'unwrap',\n",
       " 'url2pathname',\n",
       " 'urlcleanup',\n",
       " 'urljoin',\n",
       " 'urlopen',\n",
       " 'urlparse',\n",
       " 'urlretrieve',\n",
       " 'urlsplit',\n",
       " 'urlunparse',\n",
       " 'warnings']"
      ]
     },
     "execution_count": 4,
     "metadata": {},
     "output_type": "execute_result"
    }
   ],
   "source": [
    "dir(request)"
   ]
  },
  {
   "cell_type": "code",
   "execution_count": 5,
   "metadata": {
    "cell_id": "265597a725a74ad6a503e4c28201903a",
    "deepnote_cell_type": "code",
    "deepnote_to_be_reexecuted": false,
    "execution_millis": 114,
    "execution_start": 1663067797003,
    "source_hash": "ee8ec16f",
    "tags": []
   },
   "outputs": [],
   "source": [
    "resp = request.urlopen(\"https://wikipedia.org\")"
   ]
  },
  {
   "cell_type": "code",
   "execution_count": 6,
   "metadata": {
    "cell_id": "362ea6c365ec4770a6dd2af1b53eaec2",
    "deepnote_cell_type": "code",
    "deepnote_to_be_reexecuted": false,
    "execution_millis": 5,
    "execution_start": 1663067797121,
    "source_hash": "c38c3ef2",
    "tags": []
   },
   "outputs": [
    {
     "data": {
      "text/plain": [
       "http.client.HTTPResponse"
      ]
     },
     "execution_count": 6,
     "metadata": {},
     "output_type": "execute_result"
    }
   ],
   "source": [
    "type(resp)"
   ]
  },
  {
   "cell_type": "code",
   "execution_count": 7,
   "metadata": {
    "cell_id": "16ff9e55600a492191fb821c0be8207e",
    "deepnote_cell_type": "code",
    "deepnote_to_be_reexecuted": false,
    "execution_millis": 5,
    "execution_start": 1663067797126,
    "source_hash": "d9655454",
    "tags": []
   },
   "outputs": [
    {
     "data": {
      "text/plain": [
       "['__abstractmethods__',\n",
       " '__class__',\n",
       " '__del__',\n",
       " '__delattr__',\n",
       " '__dict__',\n",
       " '__dir__',\n",
       " '__doc__',\n",
       " '__enter__',\n",
       " '__eq__',\n",
       " '__exit__',\n",
       " '__format__',\n",
       " '__ge__',\n",
       " '__getattribute__',\n",
       " '__gt__',\n",
       " '__hash__',\n",
       " '__init__',\n",
       " '__init_subclass__',\n",
       " '__iter__',\n",
       " '__le__',\n",
       " '__lt__',\n",
       " '__module__',\n",
       " '__ne__',\n",
       " '__new__',\n",
       " '__next__',\n",
       " '__reduce__',\n",
       " '__reduce_ex__',\n",
       " '__repr__',\n",
       " '__setattr__',\n",
       " '__sizeof__',\n",
       " '__str__',\n",
       " '__subclasshook__',\n",
       " '_abc_impl',\n",
       " '_checkClosed',\n",
       " '_checkReadable',\n",
       " '_checkSeekable',\n",
       " '_checkWritable',\n",
       " '_check_close',\n",
       " '_close_conn',\n",
       " '_get_chunk_left',\n",
       " '_method',\n",
       " '_peek_chunked',\n",
       " '_read1_chunked',\n",
       " '_read_and_discard_trailer',\n",
       " '_read_next_chunk_size',\n",
       " '_read_status',\n",
       " '_readall_chunked',\n",
       " '_readinto_chunked',\n",
       " '_safe_read',\n",
       " '_safe_readinto',\n",
       " 'begin',\n",
       " 'chunk_left',\n",
       " 'chunked',\n",
       " 'close',\n",
       " 'closed',\n",
       " 'code',\n",
       " 'debuglevel',\n",
       " 'detach',\n",
       " 'fileno',\n",
       " 'flush',\n",
       " 'fp',\n",
       " 'getcode',\n",
       " 'getheader',\n",
       " 'getheaders',\n",
       " 'geturl',\n",
       " 'headers',\n",
       " 'info',\n",
       " 'isatty',\n",
       " 'isclosed',\n",
       " 'length',\n",
       " 'msg',\n",
       " 'peek',\n",
       " 'read',\n",
       " 'read1',\n",
       " 'readable',\n",
       " 'readinto',\n",
       " 'readinto1',\n",
       " 'readline',\n",
       " 'readlines',\n",
       " 'reason',\n",
       " 'seek',\n",
       " 'seekable',\n",
       " 'status',\n",
       " 'tell',\n",
       " 'truncate',\n",
       " 'url',\n",
       " 'version',\n",
       " 'will_close',\n",
       " 'writable',\n",
       " 'write',\n",
       " 'writelines']"
      ]
     },
     "execution_count": 7,
     "metadata": {},
     "output_type": "execute_result"
    }
   ],
   "source": [
    "dir(resp)"
   ]
  },
  {
   "cell_type": "code",
   "execution_count": 8,
   "metadata": {
    "cell_id": "b7ed090477a84bac8c1efcf6067f218c",
    "deepnote_cell_type": "code",
    "deepnote_to_be_reexecuted": false,
    "execution_millis": 3,
    "execution_start": 1663067797132,
    "source_hash": "d1dd683f",
    "tags": []
   },
   "outputs": [
    {
     "data": {
      "text/plain": [
       "200"
      ]
     },
     "execution_count": 8,
     "metadata": {},
     "output_type": "execute_result"
    }
   ],
   "source": [
    "resp.code"
   ]
  },
  {
   "cell_type": "code",
   "execution_count": 9,
   "metadata": {
    "cell_id": "8cefc99fb0b94d46b68438482b810dfa",
    "deepnote_cell_type": "code",
    "deepnote_to_be_reexecuted": false,
    "execution_millis": 1,
    "execution_start": 1663067797135,
    "source_hash": "e1b1a54b",
    "tags": []
   },
   "outputs": [],
   "source": [
    "# 200 response code means everything is OKay"
   ]
  },
  {
   "cell_type": "code",
   "execution_count": 10,
   "metadata": {
    "cell_id": "69f2d1df28884840811bd2e93c110009",
    "deepnote_cell_type": "code",
    "deepnote_to_be_reexecuted": false,
    "execution_millis": 2,
    "execution_start": 1663067797138,
    "source_hash": "a3bf29f7",
    "tags": []
   },
   "outputs": [
    {
     "data": {
      "text/plain": [
       "75189"
      ]
     },
     "execution_count": 10,
     "metadata": {},
     "output_type": "execute_result"
    }
   ],
   "source": [
    "resp.length # How large the response is in bytes"
   ]
  },
  {
   "cell_type": "code",
   "execution_count": 14,
   "metadata": {
    "cell_id": "c3d817d1e9284d3e901e1d793f2dbd69",
    "deepnote_cell_type": "code",
    "deepnote_to_be_reexecuted": false,
    "execution_millis": 1,
    "execution_start": 1663067797146,
    "source_hash": "c15d9f93",
    "tags": []
   },
   "outputs": [
    {
     "data": {
      "text/plain": [
       "b''"
      ]
     },
     "execution_count": 14,
     "metadata": {},
     "output_type": "execute_result"
    }
   ],
   "source": [
    "resp.peek() # b at the begining means the bytes object : Used to look at small part of response"
   ]
  },
  {
   "cell_type": "code",
   "execution_count": 15,
   "metadata": {
    "cell_id": "4abf2e48980740afa5bb6fdfcb560675",
    "deepnote_cell_type": "code",
    "deepnote_to_be_reexecuted": false,
    "execution_millis": 30,
    "execution_start": 1663067797148,
    "source_hash": "5807bd0d",
    "tags": []
   },
   "outputs": [],
   "source": [
    "data = resp.read()"
   ]
  },
  {
   "cell_type": "code",
   "execution_count": 16,
   "metadata": {
    "cell_id": "7a7410c5c85f45a5af77a07f05ce572a",
    "deepnote_cell_type": "code",
    "deepnote_to_be_reexecuted": false,
    "execution_millis": 6,
    "execution_start": 1663067797221,
    "source_hash": "9653dc5",
    "tags": []
   },
   "outputs": [
    {
     "data": {
      "text/plain": [
       "bytes"
      ]
     },
     "execution_count": 16,
     "metadata": {},
     "output_type": "execute_result"
    }
   ],
   "source": [
    "type(data)"
   ]
  },
  {
   "cell_type": "code",
   "execution_count": 17,
   "metadata": {
    "cell_id": "d7a5707407244758b125c4347fcf41ee",
    "deepnote_cell_type": "code",
    "deepnote_to_be_reexecuted": false,
    "execution_millis": 1011,
    "execution_start": 1663067797223,
    "source_hash": "8ca1f22e",
    "tags": []
   },
   "outputs": [
    {
     "data": {
      "text/plain": [
       "75189"
      ]
     },
     "execution_count": 17,
     "metadata": {},
     "output_type": "execute_result"
    }
   ],
   "source": [
    "resp = request.urlopen(\"https://wikipedia.org\")\n",
    "data = resp.read()\n",
    "len(data)"
   ]
  },
  {
   "cell_type": "code",
   "execution_count": 18,
   "metadata": {
    "cell_id": "600ae06a4c4741bab108735ea42cfae6",
    "deepnote_cell_type": "code",
    "deepnote_to_be_reexecuted": false,
    "execution_millis": 852,
    "execution_start": 1663067797389,
    "source_hash": "cf23700c",
    "tags": []
   },
   "outputs": [
    {
     "data": {
      "text/plain": [
       "str"
      ]
     },
     "execution_count": 18,
     "metadata": {},
     "output_type": "execute_result"
    }
   ],
   "source": [
    "html = data.decode(\"UTF-8\")\n",
    "type(html)"
   ]
  },
  {
   "cell_type": "code",
   "execution_count": 19,
   "metadata": {
    "cell_id": "e4aeccbfceeb42a8aecb3dc83413cf48",
    "deepnote_cell_type": "code",
    "deepnote_to_be_reexecuted": false,
    "execution_millis": 865,
    "execution_start": 1663067797390,
    "source_hash": "a6a82bf0",
    "tags": []
   },
   "outputs": [
    {
     "data": {
      "text/plain": [
       "'<!DOCTYPE html>\\n<html lang=\"en\" class=\"no-js\">\\n<head>\\n<meta charset=\"utf-8\">\\n<title>Wikipedia</title>\\n<meta name=\"description\" content=\"Wikipedia is a free online encyclopedia, created and edited by volunteers around the world and hosted by the Wikimedia Foundation.\">\\n<script>\\ndocument.documentElement.className = document.documentElement.className.replace( /(^|\\\\s)no-js(\\\\s|$)/, \"$1js-enabled$2\" );\\n</script>\\n<meta name=\"viewport\" content=\"initial-scale=1,user-scalable=yes\">\\n<link rel=\"apple-touch-icon\" href=\"/static/apple-touch/wikipedia.png\">\\n<link rel=\"shortcut icon\" href=\"/static/favicon/wikipedia.ico\">\\n<link rel=\"license\" href=\"//creativecommons.org/licenses/by-sa/3.0/\">\\n<style>\\n.sprite{background-image:linear-gradient(transparent,transparent),url(portal/wikipedia.org/assets/img/sprite-e99844f6.svg);background-repeat:no-repeat;display:inline-block;vertical-align:middle}.svg-Commons-logo_sister{background-position:0 0;width:47px;height:47px}.svg-MediaWiki-logo_sister{background-position:0 -47px;width:42px;height:42px}.svg-Meta-Wiki-logo_sister{background-position:0 -89px;width:37px;height:37px}.svg-Wikibooks-logo_sister{background-position:0 -126px;width:37px;height:37px}.svg-Wikidata-logo_sister{background-position:0 -163px;width:49px;height:49px}.svg-Wikimedia-logo_black{background-position:0 -212px;width:42px;height:42px}.svg-Wikipedia_wordmark{background-position:0 -254px;width:176px;height:32px}.svg-Wikiquote-logo_sister{background-position:0 -286px;width:42px;height:42px}.svg-Wikisource-logo_sister{background-position:0 -328px;width:39px;height:39px}.svg-Wikispecies-logo_sister{background-position:0 -367px;width:42px;height:42px}.svg-Wikiversity-logo_sister{background-position:0 -409px;width:43px;height:37px}.svg-Wikivoyage-logo_sister{background-position:0 -446px;width:36px;height:36px}.svg-Wiktionary-logo_sister{background-position:0 -482px;width:37px;height:37px}.svg-arrow-down{background-position:0 -519px;width:12px;height:8px}.svg-arrow-down-blue{background-position:0 -527px;width:14px;height:14px}.svg-badge_google_play_store{background-position:0 -541px;width:124px;height:38px}.svg-badge_ios_app_store{background-position:0 -579px;width:110px;height:38px}.svg-language-icon{background-position:0 -617px;width:22px;height:22px}.svg-noimage{background-position:0 -639px;width:58px;height:58px}.svg-search-icon{background-position:0 -697px;width:22px;height:22px}.svg-wikipedia_app_tile{background-position:0 -719px;width:42px;height:42px}\\n</style>\\n<style>\\nhtml{font-family:sans-serif;-ms-text-size-adjust:100%;-webkit-text-size-adjust:100%;font-size:62.5%}body{margin:0}article,aside,details,figcaption,figure,footer,header,hgroup,main,menu,nav,section,summary{display:block}audio,canvas,progress,video{display:inline-block;vertical-align:baseline}audio:not([controls]){display:none;height:0}[hidden],template{display:none}a{background-color:transparent}a:active,a:hover{outline:0}abbr[title]{border-bottom:1px dotted}b,strong{font-weight:700}dfn{font-style:italic}h1{font-size:32px;font-size:3.2rem;margin:1.2rem 0}mark{background:#fc3;color:#000}small{font-size:13px;font-size:1.3rem}sub,sup{font-size:75%;line-height:0;position:relative;vertical-align:baseline}sup{top:-.5em}sub{bottom:-.25em}svg:not(:root){overflow:hidden}figure{margin:1.6rem 4rem}hr{-webkit-box-sizing:content-box;-moz-box-sizing:content-box;box-sizing:content-box}pre{overflow:auto}code,kbd,pre,samp{font-family:monospace,monospace;font-size:14px;font-size:1.4rem}button,input,optgroup,select,textarea{color:inherit;font:inherit;margin:0}button{overflow:visible}button,select{text-transform:none}button,html input[type=button],input[type=reset],input[type=submit]{-webkit-appearance:button;cursor:pointer}button[disabled],html input[disabled]{cursor:default}button::-moz-focus-inner,input::-moz-focus-inner{border:0;padding:0}input{line-height:normal}input[type=checkbox],input[type=radio]{-webkit-box-sizing:border-box;-moz-box-sizing:border-box;box-sizing:border-box;padding:0}input[type=number]::-webkit-inner-spin-button,input[type=number]::-webkit-outer-spin-button{height:auto}input[type=search]{-webkit-appearance:none;-webkit-box-sizing:content-box;-moz-box-sizing:content-box;box-sizing:content-box}input[type=search]::-webkit-search-cancel-button,input[type=search]::-webkit-search-decoration{-webkit-appearance:none}input[type=search]:focus{outline-offset:-2px}fieldset{border:1px solid #a2a9b1;margin:0 .2rem;padding:.6rem 1rem 1.2rem}legend{border:0;padding:0}textarea{overflow:auto}optgroup{font-weight:700}table{border-collapse:collapse;border-spacing:0}td,th{padding:0}.hidden,[hidden]{display:none!important}.screen-reader-text{display:block;position:absolute!important;clip:rect(1px,1px,1px,1px);width:1px;height:1px;margin:-1px;border:0;padding:0;overflow:hidden}body{background-color:#fff;font-family:-apple-system,BlinkMacSystemFont,Segoe UI,Roboto,Lato,Helvetica,Arial,sans-serif;font-size:14px;font-size:1.4rem;line-height:1.5;margin:.4rem 0 1.6rem}a{-ms-touch-action:manipulation;touch-action:manipulation}a,a:active,a:focus{unicode-bidi:embed;outline:0;color:#36c;text-decoration:none}a:focus{outline:1px solid #36c}a:hover{text-decoration:underline}img{vertical-align:middle}hr,img{border:0}hr{clear:both;height:0;border-bottom:1px solid #c8ccd1;margin:.26rem 1.3rem}.pure-button{display:inline-block;zoom:1;line-height:normal;white-space:nowrap;text-align:center;cursor:pointer;-webkit-user-drag:none;-webkit-user-select:none;-moz-user-select:none;-ms-user-select:none;user-select:none;-webkit-box-sizing:border-box;-moz-box-sizing:border-box;box-sizing:border-box;background-color:#f8f9fa;color:#202122;position:relative;min-height:19.2px;min-height:1.92rem;min-width:16px;min-width:1.6rem;margin:.16rem 0;border:1px solid #a2a9b1;-moz-border-radius:2px;border-radius:2px;padding:.8rem 1.6rem;font-family:inherit;font-size:inherit;font-weight:700;text-decoration:none;vertical-align:top;-webkit-transition:background .1s ease,color .1s ease,border-color .1s ease,-webkit-box-shadow .1s ease;transition:background .1s ease,color .1s ease,border-color .1s ease,-webkit-box-shadow .1s ease;-o-transition:background .1s ease,color .1s ease,border-color .1s ease,box-shadow .1s ease;-moz-transition:background .1s ease,color .1s ease,border-color .1s ease,box-shadow .1s ease,-moz-box-shadow .1s ease;transition:background .1s ease,color .1s ease,border-color .1s ease,box-shadow .1s ease;transition:background .1s ease,color .1s ease,border-color .1s ease,box-shadow .1s ease,-webkit-box-shadow .1s ease,-moz-box-shadow .1s ease}.pure-button::-moz-focus-inner{padding:0;border:0}.pure-button-hover,.pure-button:hover{background-color:#fff;border-color:#a2a9b1;color:#404244}.pure-button-active,.pure-button:active{background-color:#c8ccd1;border-color:#72777d;color:#000}.pure-button:focus{outline:0;border-color:#36c;-webkit-box-shadow:inset 0 0 0 1px #36c;-moz-box-shadow:inset 0 0 0 1px #36c;box-shadow:inset 0 0 0 1px #36c}.pure-button-primary-progressive{background-color:#36c;border-color:#36c;color:#fff}.pure-button-primary-progressive:hover{background:#447ff5;border-color:#447ff5}.pure-button-primary-progressive:active{background-color:#2a4b8d;border-color:#2a4b8d;-webkit-box-shadow:none;-moz-box-shadow:none;box-shadow:none;color:#fff}.pure-button-primary-progressive:focus{-webkit-box-shadow:inset 0 0 0 1px #36c,inset 0 0 0 2px #fff;-moz-box-shadow:inset 0 0 0 1px #36c,inset 0 0 0 2px #fff;box-shadow:inset 0 0 0 1px #36c,inset 0 0 0 2px #fff;border-color:#36c}.pure-form input[type=search]{background-color:#fff;display:inline-block;-webkit-box-sizing:border-box;-moz-box-sizing:border-box;box-sizing:border-box;border:1px solid #a2a9b1;-moz-border-radius:2px;border-radius:2px;padding:.8rem;-webkit-box-shadow:inset 0 0 0 1px #fff;-moz-box-shadow:inset 0 0 0 1px #fff;box-shadow:inset 0 0 0 1px #fff;vertical-align:middle}.pure-form input:focus:invalid{color:#b32424;border-color:#d33}.pure-form fieldset{margin:0;padding:.56rem 0 1.2rem;border:0}@media only screen and (max-width:480px){.pure-form input[type=search]{display:block}}.central-textlogo-wrapper{display:inline-block;vertical-align:bottom}.central-textlogo{position:relative;margin:4rem auto .5rem;width:270px;font-family:Linux Libertine,Hoefler Text,Georgia,Times New Roman,Times,serif;font-size:30px;font-size:3rem;font-weight:400;line-height:33px;line-height:3.3rem;text-align:center;-moz-font-feature-settings:\"ss05=1\";-moz-font-feature-settings:\"ss05\";-webkit-font-feature-settings:\"ss05\";-ms-font-feature-settings:\"ss05\";font-feature-settings:\"ss05\"}.localized-slogan{display:block;font-family:Linux Libertine,Georgia,Times,serif;font-size:15px;font-size:1.5rem;font-weight:400}.central-textlogo__image{color:transparent;display:inline-block;overflow:hidden;text-indent:-10000px}.central-featured-logo{position:absolute;top:158px;left:35px}@media (max-width:480px){.central-textlogo{position:relative;height:70px;width:auto;margin:2rem 0 0;text-align:center;line-height:25px;line-height:2.5rem;text-indent:-10px;text-indent:-1rem;font-size:1em}.central-textlogo-wrapper{position:relative;top:12px;text-indent:2px;text-indent:.2rem}.svg-Wikipedia_wordmark{width:150px;height:25px;background-position:0 -218px;-webkit-background-size:100% 100%;-moz-background-size:100%;background-size:100%}.localized-slogan{font-size:14px;font-size:1.4rem}.central-featured-logo{position:relative;display:inline-block;width:57px;height:auto;left:0;top:0}}@media (max-width:240px){.central-textlogo__image{height:auto}}.central-featured{position:relative;height:325px;height:32.5rem;width:546px;width:54.6rem;max-width:100%;margin:0 auto;text-align:center;vertical-align:middle}.central-featured-lang{position:absolute;width:156px;width:15.6rem}.central-featured-lang .link-box{display:block;padding:0;text-decoration:none;white-space:normal}.central-featured-lang .link-box:hover strong{text-decoration:underline}.central-featured-lang :hover{background-color:#eaecf0}.central-featured-lang strong{display:block;font-size:16px;font-size:1.6rem}.central-featured-lang small{color:#54595d;display:inline-block;font-size:13px;font-size:1.3rem;line-height:1.6}.central-featured-lang em{font-style:italic}.central-featured-lang .emNonItalicLang{font-style:normal}.lang1{top:0;right:60%}.lang2{top:0;left:60%}.lang3{top:20%;right:70%}.lang4{top:20%;left:70%}.lang5{top:40%;right:72%}.lang6{top:40%;left:72%}.lang7{top:60%;right:70%}.lang8{top:60%;left:70%}.lang9{top:80%;right:60%}.lang10{top:80%;left:60%}@media (max-width:480px){.central-featured{width:auto;height:auto;margin-top:7rem;font-size:13px;font-size:1.3rem;text-align:left}.central-featured:after{content:\" \";display:block;visibility:hidden;clear:both;height:0;font-size:0}.central-featured-lang{display:block;float:left;position:relative;top:auto;left:auto;right:auto;-webkit-box-sizing:border-box;-moz-box-sizing:border-box;box-sizing:border-box;height:64px;height:6.4rem;width:33%;margin:0 0 16px;padding:0 1.6rem;font-size:14px;font-size:1.4rem;text-align:center}.central-featured-lang strong{font-size:14px;font-size:1.4rem;margin-bottom:4px}.central-featured-lang small{line-height:1.4}}@media (max-width:375px){.central-featured-lang{font-size:13px;font-size:1.3rem}}@media (max-width:240px){.central-featured-lang{width:100%}}.search-container{float:none;max-width:95%;width:540px;margin:.4rem auto 1.95rem;text-align:center;vertical-align:middle}.search-container fieldset{word-spacing:-4px}.search-container button{min-height:44px;min-height:4.4rem;margin:0;-moz-border-radius:0 2px 2px 0;border-radius:0 2px 2px 0;padding:.8rem 1.6rem;font-size:16px;font-size:1.6rem;z-index:2}.search-container button .svg-search-icon{text-indent:-9999px}.search-container input[type=search]::-webkit-search-results-button,.search-container input[type=search]::-webkit-search-results-decoration{-webkit-appearance:none}.search-container input::-webkit-calendar-picker-indicator{display:none}.search-container .sprite.svg-arrow-down{position:absolute;top:8px;top:.8rem;right:6px;right:.6rem}#searchInput{-webkit-appearance:none;width:100%;height:44px;height:4.4rem;border-width:1px 0 1px 1px;-moz-border-radius:2px 0 0 2px;border-radius:2px 0 0 2px;padding:.8rem 9.6rem .8rem 1.2rem;font-size:16px;font-size:1.6rem;line-height:1.6;-webkit-transition:background .1s ease,border-color .1s ease,-webkit-box-shadow .1s ease;transition:background .1s ease,border-color .1s ease,-webkit-box-shadow .1s ease;-o-transition:background .1s ease,border-color .1s ease,box-shadow .1s ease;-moz-transition:background .1s ease,border-color .1s ease,box-shadow .1s ease,-moz-box-shadow .1s ease;transition:background .1s ease,border-color .1s ease,box-shadow .1s ease;transition:background .1s ease,border-color .1s ease,box-shadow .1s ease,-webkit-box-shadow .1s ease,-moz-box-shadow .1s ease}#searchInput:hover{border-color:#72777d}#searchInput:focus{border-color:#36c;-webkit-box-shadow:inset 0 0 0 1px #36c;-moz-box-shadow:inset 0 0 0 1px #36c;box-shadow:inset 0 0 0 1px #36c;outline:0}.search-container .search-input{display:inline-block;position:relative;width:73%;vertical-align:top}@media only screen and (max-width:480px){.search-container .pure-form fieldset{margin-left:1rem;margin-right:6.6rem}.search-container .search-input{width:100%;margin-right:-6.6rem}.search-container .pure-form button{float:right;right:-56px;right:-5.6rem}}.suggestions-dropdown{background-color:#fff;display:inline-block;position:absolute;left:0;z-index:2;margin:0;padding:0;border:1px solid #a2a9b1;border-top:0;-webkit-box-shadow:0 2px 2px 0 rgba(0,0,0,.25);-moz-box-shadow:0 2px 2px 0 rgba(0,0,0,.25);box-shadow:0 2px 2px 0 rgba(0,0,0,.25);list-style-type:none;word-spacing:normal}.suggestion-link,.suggestions-dropdown{-webkit-box-sizing:border-box;-moz-box-sizing:border-box;box-sizing:border-box;width:100%;text-align:left}.suggestion-link{display:block;position:relative;min-height:70px;min-height:7rem;padding:1rem 1rem 1rem 8.5rem;border-bottom:1px solid #eaecf0;color:inherit;text-decoration:none;text-align:initial;white-space:normal}.suggestion-link.active{background-color:#eaf3ff}a.suggestion-link:hover{text-decoration:none}a.suggestion-link:active,a.suggestion-link:focus{outline:0;white-space:normal}.suggestion-thumbnail{background-color:#eaecf0;background-image:url(portal/wikipedia.org/assets/img/noimage.png);background-image:-webkit-linear-gradient(transparent,transparent),url(\"data:image/svg+xml;charset=utf-8,%3Csvg xmlns=\\'http://www.w3.org/2000/svg\\' viewBox=\\'0 0 56 56\\'%3E%3Cpath fill=\\'%23eee\\' d=\\'M0 0h56v56H0z\\'/%3E%3Cpath fill=\\'%23999\\' d=\\'M36.4 13.5H17.8v24.9c0 1.4.9 2.3 2.3 2.3h18.7v-25c.1-1.4-1-2.2-2.4-2.2zM30.2 17h5.1v6.4h-5.1V17zm-8.8 0h6v1.8h-6V17zm0 4.6h6v1.8h-6v-1.8zm0 15.5v-1.8h13.8v1.8H21.4zm13.8-4.5H21.4v-1.8h13.8v1.8zm0-4.7H21.4v-1.8h13.8v1.8z\\'/%3E%3C/svg%3E\");background-image:-webkit-linear-gradient(transparent,transparent),url(portal/wikipedia.org/assets/img/noimage.svg) !ie;background-image:-webkit-gradient(linear,left top,left bottom,from(transparent),to(transparent)),url(\"data:image/svg+xml;charset=utf-8,%3Csvg xmlns=\\'http://www.w3.org/2000/svg\\' viewBox=\\'0 0 56 56\\'%3E%3Cpath fill=\\'%23eee\\' d=\\'M0 0h56v56H0z\\'/%3E%3Cpath fill=\\'%23999\\' d=\\'M36.4 13.5H17.8v24.9c0 1.4.9 2.3 2.3 2.3h18.7v-25c.1-1.4-1-2.2-2.4-2.2zM30.2 17h5.1v6.4h-5.1V17zm-8.8 0h6v1.8h-6V17zm0 4.6h6v1.8h-6v-1.8zm0 15.5v-1.8h13.8v1.8H21.4zm13.8-4.5H21.4v-1.8h13.8v1.8zm0-4.7H21.4v-1.8h13.8v1.8z\\'/%3E%3C/svg%3E\");background-image:-moz- oldlinear-gradient(transparent,transparent),url(\"data:image/svg+xml;charset=utf-8,%3Csvg xmlns=\\'http://www.w3.org/2000/svg\\' viewBox=\\'0 0 56 56\\'%3E%3Cpath fill=\\'%23eee\\' d=\\'M0 0h56v56H0z\\'/%3E%3Cpath fill=\\'%23999\\' d=\\'M36.4 13.5H17.8v24.9c0 1.4.9 2.3 2.3 2.3h18.7v-25c.1-1.4-1-2.2-2.4-2.2zM30.2 17h5.1v6.4h-5.1V17zm-8.8 0h6v1.8h-6V17zm0 4.6h6v1.8h-6v-1.8zm0 15.5v-1.8h13.8v1.8H21.4zm13.8-4.5H21.4v-1.8h13.8v1.8zm0-4.7H21.4v-1.8h13.8v1.8z\\'/%3E%3C/svg%3E\");background-image:-o-linear-gradient(transparent,transparent),url(\"data:image/svg+xml;charset=utf-8,%3Csvg xmlns=\\'http://www.w3.org/2000/svg\\' viewBox=\\'0 0 56 56\\'%3E%3Cpath fill=\\'%23eee\\' d=\\'M0 0h56v56H0z\\'/%3E%3Cpath fill=\\'%23999\\' d=\\'M36.4 13.5H17.8v24.9c0 1.4.9 2.3 2.3 2.3h18.7v-25c.1-1.4-1-2.2-2.4-2.2zM30.2 17h5.1v6.4h-5.1V17zm-8.8 0h6v1.8h-6V17zm0 4.6h6v1.8h-6v-1.8zm0 15.5v-1.8h13.8v1.8H21.4zm13.8-4.5H21.4v-1.8h13.8v1.8zm0-4.7H21.4v-1.8h13.8v1.8z\\'/%3E%3C/svg%3E\");background-image:linear-gradient(transparent,transparent),url(\"data:image/svg+xml;charset=utf-8,%3Csvg xmlns=\\'http://www.w3.org/2000/svg\\' viewBox=\\'0 0 56 56\\'%3E%3Cpath fill=\\'%23eee\\' d=\\'M0 0h56v56H0z\\'/%3E%3Cpath fill=\\'%23999\\' d=\\'M36.4 13.5H17.8v24.9c0 1.4.9 2.3 2.3 2.3h18.7v-25c.1-1.4-1-2.2-2.4-2.2zM30.2 17h5.1v6.4h-5.1V17zm-8.8 0h6v1.8h-6V17zm0 4.6h6v1.8h-6v-1.8zm0 15.5v-1.8h13.8v1.8H21.4zm13.8-4.5H21.4v-1.8h13.8v1.8zm0-4.7H21.4v-1.8h13.8v1.8z\\'/%3E%3C/svg%3E\");background-image:-webkit-gradient(linear,left top,left bottom,from(transparent),to(transparent)),url(portal/wikipedia.org/assets/img/noimage.svg) !ie;background-image:-moz- oldlinear-gradient(transparent,transparent),url(portal/wikipedia.org/assets/img/noimage.svg) !ie;background-image:-o-linear-gradient(transparent,transparent),url(portal/wikipedia.org/assets/img/noimage.svg) !ie;background-image:linear-gradient(transparent,transparent),url(portal/wikipedia.org/assets/img/noimage.svg) !ie;background-image:-o-linear-gradient(transparent,transparent),url(portal/wikipedia.org/assets/img/noimage.png);background-position:50%;background-repeat:no-repeat;-webkit-background-size:100% auto;-moz-background-size:100% auto;background-size:100% auto;-webkit-background-size:cover;-moz-background-size:cover;background-size:cover;height:100%;width:70px;width:7rem;position:absolute;top:0;left:0}.suggestion-title{margin:0 0 .78rem;color:#54595d;font-size:16px;font-size:1.6rem;line-height:18.72px;line-height:1.872rem}.suggestion-link.active .suggestion-title{color:#36c}.suggestion-highlight{font-style:normal;text-decoration:underline}.suggestion-description{color:#72777d;margin:0;font-size:13px;font-size:1.3rem;line-height:14.299px;line-height:1.43rem}.styled-select{display:none;position:absolute;top:10px;top:1rem;bottom:12px;bottom:1.2rem;right:12px;right:1.2rem;max-width:95px;max-width:9.5rem;height:24px;height:2.4rem;-moz-border-radius:2px;border-radius:2px}.styled-select:hover{background-color:#f8f9fa}.styled-select .hide-arrow{right:32px;right:3.2rem;max-width:68px;max-width:6.8rem;height:24px;height:2.4rem;overflow:hidden;text-align:right}.styled-select select{background:transparent;display:inline;overflow:hidden;height:24px;height:2.4rem;min-width:110px;min-width:11rem;max-width:110px;max-width:11rem;width:110px;width:11rem;outline:0;-webkit-box-sizing:border-box;-moz-box-sizing:border-box;box-sizing:border-box;border:0;line-height:24px;line-height:2.4rem;-webkit-appearance:none;-moz-appearance:window;text-indent:.01px;-o-text-overflow:\"\";text-overflow:\"\";opacity:0;-moz-appearance:none;appearance:none;cursor:pointer}.styled-select.no-js{width:95px;width:9.5rem}.styled-select.no-js select{opacity:1;margin:0;padding:0 2.4rem 0 .8rem;color:#54595d}.styled-select.no-js .hide-arrow{width:68px;width:6.8rem}.search-container .styled-select.no-js .js-langpicker-label{display:none}.styled-select.js-enabled .hide-arrow{padding:0 2.4rem 0 .8rem}.styled-select.js-enabled select{background:transparent;position:absolute;top:0;left:0;height:100%;z-index:1;width:100%;border:0;margin:0;padding:0 2.4rem;color:transparent;color:hsla(0,0%,100%,0)}.styled-select.js-enabled select option{color:#54595d}.styled-select.js-enabled select:hover{background-color:transparent}.styled-select-active-helper{display:none}.styled-select.js-enabled select:focus+.styled-select-active-helper{display:block;position:absolute;top:0;left:0;z-index:0;width:100%;height:100%;outline:1px solid #36c}.search-container .js-langpicker-label{display:inline-block;margin:0;color:#54595d;font-size:13px;font-size:1.3rem;line-height:24px;line-height:2.4rem;text-transform:uppercase}.styled-select select:hover{background-color:#f8f9fa}.styled-select select::-ms-expand{display:none}.styled-select select:focus{outline:0;-webkit-box-shadow:none;-moz-box-shadow:none;box-shadow:none}@-moz-document url-prefix(){.styled-select select{width:110%}}.other-projects{display:inline-block;width:65%}.other-project{float:left;position:relative;width:33%;height:90px;height:9rem}.other-project-link{display:inline-block;min-height:50px;width:90%;padding:1em;white-space:nowrap}.other-project-link:hover{background-color:#eaecf0}a.other-project-link{text-decoration:none}.other-project-icon{display:inline-block;width:50px;text-align:center}.svg-Wikinews-logo_sister{background-image:url(portal/wikipedia.org/assets/img/Wikinews-logo_sister.png);background-position:0 0;-webkit-background-size:47px 26px;-moz-background-size:47px 26px;background-size:47px 26px;width:47px;height:26px}@media (-o-min-device-pixel-ratio:5/4),(-webkit-min-device-pixel-ratio:1.25),(min-resolution:120dpi){.svg-Wikinews-logo_sister{background-image:url(portal/wikipedia.org/assets/img/Wikinews-logo_sister@2x.png)}}.other-project-text,.other-project .sprite-project-logos{display:inline-block}.other-project-text{max-width:65%;font-size:14px;font-size:1.4rem;vertical-align:middle;white-space:normal}.other-project-tagline,.other-project-title{display:block}.other-project-tagline{color:#54595d;font-size:13px;font-size:1.3rem}@media screen and (max-width:768px){.other-projects{width:100%}.other-project{width:33%}}@media screen and (max-width:480px){.other-project{width:50%}.other-project-tagline{-webkit-hyphens:auto;-moz-hyphens:auto;-ms-hyphens:auto;hyphens:auto}}@media screen and (max-width:320px){.other-project-text{margin-right:5px;font-size:13px;font-size:1.3rem}}.lang-list-container{background-color:#f8f9fa;overflow:hidden;position:relative;-webkit-box-sizing:border-box;-moz-box-sizing:border-box;box-sizing:border-box;max-height:0;width:80%;margin:-1.6rem auto 4.8rem;-webkit-transition:max-height .5s ease-out .16s,visibility .5s ease-in 1s;-o-transition:max-height .5s ease-out .16s,visibility .5s ease-in 1s;-moz-transition:max-height .5s ease-out .16s,visibility .5s ease-in 1s;transition:max-height .5s ease-out .16s,visibility .5s ease-in 1s}.js-enabled .lang-list-container{visibility:hidden}.lang-list-active .lang-list-container,.no-js .lang-list-container{visibility:visible;max-height:10000px;-webkit-transition:max-height 1s ease-in .2s,visibility 1000s ease-in 0ms;-o-transition:max-height 1s ease-in .2s,visibility 1000s ease-in 0ms;-moz-transition:max-height 1s ease-in .2s,visibility 1000s ease-in 0ms;transition:max-height 1s ease-in .2s,visibility 1000s ease-in 0ms}.no-js .lang-list-button{display:none}.lang-list-button-wrapper{text-align:center}.lang-list-button{background-color:#f8f9fa;display:inline;position:relative;z-index:1;margin:0 auto;padding:.6rem 1.2rem;outline:16px solid #fff;outline:1.6rem solid #fff;border:1px solid #a2a9b1;-moz-border-radius:2px;border-radius:2px;color:#36c;font-size:14px;font-size:1.4rem;font-weight:700;line-height:1;-webkit-transition:outline-width .1s ease-in .5s;-o-transition:outline-width .1s ease-in .5s;-moz-transition:outline-width .1s ease-in .5s;transition:outline-width .1s ease-in .5s}.lang-list-button:hover{background-color:#fff;border-color:#a2a9b1}.lang-list-button:focus{border-color:#36c;-webkit-box-shadow:inset 0 0 0 1px #36c;-moz-box-shadow:inset 0 0 0 1px #36c;box-shadow:inset 0 0 0 1px #36c}.lang-list-active .lang-list-button{background-color:#fff;outline:1px solid #fff;border-color:#72777d;-webkit-transition-delay:0s;-moz-transition-delay:0s;-o-transition-delay:0s;transition-delay:0s}.lang-list-button-text{padding:0 .64rem;vertical-align:middle}.lang-list-button i{display:inline-block;vertical-align:middle}.no-js .lang-list-border,.no-js .lang-list-button{display:none}.lang-list-border{background-color:#c8ccd1;display:block;position:relative;max-width:460px;width:80%;margin:-1.6rem auto 1.6rem;height:1px;-webkit-transition:max-width .2s ease-out .4s;-o-transition:max-width .2s ease-out .4s;-moz-transition:max-width .2s ease-out .4s;transition:max-width .2s ease-out .4s}.lang-list-active .lang-list-border{max-width:85%;-webkit-transition-delay:0s;-moz-transition-delay:0s;-o-transition-delay:0s;transition-delay:0s}.no-js .lang-list-content{padding:0}.lang-list-content{position:relative;-webkit-box-sizing:border-box;-moz-box-sizing:border-box;box-sizing:border-box;width:100%;padding:1.6rem 1.6rem 0}.svg-arrow-down-blue{-webkit-transition:-webkit-transform .2s ease-out;transition:-webkit-transform .2s ease-out;-o-transition:transform .2s ease-out;-moz-transition:transform .2s ease-out,-moz-transform .2s ease-out;transition:transform .2s ease-out;transition:transform .2s ease-out,-webkit-transform .2s ease-out,-moz-transform .2s ease-out}.lang-list-active .svg-arrow-down-blue{-webkit-transform:rotate(180deg);-moz-transform:rotate(180deg);-ms-transform:rotate(180deg);transform:rotate(180deg)}.langlist{width:auto;margin:1.6rem 0;text-align:left}.langlist-others{font-weight:700;text-align:center}.hlist ul{margin:0;padding:0}.hlist li,.hlist ul ul{display:inline}.hlist li:before{content:\" · \";font-weight:700}.hlist li:first-child:before{content:none}.hlist li>ul:before{content:\"\\\\00a0(\"}.hlist li>ul:after{content:\") \"}.langlist>ul{-webkit-column-width:11.2rem;-moz-column-width:11.2rem;column-width:11.2rem}.langlist>ul>li{display:block;line-height:1.7;-webkit-column-break-inside:avoid;page-break-inside:avoid;break-inside:avoid}.no-js .langlist>ul{text-align:center;list-style-type:circle}.no-js .langlist>ul>li{display:inline-block;padding:0 .8rem}.langlist>ul>li:before{content:none}.langlist>ul>li a{white-space:normal}@media (max-width:480px){.langlist{font-size:inherit}.langlist a{word-wrap:break-word;white-space:normal}.lang-list-container{width:auto;margin-left:.8rem;margin-right:.8rem}.bookshelf{overflow:visible}}.bookshelf{display:block;border-top:1px solid #c8ccd1;-webkit-box-shadow:0 -1px 0 #fff;-moz-box-shadow:0 -1px 0 #fff;box-shadow:0 -1px 0 #fff;text-align:center;white-space:nowrap}.bookshelf .text{background-color:#f8f9fa;position:relative;top:-11.2px;top:-1.12rem;font-weight:400;padding:0 .8rem}.bookshelf-container{display:block;overflow:visible;width:100%;height:1px;margin:2.4rem 0 1.6rem;font-size:13px;font-size:1.3rem;font-weight:700;line-height:1.5}@media (max-width:480px){.bookshelf{width:auto;left:auto}.bookshelf-container{text-align:left;width:auto}}.app-badges .footer-sidebar-content{background-color:#f8f9fa}.app-badges .footer-sidebar-text{padding-top:.8rem;padding-bottom:.8rem}.app-badges .sprite.footer-sidebar-icon{top:8px;top:.8rem}.app-badges ul{margin:0;padding:0;list-style-type:none}.app-badge{display:inline-block}.app-badge a{color:transparent}@media screen and (max-width:768px){.app-badges .footer-sidebar-content{text-align:center}.app-badges .sprite.footer-sidebar-icon{display:inline-block;position:relative;margin:0;top:-3px;left:0;vertical-align:middle;-webkit-transform:scale(.7);-moz-transform:scale(.7);-ms-transform:scale(.7);transform:scale(.7)}}.footer{overflow:hidden;max-width:100%;margin:0 auto;padding:4.16rem 1.28rem 1.28rem;font-size:13px;font-size:1.3rem}.footer:after,.footer:before{content:\" \";display:table}.footer:after{clear:both}.footer-sidebar{width:35%;float:left;clear:left;margin-bottom:3.2rem;vertical-align:top}.footer-sidebar-content{position:relative;max-width:350px;margin:0 auto}.sprite.footer-sidebar-icon{position:absolute;top:0;left:8px;left:.8rem}.footer-sidebar-text{position:relative;margin:0;padding-left:6rem;padding-right:2rem;color:#54595d}.site-license{color:#54595d;text-align:center}.site-license small:after{content:\"\\\\2022\";display:inline-block;font-size:13px;font-size:1.3rem;line-height:inherit;margin-left:.8rem;margin-right:.5rem}.site-license small:last-child:after{display:none}@media screen and (max-width:768px){.footer{display:-webkit-box;display:-webkit-flex;display:-moz-box;display:-ms-flexbox;display:flex;-webkit-box-orient:vertical;-webkit-box-direction:normal;-webkit-flex-direction:column;-moz-box-orient:vertical;-moz-box-direction:normal;-ms-flex-direction:column;flex-direction:column;padding-top:1.28rem}.footer .footer-sidebar{-webkit-box-ordinal-group:1;-moz-box-ordinal-group:1;-webkit-order:1;-ms-flex-order:1;order:1}.footer .other-projects{-webkit-box-ordinal-group:2;-moz-box-ordinal-group:2;-webkit-order:2;-ms-flex-order:2;order:2}.footer .app-badges{-webkit-box-ordinal-group:3;-moz-box-ordinal-group:3;-webkit-order:3;-ms-flex-order:3;order:3}.footer-sidebar{width:100%}.sprite.footer-sidebar-icon{display:block;position:relative;left:0;margin:0 auto 1.28rem}.footer-sidebar-content{max-width:none}.footer-sidebar-text{margin:0;padding:0;text-align:center}}@media screen and (max-width:480px){.footer{padding:.96rem .64rem 1.28rem}}@media (max-width:480px){.search-container{margin-top:0;height:78px;height:7.8rem;position:absolute;top:96px;top:9.6rem;left:0;right:0;max-width:100%;width:auto;padding:0;text-align:left}.search-container label{display:none}.search-form #searchInput{max-width:40%;vertical-align:middle}.search-form .formBtn{max-width:25%;vertical-align:middle}form fieldset{margin:0;border-left:0;border-right:0}hr{margin-top:.65rem}}@media (-o-min-device-pixel-ratio:2/1),(-webkit-min-device-pixel-ratio:2),(min--moz-device-pixel-ratio:2),(min-resolution:2dppx),(min-resolution:192dpi){hr{border-bottom-width:.5px}}@supports (-webkit-marquee-style:slide){hr{border-bottom-width:1px}}.js-enabled .central-featured,.js-enabled .jsl10n{visibility:hidden}.jsl10n-visible .central-featured,.jsl10n-visible .jsl10n{visibility:visible}@media print{body{background-color:transparent}a{color:#000!important;background:none!important;padding:0!important}a:link,a:visited{color:#520;background:transparent}img{border:0}}\\n</style>\\n<link rel=\"preconnect\" href=\"//upload.wikimedia.org\">\\n</head>\\n<body id=\"www-wikipedia-org\">\\n<div class=\"central-textlogo\">\\n<img class=\"central-featured-logo\" src=\"portal/wikipedia.org/assets/img/Wikipedia-logo-v2.png\" srcset=\"portal/wikipedia.org/assets/img/Wikipedia-logo-v2@1.5x.png 1.5x, portal/wikipedia.org/assets/img/Wikipedia-logo-v2@2x.png 2x\" width=\"200\" height=\"183\" alt=\"Wikipedia\">\\n<h1 class=\"central-textlogo-wrapper\">\\n<span class=\"central-textlogo__image sprite svg-Wikipedia_wordmark\">\\nWikipedia\\n</span>\\n<strong class=\"jsl10n localized-slogan\" data-jsl10n=\"portal.slogan\">The Free Encyclopedia</strong>\\n</h1>\\n</div>\\n<div class=\"central-featured\" data-el-section=\"primary links\">\\n<!-- #1. en.wikipedia.org - 1 627 861 000 views/day -->\\n<div class=\"central-featured-lang lang1\" lang=\"en\" dir=\"ltr\">\\n<a id=\"js-link-box-en\" href=\"//en.wikipedia.org/\" title=\"English — Wikipedia — The Free Encyclopedia\" class=\"link-box\" data-slogan=\"The Free Encyclopedia\">\\n<strong>English</strong>\\n<small><bdi dir=\"ltr\">6&nbsp;458&nbsp;000+</bdi> <span>articles</span></small>\\n</a>\\n</div>\\n<!-- #2. ja.wikipedia.org - 250 585 000 views/day -->\\n<div class=\"central-featured-lang lang2\" lang=\"ja\" dir=\"ltr\">\\n<a id=\"js-link-box-ja\" href=\"//ja.wikipedia.org/\" title=\"Nihongo — ウィキペディア — フリー百科事典\" class=\"link-box\" data-slogan=\"フリー百科事典\">\\n<strong>日本語</strong>\\n<small><bdi dir=\"ltr\">1&nbsp;314&nbsp;000+</bdi> <span>記事</span></small>\\n</a>\\n</div>\\n<!-- #3. es.wikipedia.org - 185 962 000 views/day -->\\n<div class=\"central-featured-lang lang3\" lang=\"es\" dir=\"ltr\">\\n<a id=\"js-link-box-es\" href=\"//es.wikipedia.org/\" title=\"Español — Wikipedia — La enciclopedia libre\" class=\"link-box\" data-slogan=\"La enciclopedia libre\">\\n<strong>Español</strong>\\n<small><bdi dir=\"ltr\">1&nbsp;755&nbsp;000+</bdi> <span>artículos</span></small>\\n</a>\\n</div>\\n<!-- #4. ru.wikipedia.org - 179 835 000 views/day -->\\n<div class=\"central-featured-lang lang4\" lang=\"ru\" dir=\"ltr\">\\n<a id=\"js-link-box-ru\" href=\"//ru.wikipedia.org/\" title=\"Russkiy — Википедия — Свободная энциклопедия\" class=\"link-box\" data-slogan=\"Свободная энциклопедия\">\\n<strong>Русский</strong>\\n<small><bdi dir=\"ltr\">1&nbsp;798&nbsp;000+</bdi> <span>статей</span></small>\\n</a>\\n</div>\\n<!-- #5. de.wikipedia.org - 174 708 000 views/day -->\\n<div class=\"central-featured-lang lang5\" lang=\"de\" dir=\"ltr\">\\n<a id=\"js-link-box-de\" href=\"//de.wikipedia.org/\" title=\"Deutsch — Wikipedia — Die freie Enzyklopädie\" class=\"link-box\" data-slogan=\"Die freie Enzyklopädie\">\\n<strong>Deutsch</strong>\\n<small><bdi dir=\"ltr\">2&nbsp;667&nbsp;000+</bdi> <span>Artikel</span></small>\\n</a>\\n</div>\\n<!-- #6. fr.wikipedia.org - 171 325 000 views/day -->\\n<div class=\"central-featured-lang lang6\" lang=\"fr\" dir=\"ltr\">\\n<a id=\"js-link-box-fr\" href=\"//fr.wikipedia.org/\" title=\"français — Wikipédia — L’encyclopédie libre\" class=\"link-box\" data-slogan=\"L’encyclopédie libre\">\\n<strong>Français</strong>\\n<small><bdi dir=\"ltr\">2&nbsp;400&nbsp;000+</bdi> <span>articles</span></small>\\n</a>\\n</div>\\n<!-- #7. it.wikipedia.org - 103 609 000 views/day -->\\n<div class=\"central-featured-lang lang7\" lang=\"it\" dir=\"ltr\">\\n<a id=\"js-link-box-it\" href=\"//it.wikipedia.org/\" title=\"Italiano — Wikipedia — L&#x27;enciclopedia libera\" class=\"link-box\" data-slogan=\"L&#x27;enciclopedia libera\">\\n<strong>Italiano</strong>\\n<small><bdi dir=\"ltr\">1&nbsp;742&nbsp;000+</bdi> <span>voci</span></small>\\n</a>\\n</div>\\n<!-- #8. zh.wikipedia.org - 86 248 000 views/day -->\\n<div class=\"central-featured-lang lang8\" lang=\"zh\" dir=\"ltr\">\\n<a id=\"js-link-box-zh\" href=\"//zh.wikipedia.org/\" title=\"Zhōngwén — 维基百科 / 維基百科 — 自由的百科全书 / 自由的百科全書\" class=\"link-box jscnconv\" data-title-hans=\"Zhōngwén — 维基百科 — 自由的百科全书\" data-title-hant=\"Zhōngwén — 維基百科 — 自由的百科全書\" data-slogan=\"自由的百科全书 / 自由的百科全書\">\\n<strong>中文</strong>\\n<small><bdi dir=\"ltr\">1&nbsp;256&nbsp;000+</bdi> <span data-hans=\"条目\" data-hant=\"條目\" class=\"jscnconv\">条目 / 條目</span></small>\\n</a>\\n</div>\\n<!-- #9. pt.wikipedia.org - 52 995 000 views/day -->\\n<div class=\"central-featured-lang lang9\" lang=\"pt\" dir=\"ltr\">\\n<a id=\"js-link-box-pt\" href=\"//pt.wikipedia.org/\" title=\"Português — Wikipédia — A enciclopédia livre\" class=\"link-box\" data-slogan=\"A enciclopédia livre\">\\n<strong>Português</strong>\\n<small><bdi dir=\"ltr\">1&nbsp;085&nbsp;000+</bdi> <span>artigos</span></small>\\n</a>\\n</div>\\n<!-- #10. ar.wikipedia.org - 45 693 000 views/day -->\\n<div class=\"central-featured-lang lang10\" lang=\"ar\" dir=\"rtl\">\\n<a id=\"js-link-box-ar\" href=\"//ar.wikipedia.org/\" title=\"Al-ʿArabīyah — ويكيبيديا — الموسوعة الحرة\" class=\"link-box\" data-slogan=\"الموسوعة الحرة\">\\n<strong><bdi dir=\"rtl\">العربية</bdi></strong>\\n<small><bdi dir=\"ltr\">1&nbsp;159&nbsp;000+</bdi> <span>مقالة</span></small>\\n</a>\\n</div>\\n</div>\\n<div class=\"search-container\">\\n<form class=\"pure-form\" id=\"search-form\" action=\"//www.wikipedia.org/search-redirect.php\" data-el-section=\"search\">\\n<fieldset>\\n<input type=\"hidden\" name=\"family\" value=\"Wikipedia\">\\n<input type=\"hidden\" id=\"hiddenLanguageInput\" name=\"language\" value=\"en\">\\n<div class=\"search-input\" id=\"search-input\">\\n<label for=\"searchInput\" class=\"screen-reader-text\" data-jsl10n=\"portal.search-input-label\">Search Wikipedia</label>\\n<input id=\"searchInput\" name=\"search\" type=\"search\" size=\"20\" autofocus=\"autofocus\" accesskey=\"F\" dir=\"auto\" autocomplete=\"off\">\\n<div class=\"styled-select no-js\">\\n<div class=\"hide-arrow\">\\n<select id=\"searchLanguage\" name=\"language\">\\n<option value=\"af\" lang=\"af\">Afrikaans</option>\\n<option value=\"pl\" lang=\"pl\">Polski</option>\\n<option value=\"ar\" lang=\"ar\">العربية</option><!-- Al-ʿArabīyah -->\\n<option value=\"ast\" lang=\"ast\">Asturianu</option>\\n<option value=\"az\" lang=\"az\">Azərbaycanca</option>\\n<option value=\"bg\" lang=\"bg\">Български</option><!-- Bǎlgarski -->\\n<option value=\"nan\" lang=\"nan\">Bân-lâm-gú / Hō-ló-oē</option>\\n<option value=\"bn\" lang=\"bn\">বাংলা</option><!-- Bangla -->\\n<option value=\"be\" lang=\"be\">Беларуская</option><!-- Belaruskaya -->\\n<option value=\"ca\" lang=\"ca\">Català</option>\\n<option value=\"cs\" lang=\"cs\">Čeština</option><!-- čeština -->\\n<option value=\"cy\" lang=\"cy\">Cymraeg</option><!-- Cymraeg -->\\n<option value=\"da\" lang=\"da\">Dansk</option>\\n<option value=\"de\" lang=\"de\">Deutsch</option>\\n<option value=\"et\" lang=\"et\">Eesti</option>\\n<option value=\"el\" lang=\"el\">Ελληνικά</option><!-- Ellīniká -->\\n<option value=\"en\" lang=\"en\" selected=selected>English</option><!-- English -->\\n<option value=\"es\" lang=\"es\">Español</option>\\n<option value=\"eo\" lang=\"eo\">Esperanto</option>\\n<option value=\"eu\" lang=\"eu\">Euskara</option>\\n<option value=\"fa\" lang=\"fa\">فارسی</option><!-- Fārsi -->\\n<option value=\"fr\" lang=\"fr\">Français</option><!-- français -->\\n<option value=\"gl\" lang=\"gl\">Galego</option>\\n<option value=\"ko\" lang=\"ko\">한국어</option><!-- Hangugeo -->\\n<option value=\"hy\" lang=\"hy\">Հայերեն</option><!-- Hayeren -->\\n<option value=\"hi\" lang=\"hi\">हिन्दी</option><!-- Hindī -->\\n<option value=\"hr\" lang=\"hr\">Hrvatski</option>\\n<option value=\"id\" lang=\"id\">Bahasa Indonesia</option>\\n<option value=\"it\" lang=\"it\">Italiano</option>\\n<option value=\"he\" lang=\"he\">עברית</option><!-- Ivrit -->\\n<option value=\"ka\" lang=\"ka\">ქართული</option><!-- Kartuli -->\\n<option value=\"la\" lang=\"la\">Latina</option>\\n<option value=\"lv\" lang=\"lv\">Latviešu</option>\\n<option value=\"lt\" lang=\"lt\">Lietuvių</option>\\n<option value=\"hu\" lang=\"hu\">Magyar</option>\\n<option value=\"mk\" lang=\"mk\">Македонски</option><!-- Makedonski -->\\n<option value=\"arz\" lang=\"arz\">مصرى</option><!-- Maṣrī -->\\n<option value=\"ms\" lang=\"ms\">Bahasa Melayu</option>\\n<option value=\"min\" lang=\"min\">Bahaso Minangkabau</option>\\n<option value=\"my\" lang=\"my\">မြန်မာဘာသာ</option><!-- Myanmarsar -->\\n<option value=\"nl\" lang=\"nl\">Nederlands</option>\\n<option value=\"ja\" lang=\"ja\">日本語</option><!-- Nihongo -->\\n<option value=\"no\" lang=\"nb\">Norsk (bokmål)</option>\\n<option value=\"nn\" lang=\"nn\">Norsk (nynorsk)</option>\\n<option value=\"ce\" lang=\"ce\">Нохчийн</option><!-- Noxçiyn -->\\n<option value=\"uz\" lang=\"uz\">Oʻzbekcha / Ўзбекча</option><!-- Oʻzbekcha -->\\n<option value=\"pt\" lang=\"pt\">Português</option>\\n<option value=\"kk\" lang=\"kk\">Қазақша / Qazaqşa / قازاقشا</option>\\n<option value=\"ro\" lang=\"ro\">Română</option><!-- Română -->\\n<option value=\"ru\" lang=\"ru\">Русский</option><!-- Russkiy -->\\n<option value=\"simple\" lang=\"en\">Simple English</option>\\n<option value=\"ceb\" lang=\"ceb\">Sinugboanong Binisaya</option>\\n<option value=\"sk\" lang=\"sk\">Slovenčina</option>\\n<option value=\"sl\" lang=\"sl\">Slovenščina</option>\\n<option value=\"sr\" lang=\"sr\">Српски / Srpski</option>\\n<option value=\"sh\" lang=\"sh\">Srpskohrvatski / Српскохрватски</option>\\n<option value=\"fi\" lang=\"fi\">Suomi</option><!-- suomi -->\\n<option value=\"sv\" lang=\"sv\">Svenska</option>\\n<option value=\"ta\" lang=\"ta\">தமிழ்</option><!-- Tamiḻ -->\\n<option value=\"tt\" lang=\"tt\">Татарча / Tatarça</option>\\n<option value=\"th\" lang=\"th\">ภาษาไทย</option><!-- Phasa Thai -->\\n<option value=\"tg\" lang=\"tg\">Тоҷикӣ</option><!-- Tojikī -->\\n<option value=\"azb\" lang=\"azb\">تۆرکجه</option><!-- Türkce -->\\n<option value=\"tr\" lang=\"tr\">Türkçe</option><!-- Türkçe -->\\n<option value=\"uk\" lang=\"uk\">Українська</option><!-- Ukrayins’ka -->\\n<option value=\"ur\" lang=\"ur\">اردو</option><!-- Urdu -->\\n<option value=\"vi\" lang=\"vi\">Tiếng Việt</option>\\n<option value=\"vo\" lang=\"vo\">Volapük</option>\\n<option value=\"war\" lang=\"war\">Winaray</option>\\n<option value=\"zh-yue\" lang=\"yue\">粵語</option><!-- Yuht Yúh / Jyut6 jyu5 -->\\n<option value=\"zh\" lang=\"zh\">中文</option><!-- Zhōngwén -->\\n</select>\\n<div class=\"styled-select-active-helper\"></div>\\n</div>\\n<i class=\"sprite svg-arrow-down\"></i>\\n</div>\\n</div>\\n<button class=\"pure-button pure-button-primary-progressive\" type=\"submit\">\\n<i class=\"sprite svg-search-icon\" data-jsl10n=\"search-input-button\">Search</i>\\n</button>\\n<input type=\"hidden\" value=\"Go\" name=\"go\">\\n</fieldset>\\n</form>\\n</div>\\n<div class=\"lang-list-button-wrapper\">\\n<button id=\"js-lang-list-button\" class=\"lang-list-button\">\\n<i class=\"sprite svg-language-icon\"></i>\\n<span class=\"lang-list-button-text jsl10n\" data-jsl10n=\"portal.language-button-text\">Read Wikipedia in your language </span>\\n<i class=\"sprite svg-arrow-down-blue\"></i>\\n</button>\\n</div>\\n<div class=\"lang-list-border\"></div>\\n<div class=\"lang-list-container\">\\n<div id=\"js-lang-lists\" class=\"lang-list-content\">\\n<h2 class=\"bookshelf-container\">\\n<span class=\"bookshelf\">\\n<span class=\"text\">\\n<bdi dir=\"ltr\">\\n1&nbsp;000&nbsp;000+\\n</bdi>\\n<span class=\"jsl10n\" data-jsl10n=\"entries\">\\narticles\\n</span>\\n</span>\\n</span>\\n</h2>\\n<div class=\"langlist langlist-large hlist\" data-el-section=\"secondary links\">\\n<ul>\\n<li><a href=\"//pl.wikipedia.org/\" lang=\"pl\">Polski</a></li>\\n<li><a href=\"//ar.wikipedia.org/\" lang=\"ar\" title=\"Al-ʿArabīyah\"><bdi dir=\"rtl\">العربية</bdi></a></li>\\n<li><a href=\"//de.wikipedia.org/\" lang=\"de\">Deutsch</a></li>\\n<li><a href=\"//en.wikipedia.org/\" lang=\"en\" title=\"English\">English</a></li>\\n<li><a href=\"//es.wikipedia.org/\" lang=\"es\">Español</a></li>\\n<li><a href=\"//fr.wikipedia.org/\" lang=\"fr\" title=\"français\">Français</a></li>\\n<li><a href=\"//it.wikipedia.org/\" lang=\"it\">Italiano</a></li>\\n<li><a href=\"//arz.wikipedia.org/\" lang=\"arz\" title=\"Maṣrī\"><bdi dir=\"rtl\">مصرى</bdi></a></li>\\n<li><a href=\"//nl.wikipedia.org/\" lang=\"nl\">Nederlands</a></li>\\n<li><a href=\"//ja.wikipedia.org/\" lang=\"ja\" title=\"Nihongo\">日本語</a></li>\\n<li><a href=\"//pt.wikipedia.org/\" lang=\"pt\">Português</a></li>\\n<li><a href=\"//ru.wikipedia.org/\" lang=\"ru\" title=\"Russkiy\">Русский</a></li>\\n<li><a href=\"//ceb.wikipedia.org/\" lang=\"ceb\">Sinugboanong Binisaya</a></li>\\n<li><a href=\"//sv.wikipedia.org/\" lang=\"sv\">Svenska</a></li>\\n<li><a href=\"//uk.wikipedia.org/\" lang=\"uk\" title=\"Ukrayins’ka\">Українська</a></li>\\n<li><a href=\"//vi.wikipedia.org/\" lang=\"vi\">Tiếng Việt</a></li>\\n<li><a href=\"//war.wikipedia.org/\" lang=\"war\">Winaray</a></li>\\n<li><a href=\"//zh.wikipedia.org/\" lang=\"zh\" title=\"Zhōngwén\">中文</a></li>\\n</ul>\\n</div>\\n<h2 class=\"bookshelf-container\">\\n<span class=\"bookshelf\">\\n<span class=\"text\">\\n<bdi dir=\"ltr\">\\n100&nbsp;000+\\n</bdi>\\n<span class=\"jsl10n\" data-jsl10n=\"portal.entries\">\\narticles\\n</span>\\n</span>\\n</span>\\n</h2>\\n<div class=\"langlist langlist-large hlist\" data-el-section=\"secondary links\">\\n<ul>\\n<li><a href=\"//af.wikipedia.org/\" lang=\"af\">Afrikaans</a></li>\\n<li><a href=\"//ast.wikipedia.org/\" lang=\"ast\">Asturianu</a></li>\\n<li><a href=\"//az.wikipedia.org/\" lang=\"az\">Azərbaycanca</a></li>\\n<li><a href=\"//bg.wikipedia.org/\" lang=\"bg\" title=\"Bǎlgarski\">Български</a></li>\\n<li><a href=\"//zh-min-nan.wikipedia.org/\" lang=\"nan\">Bân-lâm-gú / Hō-ló-oē</a></li>\\n<li><a href=\"//bn.wikipedia.org/\" lang=\"bn\" title=\"Bangla\">বাংলা</a></li>\\n<li><a href=\"//be.wikipedia.org/\" lang=\"be\" title=\"Belaruskaya\">Беларуская</a></li>\\n<li><a href=\"//ca.wikipedia.org/\" lang=\"ca\">Català</a></li>\\n<li><a href=\"//cs.wikipedia.org/\" lang=\"cs\" title=\"čeština\">Čeština</a></li>\\n<li><a href=\"//cy.wikipedia.org/\" lang=\"cy\" title=\"Cymraeg\">Cymraeg</a></li>\\n<li><a href=\"//da.wikipedia.org/\" lang=\"da\">Dansk</a></li>\\n<li><a href=\"//et.wikipedia.org/\" lang=\"et\">Eesti</a></li>\\n<li><a href=\"//el.wikipedia.org/\" lang=\"el\" title=\"Ellīniká\">Ελληνικά</a></li>\\n<li><a href=\"//eo.wikipedia.org/\" lang=\"eo\">Esperanto</a></li>\\n<li><a href=\"//eu.wikipedia.org/\" lang=\"eu\">Euskara</a></li>\\n<li><a href=\"//fa.wikipedia.org/\" lang=\"fa\" title=\"Fārsi\"><bdi dir=\"rtl\">فارسی</bdi></a></li>\\n<li><a href=\"//gl.wikipedia.org/\" lang=\"gl\">Galego</a></li>\\n<li><a href=\"//ko.wikipedia.org/\" lang=\"ko\" title=\"Hangugeo\">한국어</a></li>\\n<li><a href=\"//hy.wikipedia.org/\" lang=\"hy\" title=\"Hayeren\">Հայերեն</a></li>\\n<li><a href=\"//hi.wikipedia.org/\" lang=\"hi\" title=\"Hindī\">हिन्दी</a></li>\\n<li><a href=\"//hr.wikipedia.org/\" lang=\"hr\">Hrvatski</a></li>\\n<li><a href=\"//id.wikipedia.org/\" lang=\"id\">Bahasa Indonesia</a></li>\\n<li><a href=\"//he.wikipedia.org/\" lang=\"he\" title=\"Ivrit\"><bdi dir=\"rtl\">עברית</bdi></a></li>\\n<li><a href=\"//ka.wikipedia.org/\" lang=\"ka\" title=\"Kartuli\">ქართული</a></li>\\n<li><a href=\"//la.wikipedia.org/\" lang=\"la\">Latina</a></li>\\n<li><a href=\"//lv.wikipedia.org/\" lang=\"lv\">Latviešu</a></li>\\n<li><a href=\"//lt.wikipedia.org/\" lang=\"lt\">Lietuvių</a></li>\\n<li><a href=\"//hu.wikipedia.org/\" lang=\"hu\">Magyar</a></li>\\n<li><a href=\"//mk.wikipedia.org/\" lang=\"mk\" title=\"Makedonski\">Македонски</a></li>\\n<li><a href=\"//ms.wikipedia.org/\" lang=\"ms\">Bahasa Melayu</a></li>\\n<li><a href=\"//min.wikipedia.org/\" lang=\"min\">Bahaso Minangkabau</a></li>\\n<li><a href=\"//my.wikipedia.org/\" lang=\"my\" title=\"Myanmarsar\">မြန်မာဘာသာ</a></li>\\n<li lang=\"no\">Norsk<ul><li><a href=\"//no.wikipedia.org/\" lang=\"nb\">bokmål</a></li><li><a href=\"//nn.wikipedia.org/\" lang=\"nn\">nynorsk</a></li></ul></li>\\n<li><a href=\"//ce.wikipedia.org/\" lang=\"ce\" title=\"Noxçiyn\">Нохчийн</a></li>\\n<li><a href=\"//uz.wikipedia.org/\" lang=\"uz\" title=\"Oʻzbekcha\">Oʻzbekcha / Ўзбекча</a></li>\\n<li><a href=\"//kk.wikipedia.org/\" lang=\"kk\"><span lang=\"kk-Cyrl\">Қазақша</span> / <span lang=\"kk-Latn\">Qazaqşa</span> / <bdi lang=\"kk-Arab\" dir=\"rtl\">قازاقشا</bdi></a></li>\\n<li><a href=\"//ro.wikipedia.org/\" lang=\"ro\" title=\"Română\">Română</a></li>\\n<li><a href=\"//simple.wikipedia.org/\" lang=\"en\">Simple English</a></li>\\n<li><a href=\"//sk.wikipedia.org/\" lang=\"sk\">Slovenčina</a></li>\\n<li><a href=\"//sl.wikipedia.org/\" lang=\"sl\">Slovenščina</a></li>\\n<li><a href=\"//sr.wikipedia.org/\" lang=\"sr\">Српски / Srpski</a></li>\\n<li><a href=\"//sh.wikipedia.org/\" lang=\"sh\">Srpskohrvatski / Српскохрватски</a></li>\\n<li><a href=\"//fi.wikipedia.org/\" lang=\"fi\" title=\"suomi\">Suomi</a></li>\\n<li><a href=\"//ta.wikipedia.org/\" lang=\"ta\" title=\"Tamiḻ\">தமிழ்</a></li>\\n<li><a href=\"//tt.wikipedia.org/\" lang=\"tt\">Татарча / Tatarça</a></li>\\n<li><a href=\"//th.wikipedia.org/\" lang=\"th\" title=\"Phasa Thai\">ภาษาไทย</a></li>\\n<li><a href=\"//tg.wikipedia.org/\" lang=\"tg\" title=\"Tojikī\">Тоҷикӣ</a></li>\\n<li><a href=\"//azb.wikipedia.org/\" lang=\"azb\" title=\"Türkce\"><bdi dir=\"rtl\">تۆرکجه</bdi></a></li>\\n<li><a href=\"//tr.wikipedia.org/\" lang=\"tr\" title=\"Türkçe\">Türkçe</a></li>\\n<li><a href=\"//ur.wikipedia.org/\" lang=\"ur\" title=\"Urdu\"><bdi dir=\"rtl\">اردو</bdi></a></li>\\n<li><a href=\"//vo.wikipedia.org/\" lang=\"vo\">Volapük</a></li>\\n<li><a href=\"//zh-yue.wikipedia.org/\" lang=\"yue\" title=\"Yuht Yúh / Jyut6 jyu5\">粵語</a></li>\\n</ul>\\n</div>\\n<h2 class=\"bookshelf-container\">\\n<span class=\"bookshelf\">\\n<span class=\"text\">\\n<bdi dir=\"ltr\">\\n10&nbsp;000+\\n</bdi>\\n<span class=\"jsl10n\" data-jsl10n=\"portal.entries\">\\narticles\\n</span>\\n</span>\\n</span>\\n</h2>\\n<div class=\"langlist hlist\" data-el-section=\"secondary links\">\\n<ul>\\n<li><a href=\"//ace.wikipedia.org/\" lang=\"ace\">Bahsa Acèh</a></li>\\n<li><a href=\"//als.wikipedia.org/\" lang=\"gsw\">Alemannisch</a></li>\\n<li><a href=\"//am.wikipedia.org/\" lang=\"am\" title=\"Āmariññā\">አማርኛ</a></li>\\n<li><a href=\"//an.wikipedia.org/\" lang=\"an\">Aragonés</a></li>\\n<li><a href=\"//ban.wikipedia.org/\" lang=\"ban\" title=\"Basa Bali\">Basa Bali</a></li>\\n<li><a href=\"//map-bms.wikipedia.org/\" lang=\"map-x-bms\">Basa Banyumasan</a></li>\\n<li><a href=\"//ba.wikipedia.org/\" lang=\"ba\" title=\"Başqortsa\">Башҡортса</a></li>\\n<li><a href=\"//be-tarask.wikipedia.org/\" lang=\"be\" title=\"Belaruskaya (Taraškievica)\">Беларуская (Тарашкевіца)</a></li>\\n<li><a href=\"//bcl.wikipedia.org/\" lang=\"bcl\">Bikol Central</a></li>\\n<li><a href=\"//bpy.wikipedia.org/\" lang=\"bpy\" title=\"Bishnupriya Manipuri\">বিষ্ণুপ্রিয়া মণিপুরী</a></li>\\n<li><a href=\"//bar.wikipedia.org/\" lang=\"bar\">Boarisch</a></li>\\n<li><a href=\"//bs.wikipedia.org/\" lang=\"bs\">Bosanski</a></li>\\n<li><a href=\"//br.wikipedia.org/\" lang=\"br\">Brezhoneg</a></li>\\n<li><a href=\"//cv.wikipedia.org/\" lang=\"cv\" title=\"Čăvašla\">Чӑвашла</a></li>\\n<li><a href=\"//nv.wikipedia.org/\" lang=\"nv\">Diné Bizaad</a></li>\\n<li><a href=\"//eml.wikipedia.org/\" lang=\"roa-x-eml\">Emigliàn–Rumagnòl</a></li>\\n<li><a href=\"//hif.wikipedia.org/\" lang=\"hif\">Fiji Hindi</a></li>\\n<li><a href=\"//fo.wikipedia.org/\" lang=\"fo\">Føroyskt</a></li>\\n<li><a href=\"//fy.wikipedia.org/\" lang=\"fy\">Frysk</a></li>\\n<li><a href=\"//ga.wikipedia.org/\" lang=\"ga\">Gaeilge</a></li>\\n<li><a href=\"//gd.wikipedia.org/\" lang=\"gd\">Gàidhlig</a></li>\\n<li><a href=\"//gu.wikipedia.org/\" lang=\"gu\" title=\"Gujarati\">ગુજરાતી</a></li>\\n<li><a href=\"//ha.wikipedia.org/\" lang=\"ha\" title=\"Hausa\">Hausa</a></li>\\n<li><a href=\"//hsb.wikipedia.org/\" lang=\"hsb\">Hornjoserbsce</a></li>\\n<li><a href=\"//io.wikipedia.org/\" lang=\"io\" title=\"Ido\">Ido</a></li>\\n<li><a href=\"//ilo.wikipedia.org/\" lang=\"ilo\">Ilokano</a></li>\\n<li><a href=\"//ia.wikipedia.org/\" lang=\"ia\">Interlingua</a></li>\\n<li><a href=\"//os.wikipedia.org/\" lang=\"os\" title=\"Iron\">Ирон</a></li>\\n<li><a href=\"//is.wikipedia.org/\" lang=\"is\">Íslenska</a></li>\\n<li><a href=\"//jv.wikipedia.org/\" lang=\"jv\" title=\"Jawa\">Jawa</a></li>\\n<li><a href=\"//kn.wikipedia.org/\" lang=\"kn\" title=\"Kannada\">ಕನ್ನಡ</a></li>\\n<li><a href=\"//ht.wikipedia.org/\" lang=\"ht\">Kreyòl Ayisyen</a></li>\\n<li><a href=\"//ku.wikipedia.org/\" lang=\"ku\"><span lang=\"ku-Latn\">Kurdî</span> / <bdi lang=\"ku-Arab\" dir=\"rtl\">كوردی</bdi></a></li>\\n<li><a href=\"//ckb.wikipedia.org/\" lang=\"ckb\" title=\"Kurdîy Nawendî\"><bdi dir=\"rtl\">کوردیی ناوەندی</bdi></a></li>\\n<li><a href=\"//ky.wikipedia.org/\" lang=\"ky\" title=\"Kyrgyzča\">Кыргызча</a></li>\\n<li><a href=\"//mrj.wikipedia.org/\" lang=\"mjr\" title=\"Kyryk Mary\">Кырык мары</a></li>\\n<li><a href=\"//lb.wikipedia.org/\" lang=\"lb\">Lëtzebuergesch</a></li>\\n<li><a href=\"//lij.wikipedia.org/\" lang=\"lij\">Lìgure</a></li>\\n<li><a href=\"//li.wikipedia.org/\" lang=\"li\">Limburgs</a></li>\\n<li><a href=\"//lmo.wikipedia.org/\" lang=\"lmo\">Lombard</a></li>\\n<li><a href=\"//mai.wikipedia.org/\" lang=\"mai\" title=\"Maithilī\">मैथिली</a></li>\\n<li><a href=\"//mg.wikipedia.org/\" lang=\"mg\">Malagasy</a></li>\\n<li><a href=\"//ml.wikipedia.org/\" lang=\"ml\" title=\"Malayalam\">മലയാളം</a></li>\\n<li><a href=\"//zh-classical.wikipedia.org/\" lang=\"lzh\" title=\"Man4jin4 / Wényán\">文言</a></li>\\n<li><a href=\"//mr.wikipedia.org/\" lang=\"mr\" title=\"Marathi\">मराठी</a></li>\\n<li><a href=\"//xmf.wikipedia.org/\" lang=\"xmf\" title=\"Margaluri\">მარგალური</a></li>\\n<li><a href=\"//mzn.wikipedia.org/\" lang=\"mzn\" title=\"Mäzeruni\"><bdi dir=\"rtl\">مازِرونی</bdi></a></li>\\n<li><a href=\"//cdo.wikipedia.org/\" lang=\"cdo\" title=\"Ming-deng-ngu\">Mìng-dĕ̤ng-ngṳ̄ / 閩東語</a></li>\\n<li><a href=\"//mn.wikipedia.org/\" lang=\"mn\" title=\"Mongol\">Монгол</a></li>\\n<li><a href=\"//nap.wikipedia.org/\" lang=\"nap\">Napulitano</a></li>\\n<li><a href=\"//new.wikipedia.org/\" lang=\"new\" title=\"Nepal Bhasa\">नेपाल भाषा</a></li>\\n<li><a href=\"//ne.wikipedia.org/\" lang=\"ne\" title=\"Nepālī\">नेपाली</a></li>\\n<li><a href=\"//frr.wikipedia.org/\" lang=\"frr\">Nordfriisk</a></li>\\n<li><a href=\"//oc.wikipedia.org/\" lang=\"oc\">Occitan</a></li>\\n<li><a href=\"//mhr.wikipedia.org/\" lang=\"mhr\" title=\"Olyk Marij\">Олык марий</a></li>\\n<li><a href=\"//or.wikipedia.org/\" lang=\"or\" title=\"Oṛiā\">ଓଡି଼ଆ</a></li>\\n<li><a href=\"//as.wikipedia.org/\" lang=\"as\" title=\"Ôxômiya\">অসমীযা়</a></li>\\n<li><a href=\"//pa.wikipedia.org/\" lang=\"pa\" title=\"Pañjābī (Gurmukhī)\">ਪੰਜਾਬੀ (ਗੁਰਮੁਖੀ)</a></li>\\n<li><a href=\"//pnb.wikipedia.org/\" lang=\"pnb\" title=\"Pañjābī (Shāhmukhī)\"><bdi dir=\"rtl\">پنجابی (شاہ مکھی)</bdi></a></li>\\n<li><a href=\"//ps.wikipedia.org/\" lang=\"ps\" title=\"Paʂto\"><bdi dir=\"rtl\">پښتو</bdi></a></li>\\n<li><a href=\"//pms.wikipedia.org/\" lang=\"pms\">Piemontèis</a></li>\\n<li><a href=\"//nds.wikipedia.org/\" lang=\"nds\">Plattdüütsch</a></li>\\n<li><a href=\"//crh.wikipedia.org/\" lang=\"crh\">Qırımtatarca</a></li>\\n<li><a href=\"//qu.wikipedia.org/\" lang=\"qu\">Runa Simi</a></li>\\n<li><a href=\"//sa.wikipedia.org/\" lang=\"sa\" title=\"Saṃskṛtam\">संस्कृतम्</a></li>\\n<li><a href=\"//sah.wikipedia.org/\" lang=\"sah\" title=\"Saxa Tyla\">Саха Тыла</a></li>\\n<li><a href=\"//sco.wikipedia.org/\" lang=\"sco\">Scots</a></li>\\n<li><a href=\"//sq.wikipedia.org/\" lang=\"sq\">Shqip</a></li>\\n<li><a href=\"//scn.wikipedia.org/\" lang=\"scn\">Sicilianu</a></li>\\n<li><a href=\"//si.wikipedia.org/\" lang=\"si\" title=\"Siṃhala\">සිංහල</a></li>\\n<li><a href=\"//sd.wikipedia.org/\" lang=\"sd\" title=\"Sindhī\"><bdi dir=\"rtl\">سنڌي</bdi></a></li>\\n<li><a href=\"//szl.wikipedia.org/\" lang=\"szl\">Ślůnski</a></li>\\n<li><a href=\"//su.wikipedia.org/\" lang=\"su\">Basa Sunda</a></li>\\n<li><a href=\"//sw.wikipedia.org/\" lang=\"sw\">Kiswahili</a></li>\\n<li><a href=\"//tl.wikipedia.org/\" lang=\"tl\">Tagalog</a></li>\\n<li><a href=\"//shn.wikipedia.org/\" lang=\"shn\">ၽႃႇသႃႇတႆး</a></li>\\n<li><a href=\"//te.wikipedia.org/\" lang=\"te\" title=\"Telugu\">తెలుగు</a></li>\\n<li><a href=\"//bug.wikipedia.org/\" lang=\"bug\">ᨅᨔ ᨕᨙᨁᨗ / Basa Ugi</a></li>\\n<li><a href=\"//vec.wikipedia.org/\" lang=\"vec\">Vèneto</a></li>\\n<li><a href=\"//wa.wikipedia.org/\" lang=\"wa\">Walon</a></li>\\n<li><a href=\"//wuu.wikipedia.org/\" lang=\"wuu\" title=\"Wúyǔ\">吴语</a></li>\\n<li><a href=\"//yi.wikipedia.org/\" lang=\"yi\" title=\"Yidiš\"><bdi dir=\"rtl\">ייִדיש</bdi></a></li>\\n<li><a href=\"//yo.wikipedia.org/\" lang=\"yo\">Yorùbá</a></li>\\n<li><a href=\"//diq.wikipedia.org/\" lang=\"diq\" title=\"Zazaki\">Zazaki</a></li>\\n<li><a href=\"//bat-smg.wikipedia.org/\" lang=\"sgs\">Žemaitėška</a></li>\\n<li><a href=\"//zu.wikipedia.org/\" lang=\"zu\">isiZulu</a></li>\\n</ul>\\n</div>\\n<h2 class=\"bookshelf-container\">\\n<span class=\"bookshelf\">\\n<span class=\"text\">\\n<bdi dir=\"ltr\">\\n1&nbsp;000+\\n</bdi>\\n<span class=\"jsl10n\" data-jsl10n=\"portal.entries\">\\narticles\\n</span>\\n</span>\\n</span>\\n</h2>\\n<div class=\"langlist hlist\" data-el-section=\"secondary links\">\\n<ul>\\n<li><a href=\"//lad.wikipedia.org/\" lang=\"lad\"><span lang=\"lad-Latn\">Dzhudezmo</span> / <bdi lang=\"lad-Hebr\" dir=\"rtl\">לאדינו</bdi></a></li>\\n<li><a href=\"//kbd.wikipedia.org/\" lang=\"kbd\" title=\"Adighabze\">Адыгэбзэ</a></li>\\n<li><a href=\"//ang.wikipedia.org/\" lang=\"ang\">Ænglisc</a></li>\\n<li><a href=\"//smn.wikipedia.org/\" lang=\"smn\" title=\"anarâškielâ\">Anarâškielâ</a></li>\\n<li><a href=\"//ab.wikipedia.org/\" lang=\"ab\" title=\"aṗsshwa\">аԥсшәа</a></li>\\n<li><a href=\"//hyw.wikipedia.org/\" lang=\"hyw\" title=\"Arevmdahayeren\">Արեւմտահայերէն</a></li>\\n<li><a href=\"//roa-rup.wikipedia.org/\" lang=\"roa-rup\">Armãneashce</a></li>\\n<li><a href=\"//frp.wikipedia.org/\" lang=\"frp\">Arpitan</a></li>\\n<li><a href=\"//arc.wikipedia.org/\" lang=\"arc\" title=\"Ātûrāyâ\"><bdi dir=\"rtl\">ܐܬܘܪܝܐ</bdi></a></li>\\n<li><a href=\"//gn.wikipedia.org/\" lang=\"gn\">Avañe’ẽ</a></li>\\n<li><a href=\"//av.wikipedia.org/\" lang=\"av\" title=\"Avar\">Авар</a></li>\\n<li><a href=\"//ay.wikipedia.org/\" lang=\"ay\">Aymar</a></li>\\n<li><a href=\"//bjn.wikipedia.org/\" lang=\"bjn\">Bahasa Banjar</a></li>\\n<li><a href=\"//bh.wikipedia.org/\" lang=\"bh\" title=\"Bhōjapurī\">भोजपुरी</a></li>\\n<li><a href=\"//bi.wikipedia.org/\" lang=\"bi\">Bislama</a></li>\\n<li><a href=\"//bo.wikipedia.org/\" lang=\"bo\" title=\"Bod Skad\">བོད་ཡིག</a></li>\\n<li><a href=\"//bxr.wikipedia.org/\" lang=\"bxr\" title=\"Buryad\">Буряад</a></li>\\n<li><a href=\"//cbk-zam.wikipedia.org/\" lang=\"cbk-x-zam\">Chavacano de Zamboanga</a></li>\\n<li><a href=\"//co.wikipedia.org/\" lang=\"co\">Corsu</a></li>\\n<li><a href=\"//za.wikipedia.org/\" lang=\"za\">Vahcuengh / 話僮</a></li>\\n<li><a href=\"//dag.wikipedia.org/\" lang=\"dag\">Dagbanli</a></li>\\n<li><a href=\"//ary.wikipedia.org/\" lang=\"ary\" title=\"Darija\"><bdi dir=\"rtl\">الدارجة</bdi></a></li>\\n<li><a href=\"//se.wikipedia.org/\" lang=\"se\">Davvisámegiella</a></li>\\n<li><a href=\"//pdc.wikipedia.org/\" lang=\"pdc\">Deitsch</a></li>\\n<li><a href=\"//dv.wikipedia.org/\" lang=\"dv\" title=\"Divehi\"><bdi dir=\"rtl\">ދިވެހިބަސް</bdi></a></li>\\n<li><a href=\"//dsb.wikipedia.org/\" lang=\"dsb\">Dolnoserbski</a></li>\\n<li><a href=\"//myv.wikipedia.org/\" lang=\"myv\" title=\"Erzjanj\">Эрзянь</a></li>\\n<li><a href=\"//ext.wikipedia.org/\" lang=\"ext\">Estremeñu</a></li>\\n<li><a href=\"//fur.wikipedia.org/\" lang=\"fur\">Furlan</a></li>\\n<li><a href=\"//gv.wikipedia.org/\" lang=\"gv\">Gaelg</a></li>\\n<li><a href=\"//gag.wikipedia.org/\" lang=\"gag\">Gagauz</a></li>\\n<li><a href=\"//inh.wikipedia.org/\" lang=\"inh\" title=\"Ghalghai\">ГӀалгӀай</a></li>\\n<li><a href=\"//ki.wikipedia.org/\" lang=\"ki\">Gĩkũyũ</a></li>\\n<li><a href=\"//glk.wikipedia.org/\" lang=\"glk\" title=\"Giləki\"><bdi dir=\"rtl\">گیلکی</bdi></a></li>\\n<li><a href=\"//gan.wikipedia.org/\" lang=\"gan\" title=\"Gon ua\" data-hans=\"赣语\" data-hant=\"贛語\" class=\"jscnconv\">赣语 / 贛語</a></li>\\n<li><a href=\"//hak.wikipedia.org/\" lang=\"hak\">Hak-kâ-ngî / 客家語</a></li>\\n<li><a href=\"//xal.wikipedia.org/\" lang=\"xal\" title=\"Halʹmg\">Хальмг</a></li>\\n<li><a href=\"//haw.wikipedia.org/\" lang=\"haw\">ʻŌlelo Hawaiʻi</a></li>\\n<li><a href=\"//ig.wikipedia.org/\" lang=\"ig\">Igbo</a></li>\\n<li><a href=\"//rw.wikipedia.org/\" lang=\"rw\">Ikinyarwanda</a></li>\\n<li><a href=\"//ie.wikipedia.org/\" lang=\"ie\">Interlingue</a></li>\\n<li><a href=\"//kbp.wikipedia.org/\" lang=\"kbp\">Kabɩyɛ</a></li>\\n<li><a href=\"//pam.wikipedia.org/\" lang=\"pam\">Kapampangan</a></li>\\n<li><a href=\"//csb.wikipedia.org/\" lang=\"csb\">Kaszëbsczi</a></li>\\n<li><a href=\"//kw.wikipedia.org/\" lang=\"kw\">Kernewek</a></li>\\n<li><a href=\"//km.wikipedia.org/\" lang=\"km\" title=\"Phéasa Khmér\">ភាសាខ្មែរ</a></li>\\n<li><a href=\"//kv.wikipedia.org/\" lang=\"kv\" title=\"Komi\">Коми</a></li>\\n<li><a href=\"//koi.wikipedia.org/\" lang=\"koi\" title=\"Perem Komi\">Перем коми</a></li>\\n<li><a href=\"//kg.wikipedia.org/\" lang=\"kg\">Kongo</a></li>\\n<li><a href=\"//gom.wikipedia.org/\" lang=\"gom\">कोंकणी / Konknni</a></li>\\n<li><a href=\"//ks.wikipedia.org/\" lang=\"ks\" title=\"Koshur\"><bdi dir=\"rtl\">كٲشُر</bdi></a></li>\\n<li><a href=\"//gcr.wikipedia.org/\" lang=\"gcr\" title=\"Kriyòl Gwiyannen\">Kriyòl Gwiyannen</a></li>\\n<li><a href=\"//lo.wikipedia.org/\" lang=\"lo\" title=\"Phaasaa Laao\">ພາສາລາວ</a></li>\\n<li><a href=\"//lbe.wikipedia.org/\" lang=\"lbe\" title=\"Lakku\">Лакку</a></li>\\n<li><a href=\"//ltg.wikipedia.org/\" lang=\"ltg\">Latgaļu</a></li>\\n<li><a href=\"//lez.wikipedia.org/\" lang=\"lez\" title=\"Lezgi\">Лезги</a></li>\\n<li><a href=\"//nia.wikipedia.org/\" lang=\"nia\">Li Niha</a></li>\\n<li><a href=\"//ln.wikipedia.org/\" lang=\"ln\">Lingála</a></li>\\n<li><a href=\"//jbo.wikipedia.org/\" lang=\"jbo\">lojban</a></li>\\n<li><a href=\"//lg.wikipedia.org/\" lang=\"lg\">Luganda</a></li>\\n<li><a href=\"//mt.wikipedia.org/\" lang=\"mt\">Malti</a></li>\\n<li><a href=\"//mi.wikipedia.org/\" lang=\"mi\">Māori</a></li>\\n<li><a href=\"//tw.wikipedia.org/\" lang=\"tw\" title=\"Mfantse\">Twi</a></li>\\n<li><a href=\"//mwl.wikipedia.org/\" lang=\"mwl\">Mirandés</a></li>\\n<li><a href=\"//mdf.wikipedia.org/\" lang=\"mdf\" title=\"Mokšenj\">Мокшень</a></li>\\n<li><a href=\"//mnw.wikipedia.org/\" lang=\"mnw\">ဘာသာ မန်</a></li>\\n<li><a href=\"//nqo.wikipedia.org/\" lang=\"nqo\" title=\"N&#x27;Ko\">ߒߞߏ</a></li>\\n<li><a href=\"//fj.wikipedia.org/\" lang=\"fj\">Na Vosa Vaka-Viti</a></li>\\n<li><a href=\"//nah.wikipedia.org/\" lang=\"nah\">Nāhuatlahtōlli</a></li>\\n<li><a href=\"//na.wikipedia.org/\" lang=\"na\">Dorerin Naoero</a></li>\\n<li><a href=\"//nds-nl.wikipedia.org/\" lang=\"nds-nl\">Nedersaksisch</a></li>\\n<li><a href=\"//nrm.wikipedia.org/\" lang=\"roa-x-nrm\">Nouormand / Normaund</a></li>\\n<li><a href=\"//nov.wikipedia.org/\" lang=\"nov\">Novial</a></li>\\n<li><a href=\"//om.wikipedia.org/\" lang=\"om\" title=\"Ingiliffaa\">Afaan Oromoo</a></li>\\n<li><a href=\"//pi.wikipedia.org/\" lang=\"pi\" title=\"Pāḷi\">पालि</a></li>\\n<li><a href=\"//pag.wikipedia.org/\" lang=\"pag\">Pangasinán</a></li>\\n<li><a href=\"//pap.wikipedia.org/\" lang=\"pap\">Papiamentu</a></li>\\n<li><a href=\"//pfl.wikipedia.org/\" lang=\"pfl\">Pfälzisch</a></li>\\n<li><a href=\"//pcd.wikipedia.org/\" lang=\"pcd\">Picard</a></li>\\n<li><a href=\"//krc.wikipedia.org/\" lang=\"krc\" title=\"Qaraçay–Malqar\">Къарачай–малкъар</a></li>\\n<li><a href=\"//kaa.wikipedia.org/\" lang=\"kaa\">Qaraqalpaqsha</a></li>\\n<li><a href=\"//ksh.wikipedia.org/\" lang=\"ksh\">Ripoarisch</a></li>\\n<li><a href=\"//rm.wikipedia.org/\" lang=\"rm\">Rumantsch</a></li>\\n<li><a href=\"//rue.wikipedia.org/\" lang=\"rue\" title=\"Rusin’skyj\">Русиньскый</a></li>\\n<li><a href=\"//sm.wikipedia.org/\" lang=\"sm\">Gagana Sāmoa</a></li>\\n<li><a href=\"//sat.wikipedia.org/\" lang=\"sat\" title=\"Santali\">ᱥᱟᱱᱛᱟᱲᱤ</a></li>\\n<li><a href=\"//sc.wikipedia.org/\" lang=\"sc\" title=\"Sardu\">Sardu</a></li>\\n<li><a href=\"//trv.wikipedia.org/\" lang=\"trv\">Seediq</a></li>\\n<li><a href=\"//stq.wikipedia.org/\" lang=\"stq\">Seeltersk</a></li>\\n<li><a href=\"//nso.wikipedia.org/\" lang=\"nso\">Sesotho sa Leboa</a></li>\\n<li><a href=\"//sn.wikipedia.org/\" lang=\"sn\">ChiShona</a></li>\\n<li><a href=\"//cu.wikipedia.org/\" lang=\"cu\" title=\"Slověnĭskŭ\">Словѣ́ньскъ / ⰔⰎⰑⰂⰡⰐⰠⰔⰍⰟ</a></li>\\n<li><a href=\"//so.wikipedia.org/\" lang=\"so\">Soomaaliga</a></li>\\n<li><a href=\"//srn.wikipedia.org/\" lang=\"srn\">Sranantongo</a></li>\\n<li><a href=\"//kab.wikipedia.org/\" lang=\"kab\" title=\"Taqbaylit\">Taqbaylit</a></li>\\n<li><a href=\"//roa-tara.wikipedia.org/\" lang=\"roa\">Tarandíne</a></li>\\n<li><a href=\"//tet.wikipedia.org/\" lang=\"tet\">Tetun</a></li>\\n<li><a href=\"//tpi.wikipedia.org/\" lang=\"tpi\">Tok Pisin</a></li>\\n<li><a href=\"//to.wikipedia.org/\" lang=\"to\">faka Tonga</a></li>\\n<li><a href=\"//chr.wikipedia.org/\" lang=\"chr\" title=\"Tsalagi\">ᏣᎳᎩ</a></li>\\n<li><a href=\"//tum.wikipedia.org/\" lang=\"tum\">chiTumbuka</a></li>\\n<li><a href=\"//tk.wikipedia.org/\" lang=\"tk\">Türkmençe</a></li>\\n<li><a href=\"//tyv.wikipedia.org/\" lang=\"tyv\" title=\"Tyva dyl\">Тыва дыл</a></li>\\n<li><a href=\"//udm.wikipedia.org/\" lang=\"udm\" title=\"Udmurt\">Удмурт</a></li>\\n<li><a href=\"//ug.wikipedia.org/\" lang=\"ug\"><bdi dir=\"rtl\">ئۇيغۇرچه</bdi></a></li>\\n<li><a href=\"//vep.wikipedia.org/\" lang=\"vep\">Vepsän</a></li>\\n<li><a href=\"//fiu-vro.wikipedia.org/\" lang=\"fiu-vro\">Võro</a></li>\\n<li><a href=\"//vls.wikipedia.org/\" lang=\"vls\">West-Vlams</a></li>\\n<li><a href=\"//wo.wikipedia.org/\" lang=\"wo\">Wolof</a></li>\\n<li><a href=\"//xh.wikipedia.org/\" lang=\"xh\">isiXhosa</a></li>\\n<li><a href=\"//zea.wikipedia.org/\" lang=\"zea\">Zeêuws</a></li>\\n<li><a href=\"//ty.wikipedia.org/\" lang=\"ty\">Reo tahiti</a></li>\\n</ul>\\n</div>\\n<h2 class=\"bookshelf-container\">\\n<span class=\"bookshelf\">\\n<span class=\"text\">\\n<bdi dir=\"ltr\">\\n100+\\n</bdi>\\n<span class=\"jsl10n\" data-jsl10n=\"portal.entries\">\\narticles\\n</span>\\n</span>\\n</span>\\n</h2>\\n<div class=\"langlist langlist-tiny hlist\" data-el-section=\"secondary links\">\\n<ul>\\n<li><a href=\"//ak.wikipedia.org/\" lang=\"ak\">Akan</a></li>\\n<li><a href=\"//bm.wikipedia.org/\" lang=\"bm\">Bamanankan</a></li>\\n<li><a href=\"//ch.wikipedia.org/\" lang=\"ch\">Chamoru</a></li>\\n<li><a href=\"//ny.wikipedia.org/\" lang=\"ny\">Chichewa</a></li>\\n<li><a href=\"//ee.wikipedia.org/\" lang=\"ee\">Eʋegbe</a></li>\\n<li><a href=\"//ff.wikipedia.org/\" lang=\"ff\">Fulfulde</a></li>\\n<li><a href=\"//got.wikipedia.org/\" lang=\"got\" title=\"Gutisk\">𐌲𐌿𐍄𐌹𐍃𐌺</a></li>\\n<li><a href=\"//iu.wikipedia.org/\" lang=\"iu\">ᐃᓄᒃᑎᑐᑦ / Inuktitut</a></li>\\n<li><a href=\"//ik.wikipedia.org/\" lang=\"ik\">Iñupiak</a></li>\\n<li><a href=\"//kl.wikipedia.org/\" lang=\"kl\">Kalaallisut</a></li>\\n<li><a href=\"//mad.wikipedia.org/\" lang=\"mad\">Madhurâ</a></li>\\n<li><a href=\"//cr.wikipedia.org/\" lang=\"cr\">Nēhiyawēwin / ᓀᐦᐃᔭᐍᐏᐣ</a></li>\\n<li><a href=\"//pih.wikipedia.org/\" lang=\"pih\">Norfuk / Pitkern</a></li>\\n<li><a href=\"//ami.wikipedia.org/\" lang=\"ami\">Pangcah</a></li>\\n<li><a href=\"//pwn.wikipedia.org/\" lang=\"pwn\">pinayuanan</a></li>\\n<li><a href=\"//pnt.wikipedia.org/\" lang=\"pnt\" title=\"Pontiaká\">Ποντιακά</a></li>\\n<li><a href=\"//dz.wikipedia.org/\" lang=\"dz\" title=\"Rdzong-Kha\">རྫོང་ཁ</a></li>\\n<li><a href=\"//rmy.wikipedia.org/\" lang=\"rmy\">romani čhib</a></li>\\n<li><a href=\"//rn.wikipedia.org/\" lang=\"rn\">Ikirundi</a></li>\\n<li><a href=\"//sg.wikipedia.org/\" lang=\"sg\">Sängö</a></li>\\n<li><a href=\"//st.wikipedia.org/\" lang=\"st\">Sesotho</a></li>\\n<li><a href=\"//tn.wikipedia.org/\" lang=\"tn\">Setswana</a></li>\\n<li><a href=\"//ss.wikipedia.org/\" lang=\"ss\">SiSwati</a></li>\\n<li><a href=\"//ti.wikipedia.org/\" lang=\"ti\" title=\"Təgərəña\">ትግርኛ</a></li>\\n<li><a href=\"//din.wikipedia.org/\" lang=\"din\">Thuɔŋjäŋ</a></li>\\n<li><a href=\"//chy.wikipedia.org/\" lang=\"chy\">Tsėhesenėstsestotse</a></li>\\n<li><a href=\"//ts.wikipedia.org/\" lang=\"ts\">Xitsonga</a></li>\\n<li><a href=\"//ve.wikipedia.org/\" lang=\"ve\">Tshivenḓa</a></li>\\n</ul>\\n</div>\\n<div class=\"langlist langlist-others hlist\" data-el-section=\"other languages\">\\n<a class=\"jsl10n\" href=\"https://meta.wikimedia.org/wiki/Special:MyLanguage/List_of_Wikipedias\" lang data-jsl10n=\"other-languages-label\">Other languages</a>\\n</div></div>\\n</div>\\n<hr>\\n<div class=\"footer\" data-el-section=\"other projects\">\\n<div class=\"footer-sidebar\">\\n<div class=\"footer-sidebar-content\">\\n<div class=\"footer-sidebar-icon sprite svg-Wikimedia-logo_black\">\\n</div>\\n<div class=\"footer-sidebar-text jsl10n\" data-jsl10n=\"portal.footer-description\">\\nWikipedia is hosted by the Wikimedia Foundation, a non-profit organization that also hosts a range of other projects.\\n</div>\\n<div class=\"footer-sidebar-text\">\\n<a href=\"https://donate.wikimedia.org/?utm_medium=portal&utm_campaign=portalFooter&utm_source=portalFooter\" target=\"_blank\">\\n<span class=\"jsl10n\" data-jsl10n=\"footer-donate\">You can support our work with a donation.</span>\\n</a>\\n</div>\\n</div>\\n</div>\\n<div class=\"footer-sidebar app-badges\">\\n<div class=\"footer-sidebar-content\">\\n<div class=\"footer-sidebar-text\">\\n<div class=\"footer-sidebar-icon sprite svg-wikipedia_app_tile\"></div>\\n<strong class=\"jsl10n\" data-jsl10n=\"portal.app-links.title\">\\n<a class=\"jsl10n\" data-jsl10n=\"portal.app-links.url\" href=\"https://en.wikipedia.org/wiki/List_of_Wikipedia_mobile_applications\">\\nDownload Wikipedia for Android or iOS\\n</a>\\n</strong>\\n<p class=\"jsl10n\" data-jsl10n=\"portal.app-links.description\">\\nSave your favorite articles to read offline, sync your reading lists across devices and customize your reading experience with the official Wikipedia app.\\n</p>\\n<ul>\\n<li class=\"app-badge app-badge-android\">\\n<a target=\"_blank\" rel=\"noreferrer\" href=\"https://play.google.com/store/apps/details?id=org.wikipedia&referrer=utm_source%3Dportal%26utm_medium%3Dbutton%26anid%3Dadmob\">\\n<span class=\"jsl10n sprite svg-badge_google_play_store\" data-jsl10n=\"portal.app-links.google-store\">Google Play Store</span>\\n</a>\\n</li>\\n<li class=\"app-badge app-badge-ios\">\\n<a target=\"_blank\" rel=\"noreferrer\" href=\"https://itunes.apple.com/app/apple-store/id324715238?pt=208305&ct=portal&mt=8\">\\n<span class=\"jsl10n sprite svg-badge_ios_app_store\" data-jsl10n=\"portal.app-links.apple-store\">Apple App Store</span>\\n</a>\\n</li>\\n</ul>\\n</div>\\n</div>\\n</div>\\n<div class=\"other-projects\">\\n<div class=\"other-project\">\\n<a class=\"other-project-link\" href=\"//commons.wikimedia.org/\">\\n<div class=\"other-project-icon\">\\n<div class=\"sprite svg-Commons-logo_sister\"></div>\\n</div>\\n<div class=\"other-project-text\">\\n<span class=\"other-project-title jsl10n\" data-jsl10n=\"commons.name\">Commons</span>\\n<span class=\"other-project-tagline jsl10n\" data-jsl10n=\"commons.slogan\">Freely usable photos &amp; more</span>\\n</div>\\n</a>\\n</div>\\n<div class=\"other-project\">\\n<a class=\"other-project-link\" href=\"//www.wikivoyage.org/\">\\n<div class=\"other-project-icon\">\\n<div class=\"sprite svg-Wikivoyage-logo_sister\"></div>\\n</div>\\n<div class=\"other-project-text\">\\n<span class=\"other-project-title jsl10n\" data-jsl10n=\"wikivoyage.name\">Wikivoyage</span>\\n<span class=\"other-project-tagline jsl10n\" data-jsl10n=\"wikivoyage.slogan\">Free travel guide</span>\\n</div>\\n</a>\\n</div>\\n<div class=\"other-project\">\\n<a class=\"other-project-link\" href=\"//www.wiktionary.org/\">\\n<div class=\"other-project-icon\">\\n<div class=\"sprite svg-Wiktionary-logo_sister\"></div>\\n</div>\\n<div class=\"other-project-text\">\\n<span class=\"other-project-title jsl10n\" data-jsl10n=\"wiktionary.name\">Wiktionary</span>\\n<span class=\"other-project-tagline jsl10n\" data-jsl10n=\"wiktionary.slogan\">Free dictionary</span>\\n</div>\\n</a>\\n</div>\\n<div class=\"other-project\">\\n<a class=\"other-project-link\" href=\"//www.wikibooks.org/\">\\n<div class=\"other-project-icon\">\\n<div class=\"sprite svg-Wikibooks-logo_sister\"></div>\\n</div>\\n<div class=\"other-project-text\">\\n<span class=\"other-project-title jsl10n\" data-jsl10n=\"wikibooks.name\">Wikibooks</span>\\n<span class=\"other-project-tagline jsl10n\" data-jsl10n=\"wikibooks.slogan\">Free textbooks</span>\\n</div>\\n</a>\\n</div>\\n<div class=\"other-project\">\\n<a class=\"other-project-link\" href=\"//www.wikinews.org/\">\\n<div class=\"other-project-icon\">\\n<div class=\"sprite svg-Wikinews-logo_sister\"></div>\\n</div>\\n<div class=\"other-project-text\">\\n<span class=\"other-project-title jsl10n\" data-jsl10n=\"wikinews.name\">Wikinews</span>\\n<span class=\"other-project-tagline jsl10n\" data-jsl10n=\"wikinews.slogan\">Free news source</span>\\n</div>\\n</a>\\n</div>\\n<div class=\"other-project\">\\n<a class=\"other-project-link\" href=\"//www.wikidata.org/\">\\n<div class=\"other-project-icon\">\\n<div class=\"sprite svg-Wikidata-logo_sister\"></div>\\n</div>\\n<div class=\"other-project-text\">\\n<span class=\"other-project-title jsl10n\" data-jsl10n=\"wikidata.name\">Wikidata</span>\\n<span class=\"other-project-tagline jsl10n\" data-jsl10n=\"wikidata.slogan\">Free knowledge base</span>\\n</div>\\n</a>\\n</div>\\n<div class=\"other-project\">\\n<a class=\"other-project-link\" href=\"//www.wikiversity.org/\">\\n<div class=\"other-project-icon\">\\n<div class=\"sprite svg-Wikiversity-logo_sister\"></div>\\n</div>\\n<div class=\"other-project-text\">\\n<span class=\"other-project-title jsl10n\" data-jsl10n=\"wikiversity.name\">Wikiversity</span>\\n<span class=\"other-project-tagline jsl10n\" data-jsl10n=\"wikiversity.slogan\">Free course materials</span>\\n</div>\\n</a>\\n</div>\\n<div class=\"other-project\">\\n<a class=\"other-project-link\" href=\"//www.wikiquote.org/\">\\n<div class=\"other-project-icon\">\\n<div class=\"sprite svg-Wikiquote-logo_sister\"></div>\\n</div>\\n<div class=\"other-project-text\">\\n<span class=\"other-project-title jsl10n\" data-jsl10n=\"wikiquote.name\">Wikiquote</span>\\n<span class=\"other-project-tagline jsl10n\" data-jsl10n=\"wikiquote.slogan\">Free quote compendium</span>\\n</div>\\n</a>\\n</div>\\n<div class=\"other-project\">\\n<a class=\"other-project-link\" href=\"//www.mediawiki.org/\">\\n<div class=\"other-project-icon\">\\n<div class=\"sprite svg-MediaWiki-logo_sister\"></div>\\n</div>\\n<div class=\"other-project-text\">\\n<span class=\"other-project-title jsl10n\" data-jsl10n=\"mediawiki.name\">MediaWiki</span>\\n<span class=\"other-project-tagline jsl10n\" data-jsl10n=\"mediawiki.slogan\">Free &amp; open wiki application</span>\\n</div>\\n</a>\\n</div>\\n<div class=\"other-project\">\\n<a class=\"other-project-link\" href=\"//www.wikisource.org/\">\\n<div class=\"other-project-icon\">\\n<div class=\"sprite svg-Wikisource-logo_sister\"></div>\\n</div>\\n<div class=\"other-project-text\">\\n<span class=\"other-project-title jsl10n\" data-jsl10n=\"wikisource.name\">Wikisource</span>\\n<span class=\"other-project-tagline jsl10n\" data-jsl10n=\"wikisource.slogan\">Free library</span>\\n</div>\\n</a>\\n</div>\\n<div class=\"other-project\">\\n<a class=\"other-project-link\" href=\"//species.wikimedia.org/\">\\n<div class=\"other-project-icon\">\\n<div class=\"sprite svg-Wikispecies-logo_sister\"></div>\\n</div>\\n<div class=\"other-project-text\">\\n<span class=\"other-project-title jsl10n\" data-jsl10n=\"wikispecies.name\">Wikispecies</span>\\n<span class=\"other-project-tagline jsl10n\" data-jsl10n=\"wikispecies.slogan\">Free species directory</span>\\n</div>\\n</a>\\n</div>\\n<div class=\"other-project\">\\n<a class=\"other-project-link\" href=\"//meta.wikimedia.org/\">\\n<div class=\"other-project-icon\">\\n<div class=\"sprite svg-Meta-Wiki-logo_sister\"></div>\\n</div>\\n<div class=\"other-project-text\">\\n<span class=\"other-project-title jsl10n\" data-jsl10n=\"metawiki.name\">Meta-Wiki</span>\\n<span class=\"other-project-tagline jsl10n\" data-jsl10n=\"metawiki.slogan\">Community coordination &amp; documentation</span>\\n</div>\\n</a>\\n</div>\\n</div>\\n</div>\\n<hr>\\n<p class=\"site-license\">\\n<small class=\"jsl10n\" data-jsl10n=\"license\">This page is available under the <a href=\"https://creativecommons.org/licenses/by-sa/3.0/\">Creative Commons Attribution-ShareAlike License</a></small>\\n<small class=\"jsl10n\" data-jsl10n=\"terms\"><a href=\"https://meta.wikimedia.org/wiki/Terms_of_use\">Terms of Use</a></small>\\n<small class=\"jsl10n\" data-jsl10n=\"privacy-policy\"><a href=\"https://meta.wikimedia.org/wiki/Privacy_policy\">Privacy Policy</a></small>\\n</p>\\n<script>\\nvar rtlLangs = [\\'ar\\',\\'arc\\',\\'ary\\',\\'arz\\',\\'bcc\\',\\'bgn\\',\\'bqi\\',\\'ckb\\',\\'dv\\',\\'fa\\',\\'glk\\',\\'he\\',\\'kk-cn\\',\\'kk-arab\\',\\'khw\\',\\'ks\\',\\'ku-arab\\',\\'lki\\',\\'luz\\',\\'mzn\\',\\'nqo\\',\\'pnb\\',\\'ps\\',\\'sd\\',\\'sdh\\',\\'skr\\',\\'ug\\',\\'ur\\',\\'yi\\'],\\n    translationsHash = \\'5446eb72\\',\\n    /**\\n     * This variable is used to convert the generic \"portal\" keyword in the data-jsl10n attributes\\n     * e.g. \\'data-jsl10n=\"portal.footer-description\"\\' into a portal-specific key, e.g. \"wiki\"\\n     * for the Wikipedia portal.\\n     */\\n    translationsPortalKey = \\'wiki\\';\\n    /**\\n     * The wm-typeahead.js feature is used for search,and it uses domain name for searching. We want domain\\n     * name to be portal Specific (different for every portal).So by declaring variable \\'portalSearchDomain\\'\\n     * in index.handlebars we will make this portal Specific.\\n    **/\\n    portalSearchDomain = \\'wikipedia.org\\'\\n    /*\\n     This object is used by l10n scripts (page-localized.js, topten-localized.js)\\n     to reveal the page content after l10n json is loaded.\\n     A timer is also set to prevent JS from hiding page content indefinitelty.\\n     This script is inlined to safeguard againt script loading errors and placed\\n     at the top of the page to safeguard against any HTML loading/parsing errors.\\n    */\\n    wmL10nVisible = {\\n        ready: false,\\n        makeVisible: function(){\\n            if ( !wmL10nVisible.ready ) {\\n                wmL10nVisible.ready = true;\\n                document.body.className += \\' jsl10n-visible\\';\\n            }\\n        }\\n    };\\n    window.setTimeout( wmL10nVisible.makeVisible, 1000 )\\n</script>\\n<script src=\"portal/wikipedia.org/assets/js/index-f1d77ed19b.js\"></script>\\n<!--[if gt IE 9]><!-->\\n<script src=\"portal/wikipedia.org/assets/js/gt-ie9-ce3fe8e88d.js\"></script>\\n<!--<![endif]-->\\n<!--[if lte IE 9]><!-->\\n<style>\\n.styled-select {\\n        display: block;\\n    }\\n</style>\\n<!--<![endif]-->\\n<!--[if lte IE 9]>\\n<style>\\n    .langlist > ul {\\n        text-align: center;\\n    }\\n    .langlist > ul > li {\\n        display: inline;\\n        padding: 0 0.5em;\\n    }\\n</style>\\n<![endif]-->\\n</body>\\n</html>\\n'"
      ]
     },
     "execution_count": 19,
     "metadata": {},
     "output_type": "execute_result"
    }
   ],
   "source": [
    "html"
   ]
  },
  {
   "cell_type": "code",
   "execution_count": 20,
   "metadata": {
    "cell_id": "6389a2977e944c28b1229f42e76cf145",
    "deepnote_cell_type": "code",
    "deepnote_to_be_reexecuted": false,
    "execution_millis": 839,
    "execution_start": 1663067797425,
    "source_hash": "65f88d84",
    "tags": []
   },
   "outputs": [
    {
     "data": {
      "text/plain": [
       "b''"
      ]
     },
     "execution_count": 20,
     "metadata": {},
     "output_type": "execute_result"
    }
   ],
   "source": [
    "resp.read()"
   ]
  },
  {
   "cell_type": "code",
   "execution_count": 21,
   "metadata": {
    "cell_id": "968edb335d71443a8c22044bd4a2122e",
    "deepnote_cell_type": "code",
    "deepnote_to_be_reexecuted": false,
    "execution_millis": 1,
    "execution_start": 1663067797430,
    "source_hash": "c8280560",
    "tags": []
   },
   "outputs": [],
   "source": [
    "#once you read a response python closes the connection"
   ]
  },
  {
   "cell_type": "code",
   "execution_count": 23,
   "metadata": {
    "cell_id": "0665b15eb5ea4a5caef571af96ebf42a",
    "deepnote_cell_type": "code",
    "deepnote_to_be_reexecuted": false,
    "execution_millis": 884,
    "execution_start": 1663067797432,
    "source_hash": "2af7d1ab",
    "tags": []
   },
   "outputs": [
    {
     "ename": "HTTPError",
     "evalue": "HTTP Error 404: Not Found",
     "output_type": "error",
     "traceback": [
      "\u001b[0;31m---------------------------------------------------------------------------\u001b[0m",
      "\u001b[0;31mHTTPError\u001b[0m                                 Traceback (most recent call last)",
      "Input \u001b[0;32mIn [23]\u001b[0m, in \u001b[0;36m<cell line: 1>\u001b[0;34m()\u001b[0m\n\u001b[0;32m----> 1\u001b[0m resp \u001b[38;5;241m=\u001b[39m \u001b[43mrequest\u001b[49m\u001b[38;5;241;43m.\u001b[39;49m\u001b[43murlopen\u001b[49m\u001b[43m(\u001b[49m\u001b[38;5;124;43m\"\u001b[39;49m\u001b[38;5;124;43mhttp://ww.google.com/search?q=socratica\u001b[39;49m\u001b[38;5;124;43m\"\u001b[39;49m\u001b[43m)\u001b[49m\n",
      "File \u001b[0;32m~/anaconda3/lib/python3.9/urllib/request.py:214\u001b[0m, in \u001b[0;36murlopen\u001b[0;34m(url, data, timeout, cafile, capath, cadefault, context)\u001b[0m\n\u001b[1;32m    212\u001b[0m \u001b[38;5;28;01melse\u001b[39;00m:\n\u001b[1;32m    213\u001b[0m     opener \u001b[38;5;241m=\u001b[39m _opener\n\u001b[0;32m--> 214\u001b[0m \u001b[38;5;28;01mreturn\u001b[39;00m \u001b[43mopener\u001b[49m\u001b[38;5;241;43m.\u001b[39;49m\u001b[43mopen\u001b[49m\u001b[43m(\u001b[49m\u001b[43murl\u001b[49m\u001b[43m,\u001b[49m\u001b[43m \u001b[49m\u001b[43mdata\u001b[49m\u001b[43m,\u001b[49m\u001b[43m \u001b[49m\u001b[43mtimeout\u001b[49m\u001b[43m)\u001b[49m\n",
      "File \u001b[0;32m~/anaconda3/lib/python3.9/urllib/request.py:523\u001b[0m, in \u001b[0;36mOpenerDirector.open\u001b[0;34m(self, fullurl, data, timeout)\u001b[0m\n\u001b[1;32m    521\u001b[0m \u001b[38;5;28;01mfor\u001b[39;00m processor \u001b[38;5;129;01min\u001b[39;00m \u001b[38;5;28mself\u001b[39m\u001b[38;5;241m.\u001b[39mprocess_response\u001b[38;5;241m.\u001b[39mget(protocol, []):\n\u001b[1;32m    522\u001b[0m     meth \u001b[38;5;241m=\u001b[39m \u001b[38;5;28mgetattr\u001b[39m(processor, meth_name)\n\u001b[0;32m--> 523\u001b[0m     response \u001b[38;5;241m=\u001b[39m \u001b[43mmeth\u001b[49m\u001b[43m(\u001b[49m\u001b[43mreq\u001b[49m\u001b[43m,\u001b[49m\u001b[43m \u001b[49m\u001b[43mresponse\u001b[49m\u001b[43m)\u001b[49m\n\u001b[1;32m    525\u001b[0m \u001b[38;5;28;01mreturn\u001b[39;00m response\n",
      "File \u001b[0;32m~/anaconda3/lib/python3.9/urllib/request.py:632\u001b[0m, in \u001b[0;36mHTTPErrorProcessor.http_response\u001b[0;34m(self, request, response)\u001b[0m\n\u001b[1;32m    629\u001b[0m \u001b[38;5;66;03m# According to RFC 2616, \"2xx\" code indicates that the client's\u001b[39;00m\n\u001b[1;32m    630\u001b[0m \u001b[38;5;66;03m# request was successfully received, understood, and accepted.\u001b[39;00m\n\u001b[1;32m    631\u001b[0m \u001b[38;5;28;01mif\u001b[39;00m \u001b[38;5;129;01mnot\u001b[39;00m (\u001b[38;5;241m200\u001b[39m \u001b[38;5;241m<\u001b[39m\u001b[38;5;241m=\u001b[39m code \u001b[38;5;241m<\u001b[39m \u001b[38;5;241m300\u001b[39m):\n\u001b[0;32m--> 632\u001b[0m     response \u001b[38;5;241m=\u001b[39m \u001b[38;5;28;43mself\u001b[39;49m\u001b[38;5;241;43m.\u001b[39;49m\u001b[43mparent\u001b[49m\u001b[38;5;241;43m.\u001b[39;49m\u001b[43merror\u001b[49m\u001b[43m(\u001b[49m\n\u001b[1;32m    633\u001b[0m \u001b[43m        \u001b[49m\u001b[38;5;124;43m'\u001b[39;49m\u001b[38;5;124;43mhttp\u001b[39;49m\u001b[38;5;124;43m'\u001b[39;49m\u001b[43m,\u001b[49m\u001b[43m \u001b[49m\u001b[43mrequest\u001b[49m\u001b[43m,\u001b[49m\u001b[43m \u001b[49m\u001b[43mresponse\u001b[49m\u001b[43m,\u001b[49m\u001b[43m \u001b[49m\u001b[43mcode\u001b[49m\u001b[43m,\u001b[49m\u001b[43m \u001b[49m\u001b[43mmsg\u001b[49m\u001b[43m,\u001b[49m\u001b[43m \u001b[49m\u001b[43mhdrs\u001b[49m\u001b[43m)\u001b[49m\n\u001b[1;32m    635\u001b[0m \u001b[38;5;28;01mreturn\u001b[39;00m response\n",
      "File \u001b[0;32m~/anaconda3/lib/python3.9/urllib/request.py:561\u001b[0m, in \u001b[0;36mOpenerDirector.error\u001b[0;34m(self, proto, *args)\u001b[0m\n\u001b[1;32m    559\u001b[0m \u001b[38;5;28;01mif\u001b[39;00m http_err:\n\u001b[1;32m    560\u001b[0m     args \u001b[38;5;241m=\u001b[39m (\u001b[38;5;28mdict\u001b[39m, \u001b[38;5;124m'\u001b[39m\u001b[38;5;124mdefault\u001b[39m\u001b[38;5;124m'\u001b[39m, \u001b[38;5;124m'\u001b[39m\u001b[38;5;124mhttp_error_default\u001b[39m\u001b[38;5;124m'\u001b[39m) \u001b[38;5;241m+\u001b[39m orig_args\n\u001b[0;32m--> 561\u001b[0m     \u001b[38;5;28;01mreturn\u001b[39;00m \u001b[38;5;28;43mself\u001b[39;49m\u001b[38;5;241;43m.\u001b[39;49m\u001b[43m_call_chain\u001b[49m\u001b[43m(\u001b[49m\u001b[38;5;241;43m*\u001b[39;49m\u001b[43margs\u001b[49m\u001b[43m)\u001b[49m\n",
      "File \u001b[0;32m~/anaconda3/lib/python3.9/urllib/request.py:494\u001b[0m, in \u001b[0;36mOpenerDirector._call_chain\u001b[0;34m(self, chain, kind, meth_name, *args)\u001b[0m\n\u001b[1;32m    492\u001b[0m \u001b[38;5;28;01mfor\u001b[39;00m handler \u001b[38;5;129;01min\u001b[39;00m handlers:\n\u001b[1;32m    493\u001b[0m     func \u001b[38;5;241m=\u001b[39m \u001b[38;5;28mgetattr\u001b[39m(handler, meth_name)\n\u001b[0;32m--> 494\u001b[0m     result \u001b[38;5;241m=\u001b[39m \u001b[43mfunc\u001b[49m\u001b[43m(\u001b[49m\u001b[38;5;241;43m*\u001b[39;49m\u001b[43margs\u001b[49m\u001b[43m)\u001b[49m\n\u001b[1;32m    495\u001b[0m     \u001b[38;5;28;01mif\u001b[39;00m result \u001b[38;5;129;01mis\u001b[39;00m \u001b[38;5;129;01mnot\u001b[39;00m \u001b[38;5;28;01mNone\u001b[39;00m:\n\u001b[1;32m    496\u001b[0m         \u001b[38;5;28;01mreturn\u001b[39;00m result\n",
      "File \u001b[0;32m~/anaconda3/lib/python3.9/urllib/request.py:641\u001b[0m, in \u001b[0;36mHTTPDefaultErrorHandler.http_error_default\u001b[0;34m(self, req, fp, code, msg, hdrs)\u001b[0m\n\u001b[1;32m    640\u001b[0m \u001b[38;5;28;01mdef\u001b[39;00m \u001b[38;5;21mhttp_error_default\u001b[39m(\u001b[38;5;28mself\u001b[39m, req, fp, code, msg, hdrs):\n\u001b[0;32m--> 641\u001b[0m     \u001b[38;5;28;01mraise\u001b[39;00m HTTPError(req\u001b[38;5;241m.\u001b[39mfull_url, code, msg, hdrs, fp)\n",
      "\u001b[0;31mHTTPError\u001b[0m: HTTP Error 404: Not Found"
     ]
    }
   ],
   "source": [
    "resp = request.urlopen(\"http://ww.google.com/search?q=socratica\")"
   ]
  },
  {
   "cell_type": "code",
   "execution_count": 24,
   "metadata": {
    "cell_id": "a5e031da48874a3d9b989298193d649d",
    "deepnote_cell_type": "code",
    "deepnote_to_be_reexecuted": true,
    "execution_millis": 1,
    "execution_start": 1662817281256,
    "source_hash": "f253f4d",
    "tags": []
   },
   "outputs": [],
   "source": [
    "# 403 means server is refusing to response"
   ]
  },
  {
   "cell_type": "code",
   "execution_count": 25,
   "metadata": {
    "cell_id": "6c62af1bec2e40cb94ec9571fbb2b0f1",
    "deepnote_cell_type": "code",
    "deepnote_to_be_reexecuted": true,
    "execution_millis": 704,
    "execution_start": 1662817320167,
    "source_hash": "6c14585f",
    "tags": []
   },
   "outputs": [
    {
     "data": {
      "text/plain": [
       "['DefragResult',\n",
       " 'DefragResultBytes',\n",
       " 'MAX_CACHE_SIZE',\n",
       " 'ParseResult',\n",
       " 'ParseResultBytes',\n",
       " 'Quoter',\n",
       " 'ResultBase',\n",
       " 'SplitResult',\n",
       " 'SplitResultBytes',\n",
       " '_ALWAYS_SAFE',\n",
       " '_ALWAYS_SAFE_BYTES',\n",
       " '_DefragResultBase',\n",
       " '_NetlocResultMixinBase',\n",
       " '_NetlocResultMixinBytes',\n",
       " '_NetlocResultMixinStr',\n",
       " '_ParseResultBase',\n",
       " '_ResultMixinBytes',\n",
       " '_ResultMixinStr',\n",
       " '_SplitResultBase',\n",
       " '_UNSAFE_URL_BYTES_TO_REMOVE',\n",
       " '__all__',\n",
       " '__builtins__',\n",
       " '__cached__',\n",
       " '__doc__',\n",
       " '__file__',\n",
       " '__loader__',\n",
       " '__name__',\n",
       " '__package__',\n",
       " '__spec__',\n",
       " '_asciire',\n",
       " '_checknetloc',\n",
       " '_coerce_args',\n",
       " '_decode_args',\n",
       " '_encode_result',\n",
       " '_hexdig',\n",
       " '_hextobyte',\n",
       " '_hostprog',\n",
       " '_implicit_encoding',\n",
       " '_implicit_errors',\n",
       " '_noop',\n",
       " '_parse_cache',\n",
       " '_portprog',\n",
       " '_safe_quoters',\n",
       " '_splitattr',\n",
       " '_splithost',\n",
       " '_splitnetloc',\n",
       " '_splitnport',\n",
       " '_splitparams',\n",
       " '_splitpasswd',\n",
       " '_splitport',\n",
       " '_splitquery',\n",
       " '_splittag',\n",
       " '_splittype',\n",
       " '_splituser',\n",
       " '_splitvalue',\n",
       " '_to_bytes',\n",
       " '_typeprog',\n",
       " 'clear_cache',\n",
       " 'collections',\n",
       " 'namedtuple',\n",
       " 'non_hierarchical',\n",
       " 'parse_qs',\n",
       " 'parse_qsl',\n",
       " 'quote',\n",
       " 'quote_from_bytes',\n",
       " 'quote_plus',\n",
       " 're',\n",
       " 'scheme_chars',\n",
       " 'splitattr',\n",
       " 'splithost',\n",
       " 'splitnport',\n",
       " 'splitpasswd',\n",
       " 'splitport',\n",
       " 'splitquery',\n",
       " 'splittag',\n",
       " 'splittype',\n",
       " 'splituser',\n",
       " 'splitvalue',\n",
       " 'sys',\n",
       " 'to_bytes',\n",
       " 'types',\n",
       " 'unquote',\n",
       " 'unquote_plus',\n",
       " 'unquote_to_bytes',\n",
       " 'unwrap',\n",
       " 'urldefrag',\n",
       " 'urlencode',\n",
       " 'urljoin',\n",
       " 'urlparse',\n",
       " 'urlsplit',\n",
       " 'urlunparse',\n",
       " 'urlunsplit',\n",
       " 'uses_fragment',\n",
       " 'uses_netloc',\n",
       " 'uses_params',\n",
       " 'uses_query',\n",
       " 'uses_relative',\n",
       " 'warnings']"
      ]
     },
     "execution_count": 25,
     "metadata": {},
     "output_type": "execute_result"
    }
   ],
   "source": [
    "from urllib import parse\n",
    "dir(parse)"
   ]
  },
  {
   "cell_type": "code",
   "execution_count": 27,
   "metadata": {
    "cell_id": "d6cacbd3f6d942118ed04e5fb54309c4",
    "deepnote_cell_type": "code",
    "deepnote_to_be_reexecuted": true,
    "execution_millis": 2,
    "execution_start": 1662817417581,
    "source_hash": "c5fb684a",
    "tags": []
   },
   "outputs": [
    {
     "ename": "SyntaxError",
     "evalue": "invalid syntax (3798810857.py, line 1)",
     "output_type": "error",
     "traceback": [
      "\u001b[0;36m  Input \u001b[0;32mIn [27]\u001b[0;36m\u001b[0m\n\u001b[0;31m    https://www.youtube.com/watch?v=EuC-yVzHhMI\u001b[0m\n\u001b[0m          ^\u001b[0m\n\u001b[0;31mSyntaxError\u001b[0m\u001b[0;31m:\u001b[0m invalid syntax\n"
     ]
    }
   ],
   "source": [
    "https://www.youtube.com/watch?v=EuC-yVzHhMI"
   ]
  },
  {
   "cell_type": "code",
   "execution_count": 28,
   "metadata": {
    "cell_id": "86a603599e5c41e99035a6c85d85acd0",
    "deepnote_cell_type": "code",
    "deepnote_to_be_reexecuted": true,
    "execution_millis": 1,
    "execution_start": 1662817461081,
    "source_hash": "5e36620",
    "tags": []
   },
   "outputs": [],
   "source": [
    "params = {'v': 'EuC-yVzHhMI', 't': '5m56s'}"
   ]
  },
  {
   "cell_type": "code",
   "execution_count": 29,
   "metadata": {
    "cell_id": "3159b8a9f145407b9fe711b064c80133",
    "deepnote_cell_type": "code",
    "deepnote_to_be_reexecuted": true,
    "execution_millis": 3,
    "execution_start": 1662817481694,
    "source_hash": "385fd4eb",
    "tags": []
   },
   "outputs": [],
   "source": [
    "querystring = parse.urlencode(params)"
   ]
  },
  {
   "cell_type": "code",
   "execution_count": 30,
   "metadata": {
    "cell_id": "f452ddbd2ad8472ca5bcb2c1c47417e4",
    "deepnote_cell_type": "code",
    "deepnote_to_be_reexecuted": true,
    "execution_millis": 2,
    "execution_start": 1662817488053,
    "source_hash": "1668712f",
    "tags": []
   },
   "outputs": [
    {
     "data": {
      "text/plain": [
       "'v=EuC-yVzHhMI&t=5m56s'"
      ]
     },
     "execution_count": 30,
     "metadata": {},
     "output_type": "execute_result"
    }
   ],
   "source": [
    "querystring"
   ]
  },
  {
   "cell_type": "code",
   "execution_count": 31,
   "metadata": {
    "cell_id": "79d959151bb0498cb3d0e4108edbd920",
    "deepnote_cell_type": "code",
    "deepnote_to_be_reexecuted": true,
    "execution_millis": 3,
    "execution_start": 1662817557067,
    "source_hash": "7b4a6dd8",
    "tags": []
   },
   "outputs": [],
   "source": [
    "url = \"https://www.youtube.com/watch?\" + querystring"
   ]
  },
  {
   "cell_type": "code",
   "execution_count": 32,
   "metadata": {
    "cell_id": "6df1f981beb54d5aa038d9ae78791f5f",
    "deepnote_cell_type": "code",
    "deepnote_to_be_reexecuted": true,
    "execution_millis": 41,
    "execution_start": 1662817570779,
    "source_hash": "bed16983",
    "tags": []
   },
   "outputs": [],
   "source": [
    "resp = request.urlopen(url)"
   ]
  },
  {
   "cell_type": "code",
   "execution_count": 33,
   "metadata": {
    "cell_id": "ad9c44a2d4e84f9dbbec2c0e368d4d74",
    "deepnote_cell_type": "code",
    "deepnote_to_be_reexecuted": true,
    "execution_millis": 5,
    "execution_start": 1662817583651,
    "source_hash": "7f7c3cec",
    "tags": []
   },
   "outputs": [
    {
     "data": {
      "text/plain": [
       "False"
      ]
     },
     "execution_count": 33,
     "metadata": {},
     "output_type": "execute_result"
    }
   ],
   "source": [
    "resp.isclosed()"
   ]
  },
  {
   "cell_type": "code",
   "execution_count": 34,
   "metadata": {
    "cell_id": "2f2b9eb227fd42efb9843abf0e62821d",
    "deepnote_cell_type": "code",
    "deepnote_to_be_reexecuted": true,
    "execution_millis": 74,
    "execution_start": 1662817592848,
    "source_hash": "d1dd683f",
    "tags": []
   },
   "outputs": [
    {
     "data": {
      "text/plain": [
       "200"
      ]
     },
     "execution_count": 34,
     "metadata": {},
     "output_type": "execute_result"
    }
   ],
   "source": [
    "resp.code"
   ]
  },
  {
   "cell_type": "code",
   "execution_count": 35,
   "metadata": {
    "cell_id": "88b3cc4c96f046f6b479c136ec345c94",
    "deepnote_cell_type": "code",
    "deepnote_to_be_reexecuted": true,
    "execution_millis": 123,
    "execution_start": 1662817618548,
    "source_hash": "8d34cda2",
    "tags": []
   },
   "outputs": [],
   "source": [
    "html = resp.read().decode(\"utf-8\")"
   ]
  },
  {
   "cell_type": "code",
   "execution_count": 36,
   "metadata": {
    "cell_id": "ef08ae9c9081480da36cc95b8bfe1fb9",
    "deepnote_cell_type": "code",
    "deepnote_to_be_reexecuted": true,
    "execution_millis": 4,
    "execution_start": 1662817631783,
    "source_hash": "cb52e669",
    "tags": []
   },
   "outputs": [
    {
     "data": {
      "text/plain": [
       "'<!DOCTYPE html><html style=\"font-size: 10px;font-family: Roboto, Arial, sans-serif;\" lang=\"en-GB\" system-icons typography typography-spacing><head><meta http-equiv=\"X-UA-Compatible\" content=\"IE=edge\"/><meta http-equiv=\"origin-trial\" content=\"AsKJ0YJfrprDHN9cO+Arkwlyt0SqGVbRekp6Ho6B0zL8/aWcEEa7mYjLrXVRY4E3+ZPTupaMmCxJOtl4ava9CgAAAABteyJvcmlnaW4iOiJodHRwczovL3lvdXR1YmUuY29tOjQ0MyIsImZlYXR1cmUiOiJQcml2YWN5U2FuZGJveEFkc0FQSXMiLCJleHBpcnkiOjE2Njk3NjYzOTksImlzU3ViZG9tYWluIjp0cnVlfQ==\"/><script nonce=\"'"
      ]
     },
     "execution_count": 36,
     "metadata": {},
     "output_type": "execute_result"
    }
   ],
   "source": [
    "html[:500]"
   ]
  },
  {
   "cell_type": "code",
   "execution_count": null,
   "metadata": {
    "cell_id": "e688adf2e3f244c5a55f000134cceca7",
    "deepnote_cell_type": "code",
    "deepnote_to_be_reexecuted": true,
    "source_hash": "b623e53d",
    "tags": []
   },
   "outputs": [],
   "source": []
  },
  {
   "cell_type": "markdown",
   "metadata": {
    "created_in_deepnote_cell": true,
    "deepnote_cell_type": "markdown",
    "tags": []
   },
   "source": [
    "<a style='text-decoration:none;line-height:16px;display:flex;color:#5B5B62;padding:10px;justify-content:end;' href='https://deepnote.com?utm_source=created-in-deepnote-cell&projectId=476d1e13-74e8-4e12-835b-fca8058bd64d' target=\"_blank\">\n",
    "<img alt='Created in deepnote.com' style='display:inline;max-height:16px;margin:0px;margin-right:7.5px;' src='data:image/svg+xml;base64,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' > </img>\n",
    "Created in <span style='font-weight:600;margin-left:4px;'>Deepnote</span></a>"
   ]
  }
 ],
 "metadata": {
  "deepnote": {},
  "deepnote_execution_queue": [],
  "deepnote_notebook_id": "31deab1cd3ab47ad93082737ba0553c8",
  "deepnote_persisted_session": {
   "createdAt": "2022-09-09T17:15:47.377Z"
  },
  "kernelspec": {
   "display_name": "Python 3 (ipykernel)",
   "language": "python",
   "name": "python3"
  },
  "language_info": {
   "codemirror_mode": {
    "name": "ipython",
    "version": 3
   },
   "file_extension": ".py",
   "mimetype": "text/x-python",
   "name": "python",
   "nbconvert_exporter": "python",
   "pygments_lexer": "ipython3",
   "version": "3.9.12"
  }
 },
 "nbformat": 4,
 "nbformat_minor": 1
}
