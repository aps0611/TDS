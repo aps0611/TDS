{
  "nbformat": 4,
  "nbformat_minor": 0,
  "metadata": {
    "colab": {
      "provenance": []
    },
    "kernelspec": {
      "name": "python3",
      "display_name": "Python 3"
    },
    "language_info": {
      "name": "python"
    }
  },
  "cells": [
    {
      "cell_type": "code",
      "execution_count": 1,
      "metadata": {
        "id": "sSEry7QvwK_B"
      },
      "outputs": [],
      "source": [
        "# import the libraries\n",
        "import gc\n",
        "import numpy as np\n",
        "import pandas as pd\n",
        "from scipy.sparse import csr_matrix"
      ]
    },
    {
      "cell_type": "code",
      "source": [
        "# Download the data\n",
        "\n",
        "!rm *.tsv.gz\n",
        "!wget -q https://datasets.imdbws.com/name.basics.tsv.gz\n",
        "!wget -q https://datasets.imdbws.com/title.principals.tsv.gz\n",
        "!wget -q https://datasets.imdbws.com/title.basics.tsv.gz\n",
        "!wget -q https://datasets.imdbws.com/title.akas.tsv.gz"
      ],
      "metadata": {
        "id": "xwKZqPk4wLqX"
      },
      "execution_count": 2,
      "outputs": []
    },
    {
      "cell_type": "code",
      "source": [
        "# Read relevant data from the titles\n",
        "title = pd.read_csv('title.basics.tsv.gz', sep='\\t', low_memory=True).set_index('tconst')[['titleType', 'primaryTitle', 'startYear']]"
      ],
      "metadata": {
        "colab": {
          "base_uri": "https://localhost:8080/"
        },
        "id": "TgcZKGkfwOMb",
        "outputId": "c4d33a1b-9d8d-41ef-f8de-07aebc8022cb"
      },
      "execution_count": 3,
      "outputs": [
        {
          "output_type": "stream",
          "name": "stderr",
          "text": [
            "/usr/local/lib/python3.7/dist-packages/IPython/core/interactiveshell.py:3326: DtypeWarning: Columns (4) have mixed types.Specify dtype option on import or set low_memory=False.\n",
            "  exec(code_obj, self.user_global_ns, self.user_ns)\n"
          ]
        }
      ]
    },
    {
      "cell_type": "code",
      "source": [
        "title = title[title['titleType'] == 'movie']\n",
        "title['startYear'] = pd.to_numeric(title['startYear'], errors='coerce')\n",
        "title = title[title['startYear'] >= 2005]"
      ],
      "metadata": {
        "id": "PjqKxxaXwaF_"
      },
      "execution_count": 4,
      "outputs": []
    },
    {
      "cell_type": "code",
      "source": [
        "# load the cast of each film\n",
        "cast = pd.read_csv('title.principals.tsv.gz', sep='\\t')[['tconst', 'nconst', 'category']]"
      ],
      "metadata": {
        "id": "P5pOL9rJwmfD"
      },
      "execution_count": 5,
      "outputs": []
    },
    {
      "cell_type": "code",
      "source": [
        "# Only consider actors, not directors, composers, etc.\n",
        "actors = cast\n",
        "actors = actors[actors.category.isin({'actor'})]"
      ],
      "metadata": {
        "id": "3d0AlilnwohB"
      },
      "execution_count": 6,
      "outputs": []
    },
    {
      "cell_type": "code",
      "source": [
        "actors = actors[actors['tconst'].isin(title.index)]\n",
        "# this is what the network looks like\n",
        "# actors.head(5)"
      ],
      "metadata": {
        "id": "mqHQDCvBxAG3"
      },
      "execution_count": 7,
      "outputs": []
    },
    {
      "cell_type": "code",
      "source": [
        "# Delete the original data to save memory\n",
        "del cast"
      ],
      "metadata": {
        "id": "-SApYBKixAu3"
      },
      "execution_count": 8,
      "outputs": []
    },
    {
      "cell_type": "code",
      "source": [
        "region = pd.read_csv('title.akas.tsv.gz', sep='\\t').set_index('titleId')['region']\n",
        "# region.value_counts().head(20)"
      ],
      "metadata": {
        "colab": {
          "base_uri": "https://localhost:8080/"
        },
        "id": "VI7soPuQxNLp",
        "outputId": "d7e6a70a-dbe7-493b-bc89-4c91cf76abca"
      },
      "execution_count": 9,
      "outputs": [
        {
          "output_type": "stream",
          "name": "stderr",
          "text": [
            "/usr/local/lib/python3.7/dist-packages/IPython/core/interactiveshell.py:3326: DtypeWarning: Columns (7) have mixed types.Specify dtype option on import or set low_memory=False.\n",
            "  exec(code_obj, self.user_global_ns, self.user_ns)\n"
          ]
        }
      ]
    },
    {
      "cell_type": "code",
      "source": [
        "name = pd.read_csv('name.basics.tsv.gz', sep='\\t').set_index('nconst')[['primaryName', 'birthYear']]"
      ],
      "metadata": {
        "id": "uEw_ANti6eGp"
      },
      "execution_count": 10,
      "outputs": []
    },
    {
      "cell_type": "code",
      "source": [
        "def get_pairs(lang=\"en\", min_acted=25, min_pairings=1):\n",
        "    '''\n",
        "    Returns an adjacency matrix and actor mapping of actor pairs where:\n",
        "    - Each actor has acted in at least min_acted films\n",
        "    - The two actors have acted together in at least min_pairings films\n",
        "    - And (optionally), belong to a region `lang` (IN, UN, etc)\n",
        "    '''\n",
        "    graph = actors\n",
        "    if lang is not None:\n",
        "        graph = graph[graph['tconst'].isin(region[region == lang].index)]\n",
        "        # graph = graph[graph['tconst'].isin(region[region == lang].index)]\n",
        "    name_freq = graph['nconst'].value_counts()\n",
        "    top_names = name_freq[name_freq >= min_acted]\n",
        "    top_actors = graph[graph['nconst'].isin(top_names.index)]\n",
        "\n",
        "    p = top_actors.copy()\n",
        "    p['title'] = p['tconst'].astype('category')\n",
        "    p['name'] = p['nconst'].astype('category')\n",
        "\n",
        "    row = p['title'].cat.codes.values\n",
        "    col = p['name'].cat.codes.values\n",
        "    data = np.ones(len(p), dtype='int')\n",
        "\n",
        "    matrix = csr_matrix((data, (row, col)))\n",
        "    square = matrix.T * matrix\n",
        "    square.setdiag(0)\n",
        "    square = square.tocoo()\n",
        "\n",
        "    pairs = pd.DataFrame({\n",
        "        'row': square.row,\n",
        "        'col': square.col,\n",
        "        'n': square.data\n",
        "    })\n",
        "    pairs = pairs[pairs.n >= min_pairings].reset_index(drop=True)\n",
        "    return pairs, name.reindex(p['name'].cat.categories)\n",
        "\n",
        "def lookup(pairs, cat):\n",
        "    pairs = pd.concat([\n",
        "        pairs,\n",
        "        cat.iloc[pairs.row].reset_index(drop=True),\n",
        "        cat.iloc[pairs.col].reset_index(drop=True),\n",
        "    ], axis=1)\n",
        "    pairs = pairs.drop(columns=['row', 'col'])\n",
        "    pairs.columns = ['count', 'name1', 'year1', 'name2', 'year2']\n",
        "    return pairs.sort_values('count', ascending=False)"
      ],
      "metadata": {
        "id": "zNFzQKhcxxNm"
      },
      "execution_count": 11,
      "outputs": []
    },
    {
      "cell_type": "code",
      "source": [
        "pairs, cat = get_pairs(lang = 'IN', min_acted = 10, min_pairings = 3)"
      ],
      "metadata": {
        "id": "ztjXYKCe0fTm"
      },
      "execution_count": 14,
      "outputs": []
    },
    {
      "cell_type": "code",
      "source": [
        "forkumu = lookup(pairs, cat)"
      ],
      "metadata": {
        "id": "9YfRJxbU-Pap"
      },
      "execution_count": null,
      "outputs": []
    },
    {
      "cell_type": "code",
      "source": [
        "forkumu = forkumu[['name1', 'name2', 'count']]\n",
        "forkumu = forkumu.rename(columns={'name1':'From',\n",
        "                                  'name2':'To',\n",
        "                                  'count':'Strength'})\n"
      ],
      "metadata": {
        "id": "sfF6wxx9-V_i"
      },
      "execution_count": null,
      "outputs": []
    },
    {
      "cell_type": "code",
      "source": [
        "forkumu.to_excel(\"pairs.xlsx\", index = False)"
      ],
      "metadata": {
        "id": "7o5spuLJ-mDQ"
      },
      "execution_count": null,
      "outputs": []
    },
    {
      "cell_type": "code",
      "source": [],
      "metadata": {
        "id": "pIpuxEbUCwF-"
      },
      "execution_count": null,
      "outputs": []
    }
  ]
}