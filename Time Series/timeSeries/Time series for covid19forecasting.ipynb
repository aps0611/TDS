{
 "cells": [
  {
   "cell_type": "markdown",
   "id": "8f1c9622",
   "metadata": {},
   "source": [
    "**Import all the necessary libraries**"
   ]
  },
  {
   "cell_type": "code",
   "execution_count": 2,
   "id": "fed3baa7",
   "metadata": {},
   "outputs": [],
   "source": [
    "import pandas as pd\n",
    "import numpy as np\n",
    "from matplotlib import pyplot as plt\n",
    "from sklearn.metrics import mean_absolute_error\n",
    "from pandas.plotting import autocorrelation_plot\n",
    "from statsmodels.tsa.arima_model import ARIMA"
   ]
  },
  {
   "cell_type": "code",
   "execution_count": 5,
   "id": "0ec3c6f5",
   "metadata": {},
   "outputs": [
    {
     "data": {
      "text/html": [
       "<div>\n",
       "<style scoped>\n",
       "    .dataframe tbody tr th:only-of-type {\n",
       "        vertical-align: middle;\n",
       "    }\n",
       "\n",
       "    .dataframe tbody tr th {\n",
       "        vertical-align: top;\n",
       "    }\n",
       "\n",
       "    .dataframe thead th {\n",
       "        text-align: right;\n",
       "    }\n",
       "</style>\n",
       "<table border=\"1\" class=\"dataframe\">\n",
       "  <thead>\n",
       "    <tr style=\"text-align: right;\">\n",
       "      <th></th>\n",
       "      <th>iso_code</th>\n",
       "      <th>location</th>\n",
       "      <th>date</th>\n",
       "      <th>new_deaths</th>\n",
       "      <th>new_cases</th>\n",
       "      <th>new_tests</th>\n",
       "      <th>new_vaccinations</th>\n",
       "      <th>new_cases_per_thousand</th>\n",
       "      <th>new_tests_per-thousand</th>\n",
       "      <th>new_vaccinations_per_thousand</th>\n",
       "      <th>stringency_index</th>\n",
       "    </tr>\n",
       "  </thead>\n",
       "  <tbody>\n",
       "    <tr>\n",
       "      <th>0</th>\n",
       "      <td>IND</td>\n",
       "      <td>India</td>\n",
       "      <td>1/16/2021</td>\n",
       "      <td>181</td>\n",
       "      <td>15144</td>\n",
       "      <td>803090</td>\n",
       "      <td>191181</td>\n",
       "      <td>15.144</td>\n",
       "      <td>803.090</td>\n",
       "      <td>191.181</td>\n",
       "      <td>68.98</td>\n",
       "    </tr>\n",
       "    <tr>\n",
       "      <th>1</th>\n",
       "      <td>IND</td>\n",
       "      <td>India</td>\n",
       "      <td>1/17/2021</td>\n",
       "      <td>145</td>\n",
       "      <td>13788</td>\n",
       "      <td>779377</td>\n",
       "      <td>33120</td>\n",
       "      <td>13.788</td>\n",
       "      <td>779.377</td>\n",
       "      <td>33.120</td>\n",
       "      <td>68.98</td>\n",
       "    </tr>\n",
       "    <tr>\n",
       "      <th>2</th>\n",
       "      <td>IND</td>\n",
       "      <td>India</td>\n",
       "      <td>1/18/2021</td>\n",
       "      <td>137</td>\n",
       "      <td>10050</td>\n",
       "      <td>548168</td>\n",
       "      <td>229748</td>\n",
       "      <td>10.050</td>\n",
       "      <td>548.168</td>\n",
       "      <td>229.748</td>\n",
       "      <td>68.98</td>\n",
       "    </tr>\n",
       "    <tr>\n",
       "      <th>3</th>\n",
       "      <td>IND</td>\n",
       "      <td>India</td>\n",
       "      <td>1/19/2021</td>\n",
       "      <td>162</td>\n",
       "      <td>13816</td>\n",
       "      <td>709791</td>\n",
       "      <td>220786</td>\n",
       "      <td>13.816</td>\n",
       "      <td>709.791</td>\n",
       "      <td>220.786</td>\n",
       "      <td>68.98</td>\n",
       "    </tr>\n",
       "    <tr>\n",
       "      <th>4</th>\n",
       "      <td>IND</td>\n",
       "      <td>India</td>\n",
       "      <td>1/20/2021</td>\n",
       "      <td>151</td>\n",
       "      <td>15244</td>\n",
       "      <td>764120</td>\n",
       "      <td>131649</td>\n",
       "      <td>15.244</td>\n",
       "      <td>764.120</td>\n",
       "      <td>131.649</td>\n",
       "      <td>68.98</td>\n",
       "    </tr>\n",
       "  </tbody>\n",
       "</table>\n",
       "</div>"
      ],
      "text/plain": [
       "  iso_code location       date  new_deaths  new_cases  new_tests  \\\n",
       "0      IND    India  1/16/2021         181      15144     803090   \n",
       "1      IND    India  1/17/2021         145      13788     779377   \n",
       "2      IND    India  1/18/2021         137      10050     548168   \n",
       "3      IND    India  1/19/2021         162      13816     709791   \n",
       "4      IND    India  1/20/2021         151      15244     764120   \n",
       "\n",
       "   new_vaccinations  new_cases_per_thousand  new_tests_per-thousand  \\\n",
       "0            191181                  15.144                 803.090   \n",
       "1             33120                  13.788                 779.377   \n",
       "2            229748                  10.050                 548.168   \n",
       "3            220786                  13.816                 709.791   \n",
       "4            131649                  15.244                 764.120   \n",
       "\n",
       "   new_vaccinations_per_thousand  stringency_index  \n",
       "0                        191.181             68.98  \n",
       "1                         33.120             68.98  \n",
       "2                        229.748             68.98  \n",
       "3                        220.786             68.98  \n",
       "4                        131.649             68.98  "
      ]
     },
     "execution_count": 5,
     "metadata": {},
     "output_type": "execute_result"
    }
   ],
   "source": [
    "data = pd.read_csv('covid.csv')\n",
    "data.head()"
   ]
  },
  {
   "cell_type": "markdown",
   "id": "df9f2254",
   "metadata": {},
   "source": [
    "Check for the number of unique countries in our dataset"
   ]
  },
  {
   "cell_type": "code",
   "execution_count": 7,
   "id": "ef700398",
   "metadata": {
    "scrolled": true
   },
   "outputs": [
    {
     "data": {
      "text/plain": [
       "array(['India', 'Israel', 'Japan'], dtype=object)"
      ]
     },
     "execution_count": 7,
     "metadata": {},
     "output_type": "execute_result"
    }
   ],
   "source": [
    "data['location'].unique()"
   ]
  },
  {
   "cell_type": "markdown",
   "id": "e2cec325",
   "metadata": {},
   "source": [
    "Since we cannot forecast the data for all the countries at the same time. So, lets do it for India"
   ]
  },
  {
   "cell_type": "code",
   "execution_count": 9,
   "id": "c2c4593e",
   "metadata": {},
   "outputs": [],
   "source": [
    "country = \"India\"\n",
    "data = data[data['location']==country]"
   ]
  },
  {
   "cell_type": "code",
   "execution_count": 11,
   "id": "597f3e88",
   "metadata": {},
   "outputs": [
    {
     "data": {
      "text/plain": [
       "(Timestamp('2021-01-16 00:00:00'), Timestamp('2021-07-05 00:00:00'))"
      ]
     },
     "execution_count": 11,
     "metadata": {},
     "output_type": "execute_result"
    }
   ],
   "source": [
    "data['date'] = pd.to_datetime(data['date'])\n",
    "data.sort_values('date', ascending = True, inplace = True)\n",
    "data['date'].min(),data['date'].max()"
   ]
  },
  {
   "cell_type": "code",
   "execution_count": 13,
   "id": "c0e8236b",
   "metadata": {},
   "outputs": [
    {
     "data": {
      "text/plain": [
       "[<matplotlib.lines.Line2D at 0x7f65ff040f40>]"
      ]
     },
     "execution_count": 13,
     "metadata": {},
     "output_type": "execute_result"
    },
    {
     "data": {
      "image/png": "[encoded data removed]",
      "text/plain": [
       "<Figure size 432x288 with 1 Axes>"
      ]
     },
     "metadata": {
      "needs_background": "light"
     },
     "output_type": "display_data"
    }
   ],
   "source": [
    "plt.xlabel('Date')\n",
    "plt.ylabel('New death')\n",
    "plt.plot(data['date'], data['new_deaths'])"
   ]
  },
  {
   "cell_type": "markdown",
   "id": "b9408d53",
   "metadata": {},
   "source": [
    "**Using Rolling mean average to forecast the data**\n",
    "\n",
    "Rolling mean means taking avearage of last i days."
   ]
  },
  {
   "cell_type": "code",
   "execution_count": 14,
   "id": "26085c2b",
   "metadata": {},
   "outputs": [
    {
     "data": {
      "image/png": "[encoded data removed]",
      "text/plain": [
       "<Figure size 432x288 with 1 Axes>"
      ]
     },
     "metadata": {
      "needs_background": "light"
     },
     "output_type": "display_data"
    }
   ],
   "source": [
    "rolling_mean5 = data['new_deaths'].rolling(window = 5).mean()\n",
    "rolling_mean10 = data['new_deaths'].rolling(window = 10).mean()\n",
    "rolling_mean15 = data['new_deaths'].rolling(window = 15).mean()\n",
    "rolling_mean20 = data['new_deaths'].rolling(window = 20).mean()\n",
    "plt.plot(data['date'], data['new_deaths'], color = 'blue', label = 'Original')\n",
    "plt.plot(data['date'], rolling_mean5, color = 'red', label = 'Rolling 5 day')\n",
    "plt.plot(data['date'], rolling_mean10, color = 'yellow', label = 'Rolling 10 day')\n",
    "plt.plot(data['date'], rolling_mean15, color = 'green', label = 'Rolling 15 day')\n",
    "plt.plot(data['date'], rolling_mean20, color = 'black', label = 'Rolling 20 day')\n",
    "plt.legend(loc = 'best')\n",
    "plt.title('Moving Average')\n",
    "plt.show()"
   ]
  },
  {
   "cell_type": "markdown",
   "id": "4d93056c",
   "metadata": {},
   "source": [
    "Rolling5 day i.e red is more close to blue while when we increase the rolling window then it deviates from blue to large extent"
   ]
  },
  {
   "cell_type": "code",
   "execution_count": 15,
   "id": "9c0f0a3f",
   "metadata": {},
   "outputs": [
    {
     "data": {
      "text/html": [
       "<div>\n",
       "<style scoped>\n",
       "    .dataframe tbody tr th:only-of-type {\n",
       "        vertical-align: middle;\n",
       "    }\n",
       "\n",
       "    .dataframe tbody tr th {\n",
       "        vertical-align: top;\n",
       "    }\n",
       "\n",
       "    .dataframe thead th {\n",
       "        text-align: right;\n",
       "    }\n",
       "</style>\n",
       "<table border=\"1\" class=\"dataframe\">\n",
       "  <thead>\n",
       "    <tr style=\"text-align: right;\">\n",
       "      <th></th>\n",
       "      <th>iso_code</th>\n",
       "      <th>location</th>\n",
       "      <th>date</th>\n",
       "      <th>new_deaths</th>\n",
       "      <th>new_cases</th>\n",
       "      <th>new_tests</th>\n",
       "      <th>new_vaccinations</th>\n",
       "      <th>new_cases_per_thousand</th>\n",
       "      <th>new_tests_per-thousand</th>\n",
       "      <th>new_vaccinations_per_thousand</th>\n",
       "      <th>stringency_index</th>\n",
       "      <th>moving_avg_5day</th>\n",
       "      <th>moving_avg_10day</th>\n",
       "      <th>moving_avg_15day</th>\n",
       "      <th>moving_avg_20day</th>\n",
       "    </tr>\n",
       "  </thead>\n",
       "  <tbody>\n",
       "    <tr>\n",
       "      <th>0</th>\n",
       "      <td>IND</td>\n",
       "      <td>India</td>\n",
       "      <td>2021-01-16</td>\n",
       "      <td>181</td>\n",
       "      <td>15144</td>\n",
       "      <td>803090</td>\n",
       "      <td>191181</td>\n",
       "      <td>15.144</td>\n",
       "      <td>803.090</td>\n",
       "      <td>191.181</td>\n",
       "      <td>68.98</td>\n",
       "      <td>NaN</td>\n",
       "      <td>NaN</td>\n",
       "      <td>NaN</td>\n",
       "      <td>NaN</td>\n",
       "    </tr>\n",
       "    <tr>\n",
       "      <th>1</th>\n",
       "      <td>IND</td>\n",
       "      <td>India</td>\n",
       "      <td>2021-01-17</td>\n",
       "      <td>145</td>\n",
       "      <td>13788</td>\n",
       "      <td>779377</td>\n",
       "      <td>33120</td>\n",
       "      <td>13.788</td>\n",
       "      <td>779.377</td>\n",
       "      <td>33.120</td>\n",
       "      <td>68.98</td>\n",
       "      <td>NaN</td>\n",
       "      <td>NaN</td>\n",
       "      <td>NaN</td>\n",
       "      <td>NaN</td>\n",
       "    </tr>\n",
       "    <tr>\n",
       "      <th>2</th>\n",
       "      <td>IND</td>\n",
       "      <td>India</td>\n",
       "      <td>2021-01-18</td>\n",
       "      <td>137</td>\n",
       "      <td>10050</td>\n",
       "      <td>548168</td>\n",
       "      <td>229748</td>\n",
       "      <td>10.050</td>\n",
       "      <td>548.168</td>\n",
       "      <td>229.748</td>\n",
       "      <td>68.98</td>\n",
       "      <td>NaN</td>\n",
       "      <td>NaN</td>\n",
       "      <td>NaN</td>\n",
       "      <td>NaN</td>\n",
       "    </tr>\n",
       "    <tr>\n",
       "      <th>3</th>\n",
       "      <td>IND</td>\n",
       "      <td>India</td>\n",
       "      <td>2021-01-19</td>\n",
       "      <td>162</td>\n",
       "      <td>13816</td>\n",
       "      <td>709791</td>\n",
       "      <td>220786</td>\n",
       "      <td>13.816</td>\n",
       "      <td>709.791</td>\n",
       "      <td>220.786</td>\n",
       "      <td>68.98</td>\n",
       "      <td>NaN</td>\n",
       "      <td>NaN</td>\n",
       "      <td>NaN</td>\n",
       "      <td>NaN</td>\n",
       "    </tr>\n",
       "    <tr>\n",
       "      <th>4</th>\n",
       "      <td>IND</td>\n",
       "      <td>India</td>\n",
       "      <td>2021-01-20</td>\n",
       "      <td>151</td>\n",
       "      <td>15244</td>\n",
       "      <td>764120</td>\n",
       "      <td>131649</td>\n",
       "      <td>15.244</td>\n",
       "      <td>764.120</td>\n",
       "      <td>131.649</td>\n",
       "      <td>68.98</td>\n",
       "      <td>155.2</td>\n",
       "      <td>NaN</td>\n",
       "      <td>NaN</td>\n",
       "      <td>NaN</td>\n",
       "    </tr>\n",
       "  </tbody>\n",
       "</table>\n",
       "</div>"
      ],
      "text/plain": [
       "  iso_code location       date  new_deaths  new_cases  new_tests  \\\n",
       "0      IND    India 2021-01-16         181      15144     803090   \n",
       "1      IND    India 2021-01-17         145      13788     779377   \n",
       "2      IND    India 2021-01-18         137      10050     548168   \n",
       "3      IND    India 2021-01-19         162      13816     709791   \n",
       "4      IND    India 2021-01-20         151      15244     764120   \n",
       "\n",
       "   new_vaccinations  new_cases_per_thousand  new_tests_per-thousand  \\\n",
       "0            191181                  15.144                 803.090   \n",
       "1             33120                  13.788                 779.377   \n",
       "2            229748                  10.050                 548.168   \n",
       "3            220786                  13.816                 709.791   \n",
       "4            131649                  15.244                 764.120   \n",
       "\n",
       "   new_vaccinations_per_thousand  stringency_index  moving_avg_5day  \\\n",
       "0                        191.181             68.98              NaN   \n",
       "1                         33.120             68.98              NaN   \n",
       "2                        229.748             68.98              NaN   \n",
       "3                        220.786             68.98              NaN   \n",
       "4                        131.649             68.98            155.2   \n",
       "\n",
       "   moving_avg_10day  moving_avg_15day  moving_avg_20day  \n",
       "0               NaN               NaN               NaN  \n",
       "1               NaN               NaN               NaN  \n",
       "2               NaN               NaN               NaN  \n",
       "3               NaN               NaN               NaN  \n",
       "4               NaN               NaN               NaN  "
      ]
     },
     "execution_count": 15,
     "metadata": {},
     "output_type": "execute_result"
    }
   ],
   "source": [
    "data['moving_avg_5day'] = rolling_mean5\n",
    "data['moving_avg_10day'] = rolling_mean10\n",
    "data['moving_avg_15day'] = rolling_mean15\n",
    "data['moving_avg_20day'] = rolling_mean20\n",
    "data.head()"
   ]
  },
  {
   "cell_type": "code",
   "execution_count": 19,
   "id": "ca0dcf27",
   "metadata": {},
   "outputs": [
    {
     "data": {
      "text/html": [
       "<div>\n",
       "<style scoped>\n",
       "    .dataframe tbody tr th:only-of-type {\n",
       "        vertical-align: middle;\n",
       "    }\n",
       "\n",
       "    .dataframe tbody tr th {\n",
       "        vertical-align: top;\n",
       "    }\n",
       "\n",
       "    .dataframe thead th {\n",
       "        text-align: right;\n",
       "    }\n",
       "</style>\n",
       "<table border=\"1\" class=\"dataframe\">\n",
       "  <thead>\n",
       "    <tr style=\"text-align: right;\">\n",
       "      <th></th>\n",
       "      <th>iso_code</th>\n",
       "      <th>location</th>\n",
       "      <th>date</th>\n",
       "      <th>new_deaths</th>\n",
       "      <th>new_cases</th>\n",
       "      <th>new_tests</th>\n",
       "      <th>new_vaccinations</th>\n",
       "      <th>new_cases_per_thousand</th>\n",
       "      <th>new_tests_per-thousand</th>\n",
       "      <th>new_vaccinations_per_thousand</th>\n",
       "      <th>stringency_index</th>\n",
       "      <th>moving_avg_5day</th>\n",
       "      <th>moving_avg_10day</th>\n",
       "      <th>moving_avg_15day</th>\n",
       "      <th>moving_avg_20day</th>\n",
       "    </tr>\n",
       "  </thead>\n",
       "  <tbody>\n",
       "    <tr>\n",
       "      <th>19</th>\n",
       "      <td>IND</td>\n",
       "      <td>India</td>\n",
       "      <td>2021-02-04</td>\n",
       "      <td>120</td>\n",
       "      <td>12408</td>\n",
       "      <td>742841</td>\n",
       "      <td>509893</td>\n",
       "      <td>12.408</td>\n",
       "      <td>742.841</td>\n",
       "      <td>509.893</td>\n",
       "      <td>61.57</td>\n",
       "      <td>109.8</td>\n",
       "      <td>123.6</td>\n",
       "      <td>130.266667</td>\n",
       "      <td>136.50</td>\n",
       "    </tr>\n",
       "    <tr>\n",
       "      <th>20</th>\n",
       "      <td>IND</td>\n",
       "      <td>India</td>\n",
       "      <td>2021-02-05</td>\n",
       "      <td>95</td>\n",
       "      <td>11713</td>\n",
       "      <td>715776</td>\n",
       "      <td>457404</td>\n",
       "      <td>11.713</td>\n",
       "      <td>715.776</td>\n",
       "      <td>457.404</td>\n",
       "      <td>61.57</td>\n",
       "      <td>105.2</td>\n",
       "      <td>119.4</td>\n",
       "      <td>125.733333</td>\n",
       "      <td>132.20</td>\n",
       "    </tr>\n",
       "    <tr>\n",
       "      <th>21</th>\n",
       "      <td>IND</td>\n",
       "      <td>India</td>\n",
       "      <td>2021-02-06</td>\n",
       "      <td>78</td>\n",
       "      <td>12059</td>\n",
       "      <td>740794</td>\n",
       "      <td>358473</td>\n",
       "      <td>12.059</td>\n",
       "      <td>740.794</td>\n",
       "      <td>358.473</td>\n",
       "      <td>61.57</td>\n",
       "      <td>102.0</td>\n",
       "      <td>114.9</td>\n",
       "      <td>120.800000</td>\n",
       "      <td>128.85</td>\n",
       "    </tr>\n",
       "    <tr>\n",
       "      <th>22</th>\n",
       "      <td>IND</td>\n",
       "      <td>India</td>\n",
       "      <td>2021-02-07</td>\n",
       "      <td>84</td>\n",
       "      <td>11831</td>\n",
       "      <td>695789</td>\n",
       "      <td>37040</td>\n",
       "      <td>11.831</td>\n",
       "      <td>695.789</td>\n",
       "      <td>37.040</td>\n",
       "      <td>61.57</td>\n",
       "      <td>96.8</td>\n",
       "      <td>107.0</td>\n",
       "      <td>116.066667</td>\n",
       "      <td>126.20</td>\n",
       "    </tr>\n",
       "    <tr>\n",
       "      <th>23</th>\n",
       "      <td>IND</td>\n",
       "      <td>India</td>\n",
       "      <td>2021-02-08</td>\n",
       "      <td>78</td>\n",
       "      <td>9110</td>\n",
       "      <td>532236</td>\n",
       "      <td>446646</td>\n",
       "      <td>9.110</td>\n",
       "      <td>532.236</td>\n",
       "      <td>446.646</td>\n",
       "      <td>61.57</td>\n",
       "      <td>91.0</td>\n",
       "      <td>101.1</td>\n",
       "      <td>112.533333</td>\n",
       "      <td>122.00</td>\n",
       "    </tr>\n",
       "  </tbody>\n",
       "</table>\n",
       "</div>"
      ],
      "text/plain": [
       "   iso_code location       date  new_deaths  new_cases  new_tests  \\\n",
       "19      IND    India 2021-02-04         120      12408     742841   \n",
       "20      IND    India 2021-02-05          95      11713     715776   \n",
       "21      IND    India 2021-02-06          78      12059     740794   \n",
       "22      IND    India 2021-02-07          84      11831     695789   \n",
       "23      IND    India 2021-02-08          78       9110     532236   \n",
       "\n",
       "    new_vaccinations  new_cases_per_thousand  new_tests_per-thousand  \\\n",
       "19            509893                  12.408                 742.841   \n",
       "20            457404                  11.713                 715.776   \n",
       "21            358473                  12.059                 740.794   \n",
       "22             37040                  11.831                 695.789   \n",
       "23            446646                   9.110                 532.236   \n",
       "\n",
       "    new_vaccinations_per_thousand  stringency_index  moving_avg_5day  \\\n",
       "19                        509.893             61.57            109.8   \n",
       "20                        457.404             61.57            105.2   \n",
       "21                        358.473             61.57            102.0   \n",
       "22                         37.040             61.57             96.8   \n",
       "23                        446.646             61.57             91.0   \n",
       "\n",
       "    moving_avg_10day  moving_avg_15day  moving_avg_20day  \n",
       "19             123.6        130.266667            136.50  \n",
       "20             119.4        125.733333            132.20  \n",
       "21             114.9        120.800000            128.85  \n",
       "22             107.0        116.066667            126.20  \n",
       "23             101.1        112.533333            122.00  "
      ]
     },
     "execution_count": 19,
     "metadata": {},
     "output_type": "execute_result"
    }
   ],
   "source": [
    "data.dropna(inplace=True)\n",
    "data.head(5)"
   ]
  },
  {
   "cell_type": "markdown",
   "id": "752e2392",
   "metadata": {},
   "source": [
    "Hw do we come up with rolling 5 10 15. How do we know which number is good to start with?\n",
    "\n",
    "So, correlation data wrt to lag tells us that lag above dotted line are significant. i.e. shorter times are good lags "
   ]
  },
  {
   "cell_type": "code",
   "execution_count": 20,
   "id": "4f5f4f39",
   "metadata": {},
   "outputs": [
    {
     "data": {
      "image/png": "[encoded data removed]",
      "text/plain": [
       "<Figure size 432x288 with 1 Axes>"
      ]
     },
     "metadata": {
      "needs_background": "light"
     },
     "output_type": "display_data"
    }
   ],
   "source": [
    "autocorrelation_plot(data['new_cases'])\n",
    "plt.show()\n"
   ]
  },
  {
   "cell_type": "code",
   "execution_count": 24,
   "id": "ed2b3755",
   "metadata": {},
   "outputs": [
    {
     "name": "stderr",
     "output_type": "stream",
     "text": [
      "/home/meta-sapien/anaconda3/lib/python3.9/site-packages/statsmodels/graphics/tsaplots.py:348: FutureWarning: The default method 'yw' can produce PACF values outside of the [-1,1] interval. After 0.13, the default will change tounadjusted Yule-Walker ('ywm'). You can use this method now by setting method='ywm'.\n",
      "  warnings.warn(\n"
     ]
    },
    {
     "data": {
      "image/png": "[encoded data removed]",
      "text/plain": [
       "<Figure size 864x576 with 2 Axes>"
      ]
     },
     "metadata": {
      "needs_background": "light"
     },
     "output_type": "display_data"
    }
   ],
   "source": [
    "from statsmodels.graphics.tsaplots import plot_acf, plot_pacf\n",
    "import statsmodels.api as sm\n",
    "fig = plt.figure(figsize = (12,8))\n",
    "ax1 = fig.add_subplot(211)\n",
    "fig = sm.graphics.tsa.plot_acf(data['new_deaths'].dropna(),lags=50, ax =ax1)\n",
    "ax2 = fig.add_subplot(212)\n",
    "fig = sm.graphics.tsa.plot_pacf(data['new_deaths'].dropna(),lags= 50, ax = ax2)\n",
    "    "
   ]
  },
  {
   "cell_type": "markdown",
   "id": "53fda4e3",
   "metadata": {},
   "source": [
    "less than 5 day lag are good "
   ]
  },
  {
   "cell_type": "code",
   "execution_count": 29,
   "id": "3a6a8f72",
   "metadata": {},
   "outputs": [
    {
     "name": "stderr",
     "output_type": "stream",
     "text": [
      "/home/meta-sapien/anaconda3/lib/python3.9/site-packages/statsmodels/tsa/base/tsa_model.py:471: ValueWarning: An unsupported index was provided and will be ignored when e.g. forecasting.\n",
      "  self._init_dates(dates, freq)\n",
      "/home/meta-sapien/anaconda3/lib/python3.9/site-packages/statsmodels/tsa/base/tsa_model.py:471: ValueWarning: An unsupported index was provided and will be ignored when e.g. forecasting.\n",
      "  self._init_dates(dates, freq)\n",
      "/home/meta-sapien/anaconda3/lib/python3.9/site-packages/statsmodels/tsa/base/tsa_model.py:471: ValueWarning: An unsupported index was provided and will be ignored when e.g. forecasting.\n",
      "  self._init_dates(dates, freq)\n"
     ]
    },
    {
     "name": "stdout",
     "output_type": "stream",
     "text": [
      "                               SARIMAX Results                                \n",
      "==============================================================================\n",
      "Dep. Variable:             new_deaths   No. Observations:                  137\n",
      "Model:                 ARIMA(1, 1, 0)   Log Likelihood               -1051.418\n",
      "Date:                Fri, 30 Sep 2022   AIC                           2106.835\n",
      "Time:                        12:14:58   BIC                           2112.661\n",
      "Sample:                             0   HQIC                          2109.203\n",
      "                                - 137                                         \n",
      "Covariance Type:                  opg                                         \n",
      "==============================================================================\n",
      "                 coef    std err          z      P>|z|      [0.025      0.975]\n",
      "------------------------------------------------------------------------------\n",
      "ar.L1         -0.3609      0.030    -12.046      0.000      -0.420      -0.302\n",
      "sigma2      3.058e+05   6921.383     44.183      0.000    2.92e+05    3.19e+05\n",
      "===================================================================================\n",
      "Ljung-Box (L1) (Q):                   1.14   Jarque-Bera (JB):             18526.76\n",
      "Prob(Q):                              0.29   Prob(JB):                         0.00\n",
      "Heteroskedasticity (H):            1606.91   Skew:                             5.57\n",
      "Prob(H) (two-sided):                  0.00   Kurtosis:                        59.08\n",
      "===================================================================================\n",
      "\n",
      "Warnings:\n",
      "[1] Covariance matrix calculated using the outer product of gradients (complex-step).\n"
     ]
    }
   ],
   "source": [
    "#1,1,0 ARIMA Models\n",
    "\n",
    "model = sm.tsa.arima.ARIMA(data.new_deaths, order = (1,1,0))\n",
    "model_fit = model.fit()\n",
    "print(model_fit.summary())"
   ]
  },
  {
   "cell_type": "code",
   "execution_count": 30,
   "id": "9bb4b174",
   "metadata": {},
   "outputs": [
    {
     "name": "stdout",
     "output_type": "stream",
     "text": [
      "                               SARIMAX Results                                \n",
      "==============================================================================\n",
      "Dep. Variable:             new_deaths   No. Observations:                  137\n",
      "Model:                 ARIMA(5, 1, 0)   Log Likelihood               -1046.078\n",
      "Date:                Fri, 30 Sep 2022   AIC                           2104.157\n",
      "Time:                        12:21:06   BIC                           2121.633\n",
      "Sample:                             0   HQIC                          2111.259\n",
      "                                - 137                                         \n",
      "Covariance Type:                  opg                                         \n",
      "==============================================================================\n",
      "                 coef    std err          z      P>|z|      [0.025      0.975]\n",
      "------------------------------------------------------------------------------\n",
      "ar.L1         -0.4359      0.046     -9.484      0.000      -0.526      -0.346\n",
      "ar.L2         -0.2243      0.059     -3.826      0.000      -0.339      -0.109\n",
      "ar.L3          0.0131      0.100      0.130      0.896      -0.183       0.210\n",
      "ar.L4         -0.1071      0.104     -1.030      0.303      -0.311       0.097\n",
      "ar.L5         -0.0946      0.070     -1.343      0.179      -0.233       0.043\n",
      "sigma2      2.908e+05   1.05e+04     27.589      0.000     2.7e+05    3.11e+05\n",
      "===================================================================================\n",
      "Ljung-Box (L1) (Q):                   0.00   Jarque-Bera (JB):             22184.17\n",
      "Prob(Q):                              0.95   Prob(JB):                         0.00\n",
      "Heteroskedasticity (H):            1361.78   Skew:                             6.40\n",
      "Prob(H) (two-sided):                  0.00   Kurtosis:                        64.24\n",
      "===================================================================================\n",
      "\n",
      "Warnings:\n",
      "[1] Covariance matrix calculated using the outer product of gradients (complex-step).\n"
     ]
    },
    {
     "name": "stderr",
     "output_type": "stream",
     "text": [
      "/home/meta-sapien/anaconda3/lib/python3.9/site-packages/statsmodels/tsa/base/tsa_model.py:471: ValueWarning: An unsupported index was provided and will be ignored when e.g. forecasting.\n",
      "  self._init_dates(dates, freq)\n",
      "/home/meta-sapien/anaconda3/lib/python3.9/site-packages/statsmodels/tsa/base/tsa_model.py:471: ValueWarning: An unsupported index was provided and will be ignored when e.g. forecasting.\n",
      "  self._init_dates(dates, freq)\n",
      "/home/meta-sapien/anaconda3/lib/python3.9/site-packages/statsmodels/tsa/base/tsa_model.py:471: ValueWarning: An unsupported index was provided and will be ignored when e.g. forecasting.\n",
      "  self._init_dates(dates, freq)\n"
     ]
    }
   ],
   "source": [
    "#5,1,0 ARIMA Models\n",
    "\n",
    "model = sm.tsa.arima.ARIMA(data.new_deaths, order = (5,1,0))\n",
    "model_fit = model.fit()\n",
    "print(model_fit.summary())"
   ]
  },
  {
   "cell_type": "markdown",
   "id": "d8f753d8",
   "metadata": {},
   "source": [
    "we can see that lag 1 and 2 are significant while the others are not significant"
   ]
  },
  {
   "cell_type": "code",
   "execution_count": 36,
   "id": "d0997674",
   "metadata": {},
   "outputs": [
    {
     "name": "stdout",
     "output_type": "stream",
     "text": [
      "Test MAE: 130.958\n"
     ]
    },
    {
     "data": {
      "image/png": "[encoded data removed]",
      "text/plain": [
       "<Figure size 432x288 with 1 Axes>"
      ]
     },
     "metadata": {
      "needs_background": "light"
     },
     "output_type": "display_data"
    }
   ],
   "source": [
    "X = data['new_deaths'].values\n",
    "size = int(len(X)*0.90)\n",
    "train, test = X[0:size], X[size:len(X)]\n",
    "traindf, testdf = data[0:size], data[size:len(X)]\n",
    "history = [x for x in train]\n",
    "prediction = list()\n",
    "\n",
    "#Walk forward validation:\n",
    "for t in range(len(test)):\n",
    "    model = sm.tsa.arima.ARIMA(history, order = (1,1,0))\n",
    "    model_fit = model.fit()\n",
    "    output = model_fit.forecast()\n",
    "    yhat = output[0]\n",
    "    prediction.append(yhat)\n",
    "    obs = test[t]\n",
    "    history.append(obs)\n",
    "    # print predicted = %f, expected = %f % (yhat, obs)\n",
    "    \n",
    "# evaluate the forecast\n",
    "\n",
    "mae = mean_absolute_error(test, prediction)\n",
    "print('Test MAE: %.3f' %mae)\n",
    "# Plot the forecast against actual outcomes\n",
    "\n",
    "plt.plot(test)\n",
    "plt.plot(prediction, color='red')\n",
    "plt.show()"
   ]
  },
  {
   "cell_type": "markdown",
   "id": "31d1f6ec",
   "metadata": {},
   "source": [
    "Mean absolute error is 130.958: Miscomputing on an average"
   ]
  },
  {
   "cell_type": "code",
   "execution_count": 37,
   "id": "697e11fc",
   "metadata": {},
   "outputs": [],
   "source": [
    "mae5day = mean_absolute_error(testdf['new_deaths'], testdf['moving_avg_5day'])\n",
    "mae10day = mean_absolute_error(testdf['new_deaths'], testdf['moving_avg_10day'])\n",
    "mae15day = mean_absolute_error(testdf['new_deaths'], testdf['moving_avg_15day'])\n",
    "mae20day = mean_absolute_error(testdf['new_deaths'], testdf['moving_avg_20day'])"
   ]
  },
  {
   "cell_type": "code",
   "execution_count": 38,
   "id": "f87a140b",
   "metadata": {},
   "outputs": [
    {
     "name": "stdout",
     "output_type": "stream",
     "text": [
      "Mean absolute average error from 5 day moving average prediction: 110.38571428571426\n",
      "Mean absolute average error from 10 day moving average prediction: 297.4928571428572\n",
      "Mean absolute average error from 15 day moving average prediction: 670.4666666666666\n",
      "Mean absolute average error from 20 day moving average prediction: 991.2785714285712\n"
     ]
    }
   ],
   "source": [
    "print(f'Mean absolute average error from 5 day moving average prediction: {mae5day}')\n",
    "print(f'Mean absolute average error from 10 day moving average prediction: {mae10day}')\n",
    "print(f'Mean absolute average error from 15 day moving average prediction: {mae15day}')\n",
    "print(f'Mean absolute average error from 20 day moving average prediction: {mae20day}')"
   ]
  },
  {
   "cell_type": "code",
   "execution_count": null,
   "id": "e608e972",
   "metadata": {},
   "outputs": [],
   "source": []
  }
 ],
 "metadata": {
  "kernelspec": {
   "display_name": "Python 3 (ipykernel)",
   "language": "python",
   "name": "python3"
  },
  "language_info": {
   "codemirror_mode": {
    "name": "ipython",
    "version": 3
   },
   "file_extension": ".py",
   "mimetype": "text/x-python",
   "name": "python",
   "nbconvert_exporter": "python",
   "pygments_lexer": "ipython3",
   "version": "3.9.12"
  }
 },
 "nbformat": 4,
 "nbformat_minor": 5
}
