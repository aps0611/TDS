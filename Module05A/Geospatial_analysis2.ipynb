{
  "cells": [
    {
      "cell_type": "markdown",
      "metadata": {
        "id": "RjIUH6AqfChd"
      },
      "source": [
        "Geospatial Analysis:\n",
        "\n",
        "The objective of this tutorial is to use geospatial analysis to make decisions about opening up new restaurants(or retail stores, bank branches, airports, etc). For our analysis, we use a dataset consisting of Starbucks and McDonalds store coordinates in New York.\n",
        "\n",
        "Our tutorial consists of the following steps:\n",
        "\n",
        "\n",
        "1.   Compute the distance of the stores\n",
        "2.   Visualize data on a map\n",
        "3.   Compute number of stores located in a given radius\n",
        "4.   Compute the closest and farthest stores from Empire State Building\n",
        "\n"
      ]
    },
    {
      "cell_type": "code",
      "execution_count": 9,
      "metadata": {
        "id": "TnL5zgcIgTki"
      },
      "outputs": [],
      "source": [
        "import pandas as pd\n",
        "import numpy as np\n",
        "import folium\n",
        "import geopy.distance\n",
        "import geocoder"
      ]
    },
    {
      "cell_type": "code",
      "source": [
        "# Locate the address\n",
        "def locator(address):\n",
        "  add = geocoder.osm(address)\n",
        "  return [add.lat, add.lng]\n",
        "\n",
        "# define the two locations and get their lat and long\n",
        "L1 = locator('Aurangabad, India')\n",
        "L2 = locator('Kollam, India')\n",
        "\n",
        "# find the distance\n",
        "geopy.distance.distance((L1[0],L1[1]),(L2[0],L2[1])).km"
      ],
      "metadata": {
        "colab": {
          "base_uri": "https://localhost:8080/"
        },
        "id": "67MgS6DdpONI",
        "outputId": "caf9e255-b26a-4e5e-e5e2-0baa1b35bef2"
      },
      "execution_count": 25,
      "outputs": [
        {
          "output_type": "execute_result",
          "data": {
            "text/plain": [
              "1223.4220980603232"
            ]
          },
          "metadata": {},
          "execution_count": 25
        }
      ]
    },
    {
      "cell_type": "code",
      "execution_count": 5,
      "metadata": {
        "colab": {
          "base_uri": "https://localhost:8080/"
        },
        "id": "GyneCXkI9Grd",
        "outputId": "368f50ab-5195-45ba-d533-3b380bd625de"
      },
      "outputs": [
        {
          "output_type": "stream",
          "name": "stdout",
          "text": [
            "Location address: Loni\n",
            "\n",
            "Location address: Chennai\n",
            "Latitude and Longitude of the said address:\n",
            "(13.0836939, 80.270186)\n",
            "943.94777019174\n"
          ]
        }
      ],
      "source": [
        "loc = \"Chennai\"\n",
        "print(\"\\nLocation address:\",loc)\n",
        "location = geolocator.geocode(loc)\n",
        "print(\"Latitude and Longitude of the said address:\")\n",
        "print((location.latitude, location.longitude))\n",
        "print(geopy.distance.distance((l1[0],l1[1]), (location.latitude, location.longitude)).km)"
      ]
    },
    {
      "cell_type": "code",
      "source": [
        "for x in [\"shivnagar\",\"Papum Pare-Pithapur\",\"Dewas-Chittor\"]:\n",
        "  l1,l2 = x.split(\"-\")\n",
        "  l1 = geolocator.geocode(l1)\n",
        "  l2 = geolocator.geocode(l2)\n",
        "  print(geopy.distance.distance((l1.latitude, l1.longitude), (l2.latitude, l2.longitude)).km)"
      ],
      "metadata": {
        "colab": {
          "base_uri": "https://localhost:8080/",
          "height": 235
        },
        "id": "z4-muuNdPtFS",
        "outputId": "cfab0ba4-e795-4af1-d396-75c9e0ed7b62"
      },
      "execution_count": null,
      "outputs": [
        {
          "output_type": "error",
          "ename": "ValueError",
          "evalue": "ignored",
          "traceback": [
            "\u001b[0;31m---------------------------------------------------------------------------\u001b[0m",
            "\u001b[0;31mValueError\u001b[0m                                Traceback (most recent call last)",
            "\u001b[0;32m<ipython-input-5-f47618aec7aa>\u001b[0m in \u001b[0;36m<module>\u001b[0;34m\u001b[0m\n\u001b[1;32m      1\u001b[0m \u001b[0;32mfor\u001b[0m \u001b[0mx\u001b[0m \u001b[0;32min\u001b[0m \u001b[0;34m[\u001b[0m\u001b[0;34m\"shivnagar\"\u001b[0m\u001b[0;34m,\u001b[0m\u001b[0;34m\"Papum Pare-Pithapur\"\u001b[0m\u001b[0;34m,\u001b[0m\u001b[0;34m\"Dewas-Chittor\"\u001b[0m\u001b[0;34m]\u001b[0m\u001b[0;34m:\u001b[0m\u001b[0;34m\u001b[0m\u001b[0;34m\u001b[0m\u001b[0m\n\u001b[0;32m----> 2\u001b[0;31m   \u001b[0ml1\u001b[0m\u001b[0;34m,\u001b[0m\u001b[0ml2\u001b[0m \u001b[0;34m=\u001b[0m \u001b[0mx\u001b[0m\u001b[0;34m.\u001b[0m\u001b[0msplit\u001b[0m\u001b[0;34m(\u001b[0m\u001b[0;34m\"-\"\u001b[0m\u001b[0;34m)\u001b[0m\u001b[0;34m\u001b[0m\u001b[0;34m\u001b[0m\u001b[0m\n\u001b[0m\u001b[1;32m      3\u001b[0m   \u001b[0ml1\u001b[0m \u001b[0;34m=\u001b[0m \u001b[0mgeolocator\u001b[0m\u001b[0;34m.\u001b[0m\u001b[0mgeocode\u001b[0m\u001b[0;34m(\u001b[0m\u001b[0ml1\u001b[0m\u001b[0;34m)\u001b[0m\u001b[0;34m\u001b[0m\u001b[0;34m\u001b[0m\u001b[0m\n\u001b[1;32m      4\u001b[0m   \u001b[0ml2\u001b[0m \u001b[0;34m=\u001b[0m \u001b[0mgeolocator\u001b[0m\u001b[0;34m.\u001b[0m\u001b[0mgeocode\u001b[0m\u001b[0;34m(\u001b[0m\u001b[0ml2\u001b[0m\u001b[0;34m)\u001b[0m\u001b[0;34m\u001b[0m\u001b[0;34m\u001b[0m\u001b[0m\n\u001b[1;32m      5\u001b[0m   \u001b[0mprint\u001b[0m\u001b[0;34m(\u001b[0m\u001b[0mgeopy\u001b[0m\u001b[0;34m.\u001b[0m\u001b[0mdistance\u001b[0m\u001b[0;34m.\u001b[0m\u001b[0mdistance\u001b[0m\u001b[0;34m(\u001b[0m\u001b[0;34m(\u001b[0m\u001b[0ml1\u001b[0m\u001b[0;34m.\u001b[0m\u001b[0mlatitude\u001b[0m\u001b[0;34m,\u001b[0m \u001b[0ml1\u001b[0m\u001b[0;34m.\u001b[0m\u001b[0mlongitude\u001b[0m\u001b[0;34m)\u001b[0m\u001b[0;34m,\u001b[0m \u001b[0;34m(\u001b[0m\u001b[0ml2\u001b[0m\u001b[0;34m.\u001b[0m\u001b[0mlatitude\u001b[0m\u001b[0;34m,\u001b[0m \u001b[0ml2\u001b[0m\u001b[0;34m.\u001b[0m\u001b[0mlongitude\u001b[0m\u001b[0;34m)\u001b[0m\u001b[0;34m)\u001b[0m\u001b[0;34m.\u001b[0m\u001b[0mkm\u001b[0m\u001b[0;34m)\u001b[0m\u001b[0;34m\u001b[0m\u001b[0;34m\u001b[0m\u001b[0m\n",
            "\u001b[0;31mValueError\u001b[0m: not enough values to unpack (expected 2, got 1)"
          ]
        }
      ]
    },
    {
      "cell_type": "code",
      "source": [
        "l1"
      ],
      "metadata": {
        "id": "5saYOW34nXdu"
      },
      "execution_count": null,
      "outputs": []
    },
    {
      "cell_type": "code",
      "execution_count": null,
      "metadata": {
        "id": "cgF15YHU9RLN",
        "colab": {
          "base_uri": "https://localhost:8080/"
        },
        "outputId": "b2b09471-bf13-439b-8d30-249c3944071f"
      },
      "outputs": [
        {
          "output_type": "execute_result",
          "data": {
            "text/plain": [
              "898.1167301426894"
            ]
          },
          "metadata": {},
          "execution_count": 3
        }
      ],
      "source": [
        "geopy.distance.distance((l1.latitude, l1.longitude), (location.latitude, location.longitude)).km"
      ]
    },
    {
      "cell_type": "code",
      "execution_count": null,
      "metadata": {
        "id": "yTnN6Zekmzlt",
        "colab": {
          "base_uri": "https://localhost:8080/"
        },
        "outputId": "539915f8-8643-4ae8-dd9e-5c2135434e14"
      },
      "outputs": [
        {
          "output_type": "stream",
          "name": "stdout",
          "text": [
            "Location address: Kozhikode\n",
            "Latitude and Longitude of the said address:\n",
            "(11.2450558, 75.7754716)\n",
            "\n",
            "Location address: Ahmednagar\n",
            "Latitude and Longitude of the said address:\n",
            "(19.162772500000003, 74.85802430085195)\n"
          ]
        }
      ],
      "source": [
        "ladd1 = \"Kozhikode\"\n",
        "print(\"Location address:\",ladd1)\n",
        "l1 = geolocator.geocode(ladd1)\n",
        "print(\"Latitude and Longitude of the said address:\")\n",
        "print((l1.latitude, l1.longitude))\n",
        "\n",
        "ladd2 = \"Ahmednagar\"\n",
        "print(\"\\nLocation address:\",ladd2)\n",
        "location = geolocator.geocode(ladd2)\n",
        "print(\"Latitude and Longitude of the said address:\")\n",
        "print((location.latitude, location.longitude))\n",
        "\n"
      ]
    },
    {
      "cell_type": "code",
      "execution_count": null,
      "metadata": {
        "id": "5mzqO8ilmzdM",
        "colab": {
          "base_uri": "https://localhost:8080/"
        },
        "outputId": "5dfcbb2d-8669-4cdd-9ab9-59472d712b68"
      },
      "outputs": [
        {
          "output_type": "execute_result",
          "data": {
            "text/plain": [
              "881.6306067583353"
            ]
          },
          "metadata": {},
          "execution_count": 5
        }
      ],
      "source": [
        "import geopy.distance\n",
        "\n",
        "geopy.distance.distance((l1.latitude, l1.longitude), (location.latitude, location.longitude)).km"
      ]
    },
    {
      "cell_type": "code",
      "source": [
        "def distance(a,b):\n",
        "  l1 = geolocator.geocode(a)\n",
        "  location = geolocator.geocode(b)\n",
        "  return geopy.distance.distance((l1.latitude, l1.longitude), (location.latitude, location.longitude)).km\n"
      ],
      "metadata": {
        "id": "sPCoe8yPQlEA"
      },
      "execution_count": null,
      "outputs": []
    },
    {
      "cell_type": "code",
      "source": [
        "distance(\"Bhopal\",\"Cachar\")"
      ],
      "metadata": {
        "id": "RMh5Oh7AR4t3"
      },
      "execution_count": null,
      "outputs": []
    },
    {
      "cell_type": "code",
      "source": [
        "distance(\"Coimbatore\",\"Cachar\")"
      ],
      "metadata": {
        "id": "SXmYNQboSBS3"
      },
      "execution_count": null,
      "outputs": []
    },
    {
      "cell_type": "code",
      "source": [
        "distance(\"Khammam\",\"Chandigarh\")"
      ],
      "metadata": {
        "id": "WWIboYf0SIv9",
        "colab": {
          "base_uri": "https://localhost:8080/"
        },
        "outputId": "d60d5adc-05c5-45b0-e1b3-0143cc5bcd4e"
      },
      "execution_count": null,
      "outputs": [
        {
          "output_type": "execute_result",
          "data": {
            "text/plain": [
              "1509.3306732976478"
            ]
          },
          "metadata": {},
          "execution_count": 8
        }
      ]
    },
    {
      "cell_type": "code",
      "source": [
        "distance(\"Tiruvannamalai\",\"Cachar\")"
      ],
      "metadata": {
        "id": "xXkTclrNSM_l"
      },
      "execution_count": null,
      "outputs": []
    },
    {
      "cell_type": "code",
      "execution_count": null,
      "metadata": {
        "id": "EC4m1egJe8Hv"
      },
      "outputs": [],
      "source": [
        "#Read file containing location details\n",
        "df = pd.read_csv('https://drive.google.com/uc?id=19JERBe0ndadkMPKDFZ0rTEZqdI50zDfk')\n",
        "df.head(10)"
      ]
    },
    {
      "cell_type": "code",
      "execution_count": null,
      "metadata": {
        "id": "pwO0243tmizb"
      },
      "outputs": [],
      "source": [
        "#Merge Columns\n",
        "df['Coordinate'] = '('+df['lat'].astype(str) + ', ' + df['lng'].astype(str)+')'\n",
        "df.head(10)"
      ]
    },
    {
      "cell_type": "code",
      "execution_count": null,
      "metadata": {
        "id": "BwL2yBY5jS2_"
      },
      "outputs": [],
      "source": [
        "#New York Empire State Building Lat Long (Looking for any approx center point)\n",
        "NY_coord = (40.748488, -73.985238)"
      ]
    },
    {
      "cell_type": "code",
      "execution_count": null,
      "metadata": {
        "id": "8cMTNo7OZzhk"
      },
      "outputs": [],
      "source": [
        "ass=df.itertuples\n",
        "type(ass)"
      ]
    },
    {
      "cell_type": "code",
      "execution_count": null,
      "metadata": {
        "id": "LnqkRB-BcJS-"
      },
      "outputs": [],
      "source": [
        "df.columns"
      ]
    },
    {
      "cell_type": "code",
      "execution_count": null,
      "metadata": {
        "id": "-91nro5YZ-qL"
      },
      "outputs": [],
      "source": [
        "for sd in df.itertuples(index=True):\n",
        "  print(len(sd))\n",
        "  print(type(sd))\n",
        "  d=geopy.distance.distance(NY_coord, sd.Coordinate)\n",
        "  dff=geopy.distance.distance(NY_coord, sd.Coordinate).km\n",
        "  print(d,dff)\n",
        "  print(type(dff))\n",
        "\n",
        "  break"
      ]
    },
    {
      "cell_type": "markdown",
      "metadata": {
        "id": "Jg_MRCjNwFNb"
      },
      "source": [
        "**1. Compute the distance of the stores**"
      ]
    },
    {
      "cell_type": "code",
      "execution_count": null,
      "metadata": {
        "id": "VkHNRL_DmE2a"
      },
      "outputs": [],
      "source": [
        "#Compute distance of every store from city center\n",
        "distances_km = []\n",
        "\n",
        "for row in df.itertuples(index=False):\n",
        "   s=row\n",
        "   distances_km.append(\n",
        "       geopy.distance.distance(NY_coord, row.Coordinate).km\n",
        "   )\n",
        "\n",
        "df['Distance'] = distances_km\n",
        "df.head(10)"
      ]
    },
    {
      "cell_type": "code",
      "execution_count": null,
      "metadata": {
        "id": "ZhFST8Kkfh2V"
      },
      "outputs": [],
      "source": [
        "for i, row in df.iterrows():\n",
        "  lat = df.at[i, 'lat']\n",
        "  print(lat)\n",
        "  lng = df.at[i, 'lng']\n",
        "  print(lng)\n",
        "  store = df.at[i, 'store']\n",
        "  print(store)\n",
        "  print(i)\n",
        "  print()\n",
        "  print(type(row))\n",
        "  print()\n",
        "  print()\n",
        "  print(row)\n",
        "  \n",
        "  break\n"
      ]
    },
    {
      "cell_type": "code",
      "source": [
        "s.Coordinate"
      ],
      "metadata": {
        "id": "WKuAcpbJEDqF"
      },
      "execution_count": null,
      "outputs": []
    },
    {
      "cell_type": "code",
      "source": [
        "NY_coord"
      ],
      "metadata": {
        "id": "lvB3JJiUUe75"
      },
      "execution_count": null,
      "outputs": []
    },
    {
      "cell_type": "code",
      "execution_count": null,
      "metadata": {
        "id": "e6pQXIJcgrWG"
      },
      "outputs": [],
      "source": [
        "nn = folium.Map(location=NY_coord, zoom_start= 15)\n",
        "type(nn)"
      ]
    },
    {
      "cell_type": "code",
      "execution_count": null,
      "metadata": {
        "id": "kOqpnJVVrrq8"
      },
      "outputs": [],
      "source": [
        "j=folium.Marker(location=[lat,lng], popup=store, icon= folium.Icon(color=\"color\")).add_to(nn)\n",
        "type(j)"
      ]
    },
    {
      "cell_type": "markdown",
      "metadata": {
        "id": "DLwS5c0VwNMQ"
      },
      "source": [
        "**2.Visualize data on a map**"
      ]
    },
    {
      "cell_type": "code",
      "execution_count": null,
      "metadata": {
        "id": "keLZN-vioUd6"
      },
      "outputs": [],
      "source": [
        "#Empire State Building coordinates\n",
        "m = folium.Map(location=NY_coord, zoom_start= 15)\n",
        "\n",
        "#Place markers for the stores on the map\n",
        "for i,row in df.iterrows():\n",
        "  lat = df.at[i, 'lat']\n",
        "  lng = df.at[i, 'lng']\n",
        "  store = df.at[i, 'store']\n",
        "\n",
        "  if store == 'McDonalds':\n",
        "    color = 'red'\n",
        "  else:\n",
        "    color = 'green'\n",
        "\n",
        "  folium.Marker(location=[lat,lng], popup=store, icon= folium.Icon(color=color)).add_to(m)\n",
        "\n",
        "m"
      ]
    },
    {
      "cell_type": "markdown",
      "metadata": {
        "id": "T5Hud1dswQ9O"
      },
      "source": [
        "**3. Compute number of stores located in a given radius**"
      ]
    },
    {
      "cell_type": "code",
      "execution_count": null,
      "metadata": {
        "id": "A4Idfn0-swJ1"
      },
      "outputs": [],
      "source": [
        "#All stores at a distance greater/less than x kms\n",
        "df[df['Distance'] > 10]"
      ]
    },
    {
      "cell_type": "markdown",
      "metadata": {
        "id": "GnRkA-2dMG4-"
      },
      "source": [
        "**4. Compute the closest and farthest stores from Empire State Building**\n",
        "\n"
      ]
    },
    {
      "cell_type": "code",
      "execution_count": null,
      "metadata": {
        "id": "uBRmQvn-MNZl"
      },
      "outputs": [],
      "source": [
        "df_farthest = df.iloc[df.groupby('store')['Distance'].agg(pd.Series.idxmax)]\n",
        "df_closest = df.iloc[df.groupby('store')['Distance'].agg(pd.Series.idxmin)]\n",
        "df_new = pd.concat([df_farthest, df_closest])"
      ]
    },
    {
      "cell_type": "code",
      "source": [
        "df_farthest"
      ],
      "metadata": {
        "id": "p7orTPoCw9FQ"
      },
      "execution_count": null,
      "outputs": []
    },
    {
      "cell_type": "code",
      "execution_count": null,
      "metadata": {
        "id": "zDjLiMSitcIo"
      },
      "outputs": [],
      "source": [
        "ds=df.groupby('store')['Distance'].agg(pd.Series.idxmax)\n",
        "ds.index[:]"
      ]
    },
    {
      "cell_type": "code",
      "execution_count": null,
      "metadata": {
        "id": "d1poy6o4kD28"
      },
      "outputs": [],
      "source": [
        "df_new"
      ]
    },
    {
      "cell_type": "code",
      "source": [
        "df_new = pd.read_csv('/content/clean_airbnb.csv')\n",
        "df_new.head()"
      ],
      "metadata": {
        "id": "eu8QKMZYIEBC"
      },
      "execution_count": null,
      "outputs": []
    },
    {
      "cell_type": "code",
      "execution_count": null,
      "metadata": {
        "id": "iK1FrOlfYtCY"
      },
      "outputs": [],
      "source": [
        "m = folium.Map(location=[40.748488, -73.985238], zoom_start= 10)\n",
        "for i, rown in df_new.iterrows():\n",
        "  lat = df_new.at[i, 'LAT']\n",
        "  lng = df_new.at[i, 'LONG']\n",
        "  place = df_new.at[i, 'neighbourhood group']\n",
        "  folium.Marker(location=[lat,lng], popup=place, icon= folium.Icon(color=color)).add_to(m)\n",
        "m"
      ]
    },
    {
      "cell_type": "markdown",
      "metadata": {
        "id": "ZvlRfcULsxvO"
      },
      "source": [
        "# Coffee king"
      ]
    },
    {
      "cell_type": "code",
      "source": [],
      "metadata": {
        "id": "a1BOoU8EK-7a"
      },
      "execution_count": null,
      "outputs": []
    },
    {
      "cell_type": "code",
      "execution_count": null,
      "metadata": {
        "id": "kXBAj0NVtWou"
      },
      "outputs": [],
      "source": [
        "!pip install geopandas"
      ]
    },
    {
      "cell_type": "code",
      "source": [
        "data = requests.get(\"https://www.mcdonalds.com/googleappsv2/geolocation?latitude=40.7830603&longitude=-73.9712488&radius=8.045&maxResults=30&country=us&language=en-us\").json()"
      ],
      "metadata": {
        "id": "-pReVQtnWJ1d"
      },
      "execution_count": null,
      "outputs": []
    },
    {
      "cell_type": "code",
      "execution_count": null,
      "metadata": {
        "id": "tuWFK1H8tHxn"
      },
      "outputs": [],
      "source": [
        "import numpy as np\n",
        "import pandas as pd\n",
        "import os\n",
        "import geopandas\n",
        "import requests\n",
        "import pyproj\n",
        "\n",
        "def mcdonalds():\n",
        "    data = requests.get(\"https://www.mcdonalds.com/googleappsv2/geolocation?latitude=40.7830603&longitude=-73.9712488&radius=8.045&maxResults=30&country=us&language=en-us\").json()\n",
        "    \n",
        "    result = []\n",
        "    for row in data['features']:\n",
        "        geom,prop = row['geometry'], row['properties']\n",
        "        result.append({\n",
        "            'store': 'McDonalds',\n",
        "            'lat': geom['coordinates'][1],\n",
        "            'lng': geom['coordinates'][0],\n",
        "            'address': prop['addressLine1'],\n",
        "        })\n",
        "\n",
        "    return pd.DataFrame(result)\n",
        "\n",
        "\n",
        "def starbucks():\n",
        "\n",
        "    \n",
        "    #Return a DataFrame with Manhattan Starbucks (store, address, lat, lng)I went to https://www.starbucks.com/store-locator and moved the map around to get center points that seem to cover Manhattan.\n",
        "    \n",
        "    \n",
        "    map_points = (\n",
        "      [40.709353, -74.002588],\n",
        "      [40.72899, -73.982323],\n",
        "      [40.741837, -74.008072],\n",
        "      [40.741317, -73.972179],\n",
        "      [40.761994, -73.959133],\n",
        "      [40.763489, -73.989517],\n",
        "      [40.763814, -74.01415],\n",
        "      [40.781312, -73.98617],\n",
        "      [40.773145, -73.960995],\n",
        "      [40.79807, -73.977686],\n",
        "      [40.786317, -73.928566],\n",
        "      \n",
        "    )\n",
        "\n",
        "    result = []\n",
        "\n",
        "    for lat, lng in map_points:\n",
        "        url = f'https://www.starbucks.com/bff/locations?lat={lat}&lng={lng}'\n",
        "        \n",
        "        data = requests.get(url, headers={'x-requested-with': 'XMLHttpRequest'}).json()\n",
        "\n",
        "\n",
        "        for row in data['stores']:\n",
        "            result.append({\n",
        "              'store': 'Starbucks',\n",
        "              'lat': row['coordinates']['latitude'],\n",
        "              'lng': row['coordinates']['longitude'],\n",
        "              'address': ', '.join(row['addressLines'])\n",
        "            })\n",
        "    return pd.DataFrame(result).drop_duplicates()\n",
        "\n",
        "def scrape_stores(target, overwrite=False):\n",
        "    if not overwrite and os.path.exists(target):\n",
        "        print(target, 'already exists. not scraping')\n",
        "        return pd.read_excel(target)\n",
        "    \n",
        "    data = pd.concat([\n",
        "        mcdonalds(),\n",
        "        starbucks(),\n",
        "    ])\n",
        "\n",
        "    data.to_excel(target, index=False)\n",
        "    return data\n",
        "\n",
        "def manhatten_map():\n",
        "    #load population and census shape file and adata \n",
        "    cols  =  ['BoroName','FIPSCode','BoroCode','CT2010','Pop2000','Pop2010','Change','ChangePC','Acres','Density']\n",
        "\n",
        "    pop = pd.read_excel('/content/t_pl_p5_ct.xlsx', skiprows=range(7), header=None, names=cols, dtype=object)\n",
        "\n",
        "    shape  = geopandas.read_file('/content/nyct2010.shp')\n",
        "\n",
        "    # Filter for Manhattan \n",
        "    shape  =  shape.merge(pop.loc[:, ['CT2010', 'Pop2010']], on='CT2010')\n",
        "\n",
        "    if not os.path.exists('map'):\n",
        "        os.makedirs('map')\n",
        "\n",
        "        # convert lat-long coordinate system and save \n",
        "    #shape  = CRS('EPSG:4326').to_proj4()\n",
        "    crs=pyproj.CRS(\"epsg:4326\")\n",
        "    shape = shape.to_crs(crs)\n",
        "    shape['Pop2010'] = shape['Pop2010'].astype(int)\n",
        "    shape.to_file('map/population.shp')\n",
        "    # save as a single blog for use by reshaper \n",
        "\n",
        "    shape.dissolve(by='BoroName')[['BoroCode', 'geometry']].to_file('map/single.shp')\n",
        "\n",
        "def stores_map(stores, shape):\n",
        "    geom = geopandas.points_from_xy(stores.lng,stores.lat)\n",
        "    points = geopandas.GeoDataFrame(stores, geometry=geom)\n",
        "    #points = points[points.intersects(shape.unary_union)]\n",
        "    \n",
        "    points.loc[:,['lat', 'lng','store','address']].to_csv('manhatton-stores.csv', index=False, encoding='utf8')\n",
        "    points.to_file('map/points.shp')\n",
        "\n",
        "if __name__ == '__main__':\n",
        "    stores = scrape_stores('stores.xlsx', overwrite=False)\n",
        "    shape = manhatten_map()\n",
        "    stores_map(stores, shape)"
      ]
    },
    {
      "cell_type": "code",
      "execution_count": null,
      "metadata": {
        "id": "gWg8h0RM0vPL"
      },
      "outputs": [],
      "source": [
        "from google.colab import drive\n",
        "drive.mount('/content/drive')"
      ]
    },
    {
      "cell_type": "code",
      "execution_count": null,
      "metadata": {
        "id": "1_zRFxqIU5Yh"
      },
      "outputs": [],
      "source": []
    }
  ],
  "metadata": {
    "colab": {
      "collapsed_sections": [],
      "provenance": []
    },
    "kernelspec": {
      "display_name": "Python 3",
      "name": "python3"
    },
    "language_info": {
      "name": "python"
    }
  },
  "nbformat": 4,
  "nbformat_minor": 0
}