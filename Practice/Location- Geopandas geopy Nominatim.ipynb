{
  "nbformat": 4,
  "nbformat_minor": 0,
  "metadata": {
    "colab": {
      "provenance": []
    },
    "kernelspec": {
      "name": "python3",
      "display_name": "Python 3"
    },
    "language_info": {
      "name": "python"
    }
  },
  "cells": [
    {
      "cell_type": "code",
      "execution_count": 1,
      "metadata": {
        "id": "22ZtOjdN9um_"
      },
      "outputs": [],
      "source": [
        "from geopy.geocoders import Nominatim"
      ]
    },
    {
      "cell_type": "code",
      "source": [
        "locator = Nominatim(user_agent=\"myGeocoder\")"
      ],
      "metadata": {
        "id": "-qIKg2vH92wJ"
      },
      "execution_count": 3,
      "outputs": []
    },
    {
      "cell_type": "code",
      "source": [
        "location = locator.geocode(\"Buldhana\")"
      ],
      "metadata": {
        "id": "PhzTpXQO9451"
      },
      "execution_count": 6,
      "outputs": []
    },
    {
      "cell_type": "code",
      "source": [
        "location.raw"
      ],
      "metadata": {
        "colab": {
          "base_uri": "https://localhost:8080/"
        },
        "id": "E9xyx3oT98yg",
        "outputId": "3424b2c8-eca6-407e-ab1c-c176c5fd6136"
      },
      "execution_count": 7,
      "outputs": [
        {
          "output_type": "execute_result",
          "data": {
            "text/plain": [
              "{'place_id': 298591252,\n",
              " 'licence': 'Data © OpenStreetMap contributors, ODbL 1.0. https://osm.org/copyright',\n",
              " 'osm_type': 'relation',\n",
              " 'osm_id': 7398836,\n",
              " 'boundingbox': ['19.8376371', '21.2885874', '75.9231902', '76.826266'],\n",
              " 'lat': '20.562845000000003',\n",
              " 'lon': '76.40869861474177',\n",
              " 'display_name': 'Buldhana, Maharashtra, India',\n",
              " 'class': 'boundary',\n",
              " 'type': 'administrative',\n",
              " 'importance': 0.5748773825523825,\n",
              " 'icon': 'https://nominatim.openstreetmap.org/ui/mapicons/poi_boundary_administrative.p.20.png'}"
            ]
          },
          "metadata": {},
          "execution_count": 7
        }
      ]
    },
    {
      "cell_type": "code",
      "source": [
        "print(f'Latitude : {location.latitude} and Longitude : {location.longitude}')"
      ],
      "metadata": {
        "colab": {
          "base_uri": "https://localhost:8080/"
        },
        "id": "dcoZs2-k-AvF",
        "outputId": "bd96afe5-014d-41a6-d08b-dd48d82ab41b"
      },
      "execution_count": 11,
      "outputs": [
        {
          "output_type": "stream",
          "name": "stdout",
          "text": [
            "Latitude : 20.562845000000003 and Longitude : 76.40869861474177\n"
          ]
        }
      ]
    },
    {
      "cell_type": "code",
      "source": [],
      "metadata": {
        "id": "ktvkPCcQ-b1J"
      },
      "execution_count": null,
      "outputs": []
    }
  ]
}