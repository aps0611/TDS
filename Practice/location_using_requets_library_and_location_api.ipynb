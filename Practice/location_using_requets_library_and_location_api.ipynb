{
  "nbformat": 4,
  "nbformat_minor": 0,
  "metadata": {
    "colab": {
      "provenance": []
    },
    "kernelspec": {
      "name": "python3",
      "display_name": "Python 3"
    },
    "language_info": {
      "name": "python"
    }
  },
  "cells": [
    {
      "cell_type": "code",
      "execution_count": 3,
      "metadata": {
        "id": "748cFetv--Ka"
      },
      "outputs": [],
      "source": [
        "import os\n",
        "import requests\n",
        "import pandas as pd\n",
        "from urllib.parse import urlencode\n",
        "import re"
      ]
    },
    {
      "cell_type": "code",
      "source": [
        "url = 'https://locator-service.api.bbci.co.uk/locations?api_key=AGbFAKx58hyjQScCXIYrxuEwJh2W2cmv&stack=aws&locale=en&filter=international&place-types=settlement%2Cairport%2Cdistrict&order=importance&s=Pune&a=true&format=json'\n",
        "resp = requests.get(url)\n",
        "\n",
        "\n",
        "## Can use urlencode for more generalised code\n"
      ],
      "metadata": {
        "id": "bYS8GIBnB8_4"
      },
      "execution_count": 4,
      "outputs": []
    },
    {
      "cell_type": "code",
      "source": [
        "result = resp.json()\n",
        "result"
      ],
      "metadata": {
        "colab": {
          "base_uri": "https://localhost:8080/"
        },
        "id": "S7liHfb4CAl4",
        "outputId": "5461d6fa-0902-4e81-d83b-5e2c78a38428"
      },
      "execution_count": 7,
      "outputs": [
        {
          "output_type": "execute_result",
          "data": {
            "text/plain": [
              "{'response': {'results': {'results': [{'id': '1259229',\n",
              "     'name': 'Pune',\n",
              "     'container': 'India',\n",
              "     'containerId': 1269750,\n",
              "     'language': 'en',\n",
              "     'timezone': 'Asia/Kolkata',\n",
              "     'country': 'IN',\n",
              "     'latitude': 18.51957,\n",
              "     'longitude': 73.85535,\n",
              "     'placeType': 'settlement'},\n",
              "    {'id': '6452628',\n",
              "     'name': 'Pune Airport',\n",
              "     'container': 'India',\n",
              "     'containerId': 1269750,\n",
              "     'language': 'en',\n",
              "     'timezone': 'Asia/Kolkata',\n",
              "     'country': 'IN',\n",
              "     'latitude': 18.58223,\n",
              "     'longitude': 73.91988,\n",
              "     'placeType': 'airport'}],\n",
              "   'totalResults': 2}}}"
            ]
          },
          "metadata": {},
          "execution_count": 7
        }
      ]
    },
    {
      "cell_type": "code",
      "source": [
        "result['response']['results']['results'][0]"
      ],
      "metadata": {
        "colab": {
          "base_uri": "https://localhost:8080/"
        },
        "id": "4d0uORFUCF63",
        "outputId": "d1aae28b-6b9a-46a8-990b-b7a1a4da57ee"
      },
      "execution_count": 13,
      "outputs": [
        {
          "output_type": "execute_result",
          "data": {
            "text/plain": [
              "{'id': '1259229',\n",
              " 'name': 'Pune',\n",
              " 'container': 'India',\n",
              " 'containerId': 1269750,\n",
              " 'language': 'en',\n",
              " 'timezone': 'Asia/Kolkata',\n",
              " 'country': 'IN',\n",
              " 'latitude': 18.51957,\n",
              " 'longitude': 73.85535,\n",
              " 'placeType': 'settlement'}"
            ]
          },
          "metadata": {},
          "execution_count": 13
        }
      ]
    },
    {
      "cell_type": "code",
      "source": [
        "result['response']['results']['results'][0]['latitude']"
      ],
      "metadata": {
        "colab": {
          "base_uri": "https://localhost:8080/"
        },
        "id": "95hUpLGLExEW",
        "outputId": "df49b5fd-29eb-48e2-a2dd-e9335419edf4"
      },
      "execution_count": 14,
      "outputs": [
        {
          "output_type": "execute_result",
          "data": {
            "text/plain": [
              "18.51957"
            ]
          },
          "metadata": {},
          "execution_count": 14
        }
      ]
    },
    {
      "cell_type": "code",
      "source": [],
      "metadata": {
        "id": "UgPkkkvzE8kH"
      },
      "execution_count": null,
      "outputs": []
    }
  ]
}