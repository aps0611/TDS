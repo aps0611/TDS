{
  "nbformat": 4,
  "nbformat_minor": 0,
  "metadata": {
    "colab": {
      "provenance": []
    },
    "kernelspec": {
      "name": "python3",
      "display_name": "Python 3"
    },
    "language_info": {
      "name": "python"
    }
  },
  "cells": [
    {
      "cell_type": "code",
      "execution_count": null,
      "metadata": {
        "id": "GOxHDXyeF9n1"
      },
      "outputs": [],
      "source": [
        "## Import the libraries:\n",
        "## !pip install geopy\n",
        "\n",
        "from geopy.geocoders import Nominatim\n",
        "import requests\n",
        "from geopy.distance import geodesic\n"
      ]
    },
    {
      "cell_type": "code",
      "source": [
        "locator = Nominatim(user_agent=\"myGecode\")\n",
        "\n",
        "my_list = ['Khandwa', 'Alappuza','Ramagundam','Chikmagalur','Rewa']\n",
        "loct = dict()\n",
        "\n",
        "for city in my_list:\n",
        "  location = locator.geocode(city)\n",
        "  loct[city] = [location.latitude, location.longitude]\n"
      ],
      "metadata": {
        "id": "DkmVHg1wGHto"
      },
      "execution_count": null,
      "outputs": []
    },
    {
      "cell_type": "code",
      "source": [
        "loct"
      ],
      "metadata": {
        "colab": {
          "base_uri": "https://localhost:8080/"
        },
        "id": "vztwGiy9HeRR",
        "outputId": "04e30899-89ac-43f3-e0e3-39a7159ca6d1"
      },
      "execution_count": null,
      "outputs": [
        {
          "output_type": "execute_result",
          "data": {
            "text/plain": [
              "{'Khandwa': [21.9778642, 76.5688282326971],\n",
              " 'Alappuza': [9.4980001, 76.333482],\n",
              " 'Ramagundam': [18.7615156, 79.4787848],\n",
              " 'Chikmagalur': [13.318014, 75.7738743],\n",
              " 'Rewa': [24.756718, 81.65493468694177]}"
            ]
          },
          "metadata": {},
          "execution_count": 6
        }
      ]
    },
    {
      "cell_type": "code",
      "source": [
        "print(geodesic((21.9778,76.5668),(9.4980001, 76.333482)).km) # alapuzza"
      ],
      "metadata": {
        "colab": {
          "base_uri": "https://localhost:8080/"
        },
        "id": "VNhk1FNVHiON",
        "outputId": "db8655d3-7edc-4323-e7fc-7066ece4a2bc"
      },
      "execution_count": null,
      "outputs": [
        {
          "output_type": "stream",
          "name": "stdout",
          "text": [
            "1381.2369568571257\n"
          ]
        }
      ]
    },
    {
      "cell_type": "code",
      "source": [
        "print(geodesic((21.9778,76.5668),(18.7615156, 79.4787848)).km) # ramagundam"
      ],
      "metadata": {
        "colab": {
          "base_uri": "https://localhost:8080/"
        },
        "id": "vnLgPkQzIWoo",
        "outputId": "bd8b7f9d-b6fa-4d68-8790-cd772120b2fb"
      },
      "execution_count": null,
      "outputs": [
        {
          "output_type": "stream",
          "name": "stdout",
          "text": [
            "468.1609478104063\n"
          ]
        }
      ]
    },
    {
      "cell_type": "code",
      "source": [
        "print(geodesic((21.9778,76.5668),(13.318014, 75.7738743)).km) # chikamangalur"
      ],
      "metadata": {
        "colab": {
          "base_uri": "https://localhost:8080/"
        },
        "id": "__rIQgPSIxix",
        "outputId": "6c7d8b53-940e-438e-be7e-54d0b3529fe9"
      },
      "execution_count": null,
      "outputs": [
        {
          "output_type": "stream",
          "name": "stdout",
          "text": [
            "962.1259995742963\n"
          ]
        }
      ]
    },
    {
      "cell_type": "code",
      "source": [
        "print(geodesic((21.9778,76.5668),(24.756718, 81.654934)).km) # reva"
      ],
      "metadata": {
        "colab": {
          "base_uri": "https://localhost:8080/"
        },
        "id": "PDQUPmFBI80l",
        "outputId": "8dc013b1-56ce-458d-d236-a1778853e8ce"
      },
      "execution_count": null,
      "outputs": [
        {
          "output_type": "stream",
          "name": "stdout",
          "text": [
            "604.3535112332554\n"
          ]
        }
      ]
    },
    {
      "cell_type": "code",
      "source": [
        "new_list = ['Pathanamthitta','Chhindwara','Neemuch','Tiruvannamalai','Changlang','Mandsaur','Ulhasnagar','Nadiad']\n",
        "pair = dict()\n",
        "\n",
        "for city in new_list:\n",
        "  location = locator.geocode(city)\n",
        "  pair[city] = tuple((location.latitude, location.longitude))"
      ],
      "metadata": {
        "id": "giwDtlJAJFpl"
      },
      "execution_count": null,
      "outputs": []
    },
    {
      "cell_type": "code",
      "source": [
        "pair"
      ],
      "metadata": {
        "colab": {
          "base_uri": "https://localhost:8080/"
        },
        "id": "LJaPbPZ1JsR4",
        "outputId": "d6d2fa8f-8ccf-4c55-94b9-dd14c77f3c78"
      },
      "execution_count": null,
      "outputs": [
        {
          "output_type": "execute_result",
          "data": {
            "text/plain": [
              "{'Pathanamthitta': (9.278084100000001, 76.97374429915658),\n",
              " 'Chhindwara': (22.139831049999998, 78.80964495467987),\n",
              " 'Neemuch': (24.630173499999998, 75.18310517566626),\n",
              " 'Tiruvannamalai': (12.22721295, 79.07015554906167),\n",
              " 'Changlang': (27.1398402, 95.7382485),\n",
              " 'Mandsaur': (24.2651306, 75.38718193725012),\n",
              " 'Ulhasnagar': (19.19381615, 73.19143234839959),\n",
              " 'Nadiad': (22.6895535, 72.8713603)}"
            ]
          },
          "metadata": {},
          "execution_count": 16
        }
      ]
    },
    {
      "cell_type": "code",
      "source": [
        "print(geodesic(pair['Pathanamthitta'],pair['Chhindwara']).km)"
      ],
      "metadata": {
        "colab": {
          "base_uri": "https://localhost:8080/"
        },
        "id": "eER8lG4hJzIN",
        "outputId": "e29224ea-8076-41db-e580-c947095f7ad0"
      },
      "execution_count": null,
      "outputs": [
        {
          "output_type": "stream",
          "name": "stdout",
          "text": [
            "1436.7469076207105\n"
          ]
        }
      ]
    },
    {
      "cell_type": "code",
      "source": [
        "print(geodesic(pair['Neemuch'],pair['Tiruvannamalai']).km)"
      ],
      "metadata": {
        "colab": {
          "base_uri": "https://localhost:8080/"
        },
        "id": "CWFHUStDJ8MF",
        "outputId": "9722a7d5-8d0d-406d-cfad-3711a6616ca1"
      },
      "execution_count": null,
      "outputs": [
        {
          "output_type": "stream",
          "name": "stdout",
          "text": [
            "1432.6621684639417\n"
          ]
        }
      ]
    },
    {
      "cell_type": "code",
      "source": [
        "print(geodesic(pair['Changlang'],pair['Mandsaur']).km)"
      ],
      "metadata": {
        "colab": {
          "base_uri": "https://localhost:8080/"
        },
        "id": "OWEIgv_uKMzy",
        "outputId": "d25a9eff-ab33-4a76-82a8-d9204a34bba1"
      },
      "execution_count": null,
      "outputs": [
        {
          "output_type": "stream",
          "name": "stdout",
          "text": [
            "2064.9095261949356\n"
          ]
        }
      ]
    },
    {
      "cell_type": "code",
      "source": [
        "print(geodesic(pair['Ulhasnagar'],pair['Nadiad']).km)"
      ],
      "metadata": {
        "colab": {
          "base_uri": "https://localhost:8080/"
        },
        "id": "QENhAdVSKRzZ",
        "outputId": "fb2830f2-0092-47e5-8d73-982f924a30c9"
      },
      "execution_count": null,
      "outputs": [
        {
          "output_type": "stream",
          "name": "stdout",
          "text": [
            "388.46439115202213\n"
          ]
        }
      ]
    },
    {
      "cell_type": "code",
      "source": [],
      "metadata": {
        "id": "v9Eopg-bKVAs"
      },
      "execution_count": null,
      "outputs": []
    }
  ]
}