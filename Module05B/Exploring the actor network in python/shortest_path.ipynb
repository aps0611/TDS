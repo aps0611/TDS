{
 "cells": [
  {
   "cell_type": "markdown",
   "metadata": {
    "id": "agnfqs5FnoK9"
   },
   "source": [
    "# Shortest path between actors\n",
    "\n",
    "What's the shortest path between two actors, via films they've acted together?"
   ]
  },
  {
   "cell_type": "markdown",
   "metadata": {
    "id": "Prb22Wnx9rfu"
   },
   "source": [
    "# Download IMDb Data\n",
    "\n",
    "[IMDb Datasets](https://www.imdb.com/interfaces/) provide dumps of all movie data. We'll download 3 tables:\n",
    "\n",
    "## name.basics.tsv.gz\n",
    "\n",
    "**nconst**|**primaryName**|**birthYear**|**deathYear**|**primaryProfession**|**knownForTitles**\n",
    ":-----:|:-----:|:-----:|:-----:|:-----:|:-----:\n",
    "nm0000001|Fred Astaire|1899|1987|soundtrack,actor,miscellaneous|tt0031983,tt0072308,tt0053137,tt0050419\n",
    "nm0000002|Lauren Bacall|1924|2014|actress,soundtrack|tt0071877,tt0037382,tt0038355,tt0117057\n",
    "nm0000003|Brigitte Bardot|1934|\\N|actress,soundtrack,music\\_department|tt0054452,tt0049189,tt0056404,tt0057345\n",
    "nm0000004|John Belushi|1949|1982|actor,soundtrack,writer|tt0080455,tt0078723,tt0072562,tt0077975\n",
    "nm0000005|Ingmar Bergman|1918|2007|writer,director,actor|tt0050976,tt0050986,tt0060827,tt0083922\n",
    "\n",
    "## title.basics.tsv.gz\n",
    "\n",
    "**tconst**|**titleType**|**primaryTitle**|**originalTitle**|**isAdult**|**startYear**|**endYear**|**runtimeMinutes**|**genres**\n",
    ":-----:|:-----:|:-----:|:-----:|:-----:|:-----:|:-----:|:-----:|:-----:\n",
    "tt0000001|short|Carmencita|Carmencita|0|1894|\\N|1|Documentary,Short\n",
    "tt0000002|short|Le clown et ses chiens|Le clown et ses chiens|0|1892|\\N|5|Animation,Short\n",
    "tt0000003|short|Pauvre Pierrot|Pauvre Pierrot|0|1892|\\N|4|Animation,Comedy,Romance\n",
    "tt0000004|short|Un bon bock|Un bon bock|0|1892|\\N|12|Animation,Short\n",
    "tt0000005|short|Blacksmith Scene|Blacksmith Scene|0|1893|\\N|1|Comedy,Short\n",
    "\n",
    "## title.principals.tsv.gz\n",
    "\n",
    "**tconst**|**ordering**|**nconst**|**category**|**job**|**characters**\n",
    ":-----:|:-----:|:-----:|:-----:|:-----:|:-----:\n",
    "tt0000001|1|nm1588970|self|\\N|[\"Self\"]\n",
    "tt0000001|2|nm0005690|director|\\N|\\N\n",
    "tt0000001|3|nm0374658|cinematographer|director of photography|\\N\n",
    "tt0000002|1|nm0721526|director|\\N|\\N\n",
    "tt0000002|2|nm1335271|composer|\\N|\\N"
   ]
  },
  {
   "cell_type": "code",
   "execution_count": 1,
   "metadata": {
    "colab": {
     "base_uri": "https://localhost:8080/"
    },
    "id": "QduW6UCcnjqw",
    "outputId": "3ff271bf-9039-4f31-9d43-6599a4be53e9"
   },
   "outputs": [
    {
     "name": "stdout",
     "output_type": "stream",
     "text": [
      "-rw-rw-r-- 1 meta-sapien meta-sapien 235750181 Oct 31 22:20 name.basics.tsv.gz\r\n",
      "-rw-rw-r-- 1 meta-sapien meta-sapien 163190173 Oct 31 22:23 title.basics.tsv.gz\r\n",
      "-rw-rw-r-- 1 meta-sapien meta-sapien 415613328 Oct 31 22:23 title.principals.tsv.gz\r\n"
     ]
    }
   ],
   "source": [
    "# Download the data\n",
    "# !rm -f *.tsv.gz\n",
    "!curl --silent -C - -o name.basics.tsv.gz https://datasets.imdbws.com/name.basics.tsv.gz\n",
    "!curl --silent -C - -o title.principals.tsv.gz https://datasets.imdbws.com/title.principals.tsv.gz\n",
    "!curl --silent -C - -o title.basics.tsv.gz https://datasets.imdbws.com/title.basics.tsv.gz\n",
    "!ls -la *.tsv.gz"
   ]
  },
  {
   "cell_type": "code",
   "execution_count": 4,
   "metadata": {
    "id": "5asLli48nr3L"
   },
   "outputs": [],
   "source": [
    "# These gzip files have trailing garbage.\n",
    "# Python's gzip module does not read GZIP files with trailing garbage.\n",
    "# Let's create an equivalent of pandas.read_csv() that works around it.\n",
    "# See https://stackoverflow.com/a/54608126/100904\n",
    "import zlib\n",
    "import io\n",
    "import pandas as pd\n",
    "\n",
    "def read_csv(path, **kwargs):\n",
    "    with open(path, 'rb') as handle:\n",
    "        raw = handle.read()\n",
    "    stream = io.BytesIO(zlib.decompress(raw, zlib.MAX_WBITS|16))\n",
    "    return pd.read_csv(stream, **kwargs)"
   ]
  },
  {
   "cell_type": "code",
   "execution_count": 5,
   "metadata": {
    "id": "rgiUdZTpn9Ib"
   },
   "outputs": [],
   "source": [
    "# Load the movies. This needs ~1.4GB RAM, 15s\n",
    "movies = read_csv('title.basics.tsv.gz', sep='\\t', na_values='\\\\N', dtype={\n",
    "    'tconst': 'str',\n",
    "    'titleType': 'str',\n",
    "    'primaryTitle': 'str',\n",
    "    'startYear': 'Int64', #Int64 allows the missing values\n",
    "}, usecols=['tconst', 'titleType', 'primaryTitle', 'startYear']).set_index('tconst')"
   ]
  },
  {
   "cell_type": "code",
   "execution_count": 6,
   "metadata": {
    "colab": {
     "base_uri": "https://localhost:8080/",
     "height": 238
    },
    "id": "f2jj9F3In_PL",
    "outputId": "680721b6-a1f2-4baf-95bb-63444d433bb4"
   },
   "outputs": [
    {
     "data": {
      "text/html": [
       "<div>\n",
       "<style scoped>\n",
       "    .dataframe tbody tr th:only-of-type {\n",
       "        vertical-align: middle;\n",
       "    }\n",
       "\n",
       "    .dataframe tbody tr th {\n",
       "        vertical-align: top;\n",
       "    }\n",
       "\n",
       "    .dataframe thead th {\n",
       "        text-align: right;\n",
       "    }\n",
       "</style>\n",
       "<table border=\"1\" class=\"dataframe\">\n",
       "  <thead>\n",
       "    <tr style=\"text-align: right;\">\n",
       "      <th></th>\n",
       "      <th>primaryTitle</th>\n",
       "      <th>startYear</th>\n",
       "    </tr>\n",
       "    <tr>\n",
       "      <th>tconst</th>\n",
       "      <th></th>\n",
       "      <th></th>\n",
       "    </tr>\n",
       "  </thead>\n",
       "  <tbody>\n",
       "    <tr>\n",
       "      <th>tt0000009</th>\n",
       "      <td>Miss Jerry</td>\n",
       "      <td>1894</td>\n",
       "    </tr>\n",
       "    <tr>\n",
       "      <th>tt0000502</th>\n",
       "      <td>Bohemios</td>\n",
       "      <td>1905</td>\n",
       "    </tr>\n",
       "    <tr>\n",
       "      <th>tt0000574</th>\n",
       "      <td>The Story of the Kelly Gang</td>\n",
       "      <td>1906</td>\n",
       "    </tr>\n",
       "    <tr>\n",
       "      <th>tt0000591</th>\n",
       "      <td>The Prodigal Son</td>\n",
       "      <td>1907</td>\n",
       "    </tr>\n",
       "    <tr>\n",
       "      <th>tt0000615</th>\n",
       "      <td>Robbery Under Arms</td>\n",
       "      <td>1907</td>\n",
       "    </tr>\n",
       "  </tbody>\n",
       "</table>\n",
       "</div>"
      ],
      "text/plain": [
       "                          primaryTitle  startYear\n",
       "tconst                                           \n",
       "tt0000009                   Miss Jerry       1894\n",
       "tt0000502                     Bohemios       1905\n",
       "tt0000574  The Story of the Kelly Gang       1906\n",
       "tt0000591             The Prodigal Son       1907\n",
       "tt0000615           Robbery Under Arms       1907"
      ]
     },
     "execution_count": 6,
     "metadata": {},
     "output_type": "execute_result"
    }
   ],
   "source": [
    "# Only consider movies, not TV series, etc. Shrinks data to ~5%\n",
    "movies = movies[movies['titleType'] == 'movie']\n",
    "del movies['titleType']\n",
    "movies.head()"
   ]
  },
  {
   "cell_type": "code",
   "execution_count": 1,
   "metadata": {
    "id": "oADl2-Z2oDXm"
   },
   "outputs": [
    {
     "ename": "NameError",
     "evalue": "name 'read_csv' is not defined",
     "output_type": "error",
     "traceback": [
      "\u001b[0;31m---------------------------------------------------------------------------\u001b[0m",
      "\u001b[0;31mNameError\u001b[0m                                 Traceback (most recent call last)",
      "Input \u001b[0;32mIn [1]\u001b[0m, in \u001b[0;36m<cell line: 2>\u001b[0;34m()\u001b[0m\n\u001b[1;32m      1\u001b[0m \u001b[38;5;66;03m# Load the cast of each film. 2.0 GB RAM. 30s\u001b[39;00m\n\u001b[0;32m----> 2\u001b[0m cast \u001b[38;5;241m=\u001b[39m \u001b[43mread_csv\u001b[49m(\u001b[38;5;124m'\u001b[39m\u001b[38;5;124mtitle.principals.tsv.gz\u001b[39m\u001b[38;5;124m'\u001b[39m, sep\u001b[38;5;241m=\u001b[39m\u001b[38;5;124m'\u001b[39m\u001b[38;5;130;01m\\t\u001b[39;00m\u001b[38;5;124m'\u001b[39m, na_values\u001b[38;5;241m=\u001b[39m\u001b[38;5;124m'\u001b[39m\u001b[38;5;130;01m\\\\\u001b[39;00m\u001b[38;5;124mN\u001b[39m\u001b[38;5;124m'\u001b[39m, dtype\u001b[38;5;241m=\u001b[39m{\n\u001b[1;32m      3\u001b[0m     \u001b[38;5;124m'\u001b[39m\u001b[38;5;124mtconst\u001b[39m\u001b[38;5;124m'\u001b[39m: \u001b[38;5;124m'\u001b[39m\u001b[38;5;124mstr\u001b[39m\u001b[38;5;124m'\u001b[39m,\n\u001b[1;32m      4\u001b[0m     \u001b[38;5;124m'\u001b[39m\u001b[38;5;124mnconst\u001b[39m\u001b[38;5;124m'\u001b[39m: \u001b[38;5;124m'\u001b[39m\u001b[38;5;124mstr\u001b[39m\u001b[38;5;124m'\u001b[39m,\n\u001b[1;32m      5\u001b[0m     \u001b[38;5;124m'\u001b[39m\u001b[38;5;124mcategory\u001b[39m\u001b[38;5;124m'\u001b[39m: \u001b[38;5;124m'\u001b[39m\u001b[38;5;124mstr\u001b[39m\u001b[38;5;124m'\u001b[39m,\n\u001b[1;32m      6\u001b[0m }, usecols\u001b[38;5;241m=\u001b[39m[\u001b[38;5;124m'\u001b[39m\u001b[38;5;124mtconst\u001b[39m\u001b[38;5;124m'\u001b[39m, \u001b[38;5;124m'\u001b[39m\u001b[38;5;124mnconst\u001b[39m\u001b[38;5;124m'\u001b[39m, \u001b[38;5;124m'\u001b[39m\u001b[38;5;124mcategory\u001b[39m\u001b[38;5;124m'\u001b[39m])\n",
      "\u001b[0;31mNameError\u001b[0m: name 'read_csv' is not defined"
     ]
    }
   ],
   "source": [
    "# Load the cast of each film. 2.0 GB RAM. 30s\n",
    "cast = read_csv('title.principals.tsv.gz', sep='\\t', na_values='\\\\N', dtype={\n",
    "    'tconst': 'str',\n",
    "    'nconst': 'str',\n",
    "    'category': 'str',\n",
    "}, usecols=['tconst', 'nconst', 'category'])"
   ]
  },
  {
   "cell_type": "code",
   "execution_count": null,
   "metadata": {
    "colab": {
     "base_uri": "https://localhost:8080/",
     "height": 206
    },
    "id": "WnNXO7UBoEx_",
    "outputId": "070da1ed-feda-47be-9aec-2530cb4498bd"
   },
   "outputs": [
    {
     "data": {
      "text/html": [
       "\n",
       "  <div id=\"df-14e2b0a8-d281-41db-b345-ddcc1faa30dc\">\n",
       "    <div class=\"colab-df-container\">\n",
       "      <div>\n",
       "<style scoped>\n",
       "    .dataframe tbody tr th:only-of-type {\n",
       "        vertical-align: middle;\n",
       "    }\n",
       "\n",
       "    .dataframe tbody tr th {\n",
       "        vertical-align: top;\n",
       "    }\n",
       "\n",
       "    .dataframe thead th {\n",
       "        text-align: right;\n",
       "    }\n",
       "</style>\n",
       "<table border=\"1\" class=\"dataframe\">\n",
       "  <thead>\n",
       "    <tr style=\"text-align: right;\">\n",
       "      <th></th>\n",
       "      <th>tconst</th>\n",
       "      <th>nconst</th>\n",
       "      <th>category</th>\n",
       "    </tr>\n",
       "  </thead>\n",
       "  <tbody>\n",
       "    <tr>\n",
       "      <th>0</th>\n",
       "      <td>tt0000502</td>\n",
       "      <td>nm0215752</td>\n",
       "      <td>actor</td>\n",
       "    </tr>\n",
       "    <tr>\n",
       "      <th>1</th>\n",
       "      <td>tt0000502</td>\n",
       "      <td>nm0252720</td>\n",
       "      <td>actor</td>\n",
       "    </tr>\n",
       "    <tr>\n",
       "      <th>2</th>\n",
       "      <td>tt0000574</td>\n",
       "      <td>nm0846887</td>\n",
       "      <td>actress</td>\n",
       "    </tr>\n",
       "    <tr>\n",
       "      <th>3</th>\n",
       "      <td>tt0000574</td>\n",
       "      <td>nm0846894</td>\n",
       "      <td>actor</td>\n",
       "    </tr>\n",
       "    <tr>\n",
       "      <th>4</th>\n",
       "      <td>tt0000574</td>\n",
       "      <td>nm1431224</td>\n",
       "      <td>actor</td>\n",
       "    </tr>\n",
       "  </tbody>\n",
       "</table>\n",
       "</div>\n",
       "      <button class=\"colab-df-convert\" onclick=\"convertToInteractive('df-14e2b0a8-d281-41db-b345-ddcc1faa30dc')\"\n",
       "              title=\"Convert this dataframe to an interactive table.\"\n",
       "              style=\"display:none;\">\n",
       "        \n",
       "  <svg xmlns=\"http://www.w3.org/2000/svg\" height=\"24px\"viewBox=\"0 0 24 24\"\n",
       "       width=\"24px\">\n",
       "    <path d=\"M0 0h24v24H0V0z\" fill=\"none\"/>\n",
       "    <path d=\"M18.56 5.44l.94 2.06.94-2.06 2.06-.94-2.06-.94-.94-2.06-.94 2.06-2.06.94zm-11 1L8.5 8.5l.94-2.06 2.06-.94-2.06-.94L8.5 2.5l-.94 2.06-2.06.94zm10 10l.94 2.06.94-2.06 2.06-.94-2.06-.94-.94-2.06-.94 2.06-2.06.94z\"/><path d=\"M17.41 7.96l-1.37-1.37c-.4-.4-.92-.59-1.43-.59-.52 0-1.04.2-1.43.59L10.3 9.45l-7.72 7.72c-.78.78-.78 2.05 0 2.83L4 21.41c.39.39.9.59 1.41.59.51 0 1.02-.2 1.41-.59l7.78-7.78 2.81-2.81c.8-.78.8-2.07 0-2.86zM5.41 20L4 18.59l7.72-7.72 1.47 1.35L5.41 20z\"/>\n",
       "  </svg>\n",
       "      </button>\n",
       "      \n",
       "  <style>\n",
       "    .colab-df-container {\n",
       "      display:flex;\n",
       "      flex-wrap:wrap;\n",
       "      gap: 12px;\n",
       "    }\n",
       "\n",
       "    .colab-df-convert {\n",
       "      background-color: #E8F0FE;\n",
       "      border: none;\n",
       "      border-radius: 50%;\n",
       "      cursor: pointer;\n",
       "      display: none;\n",
       "      fill: #1967D2;\n",
       "      height: 32px;\n",
       "      padding: 0 0 0 0;\n",
       "      width: 32px;\n",
       "    }\n",
       "\n",
       "    .colab-df-convert:hover {\n",
       "      background-color: #E2EBFA;\n",
       "      box-shadow: 0px 1px 2px rgba(60, 64, 67, 0.3), 0px 1px 3px 1px rgba(60, 64, 67, 0.15);\n",
       "      fill: #174EA6;\n",
       "    }\n",
       "\n",
       "    [theme=dark] .colab-df-convert {\n",
       "      background-color: #3B4455;\n",
       "      fill: #D2E3FC;\n",
       "    }\n",
       "\n",
       "    [theme=dark] .colab-df-convert:hover {\n",
       "      background-color: #434B5C;\n",
       "      box-shadow: 0px 1px 3px 1px rgba(0, 0, 0, 0.15);\n",
       "      filter: drop-shadow(0px 1px 2px rgba(0, 0, 0, 0.3));\n",
       "      fill: #FFFFFF;\n",
       "    }\n",
       "  </style>\n",
       "\n",
       "      <script>\n",
       "        const buttonEl =\n",
       "          document.querySelector('#df-14e2b0a8-d281-41db-b345-ddcc1faa30dc button.colab-df-convert');\n",
       "        buttonEl.style.display =\n",
       "          google.colab.kernel.accessAllowed ? 'block' : 'none';\n",
       "\n",
       "        async function convertToInteractive(key) {\n",
       "          const element = document.querySelector('#df-14e2b0a8-d281-41db-b345-ddcc1faa30dc');\n",
       "          const dataTable =\n",
       "            await google.colab.kernel.invokeFunction('convertToInteractive',\n",
       "                                                     [key], {});\n",
       "          if (!dataTable) return;\n",
       "\n",
       "          const docLinkHtml = 'Like what you see? Visit the ' +\n",
       "            '<a target=\"_blank\" href=https://colab.research.google.com/notebooks/data_table.ipynb>data table notebook</a>'\n",
       "            + ' to learn more about interactive tables.';\n",
       "          element.innerHTML = '';\n",
       "          dataTable['output_type'] = 'display_data';\n",
       "          await google.colab.output.renderOutput(dataTable, element);\n",
       "          const docLink = document.createElement('div');\n",
       "          docLink.innerHTML = docLinkHtml;\n",
       "          element.appendChild(docLink);\n",
       "        }\n",
       "      </script>\n",
       "    </div>\n",
       "  </div>\n",
       "  "
      ],
      "text/plain": [
       "      tconst     nconst category\n",
       "0  tt0000502  nm0215752    actor\n",
       "1  tt0000502  nm0252720    actor\n",
       "2  tt0000574  nm0846887  actress\n",
       "3  tt0000574  nm0846894    actor\n",
       "4  tt0000574  nm1431224    actor"
      ]
     },
     "execution_count": 6,
     "metadata": {},
     "output_type": "execute_result"
    }
   ],
   "source": [
    "# Only consider actors, not directors, composers, etc. Shrinks data to about 40%\n",
    "# Only consider actors that have acted in movies, not TV series, etc.\n",
    "cast = cast[cast.category.isin({'actor', 'actress'}) & cast['tconst'].isin(movies.index)]\n",
    "cast.reset_index(drop=True, inplace=True)\n",
    "cast.head()"
   ]
  },
  {
   "cell_type": "code",
   "execution_count": null,
   "metadata": {
    "id": "El35p11_oF_U"
   },
   "outputs": [],
   "source": [
    "# Load 11m names with birth year. 16s\n",
    "name = read_csv('name.basics.tsv.gz', sep='\\t', na_values='\\\\N', dtype={\n",
    "    'nconst': 'str',\n",
    "    'primaryName': 'str',\n",
    "    'birthYear': 'Int64'\n",
    "}, usecols=['nconst', 'primaryName', 'birthYear']).set_index('nconst')"
   ]
  },
  {
   "cell_type": "code",
   "execution_count": null,
   "metadata": {
    "colab": {
     "base_uri": "https://localhost:8080/",
     "height": 238
    },
    "id": "PADeAXR7oHSO",
    "outputId": "e145248a-412b-4721-8974-577476cd19b2"
   },
   "outputs": [
    {
     "data": {
      "text/html": [
       "\n",
       "  <div id=\"df-6f6dd703-459e-4bf6-a4e7-6708ecba7678\">\n",
       "    <div class=\"colab-df-container\">\n",
       "      <div>\n",
       "<style scoped>\n",
       "    .dataframe tbody tr th:only-of-type {\n",
       "        vertical-align: middle;\n",
       "    }\n",
       "\n",
       "    .dataframe tbody tr th {\n",
       "        vertical-align: top;\n",
       "    }\n",
       "\n",
       "    .dataframe thead th {\n",
       "        text-align: right;\n",
       "    }\n",
       "</style>\n",
       "<table border=\"1\" class=\"dataframe\">\n",
       "  <thead>\n",
       "    <tr style=\"text-align: right;\">\n",
       "      <th></th>\n",
       "      <th>primaryName</th>\n",
       "      <th>birthYear</th>\n",
       "      <th>titles</th>\n",
       "    </tr>\n",
       "    <tr>\n",
       "      <th>nconst</th>\n",
       "      <th></th>\n",
       "      <th></th>\n",
       "      <th></th>\n",
       "    </tr>\n",
       "  </thead>\n",
       "  <tbody>\n",
       "    <tr>\n",
       "      <th>nm0000001</th>\n",
       "      <td>Fred Astaire</td>\n",
       "      <td>1899</td>\n",
       "      <td>35</td>\n",
       "    </tr>\n",
       "    <tr>\n",
       "      <th>nm0000002</th>\n",
       "      <td>Lauren Bacall</td>\n",
       "      <td>1924</td>\n",
       "      <td>37</td>\n",
       "    </tr>\n",
       "    <tr>\n",
       "      <th>nm0000003</th>\n",
       "      <td>Brigitte Bardot</td>\n",
       "      <td>1934</td>\n",
       "      <td>35</td>\n",
       "    </tr>\n",
       "    <tr>\n",
       "      <th>nm0000004</th>\n",
       "      <td>John Belushi</td>\n",
       "      <td>1949</td>\n",
       "      <td>7</td>\n",
       "    </tr>\n",
       "    <tr>\n",
       "      <th>nm0000005</th>\n",
       "      <td>Ingmar Bergman</td>\n",
       "      <td>1918</td>\n",
       "      <td>3</td>\n",
       "    </tr>\n",
       "  </tbody>\n",
       "</table>\n",
       "</div>\n",
       "      <button class=\"colab-df-convert\" onclick=\"convertToInteractive('df-6f6dd703-459e-4bf6-a4e7-6708ecba7678')\"\n",
       "              title=\"Convert this dataframe to an interactive table.\"\n",
       "              style=\"display:none;\">\n",
       "        \n",
       "  <svg xmlns=\"http://www.w3.org/2000/svg\" height=\"24px\"viewBox=\"0 0 24 24\"\n",
       "       width=\"24px\">\n",
       "    <path d=\"M0 0h24v24H0V0z\" fill=\"none\"/>\n",
       "    <path d=\"M18.56 5.44l.94 2.06.94-2.06 2.06-.94-2.06-.94-.94-2.06-.94 2.06-2.06.94zm-11 1L8.5 8.5l.94-2.06 2.06-.94-2.06-.94L8.5 2.5l-.94 2.06-2.06.94zm10 10l.94 2.06.94-2.06 2.06-.94-2.06-.94-.94-2.06-.94 2.06-2.06.94z\"/><path d=\"M17.41 7.96l-1.37-1.37c-.4-.4-.92-.59-1.43-.59-.52 0-1.04.2-1.43.59L10.3 9.45l-7.72 7.72c-.78.78-.78 2.05 0 2.83L4 21.41c.39.39.9.59 1.41.59.51 0 1.02-.2 1.41-.59l7.78-7.78 2.81-2.81c.8-.78.8-2.07 0-2.86zM5.41 20L4 18.59l7.72-7.72 1.47 1.35L5.41 20z\"/>\n",
       "  </svg>\n",
       "      </button>\n",
       "      \n",
       "  <style>\n",
       "    .colab-df-container {\n",
       "      display:flex;\n",
       "      flex-wrap:wrap;\n",
       "      gap: 12px;\n",
       "    }\n",
       "\n",
       "    .colab-df-convert {\n",
       "      background-color: #E8F0FE;\n",
       "      border: none;\n",
       "      border-radius: 50%;\n",
       "      cursor: pointer;\n",
       "      display: none;\n",
       "      fill: #1967D2;\n",
       "      height: 32px;\n",
       "      padding: 0 0 0 0;\n",
       "      width: 32px;\n",
       "    }\n",
       "\n",
       "    .colab-df-convert:hover {\n",
       "      background-color: #E2EBFA;\n",
       "      box-shadow: 0px 1px 2px rgba(60, 64, 67, 0.3), 0px 1px 3px 1px rgba(60, 64, 67, 0.15);\n",
       "      fill: #174EA6;\n",
       "    }\n",
       "\n",
       "    [theme=dark] .colab-df-convert {\n",
       "      background-color: #3B4455;\n",
       "      fill: #D2E3FC;\n",
       "    }\n",
       "\n",
       "    [theme=dark] .colab-df-convert:hover {\n",
       "      background-color: #434B5C;\n",
       "      box-shadow: 0px 1px 3px 1px rgba(0, 0, 0, 0.15);\n",
       "      filter: drop-shadow(0px 1px 2px rgba(0, 0, 0, 0.3));\n",
       "      fill: #FFFFFF;\n",
       "    }\n",
       "  </style>\n",
       "\n",
       "      <script>\n",
       "        const buttonEl =\n",
       "          document.querySelector('#df-6f6dd703-459e-4bf6-a4e7-6708ecba7678 button.colab-df-convert');\n",
       "        buttonEl.style.display =\n",
       "          google.colab.kernel.accessAllowed ? 'block' : 'none';\n",
       "\n",
       "        async function convertToInteractive(key) {\n",
       "          const element = document.querySelector('#df-6f6dd703-459e-4bf6-a4e7-6708ecba7678');\n",
       "          const dataTable =\n",
       "            await google.colab.kernel.invokeFunction('convertToInteractive',\n",
       "                                                     [key], {});\n",
       "          if (!dataTable) return;\n",
       "\n",
       "          const docLinkHtml = 'Like what you see? Visit the ' +\n",
       "            '<a target=\"_blank\" href=https://colab.research.google.com/notebooks/data_table.ipynb>data table notebook</a>'\n",
       "            + ' to learn more about interactive tables.';\n",
       "          element.innerHTML = '';\n",
       "          dataTable['output_type'] = 'display_data';\n",
       "          await google.colab.output.renderOutput(dataTable, element);\n",
       "          const docLink = document.createElement('div');\n",
       "          docLink.innerHTML = docLinkHtml;\n",
       "          element.appendChild(docLink);\n",
       "        }\n",
       "      </script>\n",
       "    </div>\n",
       "  </div>\n",
       "  "
      ],
      "text/plain": [
       "               primaryName  birthYear  titles\n",
       "nconst                                       \n",
       "nm0000001     Fred Astaire       1899      35\n",
       "nm0000002    Lauren Bacall       1924      37\n",
       "nm0000003  Brigitte Bardot       1934      35\n",
       "nm0000004     John Belushi       1949       7\n",
       "nm0000005   Ingmar Bergman       1918       3"
      ]
     },
     "execution_count": 8,
     "metadata": {},
     "output_type": "execute_result"
    }
   ],
   "source": [
    "# Drop those who haven't acted in movies\n",
    "name = name[name.index.isin(cast['nconst'])]\n",
    "# name['titles'] has the number of movies they've acted in\n",
    "name['titles'] = cast['nconst'].value_counts()\n",
    "name.head()"
   ]
  },
  {
   "cell_type": "markdown",
   "metadata": {
    "id": "yf4euc15oTtS"
   },
   "source": [
    "# Create a `networkx` graph from this"
   ]
  },
  {
   "cell_type": "code",
   "execution_count": null,
   "metadata": {
    "id": "GHifz9AooOAe"
   },
   "outputs": [],
   "source": [
    "import networkx as nx\n",
    "G = nx.from_pandas_edgelist(cast, 'tconst', 'nconst')"
   ]
  },
  {
   "cell_type": "code",
   "execution_count": null,
   "metadata": {
    "colab": {
     "base_uri": "https://localhost:8080/"
    },
    "id": "xxcGLE8romvG",
    "outputId": "f17b9e94-8df0-44b7-8c3d-8e11741734bc"
   },
   "outputs": [
    {
     "data": {
      "text/plain": [
       "['nm0000245', 'tt0097165', 'nm0000160', 'tt0364045', 'nm0001401']"
      ]
     },
     "execution_count": 10,
     "metadata": {},
     "output_type": "execute_result"
    }
   ],
   "source": [
    "# We can find the shortest path between 2 actors. For example, Robin Williams (nm0000245) and Angelina Jolie (nm0001401)\n",
    "nx.shortest_path(G, 'nm0000245', 'nm0001401')"
   ]
  },
  {
   "cell_type": "code",
   "execution_count": null,
   "metadata": {
    "id": "RpUeIOVkpRTx"
   },
   "outputs": [],
   "source": [
    "# Let's write a function that converts these IDs into names\n",
    "def names(path):\n",
    "    return ' - '.join((movies['primaryTitle'][p] if p.startswith('tt') else name['primaryName'][p]) for p in path)\n",
    "\n",
    "# ... and a function that \n",
    "def path(source, target):\n",
    "    source = name[name['primaryName'] == source].index[0]\n",
    "    target = name[name['primaryName'] == target].index[0]\n",
    "    return names(nx.shortest_path(G, source, target))"
   ]
  },
  {
   "cell_type": "code",
   "execution_count": null,
   "metadata": {
    "colab": {
     "base_uri": "https://localhost:8080/",
     "height": 35
    },
    "id": "yHTAqeczpSl3",
    "outputId": "3bfb170d-3489-466b-920a-b9324491d9a6"
   },
   "outputs": [
    {
     "data": {
      "application/vnd.google.colaboratory.intrinsic+json": {
       "type": "string"
      },
      "text/plain": [
       "'Robin Williams - Dead Poets Society - Ethan Hawke - Taking Lives - Angelina Jolie'"
      ]
     },
     "execution_count": 12,
     "metadata": {},
     "output_type": "execute_result"
    }
   ],
   "source": [
    "# This is the shortest path between Robin Williams (nm0000245) and Angelina Jolie (nm0001401)\n",
    "path('Robin Williams', 'Angelina Jolie')"
   ]
  },
  {
   "cell_type": "code",
   "execution_count": null,
   "metadata": {
    "id": "fknjNxhyqTc2"
   },
   "outputs": [],
   "source": [
    "# There many be multiple paths between them. Let's list them all\n",
    "def paths(source, target):\n",
    "    source = name[name['primaryName'] == source].index[0]\n",
    "    target = name[name['primaryName'] == target].index[0]\n",
    "    return [names(p) for p in nx.all_shortest_paths(G, source, target)]"
   ]
  },
  {
   "cell_type": "code",
   "execution_count": null,
   "metadata": {
    "colab": {
     "base_uri": "https://localhost:8080/"
    },
    "id": "VYHsOMaIqzHn",
    "outputId": "1b81e548-631a-4045-b3b5-1d4db27e21de"
   },
   "outputs": [
    {
     "data": {
      "text/plain": [
       "['Robin Williams - Dead Poets Society - Ethan Hawke - Taking Lives - Angelina Jolie',\n",
       " 'Robin Williams - Awakenings - Robert De Niro - Shark Tale - Angelina Jolie',\n",
       " 'Robin Williams - Awakenings - Robert De Niro - The Good Shepherd - Angelina Jolie',\n",
       " 'Robin Williams - Good Will Hunting - Matt Damon - The Good Shepherd - Angelina Jolie',\n",
       " 'Robin Williams - Hook - Dustin Hoffman - Kung Fu Panda - Angelina Jolie',\n",
       " 'Robin Williams - Hook - Dustin Hoffman - Kung Fu Panda 2 - Angelina Jolie',\n",
       " 'Robin Williams - Hook - Dustin Hoffman - Kung Fu Panda 3 - Angelina Jolie',\n",
       " 'Robin Williams - Toys - Robin Wright - Beowulf - Angelina Jolie',\n",
       " 'Robin Williams - Happy Feet - Brittany Murphy - Girl, Interrupted - Angelina Jolie',\n",
       " 'Robin Williams - House of D - David Duchovny - Playing God - Angelina Jolie',\n",
       " 'Robin Williams - The Big White - Giovanni Ribisi - Gone in 60 Seconds - Angelina Jolie',\n",
       " 'Robin Williams - The Big White - Giovanni Ribisi - Sky Captain and the World of Tomorrow - Angelina Jolie']"
      ]
     },
     "execution_count": 14,
     "metadata": {},
     "output_type": "execute_result"
    }
   ],
   "source": [
    "# These are all the shortest paths between Robin Williams (nm0000245) and Angelina Jolie (nm0001401)\n",
    "paths('Robin Williams', 'Angelina Jolie')"
   ]
  },
  {
   "cell_type": "markdown",
   "metadata": {
    "id": "cd9dycSL4e72"
   },
   "source": [
    "# Let's explore the network"
   ]
  },
  {
   "cell_type": "code",
   "execution_count": null,
   "metadata": {
    "colab": {
     "base_uri": "https://localhost:8080/"
    },
    "id": "fV6XfQJArROM",
    "outputId": "ff6bfe19-e31a-4165-87da-cd51c4c1ebe1"
   },
   "outputs": [
    {
     "data": {
      "text/plain": [
       "['Shahab Hosseini - Darbareye Elly - Golshifteh Farahani - Frère et soeur - Melvil Poupaud - By the Sea - Angelina Jolie',\n",
       " 'Shahab Hosseini - Darbareye Elly - Golshifteh Farahani - The Song of Scorpions - Irrfan Khan - A Mighty Heart - Angelina Jolie',\n",
       " 'Shahab Hosseini - A Separation - Payman Maadi - Last Knights - Clive Owen - Beyond Borders - Angelina Jolie',\n",
       " 'Shahab Hosseini - A Separation - Payman Maadi - Last Knights - Morgan Freeman - Wanted - Angelina Jolie']"
      ]
     },
     "execution_count": 15,
     "metadata": {},
     "output_type": "execute_result"
    }
   ],
   "source": [
    "paths('Shahab Hosseini', 'Angelina Jolie')"
   ]
  },
  {
   "cell_type": "code",
   "execution_count": null,
   "metadata": {
    "colab": {
     "base_uri": "https://localhost:8080/"
    },
    "id": "xg9voR1rII3F",
    "outputId": "d7c27434-a4f1-4e47-8f89-b452658cbe70"
   },
   "outputs": [
    {
     "data": {
      "text/plain": [
       "['Onur Tuna - Agir Romantik - Altan Erkekli - Vizontele - Yilmaz Erdogan - Rhino Season - Monica Bellucci - Under Suspicion - Morgan Freeman - Wanted - Angelina Jolie',\n",
       " 'Onur Tuna - Agir Romantik - Altan Erkekli - Vizontele Tuuba - Yilmaz Erdogan - Rhino Season - Monica Bellucci - Under Suspicion - Morgan Freeman - Wanted - Angelina Jolie',\n",
       " 'Onur Tuna - Agir Romantik - Altan Erkekli - Magic Carpet Ride - Yilmaz Erdogan - Rhino Season - Monica Bellucci - Under Suspicion - Morgan Freeman - Wanted - Angelina Jolie',\n",
       " 'Onur Tuna - A Small September Affair - Farah Zeynep Abdullah - Sour Apples - Yilmaz Erdogan - Rhino Season - Monica Bellucci - Under Suspicion - Morgan Freeman - Wanted - Angelina Jolie',\n",
       " 'Onur Tuna - Agir Romantik - Altan Erkekli - Love Likes Coincidences - Belçim Bilgin - Backstabbing for Beginners - Ben Kingsley - Lucky Number Slevin - Morgan Freeman - Wanted - Angelina Jolie',\n",
       " \"Onur Tuna - A Small September Affair - Farah Zeynep Abdullah - The Butterfly's Dream - Belçim Bilgin - Backstabbing for Beginners - Ben Kingsley - Lucky Number Slevin - Morgan Freeman - Wanted - Angelina Jolie\",\n",
       " 'Onur Tuna - Agir Romantik - Altan Erkekli - Love Likes Coincidences - Belçim Bilgin - Backstabbing for Beginners - Jacqueline Bisset - Together? - Terence Stamp - Wanted - Angelina Jolie',\n",
       " \"Onur Tuna - A Small September Affair - Farah Zeynep Abdullah - The Butterfly's Dream - Belçim Bilgin - Backstabbing for Beginners - Jacqueline Bisset - Together? - Terence Stamp - Wanted - Angelina Jolie\",\n",
       " 'Onur Tuna - Agir Romantik - Altan Erkekli - Vizontele - Yilmaz Erdogan - Rhino Season - Monica Bellucci - Under Suspicion - Thomas Jane - Original Sin - Angelina Jolie',\n",
       " 'Onur Tuna - Agir Romantik - Altan Erkekli - Vizontele Tuuba - Yilmaz Erdogan - Rhino Season - Monica Bellucci - Under Suspicion - Thomas Jane - Original Sin - Angelina Jolie',\n",
       " 'Onur Tuna - Agir Romantik - Altan Erkekli - Magic Carpet Ride - Yilmaz Erdogan - Rhino Season - Monica Bellucci - Under Suspicion - Thomas Jane - Original Sin - Angelina Jolie',\n",
       " 'Onur Tuna - A Small September Affair - Farah Zeynep Abdullah - Sour Apples - Yilmaz Erdogan - Rhino Season - Monica Bellucci - Under Suspicion - Thomas Jane - Original Sin - Angelina Jolie',\n",
       " 'Onur Tuna - Agir Romantik - Altan Erkekli - Ask geliyorum demez - Bergüzar Korel - Valley of the Wolves: Iraq - Billy Zane - Blue World Order - Jack Thompson - Original Sin - Angelina Jolie',\n",
       " 'Onur Tuna - A Small September Affair - Engin Akyürek - Bir Ask Iki Hayat - Bergüzar Korel - Valley of the Wolves: Iraq - Billy Zane - Blue World Order - Jack Thompson - Original Sin - Angelina Jolie',\n",
       " 'Onur Tuna - Benden Ne Olur - Nur Fettahoglu - Valley of the Wolves: Palestine - Necati Sasmaz - Valley of the Wolves: Iraq - Billy Zane - Blue World Order - Jack Thompson - Original Sin - Angelina Jolie',\n",
       " 'Onur Tuna - Agir Romantik - Altan Erkekli - The Watercolor - Haluk Bilginer - Sawdust Tales - Julia Brendler - Der Flug des Albatros - Jack Thompson - Original Sin - Angelina Jolie',\n",
       " 'Onur Tuna - Benden Ne Olur - Hazal Kaya - Kirik Kalpler Bankasi - Haluk Bilginer - Sawdust Tales - Julia Brendler - Der Flug des Albatros - Jack Thompson - Original Sin - Angelina Jolie',\n",
       " 'Onur Tuna - Agir Romantik - Altan Erkekli - Love Likes Coincidences - Belçim Bilgin - Backstabbing for Beginners - Ben Kingsley - Security - Antonio Banderas - Original Sin - Angelina Jolie',\n",
       " \"Onur Tuna - A Small September Affair - Farah Zeynep Abdullah - The Butterfly's Dream - Belçim Bilgin - Backstabbing for Beginners - Ben Kingsley - Security - Antonio Banderas - Original Sin - Angelina Jolie\",\n",
       " 'Onur Tuna - Agir Romantik - Altan Erkekli - Vizontele - Yilmaz Erdogan - Rhino Season - Monica Bellucci - The Brothers Grimm - Matt Damon - The Good Shepherd - Angelina Jolie',\n",
       " 'Onur Tuna - Agir Romantik - Altan Erkekli - Vizontele Tuuba - Yilmaz Erdogan - Rhino Season - Monica Bellucci - The Brothers Grimm - Matt Damon - The Good Shepherd - Angelina Jolie',\n",
       " 'Onur Tuna - Agir Romantik - Altan Erkekli - Magic Carpet Ride - Yilmaz Erdogan - Rhino Season - Monica Bellucci - The Brothers Grimm - Matt Damon - The Good Shepherd - Angelina Jolie',\n",
       " 'Onur Tuna - A Small September Affair - Farah Zeynep Abdullah - Sour Apples - Yilmaz Erdogan - Rhino Season - Monica Bellucci - The Brothers Grimm - Matt Damon - The Good Shepherd - Angelina Jolie',\n",
       " 'Onur Tuna - Agir Romantik - Altan Erkekli - Vizontele - Yilmaz Erdogan - Rhino Season - Monica Bellucci - The Ages of Love - Robert De Niro - The Good Shepherd - Angelina Jolie',\n",
       " 'Onur Tuna - Agir Romantik - Altan Erkekli - Vizontele Tuuba - Yilmaz Erdogan - Rhino Season - Monica Bellucci - The Ages of Love - Robert De Niro - The Good Shepherd - Angelina Jolie',\n",
       " 'Onur Tuna - Agir Romantik - Altan Erkekli - Magic Carpet Ride - Yilmaz Erdogan - Rhino Season - Monica Bellucci - The Ages of Love - Robert De Niro - The Good Shepherd - Angelina Jolie',\n",
       " 'Onur Tuna - A Small September Affair - Farah Zeynep Abdullah - Sour Apples - Yilmaz Erdogan - Rhino Season - Monica Bellucci - The Ages of Love - Robert De Niro - The Good Shepherd - Angelina Jolie',\n",
       " 'Onur Tuna - Agir Romantik - Altan Erkekli - The Watercolor - Haluk Bilginer - Hittites - Jeremy Irons - The Mission - Robert De Niro - The Good Shepherd - Angelina Jolie',\n",
       " 'Onur Tuna - Benden Ne Olur - Hazal Kaya - Kirik Kalpler Bankasi - Haluk Bilginer - Hittites - Jeremy Irons - The Mission - Robert De Niro - The Good Shepherd - Angelina Jolie',\n",
       " 'Onur Tuna - Agir Romantik - Altan Erkekli - Eve Dönüs - Sibel Kekilli - Winterreise - Hanna Schygulla - Forever, Lulu - Alec Baldwin - The Good Shepherd - Angelina Jolie',\n",
       " 'Onur Tuna - Agir Romantik - Altan Erkekli - Love Likes Coincidences - Belçim Bilgin - Backstabbing for Beginners - Ben Kingsley - The Confession - Alec Baldwin - The Good Shepherd - Angelina Jolie',\n",
       " \"Onur Tuna - A Small September Affair - Farah Zeynep Abdullah - The Butterfly's Dream - Belçim Bilgin - Backstabbing for Beginners - Ben Kingsley - The Confession - Alec Baldwin - The Good Shepherd - Angelina Jolie\",\n",
       " \"Onur Tuna - Agir Romantik - Altan Erkekli - Vizontele - Yilmaz Erdogan - Rhino Season - Monica Bellucci - Shoot 'Em Up - Clive Owen - Beyond Borders - Angelina Jolie\",\n",
       " \"Onur Tuna - Agir Romantik - Altan Erkekli - Vizontele Tuuba - Yilmaz Erdogan - Rhino Season - Monica Bellucci - Shoot 'Em Up - Clive Owen - Beyond Borders - Angelina Jolie\",\n",
       " \"Onur Tuna - Agir Romantik - Altan Erkekli - Magic Carpet Ride - Yilmaz Erdogan - Rhino Season - Monica Bellucci - Shoot 'Em Up - Clive Owen - Beyond Borders - Angelina Jolie\",\n",
       " \"Onur Tuna - A Small September Affair - Farah Zeynep Abdullah - Sour Apples - Yilmaz Erdogan - Rhino Season - Monica Bellucci - Shoot 'Em Up - Clive Owen - Beyond Borders - Angelina Jolie\",\n",
       " 'Onur Tuna - Agir Romantik - Altan Erkekli - Vizontele - Yilmaz Erdogan - Rhino Season - Monica Bellucci - The Ages of Love - Robert De Niro - Shark Tale - Angelina Jolie',\n",
       " 'Onur Tuna - Agir Romantik - Altan Erkekli - Vizontele Tuuba - Yilmaz Erdogan - Rhino Season - Monica Bellucci - The Ages of Love - Robert De Niro - Shark Tale - Angelina Jolie',\n",
       " 'Onur Tuna - Agir Romantik - Altan Erkekli - Magic Carpet Ride - Yilmaz Erdogan - Rhino Season - Monica Bellucci - The Ages of Love - Robert De Niro - Shark Tale - Angelina Jolie',\n",
       " 'Onur Tuna - A Small September Affair - Farah Zeynep Abdullah - Sour Apples - Yilmaz Erdogan - Rhino Season - Monica Bellucci - The Ages of Love - Robert De Niro - Shark Tale - Angelina Jolie',\n",
       " 'Onur Tuna - Agir Romantik - Altan Erkekli - The Watercolor - Haluk Bilginer - Hittites - Jeremy Irons - The Mission - Robert De Niro - Shark Tale - Angelina Jolie',\n",
       " 'Onur Tuna - Benden Ne Olur - Hazal Kaya - Kirik Kalpler Bankasi - Haluk Bilginer - Hittites - Jeremy Irons - The Mission - Robert De Niro - Shark Tale - Angelina Jolie',\n",
       " 'Onur Tuna - Agir Romantik - Altan Erkekli - The Watercolor - Haluk Bilginer - Hittites - Jeremy Irons - Appaloosa - Renée Zellweger - Shark Tale - Angelina Jolie',\n",
       " 'Onur Tuna - Benden Ne Olur - Hazal Kaya - Kirik Kalpler Bankasi - Haluk Bilginer - Hittites - Jeremy Irons - Appaloosa - Renée Zellweger - Shark Tale - Angelina Jolie',\n",
       " 'Onur Tuna - Agir Romantik - Altan Erkekli - Istanbul Tales - Mehmet Günsür - Fall Down Dead - Udo Kier - Just One Night - Timothy Hutton - Playing God - Angelina Jolie',\n",
       " 'Onur Tuna - Agir Romantik - Altan Erkekli - Love Likes Coincidences - Mehmet Günsür - Fall Down Dead - Udo Kier - Just One Night - Timothy Hutton - Playing God - Angelina Jolie',\n",
       " 'Onur Tuna - A Small September Affair - Farah Zeynep Abdullah - Whisper If I Forget - Mehmet Günsür - Fall Down Dead - Udo Kier - Just One Night - Timothy Hutton - Playing God - Angelina Jolie',\n",
       " 'Onur Tuna - Agir Romantik - Altan Erkekli - Yunus Emre: Askin Sesi - Ahmet Mekin - Görünmeyen - Udo Kier - Just One Night - Timothy Hutton - Playing God - Angelina Jolie',\n",
       " 'Onur Tuna - Agir Romantik - Altan Erkekli - Istanbul Tales - Mehmet Günsür - Fall Down Dead - Udo Kier - Brawl in Cell Block 99 - Vince Vaughn - Mr. & Mrs. Smith - Angelina Jolie',\n",
       " 'Onur Tuna - Agir Romantik - Altan Erkekli - Love Likes Coincidences - Mehmet Günsür - Fall Down Dead - Udo Kier - Brawl in Cell Block 99 - Vince Vaughn - Mr. & Mrs. Smith - Angelina Jolie',\n",
       " 'Onur Tuna - A Small September Affair - Farah Zeynep Abdullah - Whisper If I Forget - Mehmet Günsür - Fall Down Dead - Udo Kier - Brawl in Cell Block 99 - Vince Vaughn - Mr. & Mrs. Smith - Angelina Jolie',\n",
       " 'Onur Tuna - Agir Romantik - Altan Erkekli - Yunus Emre: Askin Sesi - Ahmet Mekin - Görünmeyen - Udo Kier - Brawl in Cell Block 99 - Vince Vaughn - Mr. & Mrs. Smith - Angelina Jolie',\n",
       " 'Onur Tuna - Agir Romantik - Altan Erkekli - The Watercolor - Haluk Bilginer - Rosewater - Gael García Bernal - Babel - Brad Pitt - Mr. & Mrs. Smith - Angelina Jolie',\n",
       " 'Onur Tuna - Benden Ne Olur - Hazal Kaya - Kirik Kalpler Bankasi - Haluk Bilginer - Rosewater - Gael García Bernal - Babel - Brad Pitt - Mr. & Mrs. Smith - Angelina Jolie',\n",
       " 'Onur Tuna - Agir Romantik - Altan Erkekli - Istanbul Tales - Mehmet Günsür - Figli - Valerio Mastandrea - Zeros and Ones - Ethan Hawke - Taking Lives - Angelina Jolie',\n",
       " 'Onur Tuna - Agir Romantik - Altan Erkekli - Love Likes Coincidences - Mehmet Günsür - Figli - Valerio Mastandrea - Zeros and Ones - Ethan Hawke - Taking Lives - Angelina Jolie',\n",
       " 'Onur Tuna - A Small September Affair - Farah Zeynep Abdullah - Whisper If I Forget - Mehmet Günsür - Figli - Valerio Mastandrea - Zeros and Ones - Ethan Hawke - Taking Lives - Angelina Jolie',\n",
       " 'Onur Tuna - Agir Romantik - Altan Erkekli - The Watercolor - Haluk Bilginer - Hittites - Jeremy Irons - Waterland - Ethan Hawke - Taking Lives - Angelina Jolie',\n",
       " 'Onur Tuna - Benden Ne Olur - Hazal Kaya - Kirik Kalpler Bankasi - Haluk Bilginer - Hittites - Jeremy Irons - Waterland - Ethan Hawke - Taking Lives - Angelina Jolie',\n",
       " 'Onur Tuna - Agir Romantik - Altan Erkekli - Eve Dönüs - Sibel Kekilli - Die Männer der Emden - Ken Duken - Nitschewo - Daniel Olbrychski - Salt - Angelina Jolie',\n",
       " 'Onur Tuna - Agir Romantik - Altan Erkekli - Ask geliyorum demez - Bergüzar Korel - Valley of the Wolves: Iraq - Billy Zane - Going Overboard - Billy Bob Thornton - Pushing Tin - Angelina Jolie',\n",
       " 'Onur Tuna - A Small September Affair - Engin Akyürek - Bir Ask Iki Hayat - Bergüzar Korel - Valley of the Wolves: Iraq - Billy Zane - Going Overboard - Billy Bob Thornton - Pushing Tin - Angelina Jolie',\n",
       " 'Onur Tuna - Benden Ne Olur - Nur Fettahoglu - Valley of the Wolves: Palestine - Necati Sasmaz - Valley of the Wolves: Iraq - Billy Zane - Going Overboard - Billy Bob Thornton - Pushing Tin - Angelina Jolie',\n",
       " 'Onur Tuna - Agir Romantik - Altan Erkekli - The Watercolor - Haluk Bilginer - Rosewater - Gael García Bernal - Babel - Cate Blanchett - Pushing Tin - Angelina Jolie',\n",
       " 'Onur Tuna - Benden Ne Olur - Hazal Kaya - Kirik Kalpler Bankasi - Haluk Bilginer - Rosewater - Gael García Bernal - Babel - Cate Blanchett - Pushing Tin - Angelina Jolie',\n",
       " \"Onur Tuna - Agir Romantik - Altan Erkekli - Ask geliyorum demez - Bergüzar Korel - Valley of the Wolves: Iraq - Billy Zane - Susan's Plan - Michael Biehn - Mojave Moon - Angelina Jolie\",\n",
       " \"Onur Tuna - A Small September Affair - Engin Akyürek - Bir Ask Iki Hayat - Bergüzar Korel - Valley of the Wolves: Iraq - Billy Zane - Susan's Plan - Michael Biehn - Mojave Moon - Angelina Jolie\",\n",
       " \"Onur Tuna - Benden Ne Olur - Nur Fettahoglu - Valley of the Wolves: Palestine - Necati Sasmaz - Valley of the Wolves: Iraq - Billy Zane - Susan's Plan - Michael Biehn - Mojave Moon - Angelina Jolie\",\n",
       " 'Onur Tuna - Agir Romantik - Altan Erkekli - The Watercolor - Haluk Bilginer - Hittites - Jeremy Irons - A Chorus of Disapproval - Anthony Hopkins - Alexander - Angelina Jolie',\n",
       " 'Onur Tuna - Benden Ne Olur - Hazal Kaya - Kirik Kalpler Bankasi - Haluk Bilginer - Hittites - Jeremy Irons - A Chorus of Disapproval - Anthony Hopkins - Alexander - Angelina Jolie',\n",
       " 'Onur Tuna - Agir Romantik - Altan Erkekli - Love Likes Coincidences - Belçim Bilgin - Backstabbing for Beginners - Ben Kingsley - Collide - Anthony Hopkins - Alexander - Angelina Jolie',\n",
       " \"Onur Tuna - A Small September Affair - Farah Zeynep Abdullah - The Butterfly's Dream - Belçim Bilgin - Backstabbing for Beginners - Ben Kingsley - Collide - Anthony Hopkins - Alexander - Angelina Jolie\",\n",
       " 'Onur Tuna - Agir Romantik - Altan Erkekli - The Watercolor - Haluk Bilginer - Hittites - Jeremy Irons - Night Train to Lisbon - Mélanie Laurent - By the Sea - Angelina Jolie',\n",
       " 'Onur Tuna - Benden Ne Olur - Hazal Kaya - Kirik Kalpler Bankasi - Haluk Bilginer - Hittites - Jeremy Irons - Night Train to Lisbon - Mélanie Laurent - By the Sea - Angelina Jolie',\n",
       " 'Onur Tuna - Agir Romantik - Altan Erkekli - Love Likes Coincidences - Belçim Bilgin - Backstabbing for Beginners - Ben Kingsley - Operation Finale - Mélanie Laurent - By the Sea - Angelina Jolie',\n",
       " \"Onur Tuna - A Small September Affair - Farah Zeynep Abdullah - The Butterfly's Dream - Belçim Bilgin - Backstabbing for Beginners - Ben Kingsley - Operation Finale - Mélanie Laurent - By the Sea - Angelina Jolie\",\n",
       " 'Onur Tuna - Agir Romantik - Altan Erkekli - The Watercolor - Haluk Bilginer - Rosewater - Gael García Bernal - Babel - Brad Pitt - By the Sea - Angelina Jolie',\n",
       " 'Onur Tuna - Benden Ne Olur - Hazal Kaya - Kirik Kalpler Bankasi - Haluk Bilginer - Rosewater - Gael García Bernal - Babel - Brad Pitt - By the Sea - Angelina Jolie',\n",
       " 'Onur Tuna - Agir Romantik - Altan Erkekli - Love Likes Coincidences - Belçim Bilgin - Ports of Call - Golshifteh Farahani - Frère et soeur - Melvil Poupaud - By the Sea - Angelina Jolie',\n",
       " \"Onur Tuna - A Small September Affair - Farah Zeynep Abdullah - The Butterfly's Dream - Belçim Bilgin - Ports of Call - Golshifteh Farahani - Frère et soeur - Melvil Poupaud - By the Sea - Angelina Jolie\",\n",
       " \"Onur Tuna - Agir Romantik - Altan Erkekli - The Watercolor - Haluk Bilginer - Act of Vengeance - Danny Glover - Flight of the Intruder - Rosanna Arquette - Hell's Kitchen - Angelina Jolie\",\n",
       " \"Onur Tuna - Benden Ne Olur - Hazal Kaya - Kirik Kalpler Bankasi - Haluk Bilginer - Act of Vengeance - Danny Glover - Flight of the Intruder - Rosanna Arquette - Hell's Kitchen - Angelina Jolie\",\n",
       " \"Onur Tuna - Agir Romantik - Altan Erkekli - The Watercolor - Haluk Bilginer - Act of Vengeance - Danny Glover - Gone Fishin' - Rosanna Arquette - Hell's Kitchen - Angelina Jolie\",\n",
       " \"Onur Tuna - Benden Ne Olur - Hazal Kaya - Kirik Kalpler Bankasi - Haluk Bilginer - Act of Vengeance - Danny Glover - Gone Fishin' - Rosanna Arquette - Hell's Kitchen - Angelina Jolie\",\n",
       " \"Onur Tuna - Agir Romantik - Altan Erkekli - The Watercolor - Haluk Bilginer - Act of Vengeance - Danny Glover - Saint Paul - Mekhi Phifer - Hell's Kitchen - Angelina Jolie\",\n",
       " \"Onur Tuna - Benden Ne Olur - Hazal Kaya - Kirik Kalpler Bankasi - Haluk Bilginer - Act of Vengeance - Danny Glover - Saint Paul - Mekhi Phifer - Hell's Kitchen - Angelina Jolie\",\n",
       " 'Onur Tuna - Agir Romantik - Altan Erkekli - The Watercolor - Haluk Bilginer - Act of Vengeance - Danny Glover - Be Kind Rewind - Jack Black - Kung Fu Panda - Angelina Jolie',\n",
       " 'Onur Tuna - Benden Ne Olur - Hazal Kaya - Kirik Kalpler Bankasi - Haluk Bilginer - Act of Vengeance - Danny Glover - Be Kind Rewind - Jack Black - Kung Fu Panda - Angelina Jolie',\n",
       " 'Onur Tuna - Agir Romantik - Altan Erkekli - Love Likes Coincidences - Belçim Bilgin - Backstabbing for Beginners - Ben Kingsley - Sexy Beast - Ian McShane - Kung Fu Panda - Angelina Jolie',\n",
       " \"Onur Tuna - A Small September Affair - Farah Zeynep Abdullah - The Butterfly's Dream - Belçim Bilgin - Backstabbing for Beginners - Ben Kingsley - Sexy Beast - Ian McShane - Kung Fu Panda - Angelina Jolie\",\n",
       " 'Onur Tuna - Agir Romantik - Altan Erkekli - The Watercolor - Haluk Bilginer - Act of Vengeance - Danny Glover - Be Kind Rewind - Jack Black - Kung Fu Panda 2 - Angelina Jolie',\n",
       " 'Onur Tuna - Benden Ne Olur - Hazal Kaya - Kirik Kalpler Bankasi - Haluk Bilginer - Act of Vengeance - Danny Glover - Be Kind Rewind - Jack Black - Kung Fu Panda 2 - Angelina Jolie',\n",
       " 'Onur Tuna - Agir Romantik - Altan Erkekli - The Watercolor - Haluk Bilginer - Act of Vengeance - Danny Glover - Be Kind Rewind - Jack Black - Kung Fu Panda 3 - Angelina Jolie',\n",
       " 'Onur Tuna - Benden Ne Olur - Hazal Kaya - Kirik Kalpler Bankasi - Haluk Bilginer - Act of Vengeance - Danny Glover - Be Kind Rewind - Jack Black - Kung Fu Panda 3 - Angelina Jolie',\n",
       " 'Onur Tuna - Agir Romantik - Altan Erkekli - The Watercolor - Haluk Bilginer - Act of Vengeance - Gina Gershon - Inconceivable - Nicolas Cage - Gone in 60 Seconds - Angelina Jolie',\n",
       " 'Onur Tuna - Benden Ne Olur - Hazal Kaya - Kirik Kalpler Bankasi - Haluk Bilginer - Act of Vengeance - Gina Gershon - Inconceivable - Nicolas Cage - Gone in 60 Seconds - Angelina Jolie',\n",
       " 'Onur Tuna - Agir Romantik - Altan Erkekli - Love Likes Coincidences - Belçim Bilgin - Ports of Call - Golshifteh Farahani - The Song of Scorpions - Irrfan Khan - A Mighty Heart - Angelina Jolie',\n",
       " \"Onur Tuna - A Small September Affair - Farah Zeynep Abdullah - The Butterfly's Dream - Belçim Bilgin - Ports of Call - Golshifteh Farahani - The Song of Scorpions - Irrfan Khan - A Mighty Heart - Angelina Jolie\",\n",
       " 'Onur Tuna - Agir Romantik - Altan Erkekli - Love Likes Coincidences - Belçim Bilgin - Backstabbing for Beginners - Theo James - London Fields - Gemma Chan - Eternals - Angelina Jolie',\n",
       " \"Onur Tuna - A Small September Affair - Farah Zeynep Abdullah - The Butterfly's Dream - Belçim Bilgin - Backstabbing for Beginners - Theo James - London Fields - Gemma Chan - Eternals - Angelina Jolie\",\n",
       " 'Onur Tuna - Agir Romantik - Altan Erkekli - Love Likes Coincidences - Belçim Bilgin - Backstabbing for Beginners - Ben Kingsley - Sexy Beast - Ray Winstone - Beowulf - Angelina Jolie',\n",
       " \"Onur Tuna - A Small September Affair - Farah Zeynep Abdullah - The Butterfly's Dream - Belçim Bilgin - Backstabbing for Beginners - Ben Kingsley - Sexy Beast - Ray Winstone - Beowulf - Angelina Jolie\",\n",
       " 'Onur Tuna - Agir Romantik - Altan Erkekli - Love Likes Coincidences - Belçim Bilgin - Backstabbing for Beginners - Ben Kingsley - A Sound of Thunder - Edward Burns - Life or Something Like It - Angelina Jolie',\n",
       " \"Onur Tuna - A Small September Affair - Farah Zeynep Abdullah - The Butterfly's Dream - Belçim Bilgin - Backstabbing for Beginners - Ben Kingsley - A Sound of Thunder - Edward Burns - Life or Something Like It - Angelina Jolie\",\n",
       " 'Onur Tuna - Agir Romantik - Altan Erkekli - Love Likes Coincidences - Belçim Bilgin - Backstabbing for Beginners - Ben Kingsley - Desert Warrior - Sharlto Copley - Maleficent - Angelina Jolie',\n",
       " \"Onur Tuna - A Small September Affair - Farah Zeynep Abdullah - The Butterfly's Dream - Belçim Bilgin - Backstabbing for Beginners - Ben Kingsley - Desert Warrior - Sharlto Copley - Maleficent - Angelina Jolie\",\n",
       " 'Onur Tuna - Agir Romantik - Altan Erkekli - Love Likes Coincidences - Belçim Bilgin - Backstabbing for Beginners - Ben Kingsley - It Is No Dream - Christoph Waltz - Every Note Played - Angelina Jolie',\n",
       " \"Onur Tuna - A Small September Affair - Farah Zeynep Abdullah - The Butterfly's Dream - Belçim Bilgin - Backstabbing for Beginners - Ben Kingsley - It Is No Dream - Christoph Waltz - Every Note Played - Angelina Jolie\",\n",
       " 'Onur Tuna - Agir Romantik - Altan Erkekli - Love Likes Coincidences - Belçim Bilgin - Backstabbing for Beginners - Ben Kingsley - Collide - Nicholas Hoult - Those Who Wish Me Dead - Angelina Jolie',\n",
       " \"Onur Tuna - A Small September Affair - Farah Zeynep Abdullah - The Butterfly's Dream - Belçim Bilgin - Backstabbing for Beginners - Ben Kingsley - Collide - Nicholas Hoult - Those Who Wish Me Dead - Angelina Jolie\",\n",
       " 'Onur Tuna - Agir Romantik - Altan Erkekli - Love Likes Coincidences - Belçim Bilgin - Backstabbing for Beginners - Jacqueline Bisset - End of the Game - Jon Voight - Lara Croft: Tomb Raider - Angelina Jolie',\n",
       " \"Onur Tuna - A Small September Affair - Farah Zeynep Abdullah - The Butterfly's Dream - Belçim Bilgin - Backstabbing for Beginners - Jacqueline Bisset - End of the Game - Jon Voight - Lara Croft: Tomb Raider - Angelina Jolie\",\n",
       " 'Onur Tuna - Agir Romantik - Altan Erkekli - Yunus Emre: Askin Sesi - Sinan Albayrak - Sultanin Sirri - Mark Dacascos - Drive - Brittany Murphy - Girl, Interrupted - Angelina Jolie',\n",
       " 'Onur Tuna - A Small September Affair - Farah Zeynep Abdullah - Whisper If I Forget - Kerem Bürsin - Palace of the Damned - Catherine Siggins - The Suicide Club - Paul Bettany - The Tourist - Angelina Jolie']"
      ]
     },
     "execution_count": 16,
     "metadata": {},
     "output_type": "execute_result"
    }
   ],
   "source": [
    "paths('Onur Tuna', 'Angelina Jolie')"
   ]
  },
  {
   "cell_type": "code",
   "execution_count": null,
   "metadata": {
    "colab": {
     "base_uri": "https://localhost:8080/"
    },
    "id": "qF5gG2op5RGf",
    "outputId": "c6cb5174-3bab-4103-f949-dc92afd88714"
   },
   "outputs": [
    {
     "data": {
      "text/plain": [
       "['Robin Williams - Hook - Dustin Hoffman - Kung Fu Panda 2 - Jackie Chan',\n",
       " 'Robin Williams - What Dreams May Come - Max von Sydow - Rush Hour 3 - Jackie Chan',\n",
       " 'Robin Williams - Night at the Museum: Secret of the Tomb - Owen Wilson - Shanghai Noon - Jackie Chan',\n",
       " 'Robin Williams - Night at the Museum: Secret of the Tomb - Owen Wilson - Shanghai Knights - Jackie Chan']"
      ]
     },
     "execution_count": 17,
     "metadata": {},
     "output_type": "execute_result"
    }
   ],
   "source": [
    "paths('Robin Williams', 'Jackie Chan')"
   ]
  },
  {
   "cell_type": "code",
   "execution_count": null,
   "metadata": {
    "colab": {
     "base_uri": "https://localhost:8080/"
    },
    "id": "ZfXjcxfgHf5i",
    "outputId": "04b12679-c677-4ad5-a80d-38c828b2ffb6"
   },
   "outputs": [
    {
     "data": {
      "text/plain": [
       "['Rajinikanth - Kabali - Winston Chao - 1911 - Jackie Chan']"
      ]
     },
     "execution_count": 18,
     "metadata": {},
     "output_type": "execute_result"
    }
   ],
   "source": [
    "paths('Rajinikanth', 'Jackie Chan')"
   ]
  },
  {
   "cell_type": "code",
   "execution_count": null,
   "metadata": {
    "colab": {
     "base_uri": "https://localhost:8080/"
    },
    "id": "MZrkGvsG6DZH",
    "outputId": "b0dfe7a8-8032-4a7e-bce0-b0623dbd73a0"
   },
   "outputs": [
    {
     "data": {
      "text/plain": [
       "['Clint Eastwood - Paint Your Wagon - Lee Marvin - Hell in the Pacific - Toshirô Mifune',\n",
       " 'Clint Eastwood - Space Cowboys - James Garner - Grand Prix - Toshirô Mifune']"
      ]
     },
     "execution_count": 19,
     "metadata": {},
     "output_type": "execute_result"
    }
   ],
   "source": [
    "paths('Clint Eastwood', 'Toshirô Mifune')"
   ]
  },
  {
   "cell_type": "markdown",
   "metadata": {
    "id": "QJljMQV2kDiY"
   },
   "source": [
    "# Further explorations"
   ]
  },
  {
   "cell_type": "code",
   "execution_count": null,
   "metadata": {
    "colab": {
     "base_uri": "https://localhost:8080/"
    },
    "id": "kLCOdvCGkC3P",
    "outputId": "6ccbf336-a947-47d4-c0a9-374f89c1975f"
   },
   "outputs": [
    {
     "data": {
      "text/plain": [
       "['Kevin Bacon - The Air I Breathe - Brendan Fraser - Line of Descent - Abhay Deol - Hero - Sivakarthikeyan']"
      ]
     },
     "execution_count": 20,
     "metadata": {},
     "output_type": "execute_result"
    }
   ],
   "source": [
    "paths('Kevin Bacon', 'Sivakarthikeyan')"
   ]
  },
  {
   "cell_type": "code",
   "execution_count": null,
   "metadata": {
    "colab": {
     "base_uri": "https://localhost:8080/"
    },
    "id": "v5R2wI8ZLWO0",
    "outputId": "f803dd54-9dc4-412e-e584-5554db820f5b"
   },
   "outputs": [
    {
     "data": {
      "text/plain": [
       "['Ashish Vidyarthi - Benaam - Mithun Chakraborty - CC2C - Chia-Hui Liu - Shaolin Warrior - Lung Chan - Crazy Safari - N!xau',\n",
       " \"Ashish Vidyarthi - 12 O'Clock - Mithun Chakraborty - CC2C - Chia-Hui Liu - Shaolin Warrior - Lung Chan - Crazy Safari - N!xau\",\n",
       " 'Ashish Vidyarthi - Jole Jongole - Mithun Chakraborty - CC2C - Chia-Hui Liu - Shaolin Warrior - Lung Chan - Crazy Safari - N!xau',\n",
       " 'Ashish Vidyarthi - Zindagi Khoobsoorat Hai - Rajit Kapoor - The Making of the Mahatma - Paul Slabolepszy - Saturday Night at the Palace - Marius Weyers - The Gods Must Be Crazy - N!xau',\n",
       " 'Ashish Vidyarthi - Colours of Passion - Nandana Sen - Bokshu the Myth - Steven Berkoff - Charlie - Marius Weyers - The Gods Must Be Crazy - N!xau',\n",
       " 'Ashish Vidyarthi - Veera - Rahul Dev - The X-Gene Project - Malcolm McDowell - Bopha! - Marius Weyers - The Gods Must Be Crazy - N!xau']"
      ]
     },
     "execution_count": 21,
     "metadata": {},
     "output_type": "execute_result"
    }
   ],
   "source": [
    "paths('Ashish Vidyarthi', 'N!xau')"
   ]
  },
  {
   "cell_type": "code",
   "execution_count": null,
   "metadata": {
    "colab": {
     "base_uri": "https://localhost:8080/"
    },
    "id": "rSzTh_LTLuxV",
    "outputId": "49b16004-e28b-4130-badd-81a706600f61"
   },
   "outputs": [
    {
     "data": {
      "text/plain": [
       "['Gandhimathi - Pathinaru Vayathinile - Kamal Haasan - Ladies Only - Seema Biswas - Cooking with Stella - Don McKellar - Meditation Park - Pei-Pei Cheng - The Gods Must Be Funny in China - N!xau',\n",
       " 'Gandhimathi - Naan Avanillai - Kamal Haasan - Ladies Only - Seema Biswas - Cooking with Stella - Don McKellar - Meditation Park - Pei-Pei Cheng - The Gods Must Be Funny in China - N!xau',\n",
       " 'Gandhimathi - Melnattu Marumagal - Kamal Haasan - Ladies Only - Seema Biswas - Cooking with Stella - Don McKellar - Meditation Park - Pei-Pei Cheng - The Gods Must Be Funny in China - N!xau',\n",
       " 'Gandhimathi - Sattam En Kaiyil - Kamal Haasan - Ladies Only - Seema Biswas - Cooking with Stella - Don McKellar - Meditation Park - Pei-Pei Cheng - The Gods Must Be Funny in China - N!xau',\n",
       " 'Gandhimathi - Unnai Sutrum Ulagam - Kamal Haasan - Ladies Only - Seema Biswas - Cooking with Stella - Don McKellar - Meditation Park - Pei-Pei Cheng - The Gods Must Be Funny in China - N!xau',\n",
       " 'Gandhimathi - Mangala vaathiyam - Kamal Haasan - Ladies Only - Seema Biswas - Cooking with Stella - Don McKellar - Meditation Park - Pei-Pei Cheng - The Gods Must Be Funny in China - N!xau',\n",
       " 'Gandhimathi - Dasarathan - Heera Rajgopal - Ladies Only - Seema Biswas - Cooking with Stella - Don McKellar - Meditation Park - Pei-Pei Cheng - The Gods Must Be Funny in China - N!xau',\n",
       " 'Gandhimathi - Sundara Pandian 1998 - Heera Rajgopal - Ladies Only - Seema Biswas - Cooking with Stella - Don McKellar - Meditation Park - Pei-Pei Cheng - The Gods Must Be Funny in China - N!xau',\n",
       " 'Gandhimathi - Idu Namma Bhoomi - Kushboo - Thalaimagan - Seema Biswas - Cooking with Stella - Don McKellar - Meditation Park - Pei-Pei Cheng - The Gods Must Be Funny in China - N!xau',\n",
       " 'Gandhimathi - Dasarathan - Sarath Kumar - Thalaimagan - Seema Biswas - Cooking with Stella - Don McKellar - Meditation Park - Pei-Pei Cheng - The Gods Must Be Funny in China - N!xau',\n",
       " 'Gandhimathi - Dasarathan - Sarath Kumar - Nethaji - Lisa Ray - Cooking with Stella - Don McKellar - Meditation Park - Pei-Pei Cheng - The Gods Must Be Funny in China - N!xau',\n",
       " 'Gandhimathi - Amman Kovil Vaasalile - Manivannan - Nethaji - Lisa Ray - Cooking with Stella - Don McKellar - Meditation Park - Pei-Pei Cheng - The Gods Must Be Funny in China - N!xau',\n",
       " \"Gandhimathi - Pathinaru Vayathinile - Rajinikanth - Kabali - Winston Chao - The Wedding Banquet - Sihung Lung - Lover's Lover - Pei-Pei Cheng - The Gods Must Be Funny in China - N!xau\",\n",
       " \"Gandhimathi - Pathinaru Vayathinile - Rajinikanth - Kabali - Winston Chao - Tonight Nobody Goes Home - Sihung Lung - Lover's Lover - Pei-Pei Cheng - The Gods Must Be Funny in China - N!xau\",\n",
       " \"Gandhimathi - Pathinaru Vayathinile - Rajinikanth - Kabali - Winston Chao - Destination: 9th Heaven - Tony Ka Fai Leung - Lover's Lover - Pei-Pei Cheng - The Gods Must Be Funny in China - N!xau\",\n",
       " 'Gandhimathi - Pathinaru Vayathinile - Rajinikanth - Kabali - Winston Chao - Xiang fei: Ao kong shen ying - Richie Jen - Legendary Amazons - Pei-Pei Cheng - The Gods Must Be Funny in China - N!xau',\n",
       " 'Gandhimathi - Man Vasanai - Revathi - Dil Jo Bhi Kahey... - Annabelle Wallis - True True Lie - Jaime King - They Wait - Pei-Pei Cheng - The Gods Must Be Funny in China - N!xau',\n",
       " \"Gandhimathi - Thavaputhalvan - Pandari Bai - Mother - Ivy Ling Po - The Love Eterne - Chuang Chiao - Lovers' Rock - Pei-Pei Cheng - The Gods Must Be Funny in China - N!xau\",\n",
       " \"Gandhimathi - Doctor Siva - Pandari Bai - Mother - Ivy Ling Po - The Love Eterne - Chuang Chiao - Lovers' Rock - Pei-Pei Cheng - The Gods Must Be Funny in China - N!xau\",\n",
       " \"Gandhimathi - Iravum Pagalum - Pandari Bai - Mother - Ivy Ling Po - The Love Eterne - Chuang Chiao - Lovers' Rock - Pei-Pei Cheng - The Gods Must Be Funny in China - N!xau\",\n",
       " \"Gandhimathi - Thavaputhalvan - Pandari Bai - Mother - Ivy Ling Po - Ming ri zhi ge - Chuang Chiao - Lovers' Rock - Pei-Pei Cheng - The Gods Must Be Funny in China - N!xau\",\n",
       " \"Gandhimathi - Doctor Siva - Pandari Bai - Mother - Ivy Ling Po - Ming ri zhi ge - Chuang Chiao - Lovers' Rock - Pei-Pei Cheng - The Gods Must Be Funny in China - N!xau\",\n",
       " \"Gandhimathi - Iravum Pagalum - Pandari Bai - Mother - Ivy Ling Po - Ming ri zhi ge - Chuang Chiao - Lovers' Rock - Pei-Pei Cheng - The Gods Must Be Funny in China - N!xau\",\n",
       " 'Gandhimathi - Thavaputhalvan - Pandari Bai - Mother - Ivy Ling Po - Temple of the Red Lotus - Ping Chin - Hong Kong Nocturne - Pei-Pei Cheng - The Gods Must Be Funny in China - N!xau',\n",
       " 'Gandhimathi - Doctor Siva - Pandari Bai - Mother - Ivy Ling Po - Temple of the Red Lotus - Ping Chin - Hong Kong Nocturne - Pei-Pei Cheng - The Gods Must Be Funny in China - N!xau',\n",
       " 'Gandhimathi - Iravum Pagalum - Pandari Bai - Mother - Ivy Ling Po - Temple of the Red Lotus - Ping Chin - Hong Kong Nocturne - Pei-Pei Cheng - The Gods Must Be Funny in China - N!xau',\n",
       " 'Gandhimathi - Thavaputhalvan - Pandari Bai - Mother - Ivy Ling Po - Xue shou yin - Ping Chin - Hong Kong Nocturne - Pei-Pei Cheng - The Gods Must Be Funny in China - N!xau',\n",
       " 'Gandhimathi - Doctor Siva - Pandari Bai - Mother - Ivy Ling Po - Xue shou yin - Ping Chin - Hong Kong Nocturne - Pei-Pei Cheng - The Gods Must Be Funny in China - N!xau',\n",
       " 'Gandhimathi - Iravum Pagalum - Pandari Bai - Mother - Ivy Ling Po - Xue shou yin - Ping Chin - Hong Kong Nocturne - Pei-Pei Cheng - The Gods Must Be Funny in China - N!xau',\n",
       " 'Gandhimathi - Thavaputhalvan - Pandari Bai - Mother - Ivy Ling Po - Bu shi yuan jia bu ju tou - Peter Chen Hou - Hong Kong Nocturne - Pei-Pei Cheng - The Gods Must Be Funny in China - N!xau',\n",
       " 'Gandhimathi - Doctor Siva - Pandari Bai - Mother - Ivy Ling Po - Bu shi yuan jia bu ju tou - Peter Chen Hou - Hong Kong Nocturne - Pei-Pei Cheng - The Gods Must Be Funny in China - N!xau',\n",
       " 'Gandhimathi - Iravum Pagalum - Pandari Bai - Mother - Ivy Ling Po - Bu shi yuan jia bu ju tou - Peter Chen Hou - Hong Kong Nocturne - Pei-Pei Cheng - The Gods Must Be Funny in China - N!xau',\n",
       " 'Gandhimathi - Thavaputhalvan - Pandari Bai - Mother - Ivy Ling Po - Temple of the Red Lotus - Jimmy Wang Yu - Golden Swallow - Pei-Pei Cheng - The Gods Must Be Funny in China - N!xau',\n",
       " 'Gandhimathi - Doctor Siva - Pandari Bai - Mother - Ivy Ling Po - Temple of the Red Lotus - Jimmy Wang Yu - Golden Swallow - Pei-Pei Cheng - The Gods Must Be Funny in China - N!xau',\n",
       " 'Gandhimathi - Iravum Pagalum - Pandari Bai - Mother - Ivy Ling Po - Temple of the Red Lotus - Jimmy Wang Yu - Golden Swallow - Pei-Pei Cheng - The Gods Must Be Funny in China - N!xau',\n",
       " 'Gandhimathi - Thavaputhalvan - Pandari Bai - Mother - Ivy Ling Po - Huo bing - Lieh Lo - Golden Swallow - Pei-Pei Cheng - The Gods Must Be Funny in China - N!xau',\n",
       " 'Gandhimathi - Doctor Siva - Pandari Bai - Mother - Ivy Ling Po - Huo bing - Lieh Lo - Golden Swallow - Pei-Pei Cheng - The Gods Must Be Funny in China - N!xau',\n",
       " 'Gandhimathi - Iravum Pagalum - Pandari Bai - Mother - Ivy Ling Po - Huo bing - Lieh Lo - Golden Swallow - Pei-Pei Cheng - The Gods Must Be Funny in China - N!xau',\n",
       " 'Gandhimathi - Thavaputhalvan - Pandari Bai - Mother - Ivy Ling Po - Zheng He xia xi yang - Lieh Lo - Golden Swallow - Pei-Pei Cheng - The Gods Must Be Funny in China - N!xau',\n",
       " 'Gandhimathi - Doctor Siva - Pandari Bai - Mother - Ivy Ling Po - Zheng He xia xi yang - Lieh Lo - Golden Swallow - Pei-Pei Cheng - The Gods Must Be Funny in China - N!xau',\n",
       " 'Gandhimathi - Iravum Pagalum - Pandari Bai - Mother - Ivy Ling Po - Zheng He xia xi yang - Lieh Lo - Golden Swallow - Pei-Pei Cheng - The Gods Must Be Funny in China - N!xau',\n",
       " 'Gandhimathi - Thavaputhalvan - Pandari Bai - Mother - Ivy Ling Po - The Mermaid - Ching Lee - Bao lian deng - Pei-Pei Cheng - The Gods Must Be Funny in China - N!xau',\n",
       " 'Gandhimathi - Doctor Siva - Pandari Bai - Mother - Ivy Ling Po - The Mermaid - Ching Lee - Bao lian deng - Pei-Pei Cheng - The Gods Must Be Funny in China - N!xau',\n",
       " 'Gandhimathi - Iravum Pagalum - Pandari Bai - Mother - Ivy Ling Po - The Mermaid - Ching Lee - Bao lian deng - Pei-Pei Cheng - The Gods Must Be Funny in China - N!xau',\n",
       " 'Gandhimathi - Thavaputhalvan - Pandari Bai - Mother - Ivy Ling Po - Xue shou yin - Ching Lee - Bao lian deng - Pei-Pei Cheng - The Gods Must Be Funny in China - N!xau',\n",
       " 'Gandhimathi - Doctor Siva - Pandari Bai - Mother - Ivy Ling Po - Xue shou yin - Ching Lee - Bao lian deng - Pei-Pei Cheng - The Gods Must Be Funny in China - N!xau',\n",
       " 'Gandhimathi - Iravum Pagalum - Pandari Bai - Mother - Ivy Ling Po - Xue shou yin - Ching Lee - Bao lian deng - Pei-Pei Cheng - The Gods Must Be Funny in China - N!xau',\n",
       " 'Gandhimathi - Thavaputhalvan - Pandari Bai - Mother - Ivy Ling Po - Xin hong lou meng - Ching Lee - Bao lian deng - Pei-Pei Cheng - The Gods Must Be Funny in China - N!xau',\n",
       " 'Gandhimathi - Doctor Siva - Pandari Bai - Mother - Ivy Ling Po - Xin hong lou meng - Ching Lee - Bao lian deng - Pei-Pei Cheng - The Gods Must Be Funny in China - N!xau',\n",
       " 'Gandhimathi - Iravum Pagalum - Pandari Bai - Mother - Ivy Ling Po - Xin hong lou meng - Ching Lee - Bao lian deng - Pei-Pei Cheng - The Gods Must Be Funny in China - N!xau',\n",
       " 'Gandhimathi - Thavaputhalvan - Pandari Bai - Mother - Ivy Ling Po - Xi xiang ji - Ching Lee - Bao lian deng - Pei-Pei Cheng - The Gods Must Be Funny in China - N!xau',\n",
       " 'Gandhimathi - Doctor Siva - Pandari Bai - Mother - Ivy Ling Po - Xi xiang ji - Ching Lee - Bao lian deng - Pei-Pei Cheng - The Gods Must Be Funny in China - N!xau',\n",
       " 'Gandhimathi - Iravum Pagalum - Pandari Bai - Mother - Ivy Ling Po - Xi xiang ji - Ching Lee - Bao lian deng - Pei-Pei Cheng - The Gods Must Be Funny in China - N!xau',\n",
       " 'Gandhimathi - Thavaputhalvan - Pandari Bai - Mother - Ivy Ling Po - San xiao - Ching Lee - Bao lian deng - Pei-Pei Cheng - The Gods Must Be Funny in China - N!xau',\n",
       " 'Gandhimathi - Doctor Siva - Pandari Bai - Mother - Ivy Ling Po - San xiao - Ching Lee - Bao lian deng - Pei-Pei Cheng - The Gods Must Be Funny in China - N!xau',\n",
       " 'Gandhimathi - Iravum Pagalum - Pandari Bai - Mother - Ivy Ling Po - San xiao - Ching Lee - Bao lian deng - Pei-Pei Cheng - The Gods Must Be Funny in China - N!xau',\n",
       " 'Gandhimathi - Thavaputhalvan - Pandari Bai - Mother - Ivy Ling Po - Wan gu liu fang - Hsi Chang - Bao lian deng - Pei-Pei Cheng - The Gods Must Be Funny in China - N!xau',\n",
       " 'Gandhimathi - Doctor Siva - Pandari Bai - Mother - Ivy Ling Po - Wan gu liu fang - Hsi Chang - Bao lian deng - Pei-Pei Cheng - The Gods Must Be Funny in China - N!xau',\n",
       " 'Gandhimathi - Iravum Pagalum - Pandari Bai - Mother - Ivy Ling Po - Wan gu liu fang - Hsi Chang - Bao lian deng - Pei-Pei Cheng - The Gods Must Be Funny in China - N!xau',\n",
       " 'Gandhimathi - Thavaputhalvan - Pandari Bai - Mother - Ivy Ling Po - Jin shi qing - Wei Lo - Attack of the Kung Fu Girls - Pei-Pei Cheng - The Gods Must Be Funny in China - N!xau',\n",
       " 'Gandhimathi - Doctor Siva - Pandari Bai - Mother - Ivy Ling Po - Jin shi qing - Wei Lo - Attack of the Kung Fu Girls - Pei-Pei Cheng - The Gods Must Be Funny in China - N!xau',\n",
       " 'Gandhimathi - Iravum Pagalum - Pandari Bai - Mother - Ivy Ling Po - Jin shi qing - Wei Lo - Attack of the Kung Fu Girls - Pei-Pei Cheng - The Gods Must Be Funny in China - N!xau',\n",
       " 'Gandhimathi - Thavaputhalvan - Pandari Bai - Mother - Ivy Ling Po - Jin shi qing - Li-Jen Ho - The Shadow Whip - Pei-Pei Cheng - The Gods Must Be Funny in China - N!xau',\n",
       " 'Gandhimathi - Doctor Siva - Pandari Bai - Mother - Ivy Ling Po - Jin shi qing - Li-Jen Ho - The Shadow Whip - Pei-Pei Cheng - The Gods Must Be Funny in China - N!xau',\n",
       " 'Gandhimathi - Iravum Pagalum - Pandari Bai - Mother - Ivy Ling Po - Jin shi qing - Li-Jen Ho - The Shadow Whip - Pei-Pei Cheng - The Gods Must Be Funny in China - N!xau',\n",
       " 'Gandhimathi - Thavaputhalvan - Pandari Bai - Mother - Ivy Ling Po - Lady General Hua Mu Lan - Han Chin - Brothers Five - Pei-Pei Cheng - The Gods Must Be Funny in China - N!xau',\n",
       " 'Gandhimathi - Doctor Siva - Pandari Bai - Mother - Ivy Ling Po - Lady General Hua Mu Lan - Han Chin - Brothers Five - Pei-Pei Cheng - The Gods Must Be Funny in China - N!xau',\n",
       " 'Gandhimathi - Iravum Pagalum - Pandari Bai - Mother - Ivy Ling Po - Lady General Hua Mu Lan - Han Chin - Brothers Five - Pei-Pei Cheng - The Gods Must Be Funny in China - N!xau',\n",
       " 'Gandhimathi - Thavaputhalvan - Pandari Bai - Mother - Ivy Ling Po - Huo bing - Han Chin - Brothers Five - Pei-Pei Cheng - The Gods Must Be Funny in China - N!xau',\n",
       " 'Gandhimathi - Doctor Siva - Pandari Bai - Mother - Ivy Ling Po - Huo bing - Han Chin - Brothers Five - Pei-Pei Cheng - The Gods Must Be Funny in China - N!xau',\n",
       " 'Gandhimathi - Iravum Pagalum - Pandari Bai - Mother - Ivy Ling Po - Huo bing - Han Chin - Brothers Five - Pei-Pei Cheng - The Gods Must Be Funny in China - N!xau',\n",
       " 'Gandhimathi - Thavaputhalvan - Pandari Bai - Mother - Ivy Ling Po - Ming ri zhi ge - Han Chin - Brothers Five - Pei-Pei Cheng - The Gods Must Be Funny in China - N!xau',\n",
       " 'Gandhimathi - Doctor Siva - Pandari Bai - Mother - Ivy Ling Po - Ming ri zhi ge - Han Chin - Brothers Five - Pei-Pei Cheng - The Gods Must Be Funny in China - N!xau',\n",
       " 'Gandhimathi - Iravum Pagalum - Pandari Bai - Mother - Ivy Ling Po - Ming ri zhi ge - Han Chin - Brothers Five - Pei-Pei Cheng - The Gods Must Be Funny in China - N!xau',\n",
       " 'Gandhimathi - Thavaputhalvan - Pandari Bai - Mother - Ivy Ling Po - Tai yin zhi - Han Chin - Brothers Five - Pei-Pei Cheng - The Gods Must Be Funny in China - N!xau',\n",
       " 'Gandhimathi - Doctor Siva - Pandari Bai - Mother - Ivy Ling Po - Tai yin zhi - Han Chin - Brothers Five - Pei-Pei Cheng - The Gods Must Be Funny in China - N!xau',\n",
       " 'Gandhimathi - Iravum Pagalum - Pandari Bai - Mother - Ivy Ling Po - Tai yin zhi - Han Chin - Brothers Five - Pei-Pei Cheng - The Gods Must Be Funny in China - N!xau',\n",
       " 'Gandhimathi - Thavaputhalvan - Pandari Bai - Mother - Ivy Ling Po - Zheng He xia xi yang - Han Chin - Brothers Five - Pei-Pei Cheng - The Gods Must Be Funny in China - N!xau',\n",
       " 'Gandhimathi - Doctor Siva - Pandari Bai - Mother - Ivy Ling Po - Zheng He xia xi yang - Han Chin - Brothers Five - Pei-Pei Cheng - The Gods Must Be Funny in China - N!xau',\n",
       " 'Gandhimathi - Iravum Pagalum - Pandari Bai - Mother - Ivy Ling Po - Zheng He xia xi yang - Han Chin - Brothers Five - Pei-Pei Cheng - The Gods Must Be Funny in China - N!xau',\n",
       " 'Gandhimathi - Thavaputhalvan - Pandari Bai - Mother - Ivy Ling Po - Xue fu men - Yi Chang - Brothers Five - Pei-Pei Cheng - The Gods Must Be Funny in China - N!xau',\n",
       " 'Gandhimathi - Doctor Siva - Pandari Bai - Mother - Ivy Ling Po - Xue fu men - Yi Chang - Brothers Five - Pei-Pei Cheng - The Gods Must Be Funny in China - N!xau',\n",
       " 'Gandhimathi - Iravum Pagalum - Pandari Bai - Mother - Ivy Ling Po - Xue fu men - Yi Chang - Brothers Five - Pei-Pei Cheng - The Gods Must Be Funny in China - N!xau',\n",
       " 'Gandhimathi - Thavaputhalvan - Pandari Bai - Mother - Ivy Ling Po - Luo xie - Yuen Kao - Brothers Five - Pei-Pei Cheng - The Gods Must Be Funny in China - N!xau',\n",
       " 'Gandhimathi - Doctor Siva - Pandari Bai - Mother - Ivy Ling Po - Luo xie - Yuen Kao - Brothers Five - Pei-Pei Cheng - The Gods Must Be Funny in China - N!xau',\n",
       " 'Gandhimathi - Iravum Pagalum - Pandari Bai - Mother - Ivy Ling Po - Luo xie - Yuen Kao - Brothers Five - Pei-Pei Cheng - The Gods Must Be Funny in China - N!xau',\n",
       " 'Gandhimathi - Thavaputhalvan - Pandari Bai - Mother - Ivy Ling Po - Lady General Hua Mu Lan - Han Chin - The Dragon Creek - Pei-Pei Cheng - The Gods Must Be Funny in China - N!xau',\n",
       " 'Gandhimathi - Doctor Siva - Pandari Bai - Mother - Ivy Ling Po - Lady General Hua Mu Lan - Han Chin - The Dragon Creek - Pei-Pei Cheng - The Gods Must Be Funny in China - N!xau',\n",
       " 'Gandhimathi - Iravum Pagalum - Pandari Bai - Mother - Ivy Ling Po - Lady General Hua Mu Lan - Han Chin - The Dragon Creek - Pei-Pei Cheng - The Gods Must Be Funny in China - N!xau',\n",
       " 'Gandhimathi - Thavaputhalvan - Pandari Bai - Mother - Ivy Ling Po - Huo bing - Han Chin - The Dragon Creek - Pei-Pei Cheng - The Gods Must Be Funny in China - N!xau',\n",
       " 'Gandhimathi - Doctor Siva - Pandari Bai - Mother - Ivy Ling Po - Huo bing - Han Chin - The Dragon Creek - Pei-Pei Cheng - The Gods Must Be Funny in China - N!xau',\n",
       " 'Gandhimathi - Iravum Pagalum - Pandari Bai - Mother - Ivy Ling Po - Huo bing - Han Chin - The Dragon Creek - Pei-Pei Cheng - The Gods Must Be Funny in China - N!xau',\n",
       " 'Gandhimathi - Thavaputhalvan - Pandari Bai - Mother - Ivy Ling Po - Ming ri zhi ge - Han Chin - The Dragon Creek - Pei-Pei Cheng - The Gods Must Be Funny in China - N!xau',\n",
       " 'Gandhimathi - Doctor Siva - Pandari Bai - Mother - Ivy Ling Po - Ming ri zhi ge - Han Chin - The Dragon Creek - Pei-Pei Cheng - The Gods Must Be Funny in China - N!xau',\n",
       " 'Gandhimathi - Iravum Pagalum - Pandari Bai - Mother - Ivy Ling Po - Ming ri zhi ge - Han Chin - The Dragon Creek - Pei-Pei Cheng - The Gods Must Be Funny in China - N!xau',\n",
       " 'Gandhimathi - Thavaputhalvan - Pandari Bai - Mother - Ivy Ling Po - Tai yin zhi - Han Chin - The Dragon Creek - Pei-Pei Cheng - The Gods Must Be Funny in China - N!xau',\n",
       " 'Gandhimathi - Doctor Siva - Pandari Bai - Mother - Ivy Ling Po - Tai yin zhi - Han Chin - The Dragon Creek - Pei-Pei Cheng - The Gods Must Be Funny in China - N!xau',\n",
       " 'Gandhimathi - Iravum Pagalum - Pandari Bai - Mother - Ivy Ling Po - Tai yin zhi - Han Chin - The Dragon Creek - Pei-Pei Cheng - The Gods Must Be Funny in China - N!xau',\n",
       " 'Gandhimathi - Thavaputhalvan - Pandari Bai - Mother - Ivy Ling Po - Zheng He xia xi yang - Han Chin - The Dragon Creek - Pei-Pei Cheng - The Gods Must Be Funny in China - N!xau',\n",
       " 'Gandhimathi - Doctor Siva - Pandari Bai - Mother - Ivy Ling Po - Zheng He xia xi yang - Han Chin - The Dragon Creek - Pei-Pei Cheng - The Gods Must Be Funny in China - N!xau',\n",
       " 'Gandhimathi - Iravum Pagalum - Pandari Bai - Mother - Ivy Ling Po - Zheng He xia xi yang - Han Chin - The Dragon Creek - Pei-Pei Cheng - The Gods Must Be Funny in China - N!xau',\n",
       " 'Gandhimathi - Thavaputhalvan - Pandari Bai - Mother - Ivy Ling Po - Huo bing - Lieh Lo - Dragon Swamp - Pei-Pei Cheng - The Gods Must Be Funny in China - N!xau',\n",
       " 'Gandhimathi - Doctor Siva - Pandari Bai - Mother - Ivy Ling Po - Huo bing - Lieh Lo - Dragon Swamp - Pei-Pei Cheng - The Gods Must Be Funny in China - N!xau',\n",
       " 'Gandhimathi - Iravum Pagalum - Pandari Bai - Mother - Ivy Ling Po - Huo bing - Lieh Lo - Dragon Swamp - Pei-Pei Cheng - The Gods Must Be Funny in China - N!xau',\n",
       " 'Gandhimathi - Thavaputhalvan - Pandari Bai - Mother - Ivy Ling Po - Zheng He xia xi yang - Lieh Lo - Dragon Swamp - Pei-Pei Cheng - The Gods Must Be Funny in China - N!xau',\n",
       " 'Gandhimathi - Doctor Siva - Pandari Bai - Mother - Ivy Ling Po - Zheng He xia xi yang - Lieh Lo - Dragon Swamp - Pei-Pei Cheng - The Gods Must Be Funny in China - N!xau',\n",
       " 'Gandhimathi - Iravum Pagalum - Pandari Bai - Mother - Ivy Ling Po - Zheng He xia xi yang - Lieh Lo - Dragon Swamp - Pei-Pei Cheng - The Gods Must Be Funny in China - N!xau',\n",
       " 'Gandhimathi - Thavaputhalvan - Pandari Bai - Mother - Ivy Ling Po - Sha ji - Chung-Hsin Huang - Dragon Swamp - Pei-Pei Cheng - The Gods Must Be Funny in China - N!xau',\n",
       " 'Gandhimathi - Doctor Siva - Pandari Bai - Mother - Ivy Ling Po - Sha ji - Chung-Hsin Huang - Dragon Swamp - Pei-Pei Cheng - The Gods Must Be Funny in China - N!xau',\n",
       " 'Gandhimathi - Iravum Pagalum - Pandari Bai - Mother - Ivy Ling Po - Sha ji - Chung-Hsin Huang - Dragon Swamp - Pei-Pei Cheng - The Gods Must Be Funny in China - N!xau',\n",
       " 'Gandhimathi - Thavaputhalvan - Pandari Bai - Mother - Ivy Ling Po - Huo bing - Lieh Lo - The Flying Dagger - Pei-Pei Cheng - The Gods Must Be Funny in China - N!xau',\n",
       " 'Gandhimathi - Doctor Siva - Pandari Bai - Mother - Ivy Ling Po - Huo bing - Lieh Lo - The Flying Dagger - Pei-Pei Cheng - The Gods Must Be Funny in China - N!xau',\n",
       " 'Gandhimathi - Iravum Pagalum - Pandari Bai - Mother - Ivy Ling Po - Huo bing - Lieh Lo - The Flying Dagger - Pei-Pei Cheng - The Gods Must Be Funny in China - N!xau',\n",
       " 'Gandhimathi - Thavaputhalvan - Pandari Bai - Mother - Ivy Ling Po - Zheng He xia xi yang - Lieh Lo - The Flying Dagger - Pei-Pei Cheng - The Gods Must Be Funny in China - N!xau',\n",
       " 'Gandhimathi - Doctor Siva - Pandari Bai - Mother - Ivy Ling Po - Zheng He xia xi yang - Lieh Lo - The Flying Dagger - Pei-Pei Cheng - The Gods Must Be Funny in China - N!xau',\n",
       " 'Gandhimathi - Iravum Pagalum - Pandari Bai - Mother - Ivy Ling Po - Zheng He xia xi yang - Lieh Lo - The Flying Dagger - Pei-Pei Cheng - The Gods Must Be Funny in China - N!xau',\n",
       " 'Gandhimathi - Thavaputhalvan - Pandari Bai - Mother - Ivy Ling Po - Huo bing - Lieh Lo - The Lady Hermit - Pei-Pei Cheng - The Gods Must Be Funny in China - N!xau',\n",
       " 'Gandhimathi - Doctor Siva - Pandari Bai - Mother - Ivy Ling Po - Huo bing - Lieh Lo - The Lady Hermit - Pei-Pei Cheng - The Gods Must Be Funny in China - N!xau',\n",
       " 'Gandhimathi - Iravum Pagalum - Pandari Bai - Mother - Ivy Ling Po - Huo bing - Lieh Lo - The Lady Hermit - Pei-Pei Cheng - The Gods Must Be Funny in China - N!xau',\n",
       " 'Gandhimathi - Thavaputhalvan - Pandari Bai - Mother - Ivy Ling Po - Zheng He xia xi yang - Lieh Lo - The Lady Hermit - Pei-Pei Cheng - The Gods Must Be Funny in China - N!xau',\n",
       " 'Gandhimathi - Doctor Siva - Pandari Bai - Mother - Ivy Ling Po - Zheng He xia xi yang - Lieh Lo - The Lady Hermit - Pei-Pei Cheng - The Gods Must Be Funny in China - N!xau',\n",
       " 'Gandhimathi - Iravum Pagalum - Pandari Bai - Mother - Ivy Ling Po - Zheng He xia xi yang - Lieh Lo - The Lady Hermit - Pei-Pei Cheng - The Gods Must Be Funny in China - N!xau',\n",
       " 'Gandhimathi - Thavaputhalvan - Pandari Bai - Mother - Ivy Ling Po - Xue fu men - Szu Shih - The Lady Hermit - Pei-Pei Cheng - The Gods Must Be Funny in China - N!xau',\n",
       " 'Gandhimathi - Doctor Siva - Pandari Bai - Mother - Ivy Ling Po - Xue fu men - Szu Shih - The Lady Hermit - Pei-Pei Cheng - The Gods Must Be Funny in China - N!xau',\n",
       " 'Gandhimathi - Iravum Pagalum - Pandari Bai - Mother - Ivy Ling Po - Xue fu men - Szu Shih - The Lady Hermit - Pei-Pei Cheng - The Gods Must Be Funny in China - N!xau',\n",
       " 'Gandhimathi - Thavaputhalvan - Pandari Bai - Mother - Ivy Ling Po - A Fairy to the World - Szu Shih - The Lady Hermit - Pei-Pei Cheng - The Gods Must Be Funny in China - N!xau',\n",
       " 'Gandhimathi - Doctor Siva - Pandari Bai - Mother - Ivy Ling Po - A Fairy to the World - Szu Shih - The Lady Hermit - Pei-Pei Cheng - The Gods Must Be Funny in China - N!xau',\n",
       " 'Gandhimathi - Iravum Pagalum - Pandari Bai - Mother - Ivy Ling Po - A Fairy to the World - Szu Shih - The Lady Hermit - Pei-Pei Cheng - The Gods Must Be Funny in China - N!xau',\n",
       " 'Gandhimathi - Thavaputhalvan - Pandari Bai - Mother - Ivy Ling Po - Luo xie - Hsieh Wang - The Lady Hermit - Pei-Pei Cheng - The Gods Must Be Funny in China - N!xau',\n",
       " 'Gandhimathi - Doctor Siva - Pandari Bai - Mother - Ivy Ling Po - Luo xie - Hsieh Wang - The Lady Hermit - Pei-Pei Cheng - The Gods Must Be Funny in China - N!xau',\n",
       " 'Gandhimathi - Iravum Pagalum - Pandari Bai - Mother - Ivy Ling Po - Luo xie - Hsieh Wang - The Lady Hermit - Pei-Pei Cheng - The Gods Must Be Funny in China - N!xau',\n",
       " 'Gandhimathi - Thavaputhalvan - Pandari Bai - Mother - Ivy Ling Po - Huo bing - Lieh Lo - Shen jian zhen jiang hu - Pei-Pei Cheng - The Gods Must Be Funny in China - N!xau',\n",
       " 'Gandhimathi - Doctor Siva - Pandari Bai - Mother - Ivy Ling Po - Huo bing - Lieh Lo - Shen jian zhen jiang hu - Pei-Pei Cheng - The Gods Must Be Funny in China - N!xau',\n",
       " 'Gandhimathi - Iravum Pagalum - Pandari Bai - Mother - Ivy Ling Po - Huo bing - Lieh Lo - Shen jian zhen jiang hu - Pei-Pei Cheng - The Gods Must Be Funny in China - N!xau',\n",
       " 'Gandhimathi - Thavaputhalvan - Pandari Bai - Mother - Ivy Ling Po - Zheng He xia xi yang - Lieh Lo - Shen jian zhen jiang hu - Pei-Pei Cheng - The Gods Must Be Funny in China - N!xau',\n",
       " 'Gandhimathi - Doctor Siva - Pandari Bai - Mother - Ivy Ling Po - Zheng He xia xi yang - Lieh Lo - Shen jian zhen jiang hu - Pei-Pei Cheng - The Gods Must Be Funny in China - N!xau',\n",
       " 'Gandhimathi - Iravum Pagalum - Pandari Bai - Mother - Ivy Ling Po - Zheng He xia xi yang - Lieh Lo - Shen jian zhen jiang hu - Pei-Pei Cheng - The Gods Must Be Funny in China - N!xau',\n",
       " 'Gandhimathi - Thavaputhalvan - Pandari Bai - Mother - Ivy Ling Po - Xue fu men - Yi Chang - Shen jian zhen jiang hu - Pei-Pei Cheng - The Gods Must Be Funny in China - N!xau',\n",
       " 'Gandhimathi - Doctor Siva - Pandari Bai - Mother - Ivy Ling Po - Xue fu men - Yi Chang - Shen jian zhen jiang hu - Pei-Pei Cheng - The Gods Must Be Funny in China - N!xau',\n",
       " 'Gandhimathi - Iravum Pagalum - Pandari Bai - Mother - Ivy Ling Po - Xue fu men - Yi Chang - Shen jian zhen jiang hu - Pei-Pei Cheng - The Gods Must Be Funny in China - N!xau',\n",
       " 'Gandhimathi - Thavaputhalvan - Pandari Bai - Mother - Ivy Ling Po - Qing guo qing cheng - David Chiang - Wu Xia Pian - Le Festin du Tigre Chinois - Pei-Pei Cheng - The Gods Must Be Funny in China - N!xau',\n",
       " 'Gandhimathi - Doctor Siva - Pandari Bai - Mother - Ivy Ling Po - Qing guo qing cheng - David Chiang - Wu Xia Pian - Le Festin du Tigre Chinois - Pei-Pei Cheng - The Gods Must Be Funny in China - N!xau',\n",
       " 'Gandhimathi - Iravum Pagalum - Pandari Bai - Mother - Ivy Ling Po - Qing guo qing cheng - David Chiang - Wu Xia Pian - Le Festin du Tigre Chinois - Pei-Pei Cheng - The Gods Must Be Funny in China - N!xau',\n",
       " 'Gandhimathi - Thavaputhalvan - Pandari Bai - Mother - Ivy Ling Po - Sha ji - Chung-Hsin Huang - Song of Orchid Island - Pei-Pei Cheng - The Gods Must Be Funny in China - N!xau',\n",
       " 'Gandhimathi - Doctor Siva - Pandari Bai - Mother - Ivy Ling Po - Sha ji - Chung-Hsin Huang - Song of Orchid Island - Pei-Pei Cheng - The Gods Must Be Funny in China - N!xau',\n",
       " 'Gandhimathi - Iravum Pagalum - Pandari Bai - Mother - Ivy Ling Po - Sha ji - Chung-Hsin Huang - Song of Orchid Island - Pei-Pei Cheng - The Gods Must Be Funny in China - N!xau',\n",
       " 'Gandhimathi - Thavaputhalvan - Pandari Bai - Mother - Ivy Ling Po - Sha ji - Chung-Hsin Huang - Lady of Steel - Pei-Pei Cheng - The Gods Must Be Funny in China - N!xau',\n",
       " 'Gandhimathi - Doctor Siva - Pandari Bai - Mother - Ivy Ling Po - Sha ji - Chung-Hsin Huang - Lady of Steel - Pei-Pei Cheng - The Gods Must Be Funny in China - N!xau',\n",
       " 'Gandhimathi - Iravum Pagalum - Pandari Bai - Mother - Ivy Ling Po - Sha ji - Chung-Hsin Huang - Lady of Steel - Pei-Pei Cheng - The Gods Must Be Funny in China - N!xau',\n",
       " 'Gandhimathi - Thavaputhalvan - Pandari Bai - Mother - Ivy Ling Po - Sha ji - Chung-Hsin Huang - Die wang jiao wa - Pei-Pei Cheng - The Gods Must Be Funny in China - N!xau',\n",
       " 'Gandhimathi - Doctor Siva - Pandari Bai - Mother - Ivy Ling Po - Sha ji - Chung-Hsin Huang - Die wang jiao wa - Pei-Pei Cheng - The Gods Must Be Funny in China - N!xau',\n",
       " 'Gandhimathi - Iravum Pagalum - Pandari Bai - Mother - Ivy Ling Po - Sha ji - Chung-Hsin Huang - Die wang jiao wa - Pei-Pei Cheng - The Gods Must Be Funny in China - N!xau',\n",
       " 'Gandhimathi - Thavaputhalvan - Pandari Bai - Mother - Ivy Ling Po - The Perfumed Arrow - Tina Chin-Fei - Die wang jiao wa - Pei-Pei Cheng - The Gods Must Be Funny in China - N!xau',\n",
       " 'Gandhimathi - Doctor Siva - Pandari Bai - Mother - Ivy Ling Po - The Perfumed Arrow - Tina Chin-Fei - Die wang jiao wa - Pei-Pei Cheng - The Gods Must Be Funny in China - N!xau',\n",
       " 'Gandhimathi - Iravum Pagalum - Pandari Bai - Mother - Ivy Ling Po - The Perfumed Arrow - Tina Chin-Fei - Die wang jiao wa - Pei-Pei Cheng - The Gods Must Be Funny in China - N!xau',\n",
       " 'Gandhimathi - Thavaputhalvan - Pandari Bai - Mother - Ivy Ling Po - Bu shi yuan jia bu ju tou - Peter Chen Hou - Yan yang tian - Pei-Pei Cheng - The Gods Must Be Funny in China - N!xau',\n",
       " 'Gandhimathi - Doctor Siva - Pandari Bai - Mother - Ivy Ling Po - Bu shi yuan jia bu ju tou - Peter Chen Hou - Yan yang tian - Pei-Pei Cheng - The Gods Must Be Funny in China - N!xau',\n",
       " 'Gandhimathi - Iravum Pagalum - Pandari Bai - Mother - Ivy Ling Po - Bu shi yuan jia bu ju tou - Peter Chen Hou - Yan yang tian - Pei-Pei Cheng - The Gods Must Be Funny in China - N!xau',\n",
       " 'Gandhimathi - Thavaputhalvan - Pandari Bai - Mother - Ivy Ling Po - Bu shi yuan jia bu ju tou - Pat Ting Hung - Princess Iron Fan - Pei-Pei Cheng - The Gods Must Be Funny in China - N!xau',\n",
       " 'Gandhimathi - Doctor Siva - Pandari Bai - Mother - Ivy Ling Po - Bu shi yuan jia bu ju tou - Pat Ting Hung - Princess Iron Fan - Pei-Pei Cheng - The Gods Must Be Funny in China - N!xau',\n",
       " 'Gandhimathi - Iravum Pagalum - Pandari Bai - Mother - Ivy Ling Po - Bu shi yuan jia bu ju tou - Pat Ting Hung - Princess Iron Fan - Pei-Pei Cheng - The Gods Must Be Funny in China - N!xau',\n",
       " 'Gandhimathi - Thavaputhalvan - Pandari Bai - Mother - Ivy Ling Po - The Perfumed Arrow - Fan Ho - Princess Iron Fan - Pei-Pei Cheng - The Gods Must Be Funny in China - N!xau',\n",
       " 'Gandhimathi - Doctor Siva - Pandari Bai - Mother - Ivy Ling Po - The Perfumed Arrow - Fan Ho - Princess Iron Fan - Pei-Pei Cheng - The Gods Must Be Funny in China - N!xau',\n",
       " 'Gandhimathi - Iravum Pagalum - Pandari Bai - Mother - Ivy Ling Po - The Perfumed Arrow - Fan Ho - Princess Iron Fan - Pei-Pei Cheng - The Gods Must Be Funny in China - N!xau',\n",
       " 'Gandhimathi - Thavaputhalvan - Pandari Bai - Mother - Ivy Ling Po - Luo xie - Yuen Kao - The Golden Sword - Pei-Pei Cheng - The Gods Must Be Funny in China - N!xau',\n",
       " 'Gandhimathi - Doctor Siva - Pandari Bai - Mother - Ivy Ling Po - Luo xie - Yuen Kao - The Golden Sword - Pei-Pei Cheng - The Gods Must Be Funny in China - N!xau',\n",
       " 'Gandhimathi - Iravum Pagalum - Pandari Bai - Mother - Ivy Ling Po - Luo xie - Yuen Kao - The Golden Sword - Pei-Pei Cheng - The Gods Must Be Funny in China - N!xau',\n",
       " 'Gandhimathi - Pathinaru Vayathinile - Rajinikanth - Kabali - Winston Chao - I Want to Go on Living - Sylvia Chang - He Lives by Night - Kent Cheng - The Gods Must Be Funny in China - N!xau',\n",
       " 'Gandhimathi - Thavaputhalvan - Pandari Bai - Mother - Ivy Ling Po - The Imperious Princess - Sylvia Chang - He Lives by Night - Kent Cheng - The Gods Must Be Funny in China - N!xau',\n",
       " 'Gandhimathi - Doctor Siva - Pandari Bai - Mother - Ivy Ling Po - The Imperious Princess - Sylvia Chang - He Lives by Night - Kent Cheng - The Gods Must Be Funny in China - N!xau',\n",
       " 'Gandhimathi - Iravum Pagalum - Pandari Bai - Mother - Ivy Ling Po - The Imperious Princess - Sylvia Chang - He Lives by Night - Kent Cheng - The Gods Must Be Funny in China - N!xau',\n",
       " 'Gandhimathi - Pathinaru Vayathinile - Rajinikanth - Kabali - Winston Chao - Thunder Cop - Carrie Ng - Sentenced to Hang - Kent Cheng - The Gods Must Be Funny in China - N!xau',\n",
       " 'Gandhimathi - Pathinaru Vayathinile - Rajinikanth - Kabali - Winston Chao - Destination: 9th Heaven - Tony Ka Fai Leung - Sentenced to Hang - Kent Cheng - The Gods Must Be Funny in China - N!xau',\n",
       " 'Gandhimathi - Pathinaru Vayathinile - Rajinikanth - Kabali - Winston Chao - Thunder Cop - Carrie Ng - Jing cha pa shou liang jia qin - Kent Cheng - The Gods Must Be Funny in China - N!xau',\n",
       " 'Gandhimathi - Pathinaru Vayathinile - Rajinikanth - Kabali - Winston Chao - Thunder Cop - Carrie Ng - Gao bie zi jin cheng - Kent Cheng - The Gods Must Be Funny in China - N!xau',\n",
       " 'Gandhimathi - Pathinaru Vayathinile - Rajinikanth - Kabali - Winston Chao - The Soong Sisters - Maggie Cheung - The Beloved Son of God - Kent Cheng - The Gods Must Be Funny in China - N!xau',\n",
       " 'Gandhimathi - Pathinaru Vayathinile - Rajinikanth - Kabali - Winston Chao - The Soong Sisters - Michelle Yeoh - Easy Money - Kent Cheng - The Gods Must Be Funny in China - N!xau',\n",
       " 'Gandhimathi - Pathinaru Vayathinile - Rajinikanth - Kabali - Winston Chao - The Soong Sisters - Michelle Yeoh - Wonder Seven - Kent Cheng - The Gods Must Be Funny in China - N!xau',\n",
       " 'Gandhimathi - Pathinaru Vayathinile - Rajinikanth - Kabali - Winston Chao - Destination: 9th Heaven - Gigi Lai - Spiritual Trinity - Kent Cheng - The Gods Must Be Funny in China - N!xau',\n",
       " 'Gandhimathi - Pathinaru Vayathinile - Rajinikanth - Kabali - Winston Chao - Destination: 9th Heaven - Gigi Lai - Body Puzzle - Kent Cheng - The Gods Must Be Funny in China - N!xau',\n",
       " 'Gandhimathi - Pathinaru Vayathinile - Rajinikanth - Kabali - Winston Chao - Destination: 9th Heaven - Christine Ng - Crime Story - Kent Cheng - The Gods Must Be Funny in China - N!xau',\n",
       " 'Gandhimathi - Pathinaru Vayathinile - Rajinikanth - Kabali - Winston Chao - 1911 - Jackie Chan - Crime Story - Kent Cheng - The Gods Must Be Funny in China - N!xau',\n",
       " 'Gandhimathi - Man Vasanai - Revathi - Loafer - Disha Patani - Kung Fu Yoga - Jackie Chan - Crime Story - Kent Cheng - The Gods Must Be Funny in China - N!xau',\n",
       " 'Gandhimathi - Pathinaru Vayathinile - Rajinikanth - Kabali - Winston Chao - Destination: 9th Heaven - Christine Ng - Zha dan qing ren - Kent Cheng - The Gods Must Be Funny in China - N!xau',\n",
       " 'Gandhimathi - Pathinaru Vayathinile - Rajinikanth - Kabali - Winston Chao - Xiu Xiu - Li Yu - Hero of Hong Kong 1949 - Kent Cheng - The Gods Must Be Funny in China - N!xau',\n",
       " 'Gandhimathi - Pathinaru Vayathinile - Rajinikanth - Kabali - Winston Chao - 1911 - Jackie Chan - All U Need Is Love - Kent Cheng - The Gods Must Be Funny in China - N!xau',\n",
       " 'Gandhimathi - Man Vasanai - Revathi - Loafer - Disha Patani - Kung Fu Yoga - Jackie Chan - All U Need Is Love - Kent Cheng - The Gods Must Be Funny in China - N!xau',\n",
       " \"Gandhimathi - Pathinaru Vayathinile - Rajinikanth - Kabali - Winston Chao - Xiang fei: Ao kong shen ying - Chien-Lien Wu - Beginner's Luck - Kent Cheng - The Gods Must Be Funny in China - N!xau\",\n",
       " 'Gandhimathi - Thavaputhalvan - Pandari Bai - Mother - Ivy Ling Po - Huo bing - Lieh Lo - Mo deng shen tan - Kent Cheng - The Gods Must Be Funny in China - N!xau',\n",
       " 'Gandhimathi - Doctor Siva - Pandari Bai - Mother - Ivy Ling Po - Huo bing - Lieh Lo - Mo deng shen tan - Kent Cheng - The Gods Must Be Funny in China - N!xau',\n",
       " 'Gandhimathi - Iravum Pagalum - Pandari Bai - Mother - Ivy Ling Po - Huo bing - Lieh Lo - Mo deng shen tan - Kent Cheng - The Gods Must Be Funny in China - N!xau',\n",
       " 'Gandhimathi - Thavaputhalvan - Pandari Bai - Mother - Ivy Ling Po - Zheng He xia xi yang - Lieh Lo - Mo deng shen tan - Kent Cheng - The Gods Must Be Funny in China - N!xau',\n",
       " 'Gandhimathi - Doctor Siva - Pandari Bai - Mother - Ivy Ling Po - Zheng He xia xi yang - Lieh Lo - Mo deng shen tan - Kent Cheng - The Gods Must Be Funny in China - N!xau',\n",
       " 'Gandhimathi - Iravum Pagalum - Pandari Bai - Mother - Ivy Ling Po - Zheng He xia xi yang - Lieh Lo - Mo deng shen tan - Kent Cheng - The Gods Must Be Funny in China - N!xau',\n",
       " 'Gandhimathi - Thavaputhalvan - Pandari Bai - Mother - Ivy Ling Po - Qing guo qing cheng - Lung Ti - Lo foo chut gaam - Kent Cheng - The Gods Must Be Funny in China - N!xau',\n",
       " 'Gandhimathi - Doctor Siva - Pandari Bai - Mother - Ivy Ling Po - Qing guo qing cheng - Lung Ti - Lo foo chut gaam - Kent Cheng - The Gods Must Be Funny in China - N!xau',\n",
       " 'Gandhimathi - Iravum Pagalum - Pandari Bai - Mother - Ivy Ling Po - Qing guo qing cheng - Lung Ti - Lo foo chut gaam - Kent Cheng - The Gods Must Be Funny in China - N!xau',\n",
       " 'Gandhimathi - Thavaputhalvan - Pandari Bai - Mother - Ivy Ling Po - Jin yan zi - Cherie Chung - Carry on Hotel - Kent Cheng - The Gods Must Be Funny in China - N!xau',\n",
       " 'Gandhimathi - Doctor Siva - Pandari Bai - Mother - Ivy Ling Po - Jin yan zi - Cherie Chung - Carry on Hotel - Kent Cheng - The Gods Must Be Funny in China - N!xau',\n",
       " 'Gandhimathi - Iravum Pagalum - Pandari Bai - Mother - Ivy Ling Po - Jin yan zi - Cherie Chung - Carry on Hotel - Kent Cheng - The Gods Must Be Funny in China - N!xau',\n",
       " 'Gandhimathi - Thavaputhalvan - Pandari Bai - Mother - Ivy Ling Po - Jin yan zi - Cherie Chung - Walk on Fire - Kent Cheng - The Gods Must Be Funny in China - N!xau',\n",
       " 'Gandhimathi - Doctor Siva - Pandari Bai - Mother - Ivy Ling Po - Jin yan zi - Cherie Chung - Walk on Fire - Kent Cheng - The Gods Must Be Funny in China - N!xau',\n",
       " 'Gandhimathi - Iravum Pagalum - Pandari Bai - Mother - Ivy Ling Po - Jin yan zi - Cherie Chung - Walk on Fire - Kent Cheng - The Gods Must Be Funny in China - N!xau',\n",
       " 'Gandhimathi - Thavaputhalvan - Pandari Bai - Mother - Ivy Ling Po - Jin yan zi - Cherie Chung - The Good, the Bad & the Beauty - Kent Cheng - The Gods Must Be Funny in China - N!xau',\n",
       " 'Gandhimathi - Doctor Siva - Pandari Bai - Mother - Ivy Ling Po - Jin yan zi - Cherie Chung - The Good, the Bad & the Beauty - Kent Cheng - The Gods Must Be Funny in China - N!xau',\n",
       " 'Gandhimathi - Iravum Pagalum - Pandari Bai - Mother - Ivy Ling Po - Jin yan zi - Cherie Chung - The Good, the Bad & the Beauty - Kent Cheng - The Gods Must Be Funny in China - N!xau',\n",
       " 'Gandhimathi - Thavaputhalvan - Pandari Bai - Mother - Ivy Ling Po - Jin yan zi - Norman Chu - Chi qing kuai xu - Kent Cheng - The Gods Must Be Funny in China - N!xau',\n",
       " 'Gandhimathi - Doctor Siva - Pandari Bai - Mother - Ivy Ling Po - Jin yan zi - Norman Chu - Chi qing kuai xu - Kent Cheng - The Gods Must Be Funny in China - N!xau',\n",
       " 'Gandhimathi - Iravum Pagalum - Pandari Bai - Mother - Ivy Ling Po - Jin yan zi - Norman Chu - Chi qing kuai xu - Kent Cheng - The Gods Must Be Funny in China - N!xau',\n",
       " 'Gandhimathi - Thavaputhalvan - Pandari Bai - Mother - Ivy Ling Po - Jin yan zi - Norman Chu - Wu ting - Kent Cheng - The Gods Must Be Funny in China - N!xau',\n",
       " 'Gandhimathi - Doctor Siva - Pandari Bai - Mother - Ivy Ling Po - Jin yan zi - Norman Chu - Wu ting - Kent Cheng - The Gods Must Be Funny in China - N!xau',\n",
       " 'Gandhimathi - Iravum Pagalum - Pandari Bai - Mother - Ivy Ling Po - Jin yan zi - Norman Chu - Wu ting - Kent Cheng - The Gods Must Be Funny in China - N!xau',\n",
       " 'Gandhimathi - Thavaputhalvan - Pandari Bai - Mother - Ivy Ling Po - Ming ri zhi ge - Lau Chan - Sha tan chu geng - Kent Cheng - The Gods Must Be Funny in China - N!xau',\n",
       " 'Gandhimathi - Doctor Siva - Pandari Bai - Mother - Ivy Ling Po - Ming ri zhi ge - Lau Chan - Sha tan chu geng - Kent Cheng - The Gods Must Be Funny in China - N!xau',\n",
       " 'Gandhimathi - Iravum Pagalum - Pandari Bai - Mother - Ivy Ling Po - Ming ri zhi ge - Lau Chan - Sha tan chu geng - Kent Cheng - The Gods Must Be Funny in China - N!xau',\n",
       " 'Gandhimathi - Thavaputhalvan - Pandari Bai - Mother - Ivy Ling Po - Sha ji - Chiao Chiao - Why Me? - Kent Cheng - The Gods Must Be Funny in China - N!xau',\n",
       " 'Gandhimathi - Doctor Siva - Pandari Bai - Mother - Ivy Ling Po - Sha ji - Chiao Chiao - Why Me? - Kent Cheng - The Gods Must Be Funny in China - N!xau',\n",
       " 'Gandhimathi - Iravum Pagalum - Pandari Bai - Mother - Ivy Ling Po - Sha ji - Chiao Chiao - Why Me? - Kent Cheng - The Gods Must Be Funny in China - N!xau',\n",
       " 'Gandhimathi - Thavaputhalvan - Pandari Bai - Mother - Ivy Ling Po - Flight Man - Fu-Hsiung Cheng - The Trail - Kent Cheng - The Gods Must Be Funny in China - N!xau',\n",
       " 'Gandhimathi - Doctor Siva - Pandari Bai - Mother - Ivy Ling Po - Flight Man - Fu-Hsiung Cheng - The Trail - Kent Cheng - The Gods Must Be Funny in China - N!xau',\n",
       " 'Gandhimathi - Iravum Pagalum - Pandari Bai - Mother - Ivy Ling Po - Flight Man - Fu-Hsiung Cheng - The Trail - Kent Cheng - The Gods Must Be Funny in China - N!xau',\n",
       " 'Gandhimathi - Thavaputhalvan - Pandari Bai - Mother - Ivy Ling Po - Ai xin jian wan wan - Danny Lee - Powerful Four - Kent Cheng - The Gods Must Be Funny in China - N!xau',\n",
       " 'Gandhimathi - Doctor Siva - Pandari Bai - Mother - Ivy Ling Po - Ai xin jian wan wan - Danny Lee - Powerful Four - Kent Cheng - The Gods Must Be Funny in China - N!xau',\n",
       " 'Gandhimathi - Iravum Pagalum - Pandari Bai - Mother - Ivy Ling Po - Ai xin jian wan wan - Danny Lee - Powerful Four - Kent Cheng - The Gods Must Be Funny in China - N!xau',\n",
       " 'Gandhimathi - Thavaputhalvan - Pandari Bai - Mother - Ivy Ling Po - Ai xin jian wan wan - Danny Lee - Dr. Lamb - Kent Cheng - The Gods Must Be Funny in China - N!xau',\n",
       " 'Gandhimathi - Doctor Siva - Pandari Bai - Mother - Ivy Ling Po - Ai xin jian wan wan - Danny Lee - Dr. Lamb - Kent Cheng - The Gods Must Be Funny in China - N!xau',\n",
       " 'Gandhimathi - Iravum Pagalum - Pandari Bai - Mother - Ivy Ling Po - Ai xin jian wan wan - Danny Lee - Dr. Lamb - Kent Cheng - The Gods Must Be Funny in China - N!xau',\n",
       " 'Gandhimathi - Thavaputhalvan - Pandari Bai - Mother - Ivy Ling Po - Ai xin jian wan wan - Danny Lee - Run and Kill - Kent Cheng - The Gods Must Be Funny in China - N!xau',\n",
       " 'Gandhimathi - Doctor Siva - Pandari Bai - Mother - Ivy Ling Po - Ai xin jian wan wan - Danny Lee - Run and Kill - Kent Cheng - The Gods Must Be Funny in China - N!xau',\n",
       " 'Gandhimathi - Iravum Pagalum - Pandari Bai - Mother - Ivy Ling Po - Ai xin jian wan wan - Danny Lee - Run and Kill - Kent Cheng - The Gods Must Be Funny in China - N!xau',\n",
       " 'Gandhimathi - Thavaputhalvan - Pandari Bai - Mother - Ivy Ling Po - Ai xin jian wan wan - Danny Lee - Chai sin - Kent Cheng - The Gods Must Be Funny in China - N!xau',\n",
       " 'Gandhimathi - Doctor Siva - Pandari Bai - Mother - Ivy Ling Po - Ai xin jian wan wan - Danny Lee - Chai sin - Kent Cheng - The Gods Must Be Funny in China - N!xau',\n",
       " 'Gandhimathi - Iravum Pagalum - Pandari Bai - Mother - Ivy Ling Po - Ai xin jian wan wan - Danny Lee - Chai sin - Kent Cheng - The Gods Must Be Funny in China - N!xau',\n",
       " 'Gandhimathi - Pathinaru Vayathinile - Rajinikanth - Kabali - Winston Chao - I Want to Go on Living - Anita Yuen - Legend of the Liquid Sword - Gloria Yip - The Gods Must Be Funny in China - N!xau',\n",
       " 'Gandhimathi - Pathinaru Vayathinile - Rajinikanth - Kabali - Winston Chao - Thunder Cop - Carrie Ng - Misty - Gloria Yip - The Gods Must Be Funny in China - N!xau',\n",
       " 'Gandhimathi - Pathinaru Vayathinile - Rajinikanth - Kabali - Winston Chao - Destination: 9th Heaven - Tony Ka Fai Leung - Misty - Gloria Yip - The Gods Must Be Funny in China - N!xau',\n",
       " 'Gandhimathi - Pathinaru Vayathinile - Rajinikanth - Kabali - Winston Chao - The Soong Sisters - Maggie Cheung - Flying Dagger - Gloria Yip - The Gods Must Be Funny in China - N!xau',\n",
       " 'Gandhimathi - Pathinaru Vayathinile - Rajinikanth - Kabali - Winston Chao - Destination: 9th Heaven - Tony Ka Fai Leung - Flying Dagger - Gloria Yip - The Gods Must Be Funny in China - N!xau',\n",
       " 'Gandhimathi - Pathinaru Vayathinile - Rajinikanth - Kabali - Winston Chao - Destination: 9th Heaven - Christine Ng - The Cat - Gloria Yip - The Gods Must Be Funny in China - N!xau',\n",
       " 'Gandhimathi - Pathinaru Vayathinile - Sridevi - Jaag Utha Insan - Mithun Chakraborty - CC2C - Chia-Hui Liu - Shaolin Warrior - Lung Chan - Crazy Safari - N!xau',\n",
       " 'Gandhimathi - Pathinaru Vayathinile - Sridevi - Watan Ke Rakhwale - Mithun Chakraborty - CC2C - Chia-Hui Liu - Shaolin Warrior - Lung Chan - Crazy Safari - N!xau',\n",
       " 'Gandhimathi - Pathinaru Vayathinile - Sridevi - Guru - Mithun Chakraborty - CC2C - Chia-Hui Liu - Shaolin Warrior - Lung Chan - Crazy Safari - N!xau',\n",
       " 'Gandhimathi - Pathinaru Vayathinile - Rajinikanth - Krantikari - Mithun Chakraborty - CC2C - Chia-Hui Liu - Shaolin Warrior - Lung Chan - Crazy Safari - N!xau',\n",
       " 'Gandhimathi - Anbu Thollai - Ravali - Mard - Mithun Chakraborty - CC2C - Chia-Hui Liu - Shaolin Warrior - Lung Chan - Crazy Safari - N!xau',\n",
       " 'Gandhimathi - Pathinaru Vayathinile - Sridevi - Meri Biwi Ka Jawab Nahin - Akshay Kumar - CC2C - Chia-Hui Liu - Shaolin Warrior - Lung Chan - Crazy Safari - N!xau',\n",
       " 'Gandhimathi - Pathinaru Vayathinile - Rajinikanth - 2.0 - Akshay Kumar - CC2C - Chia-Hui Liu - Shaolin Warrior - Lung Chan - Crazy Safari - N!xau',\n",
       " 'Gandhimathi - Dasarathan - Heera Rajgopal - Amaanat - Akshay Kumar - CC2C - Chia-Hui Liu - Shaolin Warrior - Lung Chan - Crazy Safari - N!xau',\n",
       " 'Gandhimathi - Sundara Pandian 1998 - Heera Rajgopal - Amaanat - Akshay Kumar - CC2C - Chia-Hui Liu - Shaolin Warrior - Lung Chan - Crazy Safari - N!xau',\n",
       " 'Gandhimathi - Pathinaru Vayathinile - Rajinikanth - Kochadaiiyaan - Deepika Padukone - CC2C - Chia-Hui Liu - Shaolin Warrior - Lung Chan - Crazy Safari - N!xau',\n",
       " 'Gandhimathi - Dasarathan - Sarath Kumar - Kochadaiiyaan - Deepika Padukone - CC2C - Chia-Hui Liu - Shaolin Warrior - Lung Chan - Crazy Safari - N!xau',\n",
       " 'Gandhimathi - Pathinaru Vayathinile - Rajinikanth - Kabali - Winston Chao - Destination: 9th Heaven - Gigi Lai - Spiritual Trinity - Lung Chan - Crazy Safari - N!xau',\n",
       " 'Gandhimathi - Pathinaru Vayathinile - Rajinikanth - Kabali - Winston Chao - Burning Harbor - Irene Wan - Armageddon - Lung Chan - Crazy Safari - N!xau',\n",
       " 'Gandhimathi - Thavaputhalvan - Pandari Bai - Mother - Ivy Ling Po - Jin yan zi - Norman Chu - Armageddon - Lung Chan - Crazy Safari - N!xau',\n",
       " 'Gandhimathi - Doctor Siva - Pandari Bai - Mother - Ivy Ling Po - Jin yan zi - Norman Chu - Armageddon - Lung Chan - Crazy Safari - N!xau',\n",
       " 'Gandhimathi - Iravum Pagalum - Pandari Bai - Mother - Ivy Ling Po - Jin yan zi - Norman Chu - Armageddon - Lung Chan - Crazy Safari - N!xau',\n",
       " 'Gandhimathi - Thavaputhalvan - Pandari Bai - Mother - Ivy Ling Po - Huo bing - Lieh Lo - Hei dai kong shou dao - Lung Chan - Crazy Safari - N!xau',\n",
       " 'Gandhimathi - Doctor Siva - Pandari Bai - Mother - Ivy Ling Po - Huo bing - Lieh Lo - Hei dai kong shou dao - Lung Chan - Crazy Safari - N!xau',\n",
       " 'Gandhimathi - Iravum Pagalum - Pandari Bai - Mother - Ivy Ling Po - Huo bing - Lieh Lo - Hei dai kong shou dao - Lung Chan - Crazy Safari - N!xau',\n",
       " 'Gandhimathi - Thavaputhalvan - Pandari Bai - Mother - Ivy Ling Po - Zheng He xia xi yang - Lieh Lo - Hei dai kong shou dao - Lung Chan - Crazy Safari - N!xau',\n",
       " 'Gandhimathi - Doctor Siva - Pandari Bai - Mother - Ivy Ling Po - Zheng He xia xi yang - Lieh Lo - Hei dai kong shou dao - Lung Chan - Crazy Safari - N!xau',\n",
       " 'Gandhimathi - Iravum Pagalum - Pandari Bai - Mother - Ivy Ling Po - Zheng He xia xi yang - Lieh Lo - Hei dai kong shou dao - Lung Chan - Crazy Safari - N!xau',\n",
       " 'Gandhimathi - Thavaputhalvan - Pandari Bai - Mother - Ivy Ling Po - Qing guo qing cheng - Lung Ti - The Avenging Eagle - Lung Chan - Crazy Safari - N!xau',\n",
       " 'Gandhimathi - Doctor Siva - Pandari Bai - Mother - Ivy Ling Po - Qing guo qing cheng - Lung Ti - The Avenging Eagle - Lung Chan - Crazy Safari - N!xau',\n",
       " 'Gandhimathi - Iravum Pagalum - Pandari Bai - Mother - Ivy Ling Po - Qing guo qing cheng - Lung Ti - The Avenging Eagle - Lung Chan - Crazy Safari - N!xau',\n",
       " 'Gandhimathi - Thavaputhalvan - Pandari Bai - Mother - Ivy Ling Po - Qing guo qing cheng - David Chiang - Strife for Mastery - Lung Chan - Crazy Safari - N!xau',\n",
       " 'Gandhimathi - Doctor Siva - Pandari Bai - Mother - Ivy Ling Po - Qing guo qing cheng - David Chiang - Strife for Mastery - Lung Chan - Crazy Safari - N!xau',\n",
       " 'Gandhimathi - Iravum Pagalum - Pandari Bai - Mother - Ivy Ling Po - Qing guo qing cheng - David Chiang - Strife for Mastery - Lung Chan - Crazy Safari - N!xau',\n",
       " 'Gandhimathi - Thavaputhalvan - Pandari Bai - Mother - Ivy Ling Po - Wan gu liu fang - Hsi Chang - The Buddhist Fist - Lung Chan - Crazy Safari - N!xau',\n",
       " 'Gandhimathi - Doctor Siva - Pandari Bai - Mother - Ivy Ling Po - Wan gu liu fang - Hsi Chang - The Buddhist Fist - Lung Chan - Crazy Safari - N!xau',\n",
       " 'Gandhimathi - Iravum Pagalum - Pandari Bai - Mother - Ivy Ling Po - Wan gu liu fang - Hsi Chang - The Buddhist Fist - Lung Chan - Crazy Safari - N!xau',\n",
       " 'Gandhimathi - Thavaputhalvan - Pandari Bai - Mother - Ivy Ling Po - Wan gu liu fang - Hsi Chang - An Old Kung Fu Master - Lung Chan - Crazy Safari - N!xau',\n",
       " 'Gandhimathi - Doctor Siva - Pandari Bai - Mother - Ivy Ling Po - Wan gu liu fang - Hsi Chang - An Old Kung Fu Master - Lung Chan - Crazy Safari - N!xau',\n",
       " 'Gandhimathi - Iravum Pagalum - Pandari Bai - Mother - Ivy Ling Po - Wan gu liu fang - Hsi Chang - An Old Kung Fu Master - Lung Chan - Crazy Safari - N!xau',\n",
       " 'Gandhimathi - Thavaputhalvan - Pandari Bai - Mother - Ivy Ling Po - Flight Man - Jung Wang - Tu hu ling - Lung Chan - Crazy Safari - N!xau',\n",
       " 'Gandhimathi - Doctor Siva - Pandari Bai - Mother - Ivy Ling Po - Flight Man - Jung Wang - Tu hu ling - Lung Chan - Crazy Safari - N!xau',\n",
       " 'Gandhimathi - Iravum Pagalum - Pandari Bai - Mother - Ivy Ling Po - Flight Man - Jung Wang - Tu hu ling - Lung Chan - Crazy Safari - N!xau',\n",
       " 'Gandhimathi - Thavaputhalvan - Pandari Bai - Mother - Ivy Ling Po - Jin Feng gu niang - Po Chin - Nu wang feng fu qiao - Lung Chan - Crazy Safari - N!xau',\n",
       " 'Gandhimathi - Doctor Siva - Pandari Bai - Mother - Ivy Ling Po - Jin Feng gu niang - Po Chin - Nu wang feng fu qiao - Lung Chan - Crazy Safari - N!xau',\n",
       " 'Gandhimathi - Iravum Pagalum - Pandari Bai - Mother - Ivy Ling Po - Jin Feng gu niang - Po Chin - Nu wang feng fu qiao - Lung Chan - Crazy Safari - N!xau',\n",
       " 'Gandhimathi - Thavaputhalvan - Pandari Bai - Mother - Ivy Ling Po - Wang ge Liu ge - Po Chin - Nu wang feng fu qiao - Lung Chan - Crazy Safari - N!xau',\n",
       " 'Gandhimathi - Doctor Siva - Pandari Bai - Mother - Ivy Ling Po - Wang ge Liu ge - Po Chin - Nu wang feng fu qiao - Lung Chan - Crazy Safari - N!xau',\n",
       " 'Gandhimathi - Iravum Pagalum - Pandari Bai - Mother - Ivy Ling Po - Wang ge Liu ge - Po Chin - Nu wang feng fu qiao - Lung Chan - Crazy Safari - N!xau',\n",
       " 'Gandhimathi - Thavaputhalvan - Pandari Bai - Mother - Ivy Ling Po - Zheng He xia xi yang - Pin Chiang - Yi qi bo yi qi - Lung Chan - Crazy Safari - N!xau',\n",
       " 'Gandhimathi - Doctor Siva - Pandari Bai - Mother - Ivy Ling Po - Zheng He xia xi yang - Pin Chiang - Yi qi bo yi qi - Lung Chan - Crazy Safari - N!xau',\n",
       " 'Gandhimathi - Iravum Pagalum - Pandari Bai - Mother - Ivy Ling Po - Zheng He xia xi yang - Pin Chiang - Yi qi bo yi qi - Lung Chan - Crazy Safari - N!xau',\n",
       " 'Gandhimathi - Thavaputhalvan - Pandari Bai - Mother - Ivy Ling Po - A Fairy to the World - Yu-Li Lan - Yu mian zhi zhu - Lung Chan - Crazy Safari - N!xau',\n",
       " 'Gandhimathi - Doctor Siva - Pandari Bai - Mother - Ivy Ling Po - A Fairy to the World - Yu-Li Lan - Yu mian zhi zhu - Lung Chan - Crazy Safari - N!xau',\n",
       " 'Gandhimathi - Iravum Pagalum - Pandari Bai - Mother - Ivy Ling Po - A Fairy to the World - Yu-Li Lan - Yu mian zhi zhu - Lung Chan - Crazy Safari - N!xau',\n",
       " 'Gandhimathi - Pathinaru Vayathinile - Rajinikanth - Kabali - Winston Chao - Thunder Cop - Carrie Ng - The Ultimate Vampire - Ching-Ying Lam - Crazy Safari - N!xau',\n",
       " 'Gandhimathi - Pathinaru Vayathinile - Rajinikanth - Kabali - Winston Chao - Destination: 9th Heaven - Gigi Lai - Spiritual Trinity - Ching-Ying Lam - Crazy Safari - N!xau',\n",
       " 'Gandhimathi - Pathinaru Vayathinile - Rajinikanth - Kabali - Winston Chao - Destination: 9th Heaven - Tony Ka Fai Leung - Gui gan bu - Ching-Ying Lam - Crazy Safari - N!xau',\n",
       " 'Gandhimathi - Thavaputhalvan - Pandari Bai - Mother - Ivy Ling Po - Jin yan zi - Cherie Chung - The Dead and the Deadly - Ching-Ying Lam - Crazy Safari - N!xau',\n",
       " 'Gandhimathi - Doctor Siva - Pandari Bai - Mother - Ivy Ling Po - Jin yan zi - Cherie Chung - The Dead and the Deadly - Ching-Ying Lam - Crazy Safari - N!xau',\n",
       " 'Gandhimathi - Iravum Pagalum - Pandari Bai - Mother - Ivy Ling Po - Jin yan zi - Cherie Chung - The Dead and the Deadly - Ching-Ying Lam - Crazy Safari - N!xau',\n",
       " 'Gandhimathi - Pathinaru Vayathinile - Rajinikanth - Kabali - Winston Chao - The Wedding Banquet - Ah-Lei Gua - Intimates - Carina Lau - Crazy Hong Kong - N!xau',\n",
       " 'Gandhimathi - Pathinaru Vayathinile - Rajinikanth - Kabali - Winston Chao - Tonight Nobody Goes Home - Ah-Lei Gua - Intimates - Carina Lau - Crazy Hong Kong - N!xau',\n",
       " 'Gandhimathi - Pathinaru Vayathinile - Rajinikanth - Kabali - Winston Chao - Red Rose White Rose - Veronica Yip - Rose Rose I Love You - Carina Lau - Crazy Hong Kong - N!xau',\n",
       " 'Gandhimathi - Pathinaru Vayathinile - Rajinikanth - Kabali - Winston Chao - Destination: 9th Heaven - Tony Ka Fai Leung - Rose Rose I Love You - Carina Lau - Crazy Hong Kong - N!xau',\n",
       " \"Gandhimathi - Pathinaru Vayathinile - Rajinikanth - Kabali - Winston Chao - I Want to Go on Living - Anita Yuen - He Ain't Heavy... He's My Father - Carina Lau - Crazy Hong Kong - N!xau\",\n",
       " \"Gandhimathi - Pathinaru Vayathinile - Rajinikanth - Kabali - Winston Chao - Destination: 9th Heaven - Tony Ka Fai Leung - He Ain't Heavy... He's My Father - Carina Lau - Crazy Hong Kong - N!xau\",\n",
       " \"Gandhimathi - Pathinaru Vayathinile - Rajinikanth - Kabali - Winston Chao - I Want to Go on Living - Anita Yuen - He's a Woman, She's a Man - Carina Lau - Crazy Hong Kong - N!xau\",\n",
       " \"Gandhimathi - Pathinaru Vayathinile - Rajinikanth - Kabali - Winston Chao - I Want to Go on Living - Anita Yuen - C'est la vie, mon chéri - Carina Lau - Crazy Hong Kong - N!xau\",\n",
       " \"Gandhimathi - Thavaputhalvan - Pandari Bai - Mother - Ivy Ling Po - Temple of the Red Lotus - Bo-Bo Fung - C'est la vie, mon chéri - Carina Lau - Crazy Hong Kong - N!xau\",\n",
       " \"Gandhimathi - Doctor Siva - Pandari Bai - Mother - Ivy Ling Po - Temple of the Red Lotus - Bo-Bo Fung - C'est la vie, mon chéri - Carina Lau - Crazy Hong Kong - N!xau\",\n",
       " \"Gandhimathi - Iravum Pagalum - Pandari Bai - Mother - Ivy Ling Po - Temple of the Red Lotus - Bo-Bo Fung - C'est la vie, mon chéri - Carina Lau - Crazy Hong Kong - N!xau\",\n",
       " 'Gandhimathi - Pathinaru Vayathinile - Rajinikanth - Kabali - Winston Chao - Thunder Cop - Carrie Ng - Gu huo da lu shi - Carina Lau - Crazy Hong Kong - N!xau',\n",
       " 'Gandhimathi - Pathinaru Vayathinile - Rajinikanth - Kabali - Winston Chao - Destination: 9th Heaven - Tony Ka Fai Leung - Gu huo da lu shi - Carina Lau - Crazy Hong Kong - N!xau',\n",
       " 'Gandhimathi - Pathinaru Vayathinile - Rajinikanth - Kabali - Winston Chao - The Soong Sisters - Maggie Cheung - Project A 2 - Carina Lau - Crazy Hong Kong - N!xau',\n",
       " 'Gandhimathi - Pathinaru Vayathinile - Rajinikanth - Kabali - Winston Chao - 1911 - Jackie Chan - Project A 2 - Carina Lau - Crazy Hong Kong - N!xau',\n",
       " 'Gandhimathi - Man Vasanai - Revathi - Loafer - Disha Patani - Kung Fu Yoga - Jackie Chan - Project A 2 - Carina Lau - Crazy Hong Kong - N!xau',\n",
       " 'Gandhimathi - Pathinaru Vayathinile - Rajinikanth - Kabali - Winston Chao - The Soong Sisters - Maggie Cheung - Days of Being Wild - Carina Lau - Crazy Hong Kong - N!xau',\n",
       " 'Gandhimathi - Pathinaru Vayathinile - Rajinikanth - Kabali - Winston Chao - The Soong Sisters - Maggie Cheung - Center Stage - Carina Lau - Crazy Hong Kong - N!xau',\n",
       " 'Gandhimathi - Pathinaru Vayathinile - Rajinikanth - Kabali - Winston Chao - Destination: 9th Heaven - Tony Ka Fai Leung - Center Stage - Carina Lau - Crazy Hong Kong - N!xau',\n",
       " 'Gandhimathi - Pathinaru Vayathinile - Rajinikanth - Kabali - Winston Chao - Destination: 9th Heaven - Tony Ka Fai Leung - She Shoots Straight - Carina Lau - Crazy Hong Kong - N!xau',\n",
       " 'Gandhimathi - Pathinaru Vayathinile - Rajinikanth - Kabali - Winston Chao - Destination: 9th Heaven - Tony Ka Fai Leung - Qian wang qing ren - Carina Lau - Crazy Hong Kong - N!xau',\n",
       " 'Gandhimathi - Pathinaru Vayathinile - Rajinikanth - Kabali - Winston Chao - Destination: 9th Heaven - Tony Ka Fai Leung - Detective Dee: The Mystery of the Phantom Flame - Carina Lau - Crazy Hong Kong - N!xau',\n",
       " 'Gandhimathi - Pathinaru Vayathinile - Rajinikanth - Kabali - Winston Chao - 1911 - Bingbing Li - Detective Dee: The Mystery of the Phantom Flame - Carina Lau - Crazy Hong Kong - N!xau',\n",
       " 'Gandhimathi - Pathinaru Vayathinile - Rajinikanth - Kabali - Winston Chao - Zhongkui: Snow Girl and the Dark Crystal - Bingbing Li - Detective Dee: The Mystery of the Phantom Flame - Carina Lau - Crazy Hong Kong - N!xau',\n",
       " 'Gandhimathi - Pathinaru Vayathinile - Rajinikanth - Kabali - Winston Chao - Destination: 9th Heaven - Tony Ka Fai Leung - Beijing Love Story - Carina Lau - Crazy Hong Kong - N!xau',\n",
       " 'Gandhimathi - Pathinaru Vayathinile - Rajinikanth - Kabali - Winston Chao - Destination: 9th Heaven - Tony Ka Fai Leung - Asura - Carina Lau - Crazy Hong Kong - N!xau',\n",
       " 'Gandhimathi - Pathinaru Vayathinile - Rajinikanth - Kabali - Winston Chao - Zhongkui: Snow Girl and the Dark Crystal - Kun Chen - Bends - Carina Lau - Crazy Hong Kong - N!xau',\n",
       " 'Gandhimathi - Thavaputhalvan - Pandari Bai - Mother - Ivy Ling Po - Ai xin jian wan wan - Danny Lee - Tragic Hero - Carina Lau - Crazy Hong Kong - N!xau',\n",
       " 'Gandhimathi - Doctor Siva - Pandari Bai - Mother - Ivy Ling Po - Ai xin jian wan wan - Danny Lee - Tragic Hero - Carina Lau - Crazy Hong Kong - N!xau',\n",
       " 'Gandhimathi - Iravum Pagalum - Pandari Bai - Mother - Ivy Ling Po - Ai xin jian wan wan - Danny Lee - Tragic Hero - Carina Lau - Crazy Hong Kong - N!xau',\n",
       " 'Gandhimathi - Thavaputhalvan - Pandari Bai - Mother - Ivy Ling Po - Ai xin jian wan wan - Danny Lee - The Night Rider - Carina Lau - Crazy Hong Kong - N!xau',\n",
       " 'Gandhimathi - Doctor Siva - Pandari Bai - Mother - Ivy Ling Po - Ai xin jian wan wan - Danny Lee - The Night Rider - Carina Lau - Crazy Hong Kong - N!xau',\n",
       " 'Gandhimathi - Iravum Pagalum - Pandari Bai - Mother - Ivy Ling Po - Ai xin jian wan wan - Danny Lee - The Night Rider - Carina Lau - Crazy Hong Kong - N!xau',\n",
       " \"Gandhimathi - Pathinaru Vayathinile - Rajinikanth - Kabali - Winston Chao - Red Rose White Rose - Veronica Yip - Call Girl '92 - Cecilia Yip - Crazy Hong Kong - N!xau\",\n",
       " \"Gandhimathi - Pathinaru Vayathinile - Rajinikanth - Kabali - Winston Chao - Thunder Cop - Carrie Ng - Call Girl '92 - Cecilia Yip - Crazy Hong Kong - N!xau\",\n",
       " 'Gandhimathi - Pathinaru Vayathinile - Rajinikanth - Kabali - Winston Chao - Red Rose White Rose - Veronica Yip - Love Among the Triad - Cecilia Yip - Crazy Hong Kong - N!xau',\n",
       " 'Gandhimathi - Pathinaru Vayathinile - Rajinikanth - Kabali - Winston Chao - In a Strange City - Kuo-Chu Chang - Biu choh chat yat ching - Cecilia Yip - Crazy Hong Kong - N!xau',\n",
       " 'Gandhimathi - Pathinaru Vayathinile - Rajinikanth - Kabali - Winston Chao - I Want to Go on Living - Emil Chau - Deng ai de nu ren - Cecilia Yip - Crazy Hong Kong - N!xau',\n",
       " 'Gandhimathi - Pathinaru Vayathinile - Rajinikanth - Kabali - Winston Chao - Thunder Cop - Carrie Ng - Deng ai de nu ren - Cecilia Yip - Crazy Hong Kong - N!xau',\n",
       " 'Gandhimathi - Thavaputhalvan - Pandari Bai - Mother - Ivy Ling Po - Temple of the Red Lotus - Bo-Bo Fung - Deng ai de nu ren - Cecilia Yip - Crazy Hong Kong - N!xau',\n",
       " 'Gandhimathi - Doctor Siva - Pandari Bai - Mother - Ivy Ling Po - Temple of the Red Lotus - Bo-Bo Fung - Deng ai de nu ren - Cecilia Yip - Crazy Hong Kong - N!xau',\n",
       " 'Gandhimathi - Iravum Pagalum - Pandari Bai - Mother - Ivy Ling Po - Temple of the Red Lotus - Bo-Bo Fung - Deng ai de nu ren - Cecilia Yip - Crazy Hong Kong - N!xau',\n",
       " 'Gandhimathi - Pathinaru Vayathinile - Rajinikanth - Kabali - Winston Chao - Thunder Cop - Nicky Wu - Ticket - Cecilia Yip - Crazy Hong Kong - N!xau',\n",
       " 'Gandhimathi - Pathinaru Vayathinile - Rajinikanth - Kabali - Winston Chao - Thunder Cop - Carrie Ng - Tou qing xiao zhang fu - Cecilia Yip - Crazy Hong Kong - N!xau',\n",
       " 'Gandhimathi - Pathinaru Vayathinile - Rajinikanth - Kabali - Winston Chao - Destination: 9th Heaven - Gigi Lai - Tin si sei san - Cecilia Yip - Crazy Hong Kong - N!xau',\n",
       " 'Gandhimathi - Pathinaru Vayathinile - Rajinikanth - Kabali - Winston Chao - Destination: 9th Heaven - Tony Ka Fai Leung - This Thing Called Love - Cecilia Yip - Crazy Hong Kong - N!xau',\n",
       " 'Gandhimathi - Thavaputhalvan - Pandari Bai - Mother - Ivy Ling Po - Temple of the Red Lotus - Bo-Bo Fung - Beyond the Sunset - Cecilia Yip - Crazy Hong Kong - N!xau',\n",
       " 'Gandhimathi - Doctor Siva - Pandari Bai - Mother - Ivy Ling Po - Temple of the Red Lotus - Bo-Bo Fung - Beyond the Sunset - Cecilia Yip - Crazy Hong Kong - N!xau',\n",
       " 'Gandhimathi - Iravum Pagalum - Pandari Bai - Mother - Ivy Ling Po - Temple of the Red Lotus - Bo-Bo Fung - Beyond the Sunset - Cecilia Yip - Crazy Hong Kong - N!xau',\n",
       " 'Gandhimathi - Thavaputhalvan - Pandari Bai - Mother - Ivy Ling Po - Jin yan zi - Cherie Chung - Chaos by Design - Cecilia Yip - Crazy Hong Kong - N!xau',\n",
       " 'Gandhimathi - Doctor Siva - Pandari Bai - Mother - Ivy Ling Po - Jin yan zi - Cherie Chung - Chaos by Design - Cecilia Yip - Crazy Hong Kong - N!xau',\n",
       " 'Gandhimathi - Iravum Pagalum - Pandari Bai - Mother - Ivy Ling Po - Jin yan zi - Cherie Chung - Chaos by Design - Cecilia Yip - Crazy Hong Kong - N!xau',\n",
       " 'Gandhimathi - Thavaputhalvan - Pandari Bai - Mother - Ivy Ling Po - Jin yan zi - Cherie Chung - Carry on Hotel - Cecilia Yip - Crazy Hong Kong - N!xau',\n",
       " 'Gandhimathi - Doctor Siva - Pandari Bai - Mother - Ivy Ling Po - Jin yan zi - Cherie Chung - Carry on Hotel - Cecilia Yip - Crazy Hong Kong - N!xau',\n",
       " 'Gandhimathi - Iravum Pagalum - Pandari Bai - Mother - Ivy Ling Po - Jin yan zi - Cherie Chung - Carry on Hotel - Cecilia Yip - Crazy Hong Kong - N!xau',\n",
       " 'Gandhimathi - Thavaputhalvan - Pandari Bai - Mother - Ivy Ling Po - Ai xin jian wan wan - Danny Lee - Organized Crime & Triad Bureau - Cecilia Yip - Crazy Hong Kong - N!xau',\n",
       " 'Gandhimathi - Doctor Siva - Pandari Bai - Mother - Ivy Ling Po - Ai xin jian wan wan - Danny Lee - Organized Crime & Triad Bureau - Cecilia Yip - Crazy Hong Kong - N!xau',\n",
       " 'Gandhimathi - Iravum Pagalum - Pandari Bai - Mother - Ivy Ling Po - Ai xin jian wan wan - Danny Lee - Organized Crime & Triad Bureau - Cecilia Yip - Crazy Hong Kong - N!xau',\n",
       " 'Gandhimathi - Pathinaru Vayathinile - Rajinikanth - Kabali - Winston Chao - Red Rose White Rose - Veronica Yip - Another Sky - Ching Wan Lau - Crazy Hong Kong - N!xau',\n",
       " 'Gandhimathi - Thavaputhalvan - Pandari Bai - Mother - Ivy Ling Po - Temple of the Red Lotus - Bo-Bo Fung - Another Sky - Ching Wan Lau - Crazy Hong Kong - N!xau',\n",
       " 'Gandhimathi - Doctor Siva - Pandari Bai - Mother - Ivy Ling Po - Temple of the Red Lotus - Bo-Bo Fung - Another Sky - Ching Wan Lau - Crazy Hong Kong - N!xau',\n",
       " 'Gandhimathi - Iravum Pagalum - Pandari Bai - Mother - Ivy Ling Po - Temple of the Red Lotus - Bo-Bo Fung - Another Sky - Ching Wan Lau - Crazy Hong Kong - N!xau',\n",
       " \"Gandhimathi - Pathinaru Vayathinile - Rajinikanth - Kabali - Winston Chao - I Want to Go on Living - Anita Yuen - I've Got You, Babe!!! - Ching Wan Lau - Crazy Hong Kong - N!xau\",\n",
       " \"Gandhimathi - Pathinaru Vayathinile - Rajinikanth - Kabali - Winston Chao - I Want to Go on Living - Anita Yuen - C'est la vie, mon chéri - Ching Wan Lau - Crazy Hong Kong - N!xau\",\n",
       " \"Gandhimathi - Thavaputhalvan - Pandari Bai - Mother - Ivy Ling Po - Temple of the Red Lotus - Bo-Bo Fung - C'est la vie, mon chéri - Ching Wan Lau - Crazy Hong Kong - N!xau\",\n",
       " \"Gandhimathi - Doctor Siva - Pandari Bai - Mother - Ivy Ling Po - Temple of the Red Lotus - Bo-Bo Fung - C'est la vie, mon chéri - Ching Wan Lau - Crazy Hong Kong - N!xau\",\n",
       " \"Gandhimathi - Iravum Pagalum - Pandari Bai - Mother - Ivy Ling Po - Temple of the Red Lotus - Bo-Bo Fung - C'est la vie, mon chéri - Ching Wan Lau - Crazy Hong Kong - N!xau\",\n",
       " 'Gandhimathi - Pathinaru Vayathinile - Rajinikanth - Kabali - Winston Chao - I Want to Go on Living - Anita Yuen - Tears and Triumph - Ching Wan Lau - Crazy Hong Kong - N!xau',\n",
       " 'Gandhimathi - Pathinaru Vayathinile - Rajinikanth - Kabali - Winston Chao - I Want to Go on Living - Anita Yuen - The Golden Girls - Ching Wan Lau - Crazy Hong Kong - N!xau',\n",
       " 'Gandhimathi - Pathinaru Vayathinile - Rajinikanth - Kabali - Winston Chao - I Want to Go on Living - Anita Yuen - Tricky Business - Ching Wan Lau - Crazy Hong Kong - N!xau',\n",
       " 'Gandhimathi - Pathinaru Vayathinile - Rajinikanth - Kabali - Winston Chao - I Want to Go on Living - Anita Yuen - Tri-Star - Ching Wan Lau - Crazy Hong Kong - N!xau',\n",
       " 'Gandhimathi - Pathinaru Vayathinile - Rajinikanth - Kabali - Winston Chao - Thunder Cop - Carrie Ng - Angel Hunter - Ching Wan Lau - Crazy Hong Kong - N!xau',\n",
       " 'Gandhimathi - Pathinaru Vayathinile - Rajinikanth - Kabali - Winston Chao - Destination: 9th Heaven - Tony Ka Fai Leung - All Men Are Brothers: Blood of the Leopard - Ching Wan Lau - Crazy Hong Kong - N!xau',\n",
       " 'Gandhimathi - Pathinaru Vayathinile - Rajinikanth - Kabali - Winston Chao - Destination: 9th Heaven - Tony Ka Fai Leung - Victim - Ching Wan Lau - Crazy Hong Kong - N!xau',\n",
       " 'Gandhimathi - Pathinaru Vayathinile - Rajinikanth - Kabali - Winston Chao - Destination: 9th Heaven - Christine Ng - I Wanna Be Your Man - Ching Wan Lau - Crazy Hong Kong - N!xau',\n",
       " 'Gandhimathi - Pathinaru Vayathinile - Rajinikanth - Kabali - Winston Chao - Road to Dawn - Angelica Lee - Out of Inferno - Ching Wan Lau - Crazy Hong Kong - N!xau',\n",
       " \"Gandhimathi - Pathinaru Vayathinile - Rajinikanth - Kabali - Winston Chao - Xiang fei: Ao kong shen ying - Chien-Lien Wu - Beginner's Luck - Ching Wan Lau - Crazy Hong Kong - N!xau\",\n",
       " 'Gandhimathi - Pathinaru Vayathinile - Rajinikanth - Kabali - Winston Chao - Xiang fei: Ao kong shen ying - Chien-Lien Wu - Beyond Hypothermia - Ching Wan Lau - Crazy Hong Kong - N!xau',\n",
       " 'Gandhimathi - Pathinaru Vayathinile - Rajinikanth - Kabali - Winston Chao - Xiang fei: Ao kong shen ying - Richie Jen - Life Without Principle - Ching Wan Lau - Crazy Hong Kong - N!xau',\n",
       " 'Gandhimathi - Man Vasanai - Revathi - Dil Jo Bhi Kahey... - Annabelle Wallis - Annabelle - Alfre Woodard - Bopha! - Marius Weyers - The Gods Must Be Crazy - N!xau',\n",
       " 'Gandhimathi - Kuzhandhai Esu - Vijayakanth - Agni Jwala - Rahul Dev - The X-Gene Project - Malcolm McDowell - Bopha! - Marius Weyers - The Gods Must Be Crazy - N!xau',\n",
       " 'Gandhimathi - Panthaya Kuthiraigal - Radha Ravi - Narasimha - Rahul Dev - The X-Gene Project - Malcolm McDowell - Bopha! - Marius Weyers - The Gods Must Be Crazy - N!xau',\n",
       " 'Gandhimathi - Kovil Yaanai - Radha Ravi - Narasimha - Rahul Dev - The X-Gene Project - Malcolm McDowell - Bopha! - Marius Weyers - The Gods Must Be Crazy - N!xau',\n",
       " 'Gandhimathi - En Kadhal Kanmai - Vikram - 10 Endrathukulla - Rahul Dev - The X-Gene Project - Malcolm McDowell - Bopha! - Marius Weyers - The Gods Must Be Crazy - N!xau',\n",
       " 'Gandhimathi - Man Vasanai - Revathi - Pudhiya Mugam - Vineeth - Bokshu the Myth - Steven Berkoff - Charlie - Marius Weyers - The Gods Must Be Crazy - N!xau',\n",
       " 'Gandhimathi - Suvar Ellatha Chitrangal - Goundamani - Aavarampoo - Vineeth - Bokshu the Myth - Steven Berkoff - Charlie - Marius Weyers - The Gods Must Be Crazy - N!xau',\n",
       " 'Gandhimathi - Manukkal Vairam - Goundamani - Aavarampoo - Vineeth - Bokshu the Myth - Steven Berkoff - Charlie - Marius Weyers - The Gods Must Be Crazy - N!xau',\n",
       " 'Gandhimathi - Chinna Jameen - Goundamani - Aavarampoo - Vineeth - Bokshu the Myth - Steven Berkoff - Charlie - Marius Weyers - The Gods Must Be Crazy - N!xau',\n",
       " 'Gandhimathi - Unna Nenachen Paattu Padicchen - Goundamani - Aavarampoo - Vineeth - Bokshu the Myth - Steven Berkoff - Charlie - Marius Weyers - The Gods Must Be Crazy - N!xau',\n",
       " 'Gandhimathi - Manukkal Vairam - Kovai Sarala - Vaare va Moguda - Vineeth - Bokshu the Myth - Steven Berkoff - Charlie - Marius Weyers - The Gods Must Be Crazy - N!xau',\n",
       " 'Gandhimathi - Periya Veettu Panakkaran - Kovai Sarala - Vaare va Moguda - Vineeth - Bokshu the Myth - Steven Berkoff - Charlie - Marius Weyers - The Gods Must Be Crazy - N!xau',\n",
       " 'Gandhimathi - Solai Kuyil - Kovai Sarala - Vaare va Moguda - Vineeth - Bokshu the Myth - Steven Berkoff - Charlie - Marius Weyers - The Gods Must Be Crazy - N!xau',\n",
       " 'Gandhimathi - En Kadhal Kanmai - Kovai Sarala - Vaare va Moguda - Vineeth - Bokshu the Myth - Steven Berkoff - Charlie - Marius Weyers - The Gods Must Be Crazy - N!xau',\n",
       " 'Gandhimathi - Raja Raja Chozhan - Lakshmi - Manathe Vellitheru - Vineeth - Bokshu the Myth - Steven Berkoff - Charlie - Marius Weyers - The Gods Must Be Crazy - N!xau',\n",
       " 'Gandhimathi - Nawab Narkali - Lakshmi - Manathe Vellitheru - Vineeth - Bokshu the Myth - Steven Berkoff - Charlie - Marius Weyers - The Gods Must Be Crazy - N!xau',\n",
       " 'Gandhimathi - Nadodi Paattukkaran - Mohini - Parinayam - Vineeth - Bokshu the Myth - Steven Berkoff - Charlie - Marius Weyers - The Gods Must Be Crazy - N!xau',\n",
       " 'Gandhimathi - Idu Namma Bhoomi - Kushboo - Jathi Malli - Vineeth - Bokshu the Myth - Steven Berkoff - Charlie - Marius Weyers - The Gods Must Be Crazy - N!xau',\n",
       " 'Gandhimathi - Unna Nenachen Paattu Padicchen - Monisha - Nakhashathangal - Vineeth - Bokshu the Myth - Steven Berkoff - Charlie - Marius Weyers - The Gods Must Be Crazy - N!xau',\n",
       " 'Gandhimathi - Unna Nenachen Paattu Padicchen - Monisha - Kamaladalam - Vineeth - Bokshu the Myth - Steven Berkoff - Charlie - Marius Weyers - The Gods Must Be Crazy - N!xau',\n",
       " 'Gandhimathi - Unna Nenachen Paattu Padicchen - Janakaraj - Devathai - Vineeth - Bokshu the Myth - Steven Berkoff - Charlie - Marius Weyers - The Gods Must Be Crazy - N!xau',\n",
       " 'Gandhimathi - Ambigai Neyril Vandhaal - Janakaraj - Devathai - Vineeth - Bokshu the Myth - Steven Berkoff - Charlie - Marius Weyers - The Gods Must Be Crazy - N!xau',\n",
       " 'Gandhimathi - Manidhan Marivittan - Janakaraj - Devathai - Vineeth - Bokshu the Myth - Steven Berkoff - Charlie - Marius Weyers - The Gods Must Be Crazy - N!xau',\n",
       " 'Gandhimathi - Enna Muthalali Sowkiyama - K.R. Vijaya - Champakkulam Thachan - Vineeth - Bokshu the Myth - Steven Berkoff - Charlie - Marius Weyers - The Gods Must Be Crazy - N!xau',\n",
       " 'Gandhimathi - Shakti Leelai - K.R. Vijaya - Champakkulam Thachan - Vineeth - Bokshu the Myth - Steven Berkoff - Charlie - Marius Weyers - The Gods Must Be Crazy - N!xau',\n",
       " 'Gandhimathi - Asthivaram - K.R. Vijaya - Champakkulam Thachan - Vineeth - Bokshu the Myth - Steven Berkoff - Charlie - Marius Weyers - The Gods Must Be Crazy - N!xau',\n",
       " 'Gandhimathi - Kalyana Oorvalam - K.R. Vijaya - Champakkulam Thachan - Vineeth - Bokshu the Myth - Steven Berkoff - Charlie - Marius Weyers - The Gods Must Be Crazy - N!xau',\n",
       " 'Gandhimathi - Enna Muthalali Sowkiyama - Jayabharati - Kanyakumariyil Oru Kavitha - Vineeth - Bokshu the Myth - Steven Berkoff - Charlie - Marius Weyers - The Gods Must Be Crazy - N!xau',\n",
       " 'Gandhimathi - Amman Kovil Vaasalile - Manivannan - Priyamana Thozhi - Vineeth - Bokshu the Myth - Steven Berkoff - Charlie - Marius Weyers - The Gods Must Be Crazy - N!xau',\n",
       " 'Gandhimathi - Amman Kovil Vaasalile - Manivannan - Nandhini - Vineeth - Bokshu the Myth - Steven Berkoff - Charlie - Marius Weyers - The Gods Must Be Crazy - N!xau']"
      ]
     },
     "execution_count": 22,
     "metadata": {},
     "output_type": "execute_result"
    }
   ],
   "source": [
    "paths('Gandhimathi', 'N!xau')"
   ]
  },
  {
   "cell_type": "code",
   "execution_count": null,
   "metadata": {
    "colab": {
     "base_uri": "https://localhost:8080/",
     "height": 345
    },
    "id": "rqeZtOWQMNKz",
    "outputId": "57de11c0-a932-4ece-828f-9f9cee84f1bf"
   },
   "outputs": [
    {
     "ename": "NodeNotFound",
     "evalue": "ignored",
     "output_type": "error",
     "traceback": [
      "\u001b[0;31m---------------------------------------------------------------------------\u001b[0m",
      "\u001b[0;31mNodeNotFound\u001b[0m                              Traceback (most recent call last)",
      "\u001b[0;32m<ipython-input-29-bcdb590e8e8b>\u001b[0m in \u001b[0;36m<module>\u001b[0;34m()\u001b[0m\n\u001b[1;32m      1\u001b[0m \u001b[0;31m# TODO: They MUST be connected if Aamir is connected\u001b[0m\u001b[0;34m\u001b[0m\u001b[0;34m\u001b[0m\u001b[0;34m\u001b[0m\u001b[0m\n\u001b[1;32m      2\u001b[0m \u001b[0;31m# paths('Asad Dadarkar', 'N!xau')\u001b[0m\u001b[0;34m\u001b[0m\u001b[0;34m\u001b[0m\u001b[0;34m\u001b[0m\u001b[0m\n\u001b[0;32m----> 3\u001b[0;31m \u001b[0mnx\u001b[0m\u001b[0;34m.\u001b[0m\u001b[0mshortest_path\u001b[0m\u001b[0;34m(\u001b[0m\u001b[0mG\u001b[0m\u001b[0;34m,\u001b[0m \u001b[0;34m'nm8631678'\u001b[0m\u001b[0;34m,\u001b[0m \u001b[0;34m'nm0451148'\u001b[0m\u001b[0;34m)\u001b[0m\u001b[0;34m\u001b[0m\u001b[0;34m\u001b[0m\u001b[0m\n\u001b[0m",
      "\u001b[0;32m/usr/local/lib/python3.7/dist-packages/networkx/algorithms/shortest_paths/generic.py\u001b[0m in \u001b[0;36mshortest_path\u001b[0;34m(G, source, target, weight, method)\u001b[0m\n\u001b[1;32m    158\u001b[0m             \u001b[0;31m# Find shortest source-target path.\u001b[0m\u001b[0;34m\u001b[0m\u001b[0;34m\u001b[0m\u001b[0;34m\u001b[0m\u001b[0m\n\u001b[1;32m    159\u001b[0m             \u001b[0;32mif\u001b[0m \u001b[0mmethod\u001b[0m \u001b[0;34m==\u001b[0m \u001b[0;34m\"unweighted\"\u001b[0m\u001b[0;34m:\u001b[0m\u001b[0;34m\u001b[0m\u001b[0;34m\u001b[0m\u001b[0m\n\u001b[0;32m--> 160\u001b[0;31m                 \u001b[0mpaths\u001b[0m \u001b[0;34m=\u001b[0m \u001b[0mnx\u001b[0m\u001b[0;34m.\u001b[0m\u001b[0mbidirectional_shortest_path\u001b[0m\u001b[0;34m(\u001b[0m\u001b[0mG\u001b[0m\u001b[0;34m,\u001b[0m \u001b[0msource\u001b[0m\u001b[0;34m,\u001b[0m \u001b[0mtarget\u001b[0m\u001b[0;34m)\u001b[0m\u001b[0;34m\u001b[0m\u001b[0;34m\u001b[0m\u001b[0m\n\u001b[0m\u001b[1;32m    161\u001b[0m             \u001b[0;32melif\u001b[0m \u001b[0mmethod\u001b[0m \u001b[0;34m==\u001b[0m \u001b[0;34m\"dijkstra\"\u001b[0m\u001b[0;34m:\u001b[0m\u001b[0;34m\u001b[0m\u001b[0;34m\u001b[0m\u001b[0m\n\u001b[1;32m    162\u001b[0m                 \u001b[0m_\u001b[0m\u001b[0;34m,\u001b[0m \u001b[0mpaths\u001b[0m \u001b[0;34m=\u001b[0m \u001b[0mnx\u001b[0m\u001b[0;34m.\u001b[0m\u001b[0mbidirectional_dijkstra\u001b[0m\u001b[0;34m(\u001b[0m\u001b[0mG\u001b[0m\u001b[0;34m,\u001b[0m \u001b[0msource\u001b[0m\u001b[0;34m,\u001b[0m \u001b[0mtarget\u001b[0m\u001b[0;34m,\u001b[0m \u001b[0mweight\u001b[0m\u001b[0;34m)\u001b[0m\u001b[0;34m\u001b[0m\u001b[0;34m\u001b[0m\u001b[0m\n",
      "\u001b[0;32m/usr/local/lib/python3.7/dist-packages/networkx/algorithms/shortest_paths/unweighted.py\u001b[0m in \u001b[0;36mbidirectional_shortest_path\u001b[0;34m(G, source, target)\u001b[0m\n\u001b[1;32m    219\u001b[0m     \u001b[0;32mif\u001b[0m \u001b[0msource\u001b[0m \u001b[0;32mnot\u001b[0m \u001b[0;32min\u001b[0m \u001b[0mG\u001b[0m \u001b[0;32mor\u001b[0m \u001b[0mtarget\u001b[0m \u001b[0;32mnot\u001b[0m \u001b[0;32min\u001b[0m \u001b[0mG\u001b[0m\u001b[0;34m:\u001b[0m\u001b[0;34m\u001b[0m\u001b[0;34m\u001b[0m\u001b[0m\n\u001b[1;32m    220\u001b[0m         \u001b[0mmsg\u001b[0m \u001b[0;34m=\u001b[0m \u001b[0;34mf\"Either source {source} or target {target} is not in G\"\u001b[0m\u001b[0;34m\u001b[0m\u001b[0;34m\u001b[0m\u001b[0m\n\u001b[0;32m--> 221\u001b[0;31m         \u001b[0;32mraise\u001b[0m \u001b[0mnx\u001b[0m\u001b[0;34m.\u001b[0m\u001b[0mNodeNotFound\u001b[0m\u001b[0;34m(\u001b[0m\u001b[0mmsg\u001b[0m\u001b[0;34m)\u001b[0m\u001b[0;34m\u001b[0m\u001b[0;34m\u001b[0m\u001b[0m\n\u001b[0m\u001b[1;32m    222\u001b[0m \u001b[0;34m\u001b[0m\u001b[0m\n\u001b[1;32m    223\u001b[0m     \u001b[0;31m# call helper to do the real work\u001b[0m\u001b[0;34m\u001b[0m\u001b[0;34m\u001b[0m\u001b[0;34m\u001b[0m\u001b[0m\n",
      "\u001b[0;31mNodeNotFound\u001b[0m: Either source nm8631678 or target nm0451148 is not in G"
     ]
    }
   ],
   "source": [
    "# Note: Asad Dadarkar acted in Dil Chatha Hai: https://www.imdb.com/title/tt0292490/\n",
    "# But his name is not in title.principals.tsv.gz, since it's a list of primary cast, not a complete list.\n",
    "# An extended list is available from https://contribute.imdb.com/dataset\n",
    "# But only to people with 1000+ contributions in the last 360 days: https://community-imdb.sprinklr.com/conversations/data-issues-policy-discussions/imdb-data-now-easily-available-to-contributors/5f4a7a0d8815453dba963bbc\n",
    "paths('Asad Dadarkar', 'N!xau')"
   ]
  },
  {
   "cell_type": "markdown",
   "metadata": {
    "id": "HJZ5onqjNG1A"
   },
   "source": [
    "# Stories\n",
    "\n",
    "- Who is the Kevin Bacon of Bollywood?\n",
    "- MGR never allowed Jayalalitha to act with others for a while until they broke up.\n",
    "- Senthil needed to pair up with Goundamani in the later years to get a chance\n",
    "- No one acts with Prashanth after his Malaysian visit. Or Vadivelu after his Vijayakanth visit.\n",
    "- Arjun was a top star in Tamil. Then he had a bad patch -- where he took refuge in Kannada. Then he moved back.\n",
    "- Vadivelu may have been a highlight connected actor earlier, but fell over time\n",
    "- What about the Venkat Prabhu cluster?\n",
    "\n",
    "\n",
    "Notes\n",
    "\n",
    "- Build a tool\n",
    "- Allow annotations & story forms for users to create their stories\n",
    "- Allow embedding -- of visual and of story"
   ]
  },
  {
   "cell_type": "code",
   "execution_count": null,
   "metadata": {
    "id": "c7YOwIqsMzaL"
   },
   "outputs": [],
   "source": []
  }
 ],
 "metadata": {
  "colab": {
   "collapsed_sections": [],
   "provenance": []
  },
  "kernelspec": {
   "display_name": "Python 3 (ipykernel)",
   "language": "python",
   "name": "python3"
  },
  "language_info": {
   "codemirror_mode": {
    "name": "ipython",
    "version": 3
   },
   "file_extension": ".py",
   "mimetype": "text/x-python",
   "name": "python",
   "nbconvert_exporter": "python",
   "pygments_lexer": "ipython3",
   "version": "3.9.12"
  }
 },
 "nbformat": 4,
 "nbformat_minor": 1
}
